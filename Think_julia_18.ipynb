{
 "cells": [
  {
   "cell_type": "markdown",
   "id": "0c2c59f9-a3df-4598-8c33-7b5ca3923cea",
   "metadata": {},
   "source": [
    "# 줄리아를 생각하다(Think julia)"
   ]
  },
  {
   "cell_type": "markdown",
   "id": "ad47939b-3f09-4349-afb6-3837928eaad7",
   "metadata": {},
   "source": [
    "## Chapter 18. 하위 유형화(subtyping)"
   ]
  },
  {
   "cell_type": "markdown",
   "id": "7b457807-9328-40d4-b87b-67efe61209c0",
   "metadata": {},
   "source": [
    "* 매서드의 시그니처에 허용되는 자료형이 무엇인지 명시\n",
    "\n",
    "* 트럼프 카드와 카드의 덱, 카드 조합(패)을 나타내는 자료형을 이용해 하위 자료형 정의를 살펴볼 예정"
   ]
  },
  {
   "cell_type": "markdown",
   "id": "2f3034a8-978e-48b6-b8ad-34800ca2e34f",
   "metadata": {},
   "source": [
    "### 18.1 카드"
   ]
  },
  {
   "cell_type": "markdown",
   "id": "9927ce43-0314-404a-84ce-6ab5d5576a85",
   "metadata": {},
   "source": [
    "* 카드를 나타내는 객체 정의 : rank(끗수)와 suit(무늬) 이용\n",
    "\n",
    "* rank(끗수)와 suit(무늬)는 **부호화** (encode)한 숫자를 이용 (높은 무늬는 높은 숫자에 대응)\n",
    "\n",
    "    - ♠ ↦ 4\n",
    "    - ♥ ↦ 3\n",
    "    - ♦ ↦ 2\n",
    "    - ♣ ↦ 1\n",
    "\n",
    "\n",
    "* 카드 구조체 정의"
   ]
  },
  {
   "cell_type": "code",
   "execution_count": 1,
   "id": "1290084d-3553-432d-bc01-b0910ff1044f",
   "metadata": {},
   "outputs": [],
   "source": [
    "struct Card\n",
    "    suit :: Int64\n",
    "    rank :: Int64\n",
    "    function Card(suit::Int64, rank::Int64)\n",
    "        @assert(1 ≤ suit ≤ 4, \"suit is not between 1 and 4\")\n",
    "        @assert(1 ≤ rank ≤ 13, \"rank is not between 1 and 13\")\n",
    "        new(suit, rank)\n",
    "    end\n",
    "end "
   ]
  },
  {
   "cell_type": "markdown",
   "id": "706403e3-1d0a-4ad0-9ef4-877d423348e7",
   "metadata": {},
   "source": [
    "* 카드 한 장을 만들려면, 원하는 무늬와 끗수를 인수로 생성자 Card를 호출함"
   ]
  },
  {
   "cell_type": "code",
   "execution_count": 2,
   "id": "acb62601-3b61-47d5-97e9-606d886877e0",
   "metadata": {},
   "outputs": [
    {
     "data": {
      "text/plain": [
       "Card(2, 12)"
      ]
     },
     "execution_count": 2,
     "metadata": {},
     "output_type": "execute_result"
    }
   ],
   "source": [
    "queen_of_diamonds = Card(2, 12)"
   ]
  },
  {
   "cell_type": "markdown",
   "id": "57f6dc84-6aae-42b0-82af-2b638749079a",
   "metadata": {},
   "source": [
    "### 18.2 전역 변수"
   ]
  },
  {
   "cell_type": "markdown",
   "id": "69bfc83d-4f7b-4b13-9a0c-f0660e02ebde",
   "metadata": {},
   "source": [
    "* Card 객체를 알아보기 쉽게 출력하려면, 숫자 부호로 끗수와 무늬를 가져올 수 있는 사상이 필요함\n",
    "\n",
    "* 불변 전역변수를 선언하는 const 명령어를 이용하여 할당\n",
    "\n",
    "    - ```const``` is used to declare global variables whose values will not change. In almost all code (and particularly performance sensitive code) global variables should be declared constant in this way."
   ]
  },
  {
   "cell_type": "code",
   "execution_count": 3,
   "id": "dadecad4-a223-49b4-ab8b-9208ecb3fb95",
   "metadata": {},
   "outputs": [
    {
     "data": {
      "text/plain": [
       "13-element Vector{String}:\n",
       " \"A\"\n",
       " \"2\"\n",
       " \"3\"\n",
       " \"4\"\n",
       " \"5\"\n",
       " \"6\"\n",
       " \"7\"\n",
       " \"8\"\n",
       " \"9\"\n",
       " \"10\"\n",
       " \"J\"\n",
       " \"Q\"\n",
       " \"K\""
      ]
     },
     "execution_count": 3,
     "metadata": {},
     "output_type": "execute_result"
    }
   ],
   "source": [
    "const suit_names = [\"♣\", \"◆\", \"♥\", \"♠\"]\n",
    "const rank_names = [\"A\", \"2\", \"3\" , \"4\", \"5\", \"6\", \"7\", \"8\", \"9\", \"10\", \"J\", \"Q\", \"K\"]"
   ]
  },
  {
   "cell_type": "markdown",
   "id": "71ab2e39-a133-4907-a0eb-30848d040a87",
   "metadata": {},
   "source": [
    "* show 메서드 구현\n",
    "\n",
    "* Card 구조체의 인스턴스 호출 시 화면 출력 가능"
   ]
  },
  {
   "cell_type": "code",
   "execution_count": 4,
   "id": "599d53a1-1d2b-45b8-af73-82772a1908b4",
   "metadata": {},
   "outputs": [],
   "source": [
    "function Base.show(io::IO, card::Card)\n",
    "    print(io, rank_names[card.rank], suit_names[card.suit])\n",
    "end"
   ]
  },
  {
   "cell_type": "code",
   "execution_count": 5,
   "id": "e3458498-0bc1-4a00-8f2b-dc5a8c0677dc",
   "metadata": {},
   "outputs": [
    {
     "data": {
      "text/plain": [
       "J♥"
      ]
     },
     "execution_count": 5,
     "metadata": {},
     "output_type": "execute_result"
    }
   ],
   "source": [
    "Card(3, 11)"
   ]
  },
  {
   "cell_type": "markdown",
   "id": "9fd53f46-8157-4fe8-8c05-8f7c93903ffe",
   "metadata": {},
   "source": [
    "### 18.3 카드 비교"
   ]
  },
  {
   "cell_type": "markdown",
   "id": "81acc9b4-dbd5-4d6e-b515-a303c9ec337d",
   "metadata": {},
   "source": [
    "* 내장 자료형의 경우 값을 비교해서 어떤 것이크고 작은지, 또는 같은 지를 알 수 있는 >, <, == 등의 관계 연산자가 제공\n",
    "\n",
    "* 사용자 정의 자료형의 경우 < 메서드를 정의함으로써 내장된 연산자들이 제대로 동작하도록 만들 수 있음\n",
    "\n",
    "* 여기서는 단순하게 무늬가 더 중요하다고 임의로 설정하고 무늬가 높으면 순서가 높다고 설정"
   ]
  },
  {
   "cell_type": "code",
   "execution_count": 6,
   "id": "99b5e5f9-5d6b-498e-b3b3-46e66c138f91",
   "metadata": {},
   "outputs": [
    {
     "data": {
      "text/plain": [
       "isless (generic function with 44 methods)"
      ]
     },
     "execution_count": 6,
     "metadata": {},
     "output_type": "execute_result"
    }
   ],
   "source": [
    "import Base.isless\n",
    "\n",
    "function isless(c1::Card, c2::Card)\n",
    "    (c1.suit, c1.rank) < (c2.suit, c2.rank)\n",
    "end"
   ]
  },
  {
   "cell_type": "markdown",
   "id": "af26126e-a4f4-4f63-ba3a-f90a8862cf7b",
   "metadata": {},
   "source": [
    "### 18.4 유닛 테스트"
   ]
  },
  {
   "cell_type": "markdown",
   "id": "02973560-888c-494f-92df-5590303c5b62",
   "metadata": {},
   "source": [
    "* **유닛 테스트(unit test)** : 작성한 코드의 실행 결과를 예상 결과와 비교하는 것\n",
    "\n",
    "    * @test는 뒤에 나오는 표현식이 참일 경우 \"Test Passed\"를 반환\n",
    "\n",
    "    * 거짓이면 \"Test Failed\"\n",
    "\n",
    "    * 표현식을 평가할 수 없는 경우에는 \"Error Result\"를 반환"
   ]
  },
  {
   "cell_type": "code",
   "execution_count": 11,
   "id": "f6cd6114-b3ad-43e0-877f-f053520cc01e",
   "metadata": {},
   "outputs": [],
   "source": [
    "using Test"
   ]
  },
  {
   "cell_type": "code",
   "execution_count": 12,
   "id": "face4196-3f3c-47a7-809b-b6646c9b1afc",
   "metadata": {},
   "outputs": [
    {
     "data": {
      "text/plain": [
       "\u001b[32m\u001b[1mTest Passed\u001b[22m\u001b[39m"
      ]
     },
     "execution_count": 12,
     "metadata": {},
     "output_type": "execute_result"
    }
   ],
   "source": [
    "@test Card(1, 4) < Card(2, 4)"
   ]
  },
  {
   "cell_type": "code",
   "execution_count": 13,
   "id": "29ecfbc7-2f9b-4157-85d4-287eabdb406d",
   "metadata": {},
   "outputs": [
    {
     "data": {
      "text/plain": [
       "\u001b[32m\u001b[1mTest Passed\u001b[22m\u001b[39m"
      ]
     },
     "execution_count": 13,
     "metadata": {},
     "output_type": "execute_result"
    }
   ],
   "source": [
    "@test Card(1, 3) < Card(1, 4)"
   ]
  },
  {
   "cell_type": "markdown",
   "id": "9c0706fb-2aa6-4018-95cc-e0d71b2786de",
   "metadata": {},
   "source": [
    "### 18.5 덱(Decks)"
   ]
  },
  {
   "cell_type": "markdown",
   "id": "31caab9b-2133-4045-91d4-e955f3a7aba8",
   "metadata": {},
   "source": [
    "* **덱** (한 묶음의 카드, 52장)을 표현하는 구조체 Deck 정의\n",
    "\n",
    "    * 덱은 카드의 모음이기 때문에 각각의 덱이 카드의 배열을 속성으로 가지고 있는 것이 자연스러움\n",
    "\n",
    "\n",
    "* 구조체 Deck: 생성자는 cards 속성을 만든 후, 52장으로 이루어진 표준적인 카드 한 벌을 생성하여 cards 속성에 넣음"
   ]
  },
  {
   "cell_type": "code",
   "execution_count": 8,
   "id": "3e12a6aa-cc60-431d-bccc-ce73d6f3396b",
   "metadata": {},
   "outputs": [
    {
     "data": {
      "text/plain": [
       "Deck"
      ]
     },
     "execution_count": 8,
     "metadata": {},
     "output_type": "execute_result"
    }
   ],
   "source": [
    "struct Deck\n",
    "    cards :: Array{Card, 1}\n",
    "end\n",
    "\n",
    "function Deck()\n",
    "    deck = Deck(Card[])\n",
    "    for suit in 1:4\n",
    "        for rank in 1:13\n",
    "            push!(deck.cards, Card(suit, rank))\n",
    "        end\n",
    "    end\n",
    "    deck\n",
    "end"
   ]
  },
  {
   "cell_type": "markdown",
   "id": "036eea73-334d-497e-ad59-8f789b335642",
   "metadata": {},
   "source": [
    "* Deck의 show 메서드 설정"
   ]
  },
  {
   "cell_type": "code",
   "execution_count": 9,
   "id": "5db01598-2706-4fba-be1e-95b48d1cf8eb",
   "metadata": {},
   "outputs": [],
   "source": [
    "function Base.show(io::IO, deck::Deck)\n",
    "    for card in deck.cards\n",
    "        print(io, card, \" \")\n",
    "    end\n",
    "    println()\n",
    "end"
   ]
  },
  {
   "cell_type": "markdown",
   "id": "2e638dde-eede-4b74-aaa0-e1c4fd2c30de",
   "metadata": {},
   "source": [
    "* 결과 확인"
   ]
  },
  {
   "cell_type": "code",
   "execution_count": 10,
   "id": "111be90a-f285-4f00-9c15-b0c322524728",
   "metadata": {},
   "outputs": [
    {
     "data": {
      "text/plain": [
       "A♣ 2♣ 3♣ 4♣ 5♣ 6♣ 7♣ 8♣ 9♣ 10♣ J♣ Q♣ K♣ A◆ 2◆ 3◆ 4◆ 5◆ 6◆ 7◆ 8◆ 9◆ 10◆ J◆ Q◆ K◆ A♥ 2♥ 3♥ 4♥ 5♥ 6♥ 7♥ 8♥ 9♥ 10♥ J♥ Q♥ K♥ A♠ 2♠ 3♠ 4♠ 5♠ 6♠ 7♠ 8♠ 9♠ 10♠ J♠ Q♠ K♠ "
      ]
     },
     "execution_count": 10,
     "metadata": {},
     "output_type": "execute_result"
    },
    {
     "name": "stdout",
     "output_type": "stream",
     "text": [
      "\n"
     ]
    }
   ],
   "source": [
    "Deck()"
   ]
  },
  {
   "cell_type": "markdown",
   "id": "433e40a1-f0bf-43ba-8a48-1b67b37c8c1a",
   "metadata": {},
   "source": [
    "### 18.6 더하기, 빼기, 섞기, 정렬하기"
   ]
  },
  {
   "cell_type": "markdown",
   "id": "314b5c4a-6846-4ff0-8bd8-34acce44b4f6",
   "metadata": {},
   "source": [
    "* 카드를 다루려면 Deck에서 Card를 빼서 반환하는 함수 등이 필요\n",
    "\n",
    "* 다른 메서드를 활용해서 처리하는 메서드를 **겉판(베니어)** veneer 라고 부름\n",
    "\n",
    "* pop!과 shuffle! 함수의 메서드에 Deck과 Card의 구조체에 관한 메서드를 추가함"
   ]
  },
  {
   "cell_type": "code",
   "execution_count": 14,
   "id": "684cffc8-3601-4510-8395-8402dec54273",
   "metadata": {},
   "outputs": [],
   "source": [
    "# 카드 빼기\n",
    "\n",
    "function Base.pop!(deck::Deck)\n",
    "    pop!(deck.cards, card)\n",
    "end"
   ]
  },
  {
   "cell_type": "code",
   "execution_count": 15,
   "id": "8bbb6143-0738-4160-aab1-fd10def7fe00",
   "metadata": {},
   "outputs": [],
   "source": [
    "# 카드 넣기\n",
    "\n",
    "function Base.push!(deck::Deck, card::Card)\n",
    "    push!(deck.cards, card)\n",
    "    deck\n",
    "end"
   ]
  },
  {
   "cell_type": "code",
   "execution_count": 16,
   "id": "e8c96ea0-bec9-4164-bba8-d01610049efa",
   "metadata": {},
   "outputs": [],
   "source": [
    "# 카드 섞기\n",
    "\n",
    "using Random\n",
    "\n",
    "function Random.shuffle!(deck::Deck)\n",
    "    shuffle!(deck.cards)\n",
    "    deck\n",
    "end"
   ]
  },
  {
   "cell_type": "markdown",
   "id": "66320e30-1ef0-42ce-882a-e8b3e510180d",
   "metadata": {},
   "source": [
    "### 18.7 추상 자료형과 하위 유형화"
   ]
  },
  {
   "cell_type": "markdown",
   "id": "794df948-0b39-4aac-ac9a-9329b2be7de3",
   "metadata": {},
   "source": [
    "\n",
    "**하위 유형화(서브 타이핑) subtyping**\n",
    "\n",
    "* **상위 추상 자료형(abstract type)** 을 정의함으로써 Deck과 Hand의 공통 속성을 가지는 **구체 자료형(concrete type)** 을 묶어서 처리 가능\n",
    "\n",
    "* **상위 추상 자료형(abstract type) 정의** \n",
    "\n",
    "    - 새로운 추상 자료형은 abstract type 예약어로 생성\n",
    "\n",
    "    - 자료형을 만들때 상위 자료형을 지정하고자 한다면 자료형 이름 뒤에 ```<:```을 쓰고, 상위 자료형으로 지정할 기존 자료형의 이름을 붙임\n",
    "\n",
    "    - 상위 자료형(abstract type)이 주어지지 않으면 기본적으로 Any가 상위 자료형이 됨\n",
    "\n",
    "        * 모든 객체는 Any의 인스턴스이고, 모든 자료형은 Any의 하위 자료형"
   ]
  },
  {
   "cell_type": "markdown",
   "id": "00788430-0144-43ec-8324-f2e18ab085f8",
   "metadata": {},
   "source": [
    "- **(예시)** Deck과 Hand의 공통 속성을 가지는 추상 자료형을 CardSet 생성\n",
    "\n",
    "    * 하위 자료형으로 플레이어가 손에 들고 있는 카드를 나타내는 자료형 **hand** 생성\n",
    "\n",
    "        * deck과 유사하게 card의 모음으로 이루어져 있으며, card를 더하고 빼는 메서드가 필요함\n",
    "    \n",
    "        * deck에는 해당되지 않지만 hand에서는 필요한 연산들 고려 필요\n",
    "    \n",
    "            + 두 개의 패를 비교하여 승부 확인 연산\n",
    "        \n",
    "            + 컨트랙트 브릿지와 같은 게임이라면 입찰을 위한 패의 점수 계산과 같은 연산\n"
   ]
  },
  {
   "cell_type": "code",
   "execution_count": 27,
   "id": "496fbb87-0253-4e94-85eb-2506931fc9ad",
   "metadata": {},
   "outputs": [],
   "source": [
    "abstract type CardSet end"
   ]
  },
  {
   "cell_type": "code",
   "execution_count": 31,
   "id": "839d201c-1b80-4fed-b95c-2ad044f1b543",
   "metadata": {},
   "outputs": [
    {
     "data": {
      "text/plain": [
       "Deck2"
      ]
     },
     "execution_count": 31,
     "metadata": {},
     "output_type": "execute_result"
    }
   ],
   "source": [
    "struct Deck2 <: CardSet\n",
    "    cards::Array{Card, 1}\n",
    "end \n",
    "\n",
    "function Deck2()\n",
    "    deck = Deck2(Card[])\n",
    "    for suit in 1:4\n",
    "        for rank in 1:13\n",
    "            push!(deck.cards, Card(suit, rank))\n",
    "        end\n",
    "    end\n",
    "    deck\n",
    "end"
   ]
  },
  {
   "cell_type": "code",
   "execution_count": 32,
   "id": "d25eb233-7b34-4186-86df-2f0a56a8fdcc",
   "metadata": {},
   "outputs": [
    {
     "data": {
      "text/plain": [
       "true"
      ]
     },
     "execution_count": 32,
     "metadata": {},
     "output_type": "execute_result"
    }
   ],
   "source": [
    "deck = Deck2();\n",
    "\n",
    "deck isa CardSet"
   ]
  },
  {
   "cell_type": "markdown",
   "id": "52a72873-c10e-4fae-935a-a1a5c4f99096",
   "metadata": {},
   "source": [
    "* Hand 역시 CardSet의 한 종류\n",
    "\n",
    "* Hand의 생성자는 빈 배열 할당 (초기화)"
   ]
  },
  {
   "cell_type": "code",
   "execution_count": 33,
   "id": "0f026541-5c15-4c3b-afa6-c254d8e94dbf",
   "metadata": {},
   "outputs": [
    {
     "data": {
      "text/plain": [
       "Hand"
      ]
     },
     "execution_count": 33,
     "metadata": {},
     "output_type": "execute_result"
    }
   ],
   "source": [
    "struct Hand <: CardSet\n",
    "    cards::Array{Card, 1}\n",
    "    label::String\n",
    "end\n",
    "\n",
    "function Hand(label::String=\"\")\n",
    "    Hand(Card[], label)\n",
    "end"
   ]
  },
  {
   "cell_type": "code",
   "execution_count": 34,
   "id": "7151f8c5-2379-4f5f-a0a1-3f11e35f6a0a",
   "metadata": {},
   "outputs": [
    {
     "name": "stdout",
     "output_type": "stream",
     "text": [
      "Hand(Card[], \"new hand\")\n"
     ]
    },
    {
     "data": {
      "text/plain": [
       "true"
      ]
     },
     "execution_count": 34,
     "metadata": {},
     "output_type": "execute_result"
    }
   ],
   "source": [
    "hand = Hand(\"new hand\");\n",
    "\n",
    "println(hand)\n",
    "hand isa CardSet"
   ]
  },
  {
   "cell_type": "markdown",
   "id": "851763fc-ff81-4c07-b680-a1dfa499b8c2",
   "metadata": {},
   "source": [
    "### 18.8 추상 자료형과 함수"
   ]
  },
  {
   "cell_type": "code",
   "execution_count": 40,
   "id": "6f8b757c-7035-4834-a521-8e2fb768197d",
   "metadata": {},
   "outputs": [],
   "source": [
    "function Base.show(io::IO, cs::CardSet)\n",
    "    for card in cs.cards\n",
    "        print(io, card, \" \")\n",
    "    end\n",
    "end\n",
    "\n",
    "function Base.pop!(cs::CardSet)\n",
    "    pop!(cs.cards)\n",
    "end\n",
    "\n",
    "function Base.push!(cs::CardSet, card::Card)\n",
    "    push!(cs.cards, card)\n",
    "    nothing\n",
    "end\n",
    "\n",
    "using Random\n",
    "\n",
    "function Random.shuffle!(deck::CardSet)\n",
    "    shuffle!(deck.cards)\n",
    "    deck\n",
    "end"
   ]
  },
  {
   "cell_type": "code",
   "execution_count": 41,
   "id": "eef730d8-07e2-437b-a74e-1e1b72b92aa2",
   "metadata": {},
   "outputs": [
    {
     "data": {
      "text/plain": [
       "A♣ 2♣ 3♣ 4♣ 5♣ 6♣ 7♣ 8♣ 9♣ 10♣ J♣ Q♣ K♣ A◆ 2◆ 3◆ 4◆ 5◆ 6◆ 7◆ 8◆ 9◆ 10◆ J◆ Q◆ K◆ A♥ 2♥ 3♥ 4♥ 5♥ 6♥ 7♥ 8♥ 9♥ 10♥ J♥ Q♥ K♥ A♠ 2♠ 3♠ 4♠ 5♠ 6♠ 7♠ 8♠ 9♠ 10♠ J♠ Q♠ K♠ "
      ]
     },
     "execution_count": 41,
     "metadata": {},
     "output_type": "execute_result"
    }
   ],
   "source": [
    "deck = Deck2()"
   ]
  },
  {
   "cell_type": "code",
   "execution_count": 42,
   "id": "003b1045-2015-4a0c-811e-4ec3d9cb803f",
   "metadata": {},
   "outputs": [
    {
     "data": {
      "text/plain": [
       "6♠ 9♥ 10♥ 7♥ J◆ 5◆ 9◆ 4♠ Q♠ 10◆ 8◆ J♥ A◆ 5♣ 7◆ 5♠ A♥ 9♣ 7♠ A♠ K♥ 2♣ Q♥ K♠ Q♣ 9♠ A♣ 8♣ 7♣ 4◆ 8♠ J♠ 2◆ 2♥ 4♥ 2♠ 3♣ 6♥ 8♥ 10♣ 6♣ 4♣ 3♠ Q◆ 3♥ K♣ 10♠ 5♥ 3◆ 6◆ J♣ K◆ "
      ]
     },
     "execution_count": 42,
     "metadata": {},
     "output_type": "execute_result"
    }
   ],
   "source": [
    "shuffle!(deck)"
   ]
  },
  {
   "cell_type": "code",
   "execution_count": 43,
   "id": "82cadb5e-f63a-4e98-a273-94f5865051b4",
   "metadata": {},
   "outputs": [
    {
     "data": {
      "text/plain": [
       "K◆"
      ]
     },
     "execution_count": 43,
     "metadata": {},
     "output_type": "execute_result"
    }
   ],
   "source": [
    "card = pop!(deck)"
   ]
  },
  {
   "cell_type": "code",
   "execution_count": 44,
   "id": "83d0a279-e258-4849-ab9b-8e9fbe6e48c4",
   "metadata": {},
   "outputs": [],
   "source": [
    "push!(hand, card)"
   ]
  },
  {
   "cell_type": "code",
   "execution_count": 45,
   "id": "73200f43-4e0c-4205-bbd9-8abaa6f95da9",
   "metadata": {},
   "outputs": [
    {
     "data": {
      "text/plain": [
       "K◆ "
      ]
     },
     "execution_count": 45,
     "metadata": {},
     "output_type": "execute_result"
    }
   ],
   "source": [
    "hand"
   ]
  },
  {
   "cell_type": "markdown",
   "id": "71aa7590-1ee2-459c-aa3e-1ed1cde07519",
   "metadata": {},
   "source": [
    "* 자연스럽게 카드 이동을 move!라는 함수로 감쌀 수도 있음"
   ]
  },
  {
   "cell_type": "code",
   "execution_count": 46,
   "id": "f8b50588-11b9-4819-806a-7ef267ed845f",
   "metadata": {},
   "outputs": [
    {
     "data": {
      "text/plain": [
       "move! (generic function with 1 method)"
      ]
     },
     "execution_count": 46,
     "metadata": {},
     "output_type": "execute_result"
    }
   ],
   "source": [
    "function move!(cs1::CardSet, cs2::CardSet, n::Int)\n",
    "    @assert 1 ≤ n ≤ length(cs1.cards)\n",
    "    for i in 1:n\n",
    "        card = pop!(cs1)\n",
    "        push!(cs2, card)\n",
    "    end\n",
    "    nothing\n",
    "end"
   ]
  },
  {
   "cell_type": "markdown",
   "id": "51c6da74-ea48-4df3-9002-5c1d0adc0d81",
   "metadata": {},
   "source": [
    "* move! 함수는 두 개의 CardSet 객체와 이동시킬 카드의 수를 인수로 받음\n",
    "\n",
    "* 함수는 CardSet 양쪽을 모두 수정하고, nothing을 반환함\n",
    "\n",
    "* 어떤 게임에서는 카드가 이 패에서 다른 패로 넘어가거나, 패에서 덱으로 돌아감 -> 이 경우 move! 함수 사용 가능"
   ]
  },
  {
   "cell_type": "code",
   "execution_count": 47,
   "id": "54ca7a41-84cf-42da-864e-925b701ad6a1",
   "metadata": {},
   "outputs": [],
   "source": [
    "move!(deck, hand, 3)"
   ]
  },
  {
   "cell_type": "code",
   "execution_count": 48,
   "id": "3ebf4240-6735-428f-b114-a942c488a5b2",
   "metadata": {},
   "outputs": [
    {
     "data": {
      "text/plain": [
       "K◆ J♣ 6◆ 3◆ "
      ]
     },
     "execution_count": 48,
     "metadata": {},
     "output_type": "execute_result"
    }
   ],
   "source": [
    "hand"
   ]
  },
  {
   "cell_type": "markdown",
   "id": "51eec4ba-44a4-4e0d-853f-a45966a7ac0c",
   "metadata": {},
   "source": [
    "### 18.9 자료형 도식(Type diagram)"
   ]
  },
  {
   "cell_type": "markdown",
   "id": "2ac8c51b-e983-4712-9fa2-97e09253cb08",
   "metadata": {},
   "source": [
    "**자료형 도식(Type diagram)** : 자료형 간 관계를 보여주는 도식"
   ]
  },
  {
   "cell_type": "markdown",
   "id": "2c5c1d19-cd46-4e7b-9a7b-cc8f1fea84c6",
   "metadata": {},
   "source": [
    "![image.png](capture_and_drawing/Think_julia_drawing2.png)"
   ]
  },
  {
   "cell_type": "markdown",
   "id": "1660bef1-b05c-47c5-acf6-cb9f333d2a45",
   "metadata": {},
   "source": [
    "### 18.10 디버깅"
   ]
  },
  {
   "cell_type": "markdown",
   "id": "d4394f77-6343-450e-81d9-5bb061b08418",
   "metadata": {},
   "source": [
    "* 하위 유형화는 어떤 객체를 인수로 함수를 호출했을 때, 정확히 어떤 메서드가 실행되는 지 알기 어렵기 때문에 디버깅을 더 어렵게 만들 수 있음\n",
    "\n",
    "    - 어떤 하위 자료형에 대해 정의된 메서드가 있다면 그것이 대신 실행될 것이기 때문\n",
    "\n",
    "\n",
    "* 메서드의 앞부분에 print문을 추가하여 프로그램 실행 시 사용되는 자료형을 출력하거나, @which 매크로를 사용하여 해결 할 수 있음\n",
    "\n",
    "    - 아래 예시에 따르면 sort! 메서드가 자료형 Hand의 객체를 인수로 받는 버전임을 알려줌"
   ]
  },
  {
   "cell_type": "code",
   "execution_count": 50,
   "id": "a8f910b7-94ef-40aa-b4c7-978aedb327cc",
   "metadata": {},
   "outputs": [],
   "source": [
    "function Base.sort!(hand::Hand)\n",
    "    sort!(hand.cards)\n",
    "end"
   ]
  },
  {
   "cell_type": "code",
   "execution_count": 51,
   "id": "105881f2-5ec5-4053-98bb-387c6a95db60",
   "metadata": {},
   "outputs": [
    {
     "data": {
      "text/html": [
       "sort!(hand::<b>Hand</b>) in Main at In[50]:1"
      ],
      "text/plain": [
       "sort!(hand::Hand) in Main at In[50]:1"
      ]
     },
     "execution_count": 51,
     "metadata": {},
     "output_type": "execute_result"
    }
   ],
   "source": [
    "@which sort!(hand)"
   ]
  },
  {
   "cell_type": "markdown",
   "id": "025e00f6-4541-4ddd-9ce7-8f38c3d1665a",
   "metadata": {},
   "source": [
    "* **리스코프 치환 원칙(Liskov substitution principle)**\n",
    "\n",
    "    -  객체 지향 프로그래밍 원칙이다. 컴퓨터 프로그램에서 자료형 S가 자료형 T의 하위형이라면 필요한 프로그램의 속성(정확성, 수행하는 업무 등)의 변경 없이 자료형 T의 객체를 자료형 S의 객체로 교체(치환)할 수 있어야 한다는 원칙이다. \n",
    "\n",
    "    * (참조) https://ko.wikipedia.org/wiki/%EB%A6%AC%EC%8A%A4%EC%BD%94%ED%94%84_%EC%B9%98%ED%99%98_%EC%9B%90%EC%B9%99\n",
    "    \n",
    "    * CardSet와 같이 상위 자료형에 대해서 동작하도록 만들어진 함수가 Deck과 Hand 같은 하위 자료형에도 잘 동작해야 한다는 원칙\n",
    "\n",
    "\n",
    "* supertype 함수는 어떤 자료형의 바로 위 상위 자료형을 찾는데 사용됨"
   ]
  },
  {
   "cell_type": "code",
   "execution_count": 53,
   "id": "7d09e16a-e4b0-406e-b066-92fc9b3ec754",
   "metadata": {},
   "outputs": [
    {
     "data": {
      "text/plain": [
       "Any"
      ]
     },
     "execution_count": 53,
     "metadata": {},
     "output_type": "execute_result"
    }
   ],
   "source": [
    "supertype(Deck)"
   ]
  },
  {
   "cell_type": "markdown",
   "id": "1f1721f1-2b18-49ea-9a31-2af8ac0c3182",
   "metadata": {},
   "source": [
    "### 18.11 자료 캡슐화(Data Encapsulation)"
   ]
  },
  {
   "cell_type": "markdown",
   "id": "a9de5dff-2b93-4143-bc8c-a97e4d1cbdfc",
   "metadata": {},
   "source": [
    "* **자료형 중심 설계(type-oriented design)** 필요한 객체와 그것을 표현할 수 있는 구조체 정의\n",
    "\n",
    "* **자료 캡슐화(data encapsulation)** 캡슐화와 일반화를 통해 함수의 인터페이스 발견\n",
    "\n",
    "* **예시)** **마르코프분석**\n",
    "\n",
    "    * 여러 함수에서 읽고 쓰는 전역 변수 suffix와 prefix 객체 생성\n",
    "    \n",
    "    * 여러 개의 분석을 시행하려면, 각 분석의 상태를객체 내부로 숨김(캡슐화)\n",
    "    \n",
    "    * 함수를 메서드로 변환(password 함수)"
   ]
  },
  {
   "cell_type": "code",
   "execution_count": 54,
   "id": "ba828aaf-dd35-46d6-9c5c-a3c15a38d67a",
   "metadata": {},
   "outputs": [
    {
     "data": {
      "text/plain": [
       "Markov"
      ]
     },
     "execution_count": 54,
     "metadata": {},
     "output_type": "execute_result"
    }
   ],
   "source": [
    "suffixes = Dict()\n",
    "prefix = []\n",
    "\n",
    "struct Markov\n",
    "    order::Int64\n",
    "    suffixes::Dict{Tuple{string, Vararg{String}}, Array{String, 1}}\n",
    "    prefix::Array{String, 1}\n",
    "end\n",
    "\n",
    "function Markov(order::Int64 = 2)\n",
    "    new(order, Dict{Tuple{String, Vararg{String}}, Array{String, 1}}(),\n",
    "        Array{String, 1}())\n",
    "end"
   ]
  },
  {
   "cell_type": "code",
   "execution_count": 55,
   "id": "cde57f8a-c322-46ed-a1ab-9accf42e0687",
   "metadata": {},
   "outputs": [
    {
     "data": {
      "text/plain": [
       "processword (generic function with 1 method)"
      ]
     },
     "execution_count": 55,
     "metadata": {},
     "output_type": "execute_result"
    }
   ],
   "source": [
    "function processword(markov::Markov, word::String)\n",
    "    if length(markov.prefix) < markov.order\n",
    "        push!(markov.prefix, word)\n",
    "        return\n",
    "    end\n",
    "    get!(markov.suffixes, (markov.prefix...,), Array{String, 1,}())\n",
    "    push!(markov.suffixes[(markov.prefix...,)], word)\n",
    "    popfirst!(markov.prefix)\n",
    "    push!(markov.prefix, word)\n",
    "end"
   ]
  },
  {
   "cell_type": "markdown",
   "id": "2161ebbc-2871-4e66-aa17-33000c166a4d",
   "metadata": {},
   "source": [
    "* **(정리)** 캡슐화 설계 방식 \n",
    "\n",
    "    - 1) (필요하다면) 전역 변수를 읽고 쓰는 함수 작성\n",
    "    \n",
    "    - 2) 프로그램이 동작하면, 전역 변수와 그 전역 변수에 접근하는 함수의 연관 관계를 살펴 봄\n",
    "    \n",
    "    - 3) 관련된 변수를 구조체의 필드로 캡슐화 함\n",
    "    \n",
    "    - 4) 관련된 함수를 새로운 자료형을 인수로 받는 메서드로 바꿔 줌"
   ]
  },
  {
   "cell_type": "markdown",
   "id": "779ad900-7d85-4984-9c06-102bb035f01a",
   "metadata": {},
   "source": [
    "### 18.12 용어집"
   ]
  },
  {
   "cell_type": "markdown",
   "id": "998cde63-eae8-432f-9806-7170e801827f",
   "metadata": {},
   "source": [
    "* **부호화** (encode)\n",
    "\n",
    "    - 어떤 값의 집합을 다른 값의 집합으로 대응시켜 표현을 바꾸는 것\n",
    "```\n",
    "```\n",
    "* **유닛 테스트** (unit test)\n",
    "\n",
    "    - 코드의 정확성을 시험해보는 표준적인 방법\n",
    "```\n",
    "```\n",
    "* **겉판** (vaneer)\n",
    "\n",
    "    - 어떤 연산없이 어떤 함수에 대한 다른 인터페이스를 제공하는 메서드나 함수\n",
    "```\n",
    "```\n",
    "* **구체 자료형** (concrete type)\n",
    "\n",
    "    - 객체를 만들 수 있는 자료형\n",
    "```\n",
    "```\n",
    "* **구체 자료형** (concrete type)\n",
    "\n",
    "    - 객체를 만들 수 있는 자료형\n",
    "```\n",
    "```\n",
    "* **추상 자료형** (subtract type)\n",
    "\n",
    "    - 어떤 자료형들의 상위 자료형이 될 수 있는 자료형. 직접 객체 생성 안됨\n",
    "```\n",
    "```\n",
    "* **하위 유형화** (subtyping)\n",
    "\n",
    "    - 관련 있는 자료형을 위계적으로 정의하는 것\n",
    "```\n",
    "```\n",
    "* **상위 자료형** (supertype)\n",
    "\n",
    "    - 여러 자료형들의 공통적인 성질을 가지는 추상 자료형\n",
    "```\n",
    "```\n",
    "* **하위 자료형** (subtype)\n",
    "\n",
    "    - 어떤 추상 자료형을 상위 자료형으로 가지는 자료형\n",
    "```\n",
    "```\n",
    "* **자료형 도식** (type diagram)\n",
    "\n",
    "    - 프로그램의 자료형과 그들의 관계를 표시한 도식\n",
    "```\n",
    "```\n",
    "* **has-a 관계** (has-a relationship)\n",
    "\n",
    "    - 한 자료형의 인스턴스가 다른 자료형이 인스턴스를 참조하는 관계\n",
    "```\n",
    "```\n",
    "* **is-a 관계** (is-a relationship)\n",
    "\n",
    "    - 하위 자료형과 상위 자료형의 관계\n",
    "```\n",
    "```\n",
    "* **의존성** (dependency)\n",
    "\n",
    "    - 한 자료형의 인스턴스가 다른 자료형의 인스턴스를 사용하지만, 필드로 저장하지 않는 관계\n",
    "```\n",
    "```\n",
    "* **다중도** (multiplicity)\n",
    "\n",
    "    - 자료형 도식에서 has-a 관계를 표현할 때, 다른 자료형의 인스턴스를 얼마나 많이 참조하는지 표시하는 방법\n",
    "```\n",
    "```\n",
    "* **자료캡슐화** (data encapsulation)\n",
    "\n",
    "    - 전역 변수를 이용한 프로토타입을 만든 후, 이들 전역 변수를 필드로 캡슐화한 최종 버전으로 바꿔나가는 개발 계획"
   ]
  }
 ],
 "metadata": {
  "kernelspec": {
   "display_name": "Julia 1.8.0",
   "language": "julia",
   "name": "julia-1.8"
  },
  "language_info": {
   "file_extension": ".jl",
   "mimetype": "application/julia",
   "name": "julia",
   "version": "1.8.0"
  }
 },
 "nbformat": 4,
 "nbformat_minor": 5
}
