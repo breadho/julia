{
 "cells": [
  {
   "cell_type": "markdown",
   "id": "883023cb-f94c-4a76-869a-d1c47503217a",
   "metadata": {},
   "source": [
    "# 줄리아를 생각하다(Think julia)"
   ]
  },
  {
   "cell_type": "markdown",
   "id": "50c837a9-d35b-4450-89d5-7f99955437d8",
   "metadata": {},
   "source": [
    "## Chapter 13. 사례 연구: 자료구조 선택하기\n",
    "\n",
    "사례 연구로 자료구조 선택 시 고려할 사항들을 알아보고 실습하는 챕터"
   ]
  },
  {
   "cell_type": "markdown",
   "id": "e507352a-ea08-48c3-8795-e3d8a406eecd",
   "metadata": {},
   "source": [
    "### 13.1 단어 빈도 분석"
   ]
  },
  {
   "cell_type": "markdown",
   "id": "b536b869-e38e-4d0d-9606-e0a8e87709c8",
   "metadata": {},
   "source": [
    "* **연습 13-1** 파일을 읽어서 각 줄을 단어들로 나누고, 공백문자와 문장부호를 제거한 후 소문자로 변환하는 프로그램을 작성\n",
    "\n",
    "* **연습 13-2** 구텐베르크 프로젝트에서 저작권이 만료된 책을 다운로드, 책에 나오는 단어의 개수와 각 단어의 빈도 확인\n",
    "\n",
    "* **연습 13-3** 상위 빈도 20개 단어 출력\n",
    "\n",
    "* **연습 13-4** 단어 목록(사전)에 없는 것을 모두 출력, 오타 체크, 추가 목록 개수 확인 등"
   ]
  },
  {
   "cell_type": "markdown",
   "id": "cee38bf8-080e-4b9b-ba2e-5d18f7720462",
   "metadata": {},
   "source": [
    "### 13.2 난수"
   ]
  },
  {
   "cell_type": "markdown",
   "id": "4cd54c47-28f1-4059-b859-e1b15eade7dc",
   "metadata": {},
   "source": [
    "* 대부분의 컴퓨터 프로그램은 같은 입력을 주면, 매번 같은 출력을 함 -> 결정론적(deterministic) \n",
    "\n",
    "* 비결정론적으로 동작하게 만드는 방법 -> **의사난수(pseudorandom number)** 생성 알고리즘\n",
    "\n",
    "    * 결정론적 연산에 의해 생성되기 때문에 진짜 난수는 아님   \n",
    "    \n",
    "   \n",
    "*  **rand 함수** : 0.0 이상 1.0 미만의 무작위 부동소수점 수 반환"
   ]
  },
  {
   "cell_type": "code",
   "execution_count": 1,
   "id": "0ff379d9-dd97-4b85-8cb3-1314659b55bd",
   "metadata": {},
   "outputs": [
    {
     "name": "stdout",
     "output_type": "stream",
     "text": [
      "0.9745007219504291\n",
      "0.5258988384247912\n",
      "0.5048351182518076\n",
      "0.01531547290925206\n",
      "0.8569725121319413\n",
      "0.8909916225065069\n",
      "0.4546419559520034\n",
      "0.6248474381441199\n",
      "0.7303189491681726\n",
      "0.5084298276632762\n"
     ]
    }
   ],
   "source": [
    "# rand 함수 사용 예\n",
    "\n",
    "for i in 1:10\n",
    "    x = rand()\n",
    "    println(x)\n",
    "end"
   ]
  },
  {
   "cell_type": "code",
   "execution_count": 2,
   "id": "187ab5dc-f3dd-44bf-a639-ffef944eb2ed",
   "metadata": {},
   "outputs": [
    {
     "name": "stdout",
     "output_type": "stream",
     "text": [
      "6 1 5 4 6 6 4 5 1 1 "
     ]
    }
   ],
   "source": [
    "# rand 함수에 반복자나 배열을 인수로 주면 무작위로 고른 원소를 반환\n",
    "\n",
    "for i in 1:10\n",
    "    x = rand(1:6)\n",
    "    print(x, \" \")\n",
    "end"
   ]
  },
  {
   "cell_type": "markdown",
   "id": "c2eb65a0-9409-4f21-8b73-bfa35d82cfa7",
   "metadata": {},
   "source": [
    "### 13.3 단어 히스토그램"
   ]
  },
  {
   "cell_type": "markdown",
   "id": "d6a9c182-f5fa-42fe-a146-5458086c8840",
   "metadata": {},
   "source": [
    "제인 오스틴의 소설 '엠마'를 읽어서, 파일 안에 있는 단어에 대한 히스토그램을 만드는 프로그램 작성\n",
    "\n",
    "* processfile 함수는 루프를 돌며 파일에서 한 줄씩 읽어 processline 함수에 전달\n",
    "\n",
    "* processline은 replace 함수를 사용해 하이픈을 공백으로 치환하고 split 함수를 이용해 line을 문자열의 배열로 조각냄\n",
    "\n",
    "* 단어의 배열을 순회하며 filter, isletter, lowercase를 이용해 문장부호를 제거하고 소문자로 반환함\n",
    "\n",
    "* 최종적으로 processline에서 새로운 항목이나 기존 항목 값을 증가시킴으로써 히스토그램을 갱신함\n",
    "\n",
    "* 파일에 있는 전체 단어 숫자를 카운트 하는 totalwords 함수 작성\n",
    "\n",
    "* 중복을 제거한 단어의 숫자를 카운트 하는 differentwords 함수 작성"
   ]
  },
  {
   "cell_type": "code",
   "execution_count": 3,
   "id": "12233255-e786-4171-84eb-71f1c1f28ea1",
   "metadata": {},
   "outputs": [],
   "source": [
    "function processfile(filename)\n",
    "    hist = Dict()\n",
    "    for line in eachline(filename)\n",
    "        processline(line, hist)\n",
    "    end\n",
    "    hist\n",
    "end;\n",
    "\n",
    "function processline(line, hist)\n",
    "    line = replace(line, '-' => ' ')\n",
    "    for word in split(line)\n",
    "        word = string(filter(isletter, [word...])...)\n",
    "        word = lowercase(word)\n",
    "        hist[word] = get!(hist, word, 0) + 1\n",
    "    end\n",
    "end;\n",
    "\n",
    "hist = processfile(\"./data/emma.txt\");"
   ]
  },
  {
   "cell_type": "code",
   "execution_count": 4,
   "id": "a7bd020c-b11b-466a-a15e-f20c7fb9e042",
   "metadata": {},
   "outputs": [
    {
     "data": {
      "text/plain": [
       "totalwords (generic function with 1 method)"
      ]
     },
     "execution_count": 4,
     "metadata": {},
     "output_type": "execute_result"
    }
   ],
   "source": [
    "function totalwords(hist)\n",
    "    sum(values(hist))\n",
    "end"
   ]
  },
  {
   "cell_type": "code",
   "execution_count": 5,
   "id": "26dd6084-65fd-4fc0-95e6-ab9650f5cb89",
   "metadata": {},
   "outputs": [
    {
     "data": {
      "text/plain": [
       "differentwords (generic function with 1 method)"
      ]
     },
     "execution_count": 5,
     "metadata": {},
     "output_type": "execute_result"
    }
   ],
   "source": [
    "function differentwords(hist)\n",
    "    length(hist)\n",
    "end"
   ]
  },
  {
   "cell_type": "code",
   "execution_count": 6,
   "id": "ed13322f-6a57-4c1d-a41e-b22b04295bee",
   "metadata": {},
   "outputs": [
    {
     "name": "stdout",
     "output_type": "stream",
     "text": [
      "Total number of words: 162742\n",
      "\n",
      "Number of different words: 7380\n",
      "\n"
     ]
    }
   ],
   "source": [
    "# 결과 출력\n",
    "\n",
    "println(\"Total number of words: \", totalwords(hist), \"\\n\")\n",
    "\n",
    "println(\"Number of different words: \", differentwords(hist), \"\\n\")"
   ]
  },
  {
   "cell_type": "markdown",
   "id": "13809d78-5c33-4e36-8804-1b57281f20da",
   "metadata": {},
   "source": [
    "### 13.4 가장 흔한 단어들\n",
    "\n",
    "가장 흔하게 사용된 단어를 찾기 위해서는 단어와 빈도를 원소로 하는 튜플의 배열을 만든 후, 배열을 정렬"
   ]
  },
  {
   "cell_type": "code",
   "execution_count": 7,
   "id": "f8cb865a-6a9f-4cd6-a059-575c36bfd235",
   "metadata": {},
   "outputs": [
    {
     "data": {
      "text/plain": [
       "mostcommon (generic function with 1 method)"
      ]
     },
     "execution_count": 7,
     "metadata": {},
     "output_type": "execute_result"
    }
   ],
   "source": [
    "function mostcommon(hist)\n",
    "    t = []\n",
    "    for (key, value) in hist\n",
    "        push!(t, (value, key))\n",
    "    end\n",
    "    reverse(sort(t))\n",
    "end"
   ]
  },
  {
   "cell_type": "code",
   "execution_count": 8,
   "id": "78878170-f237-4d20-bde9-221254e1722c",
   "metadata": {},
   "outputs": [
    {
     "name": "stdout",
     "output_type": "stream",
     "text": [
      "The most common words are: \n",
      "to\t5295\n",
      "the\t5266\n",
      "and\t4931\n",
      "of\t4339\n",
      "i\t3191\n",
      "a\t3155\n",
      "it\t2546\n",
      "her\t2483\n",
      "was\t2400\n",
      "she\t2364\n"
     ]
    }
   ],
   "source": [
    "t = mostcommon(hist)\n",
    "\n",
    "println(\"The most common words are: \")\n",
    "for (freq, word) in t[1:10]\n",
    "    println(word, \"\\t\", freq) \n",
    "end"
   ]
  },
  {
   "cell_type": "markdown",
   "id": "486beeae-356b-48e5-a5d0-7bdcfc5d9689",
   "metadata": {},
   "source": [
    "### 13.5 선택적 매개변수"
   ]
  },
  {
   "cell_type": "markdown",
   "id": "49e13972-fd1c-4a16-b4b3-80c50d860578",
   "metadata": {},
   "source": [
    "단어의 빈도를 선택할 수 있도록 매개변수 조정 (num 인수 추가, 기본값은 10으로)"
   ]
  },
  {
   "cell_type": "code",
   "execution_count": 9,
   "id": "25c33fa1-2d81-4afe-89e8-12507ab88133",
   "metadata": {},
   "outputs": [
    {
     "data": {
      "text/plain": [
       "printmostcommon (generic function with 2 methods)"
      ]
     },
     "execution_count": 9,
     "metadata": {},
     "output_type": "execute_result"
    }
   ],
   "source": [
    "function printmostcommon(hist, num = 10)\n",
    "    t = mostcommon(hist)\n",
    "    println(\"The most common words are: \")\n",
    "    for (freq, word) in t[1:num]\n",
    "        println(word, \"\\t\", freq)\n",
    "    end\n",
    "end"
   ]
  },
  {
   "cell_type": "code",
   "execution_count": 10,
   "id": "f39ab3c7-a464-49a9-8138-11491428c036",
   "metadata": {},
   "outputs": [
    {
     "name": "stdout",
     "output_type": "stream",
     "text": [
      "The most common words are: \n",
      "to\t5295\n",
      "the\t5266\n",
      "and\t4931\n",
      "of\t4339\n",
      "i\t3191\n",
      "a\t3155\n",
      "it\t2546\n",
      "her\t2483\n",
      "was\t2400\n",
      "she\t2364\n"
     ]
    }
   ],
   "source": [
    "printmostcommon(hist)"
   ]
  },
  {
   "cell_type": "code",
   "execution_count": 11,
   "id": "01b7e245-d9d9-4208-8659-05777c1a439c",
   "metadata": {},
   "outputs": [
    {
     "name": "stdout",
     "output_type": "stream",
     "text": [
      "The most common words are: \n",
      "to\t5295\n",
      "the\t5266\n",
      "and\t4931\n",
      "of\t4339\n",
      "i\t3191\n",
      "a\t3155\n",
      "it\t2546\n",
      "her\t2483\n",
      "was\t2400\n",
      "she\t2364\n",
      "in\t2199\n",
      "not\t2161\n",
      "you\t2053\n",
      "be\t1987\n",
      "he\t1811\n",
      "that\t1809\n",
      "had\t1626\n",
      "but\t1446\n",
      "as\t1443\n",
      "for\t1371\n"
     ]
    }
   ],
   "source": [
    "printmostcommon(hist, 20)"
   ]
  },
  {
   "cell_type": "markdown",
   "id": "836aba20-1d89-45b2-95b3-a4b49929aa6a",
   "metadata": {},
   "source": [
    "* 선택적 인수는 디폴트 값에 우선하며, 일반적으로 필수 매개변수가 앞에 있고 선택적 매개변수가 뒤에 있음"
   ]
  },
  {
   "cell_type": "markdown",
   "id": "16e93cea-fa34-4229-85fe-fc4ace0db556",
   "metadata": {},
   "source": [
    "### 13.6 딕셔너리에 대한 차집합"
   ]
  },
  {
   "cell_type": "markdown",
   "id": "229ec812-0419-4dc6-941e-702bcfd93576",
   "metadata": {},
   "source": [
    "* subtract 함수는 딕셔너리 d1과 d2를 받아, d1에는 있고 d2에는 없는 모든 키를 원소로 하는 새로운 딕셔너리를 반환함"
   ]
  },
  {
   "cell_type": "code",
   "execution_count": 12,
   "id": "44a046cf-69e1-458f-9818-3cd7600c6e53",
   "metadata": {},
   "outputs": [
    {
     "data": {
      "text/plain": [
       "subtract (generic function with 1 method)"
      ]
     },
     "execution_count": 12,
     "metadata": {},
     "output_type": "execute_result"
    }
   ],
   "source": [
    "function subtract(d1, d2)\n",
    "    res = Dict()\n",
    "    for key in keys(d1)\n",
    "        if key ∉ keys(d2)\n",
    "            res[key] = nothing # 값은 신경쓰지 않기 위해 nothing으로 처리\n",
    "        end\n",
    "    end\n",
    "    res\n",
    "end"
   ]
  },
  {
   "cell_type": "markdown",
   "id": "5c555cde-aab3-4a17-8e08-0fd3deb76be8",
   "metadata": {},
   "source": [
    "* 내려받은 책에는 나오지만 words.txt 에는 없는 단어를 찾으려면, 다음과 같이 processfile 함수로 words.txt의 히스토그램을 만든 후 차집합을 구함"
   ]
  },
  {
   "cell_type": "code",
   "execution_count": 15,
   "id": "7858b45c-4dc1-4902-89c6-9c5ba8a8e936",
   "metadata": {},
   "outputs": [
    {
     "name": "stdout",
     "output_type": "stream",
     "text": [
      "Words in the book that aren't in the word list: \n",
      "outree quicksighted outwardly adelaide jeffereys unreserved dixons betweens groundless jamess westons remembrance unsuccessfully hawkinss rencontre deservedly favourably incommoded unfavourable wiltshire bateses recollecting newsletters recollected irresistibly pianoforte undiscerned ungraciously humourist bitnet placidity swisserland il xxxxxxxxx internet prosings constitutions ult christian xvi illinois outstepped november woodhouse experienced favourite neptune ocr wallises companionably tremblings recollect uninterruptedly ing emma smallridges disingenuousness injustice admirably appellation familiarise hartuiucvmd surry ix c ii xiii cromer shakespeare vii unconvinced coxs tranquillised complimenter broadwood bellas goodnatured dont richardson doatingly braithwaites unimpeded michaelmas reanimation endthe neighbourhood william influenced harriets disclaimer churchill twelvemonth tunbridge england gentlemans imaginist unexampled hodges dir apologised grahams etextsverend stimulative a winkd sympathise pressingly asparagus adventuring michael mutterings s novitiate maam administered otway hetty destind kramer beaufet hesitatingly wingfields etextsstart soothings illiberal augusta lieut mickleham  isabella cramer inconsideration suitableness feelingly shant mantelpiece caroline promptitude williams penetrated electronically oclock authorised hartvmdcsouiucedu saturday unconcern tupman fastidious d unbleached embrocation wakefield patriae behindhand elizabeth foolishly grandpapa buyings xix penetrating exultingly mcimail al monday hypertext delightfully brunswick wretchedly windsor benedictine unequalled charles b apologise fairfax observable mitchells langham reprobating december unpersuadable grandmama non harmonise goddard persuadable teazed collation aimable o perrys puppyism humouredly sposo visitings m commandingly improvidently tete london n f goddards pre inferiorities aggrandise sufferable honourable blameable xiv emmas smilingly taylors nobodys churchilld merchantability impartial waverings disengage weston yorkshire secresy excusable email doubtingly etextarticles adair clara unexamined unreserve housebreaking silversmith bickerton mr hawkins gentlemens emmazip patroness ascii complacently disclaimers hughes donwell unmentioned sunday deedily uncouthness sweetbread untouched misunderstood hannah honourably friday mistresss recantation dostalis greatcoat arrowroot etext unsuitable childs amor valetudinarian undesigned confidantes pointedly caro xii disengaged theodore unpretending february neighbour penetrate italian broadwoods remembrances conversable rumination james favourable complaisance arthur hindrance churchills unseasonableness designedly eltons july compuservecom enscombe mens hartfield chuse amiableness baly attmail woodhouses tupmans printfor solitarily tm bragges endeavoured charitable transcribing undesignedly controul holyhead unsentimental inquietudes cultivation serle comtesse october tel apartment austen collectedly birmingham taylor nash chuses unsuspected philippics fancifulness randalls stomacher unpolished iii barnes encumbrance gutenbergibc wallis rationality paradings greensward newgut campbell irish unmirthful june knightley behaviour larkinss ungallant hartfields etextetext rd april bragge thats connexions gentlemanlike th indexgut robert e irksomeness manoeuvring x substance ungracious endeavour heartedness desirableness insignificance delightful transcribed endeavours emmaatxt selinas abruptness astleys solicitously disagreeableness otways genlis crossness viii alderneys abdys elton goodhumoured wonderings l acquirements clifton catherine george slightingly champaign kingston philip aladdins xvii scotland mrs disapprobation adversarys encourager dalmane garricks unceremoniousness heartfelt unobjectionable gutenberg st particularity pembroke ftp unsullied etc bodys unexceptionably iv bella complimented tuesday undistinguishing blockhead ceaseless discomposed ireland yourlogin p incommoding weymouth neighbours ebcdic stilton underbred fragrance houseroom grandpapas unpardonably cowper fairfaxs mrcnextcsouiucedu york inseparably stept broadway anne composedly richmond solemnity exultation tautology blanche xv cd dorking grandmamas discordancies unperceived flatterers dublin wingfield prepossession latters endeavouring unexceptionable treachery discourse fidgetiness portionless admirable knightleys anothers unfeignedly inebriety splendour k mget sympathiser undoubting connexion batess successless talkativeness sanguinely cobham entertainingly milmans gradations companionableness dr churchwardens clayton privately scepticism january saunders manchester highbury acquittal unostentatious christmas campbells indiscreetly i unmodulated unprovided w venice compuserve dexterity untowardly richard confederates chusing expediency apartments vi dixon startthe hyperbolical proportionably unexpensively delicately craig ladys unfastidious unpermitted emmatxt submissively login cellery hazle southward larkins sauciness smallridge ibc selina xviii untainted agreeably v criticising coxe isabellas complaisant unfrequently unsuspicious etexts harriet unaccountable "
     ]
    }
   ],
   "source": [
    "words = processfile(\"./data/words.txt\")\n",
    "diff = subtract(hist, words)\n",
    "\n",
    "println(\"Words in the book that aren't in the word list: \")\n",
    "for word in keys(diff)\n",
    "    print(word, \" \")\n",
    "end"
   ]
  },
  {
   "cell_type": "markdown",
   "id": "927d4a68-27ab-40c7-96ef-f877f730edc7",
   "metadata": {},
   "source": [
    "### 13.7 무작위 단어"
   ]
  },
  {
   "cell_type": "markdown",
   "id": "bd778034-f846-4a76-9ee5-12dd26c87607",
   "metadata": {},
   "source": [
    "무작위 단어를 고르는 가장 간단한 알고리즘 구현\n",
    "\n",
    "* 빈도만큼 중복해서 단어가 들어 있는 배열을 만든 후, 그 배열에서 단어를 고르는 것"
   ]
  },
  {
   "cell_type": "code",
   "execution_count": 16,
   "id": "3121e8bc-8be4-4fcf-9e2a-ebc8ccb172fb",
   "metadata": {},
   "outputs": [
    {
     "data": {
      "text/plain": [
       "randomword (generic function with 1 method)"
      ]
     },
     "execution_count": 16,
     "metadata": {},
     "output_type": "execute_result"
    }
   ],
   "source": [
    "function randomword(h)\n",
    "    t = []\n",
    "    for (word, freq) in h\n",
    "        for i in 1:freq\n",
    "            push!(t, word)\n",
    "        end\n",
    "    end\n",
    "    rand(t)\n",
    "end"
   ]
  },
  {
   "cell_type": "code",
   "execution_count": 17,
   "id": "713c9a79-9840-4e42-8730-d2578c764d85",
   "metadata": {},
   "outputs": [
    {
     "data": {
      "text/plain": [
       "\"speaking\""
      ]
     },
     "execution_count": 17,
     "metadata": {},
     "output_type": "execute_result"
    }
   ],
   "source": [
    "randomword(hist)"
   ]
  },
  {
   "cell_type": "markdown",
   "id": "de227834-62e3-4809-97d9-3137a668da8a",
   "metadata": {},
   "source": [
    "### 13.8 용어집"
   ]
  },
  {
   "cell_type": "markdown",
   "id": "ba7f6faf-f915-40ab-9f4f-0e302a2b2b8b",
   "metadata": {},
   "source": [
    "* **결정론적(deterministic)**\n",
    "\n",
    "    - 어떤 프로그램이 동일한 입력에 대해, 항상 동일한 동작을 수행함을 일컫음\n",
    "```\n",
    "```\n",
    "* **의사 무작위(pseudoramdom)**\n",
    "\n",
    "    - 사실은 결정론적으로 생성되나 겉으로는 무작위처럼 보이는 것을 일컫음\n",
    "```\n",
    "```\n",
    "* **디폴트 값(default value)**\n",
    "\n",
    "    - 인수가 주어지지 않을 때, 선택적 매개변수에 할당되는 기본값\n",
    "```\n",
    "```\n",
    "* **우선하기(to override)**\n",
    "\n",
    "    - 디폴트 값을 주어진 인수로 덮어 씌우는행위\n",
    "```\n",
    "```\n",
    "* **벤치마킹(benchmarking)**\n",
    "\n",
    "    - 자료구조를 선택하는 과정으로 여러 대안을 구현해서 샘플 입력으로 테스트하고 비교하는 것\n",
    "```\n",
    "```\n",
    "* **러버덕킹(rubberducking)**\n",
    "\n",
    "    - 러버덕 같은 무생무에게 문제를 설명함으로써 디버깅하는 방법. 러버덕에게라도 정확히 설명하려고 하다 보면 문제 해결에 도움이 됨"
   ]
  }
 ],
 "metadata": {
  "kernelspec": {
   "display_name": "Julia 1.8.0",
   "language": "julia",
   "name": "julia-1.8"
  },
  "language_info": {
   "file_extension": ".jl",
   "mimetype": "application/julia",
   "name": "julia",
   "version": "1.8.0"
  }
 },
 "nbformat": 4,
 "nbformat_minor": 5
}
