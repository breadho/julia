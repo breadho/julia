{
 "cells": [
  {
   "cell_type": "markdown",
   "id": "8bd2fa78-1f08-44e1-8b73-457a70123c4a",
   "metadata": {},
   "source": [
    "# 줄리아를 생각하다(Think Julia)"
   ]
  },
  {
   "cell_type": "markdown",
   "id": "6883920b-9cd6-4bd8-bf79-180ae9062a5e",
   "metadata": {},
   "source": [
    "## Chapter 7. 반복"
   ]
  },
  {
   "cell_type": "markdown",
   "id": "8abd99e2-5a80-46cf-ad1a-715d7deae4df",
   "metadata": {},
   "source": [
    "이 장에서 다루는 주제는 반복(iteration)\n",
    "\n",
    "이를 위해 변수 할당에 대해 알아봄"
   ]
  },
  {
   "cell_type": "markdown",
   "id": "9b2caed7-a585-4a6e-835c-29dd428d07cf",
   "metadata": {},
   "source": [
    "### 7.1 재할당"
   ]
  },
  {
   "cell_type": "markdown",
   "id": "1c06ceb4-84e2-4c02-9e37-1e1cbfabb2fa",
   "metadata": {},
   "source": [
    "* 한 변수에 값을 여러번 할당할 수 있음 \n",
    "\n",
    "    * 새로운 할당은 시존 변수가 새로운 값을 참조하도록 함(기존의 값을 참조하지 않도록 함)"
   ]
  },
  {
   "cell_type": "code",
   "execution_count": 1,
   "id": "79cb0bd3-00c4-4de1-b45e-c03369c2e183",
   "metadata": {},
   "outputs": [
    {
     "name": "stdout",
     "output_type": "stream",
     "text": [
      "7\n"
     ]
    }
   ],
   "source": [
    "# 재할당 예시\n",
    "\n",
    "x = 5\n",
    "x = 7 \n",
    "println(x)"
   ]
  },
  {
   "cell_type": "markdown",
   "id": "9a2ea6d8-e469-4d7a-9c67-d0e3c9dcd0ec",
   "metadata": {},
   "source": [
    "**재할당**(reassignment)\n",
    "\n",
    "* 주의: 할당과 등호(equality)는 동일한 기호인 = 를 사용하지만 실질적으로는 차이가 있음\n",
    "\n",
    "* a = 5 이면, a라는 변수에 5라는 값을 할당하는 것으로 영원불변적으로 a가 5라는 이야기느 아님"
   ]
  },
  {
   "cell_type": "code",
   "execution_count": 3,
   "id": "b60effcd-a685-435c-ae4c-a4ff6c7734b8",
   "metadata": {},
   "outputs": [
    {
     "name": "stdout",
     "output_type": "stream",
     "text": [
      "5"
     ]
    }
   ],
   "source": [
    "a = 5\n",
    "b = a\n",
    "print(b)"
   ]
  },
  {
   "cell_type": "code",
   "execution_count": 4,
   "id": "355cac04-acad-47a7-8712-89491560ba1e",
   "metadata": {},
   "outputs": [
    {
     "name": "stdout",
     "output_type": "stream",
     "text": [
      "a is 3\n",
      "b is 5"
     ]
    }
   ],
   "source": [
    "a = 3 \n",
    "print(\"a is \", a, \"\\n\",\n",
    "      \"b is \", b)"
   ]
  },
  {
   "cell_type": "markdown",
   "id": "a0315437-69c9-4dc5-99af-739ed4581291",
   "metadata": {},
   "source": [
    "a 변수를 재할당 함에 따라 a는 변수의 값이 변하나\n",
    "b 변수의 값은 변하지 않음"
   ]
  },
  {
   "cell_type": "code",
   "execution_count": 5,
   "id": "85a110f9-33c7-4bf7-862b-481b01911eaf",
   "metadata": {},
   "outputs": [
    {
     "name": "stdout",
     "output_type": "stream",
     "text": [
      "a is 3\n",
      "b is 6"
     ]
    }
   ],
   "source": [
    "b = 6\n",
    "print(\"a is \", a, \"\\n\",\n",
    "      \"b is \", b)"
   ]
  },
  {
   "cell_type": "markdown",
   "id": "19b5f59d-859c-439b-901f-72628de8e284",
   "metadata": {},
   "source": [
    "다만, 배열에서는 deep copy와 shallow copy의 개념이 나타남\n",
    "\n",
    "* b = a 라는 식으로 배열을 할당하면 shallow copy (두 객체가 동일한 메모리 주소를 공유)가 일어남\n",
    "\n",
    "    - shallow copy된 객체들끼리는 동일한 메모리 주소를 공유하므로 데이터를 변환하면 같이 동기화되어 변화가 일어남\n",
    "    \n",
    "    - 비유) 같은 집에 사는 엄마와 내가 있다. 어느 날 엄마가 마루의 쇼파 위치를 옮겼다. 그러면 내가 사는 집의 쇼파의 위치도 옮겨진 셈이 된다. (왜냐하면 엄마와 나는 같은 집에 사니까)"
   ]
  },
  {
   "cell_type": "code",
   "execution_count": 8,
   "id": "d8afc449-26d3-40b5-9316-888c90de25cb",
   "metadata": {},
   "outputs": [
    {
     "name": "stdout",
     "output_type": "stream",
     "text": [
      "a is [1, 2, 3]\n",
      "b is [1, 2, 3]"
     ]
    }
   ],
   "source": [
    "a = [1, 2, 3]\n",
    "b = a\n",
    "print(\"a is \", a, \"\\n\",\n",
    "      \"b is \", b)"
   ]
  },
  {
   "cell_type": "code",
   "execution_count": 9,
   "id": "5f5a8406-fbda-431a-b972-6389d23edc99",
   "metadata": {},
   "outputs": [
    {
     "name": "stdout",
     "output_type": "stream",
     "text": [
      "a is [1, 2, 4]\n",
      "b is [1, 2, 4]"
     ]
    }
   ],
   "source": [
    "b[3] = 4\n",
    "print(\"a is \", a, \"\\n\",\n",
    "      \"b is \", b)"
   ]
  },
  {
   "cell_type": "code",
   "execution_count": 10,
   "id": "803e900c-fe86-4869-ad4e-077f9357c2be",
   "metadata": {},
   "outputs": [
    {
     "name": "stdout",
     "output_type": "stream",
     "text": [
      "a is [1, 2, 5]\n",
      "b is [1, 2, 5]"
     ]
    }
   ],
   "source": [
    "a[3] = 5\n",
    "print(\"a is \", a, \"\\n\",\n",
    "      \"b is \", b)"
   ]
  },
  {
   "cell_type": "markdown",
   "id": "e922af45-71f8-4b4a-8d2c-720d6fec7fe4",
   "metadata": {},
   "source": [
    "줄리아에서는 이러한 shallow copy를 지원하는 함수로 ```copy()```가 있으며,\n",
    "deepcopy를 지원하는 함수로는 ```deepcopy()``` 가 있다."
   ]
  },
  {
   "cell_type": "code",
   "execution_count": 20,
   "id": "23e1bebc-782a-4187-b8e2-634b98f6c205",
   "metadata": {},
   "outputs": [
    {
     "name": "stdout",
     "output_type": "stream",
     "text": [
      "a is [[1, 2, 3], [4, 5, 6]]\n",
      "b copied a is [[1, 2, 3], [4, 5, 6]]\n",
      "c deepcopied a is [[1, 2, 3], [4, 5, 6]]\n"
     ]
    }
   ],
   "source": [
    "a = [[1, 2, 3], [4, 5, 6]]\n",
    "b = copy(a)\n",
    "c = deepcopy(a)\n",
    "\n",
    "print(\"a is \", a, \"\\n\",\n",
    "      \"b copied a is \", b, \"\\n\",\n",
    "      \"c deepcopied a is \", c, \"\\n\")"
   ]
  },
  {
   "cell_type": "code",
   "execution_count": 24,
   "id": "f6b21b03-d609-42ae-86a4-787e97d5f5f9",
   "metadata": {},
   "outputs": [
    {
     "name": "stdout",
     "output_type": "stream",
     "text": [
      "a is [[555, 2, 3], [4, 5, 6]]\n",
      "b copied a is [[555, 2, 3], [4, 5, 6]]\n",
      "c deepcopied a is [[1, 2, 99], [4, 5, 6]]\n"
     ]
    }
   ],
   "source": [
    "b[1][1] = 555\n",
    "c[1][3] = 99\n",
    "\n",
    "print(\"a is \", a, \"\\n\",\n",
    "      \"b copied a is \", b, \"\\n\",\n",
    "      \"c deepcopied a is \", c, \"\\n\")"
   ]
  },
  {
   "cell_type": "code",
   "execution_count": 25,
   "id": "8943bbef-9f4f-4501-810c-c52d0e1f4f8e",
   "metadata": {},
   "outputs": [
    {
     "name": "stdout",
     "output_type": "stream",
     "text": [
      "a is [[1, 2, 3]]\n",
      "b copied a is [[1, 2, 3]]\n",
      "c deepcopied a is [[1, 2, 3]]\n"
     ]
    }
   ],
   "source": [
    "a2 = [[1, 2, 3]]\n",
    "b2 = copy(a2)\n",
    "c2 = deepcopy(a2)\n",
    "\n",
    "print(\"a is \", a2, \"\\n\",\n",
    "      \"b copied a is \", b2, \"\\n\",\n",
    "      \"c deepcopied a is \", c2, \"\\n\")"
   ]
  },
  {
   "cell_type": "code",
   "execution_count": 26,
   "id": "0b404f86-fa43-4436-82a9-da118b9210c8",
   "metadata": {},
   "outputs": [
    {
     "name": "stdout",
     "output_type": "stream",
     "text": [
      "a is [[555, 2, 3]]\n",
      "b copied a is [[555, 2, 3]]\n",
      "c deepcopied a is [[1, 2, 99]]\n"
     ]
    }
   ],
   "source": [
    "b2[1][1] = 555\n",
    "c2[1][3] = 99\n",
    "\n",
    "print(\"a is \", a2, \"\\n\",\n",
    "      \"b copied a is \", b2, \"\\n\",\n",
    "      \"c deepcopied a is \", c2, \"\\n\")"
   ]
  },
  {
   "cell_type": "markdown",
   "id": "f0de48c5-3c30-4bad-8f9d-d77009be929c",
   "metadata": {},
   "source": [
    "* 그런데, 1차원 array (vector)에서는 안먹히는 듯한 모습이 포착됨"
   ]
  },
  {
   "cell_type": "code",
   "execution_count": 55,
   "id": "6c378702-c844-4b92-af54-59a1c889436a",
   "metadata": {},
   "outputs": [
    {
     "name": "stdout",
     "output_type": "stream",
     "text": [
      "a is [1, 2, 3]\n",
      "b copied a is [1, 2, 3]\n",
      "c deepcopied a is [1, 2, 3]\n",
      "\n",
      "------------------------------\n",
      "\n",
      "a is [1, 2, 3]\n",
      "b copied a is [555, 2, 3]\n",
      "c deepcopied a is [1, 2, 99]\n"
     ]
    }
   ],
   "source": [
    "a3 = [1, 2, 3]\n",
    "b3 = copy(a3)\n",
    "c3 = deepcopy(a3)\n",
    "\n",
    "print(\"a is \", a3, \"\\n\",\n",
    "      \"b copied a is \", b3, \"\\n\",\n",
    "      \"c deepcopied a is \", c3, \"\\n\")\n",
    "\n",
    "\n",
    "print(\"\\n\", \"-\"^30 , \"\\n\\n\")\n",
    "\n",
    "b3[1] = 555\n",
    "c3[3] = 99\n",
    "\n",
    "print(\"a is \", a3, \"\\n\",\n",
    "      \"b copied a is \", b3, \"\\n\",\n",
    "      \"c deepcopied a is \", c3, \"\\n\")"
   ]
  },
  {
   "cell_type": "code",
   "execution_count": 32,
   "id": "dfd9e991-693e-4ff4-b051-109be581c6b9",
   "metadata": {},
   "outputs": [
    {
     "data": {
      "text/plain": [
       "true"
      ]
     },
     "execution_count": 32,
     "metadata": {},
     "output_type": "execute_result"
    }
   ],
   "source": [
    "a4 = [1, 2, 3]\n",
    "b4 = copy(a4)\n",
    "c4 = deepcopy(a4)\n",
    "\n",
    "isequal(a4, b4)"
   ]
  },
  {
   "cell_type": "code",
   "execution_count": 37,
   "id": "ad33b0c0-6a17-4161-a53c-a45ceb3c2783",
   "metadata": {},
   "outputs": [
    {
     "data": {
      "text/plain": [
       "true"
      ]
     },
     "execution_count": 37,
     "metadata": {},
     "output_type": "execute_result"
    }
   ],
   "source": [
    "isequal(a4, c4)"
   ]
  },
  {
   "cell_type": "code",
   "execution_count": 38,
   "id": "579b52e0-8ac1-436c-a467-406d58c63556",
   "metadata": {},
   "outputs": [
    {
     "data": {
      "text/plain": [
       "true"
      ]
     },
     "execution_count": 38,
     "metadata": {},
     "output_type": "execute_result"
    }
   ],
   "source": [
    "isequal(b4, c4)"
   ]
  },
  {
   "cell_type": "code",
   "execution_count": 34,
   "id": "904d00f0-912c-447c-99cf-7ee689c2a642",
   "metadata": {},
   "outputs": [
    {
     "data": {
      "text/plain": [
       "false"
      ]
     },
     "execution_count": 34,
     "metadata": {},
     "output_type": "execute_result"
    }
   ],
   "source": [
    "a4 === b4"
   ]
  },
  {
   "cell_type": "code",
   "execution_count": 35,
   "id": "caac1bda-cd22-4d27-8ab2-464c6e52fdb0",
   "metadata": {},
   "outputs": [
    {
     "data": {
      "text/plain": [
       "false"
      ]
     },
     "execution_count": 35,
     "metadata": {},
     "output_type": "execute_result"
    }
   ],
   "source": [
    "a4 === c4"
   ]
  },
  {
   "cell_type": "code",
   "execution_count": 36,
   "id": "4d7f8966-d2fc-4747-b61e-790c485bec84",
   "metadata": {},
   "outputs": [
    {
     "data": {
      "text/plain": [
       "false"
      ]
     },
     "execution_count": 36,
     "metadata": {},
     "output_type": "execute_result"
    }
   ],
   "source": [
    "b4 === c4"
   ]
  },
  {
   "cell_type": "markdown",
   "id": "41b7200a-b1b8-497f-ae6b-2807c3507464",
   "metadata": {},
   "source": [
    "_왜 이런 현상이 나타나는지 추가적인 확인이 필요함_"
   ]
  },
  {
   "cell_type": "markdown",
   "id": "c8baf176-80c4-457c-b0f4-c5a488452aa7",
   "metadata": {},
   "source": [
    "### 7.2 변수 갱신"
   ]
  },
  {
   "cell_type": "markdown",
   "id": "1940723b-f1a7-4f7f-8c6c-b991e215d634",
   "metadata": {},
   "source": [
    "통상적인 재할당은 **갱신**(update)을 통해 이루어짐 -> 변수의 기존 값을 가지고 새로운 값을 생성"
   ]
  },
  {
   "cell_type": "code",
   "execution_count": 56,
   "id": "de4fa9ec-3ad2-429f-be0b-00b712d0ed57",
   "metadata": {},
   "outputs": [
    {
     "data": {
      "text/plain": [
       "8"
      ]
     },
     "execution_count": 56,
     "metadata": {},
     "output_type": "execute_result"
    }
   ],
   "source": [
    "x = x + 1"
   ]
  },
  {
   "cell_type": "markdown",
   "id": "eeedb759-9180-4cc4-963e-f92b5868d111",
   "metadata": {},
   "source": [
    "존재하지 않는 변수에 대해 갱신을 시도하면 오류가 발생\n",
    "(변수 값을 할당하기 전에 우측의 표현식을 먼저 평가하기 때문임)"
   ]
  },
  {
   "cell_type": "code",
   "execution_count": 57,
   "id": "99f3d874-6807-465e-9fa5-8a71591d7cf8",
   "metadata": {},
   "outputs": [
    {
     "ename": "LoadError",
     "evalue": "UndefVarError: y not defined",
     "output_type": "error",
     "traceback": [
      "UndefVarError: y not defined",
      "",
      "Stacktrace:",
      " [1] top-level scope",
      "   @ In[57]:1",
      " [2] eval",
      "   @ .\\boot.jl:368 [inlined]",
      " [3] include_string(mapexpr::typeof(REPL.softscope), mod::Module, code::String, filename::String)",
      "   @ Base .\\loading.jl:1428"
     ]
    }
   ],
   "source": [
    "y = y + 1"
   ]
  },
  {
   "cell_type": "markdown",
   "id": "af451c39-bf85-4308-9c19-fb975ec621f2",
   "metadata": {},
   "source": [
    "변수를 갱신하기 전에는 먼저 **초기화**(initialize)해야 함 (보통 간단한 할당을 통해 실시함)"
   ]
  },
  {
   "cell_type": "code",
   "execution_count": 58,
   "id": "87bd9cff-77c8-44c6-a211-ed0cbf1920bd",
   "metadata": {},
   "outputs": [
    {
     "data": {
      "text/plain": [
       "1"
      ]
     },
     "execution_count": 58,
     "metadata": {},
     "output_type": "execute_result"
    }
   ],
   "source": [
    "# 변수 초기화를 위한 할당\n",
    "y = 0 \n",
    "\n",
    "y = y + 1"
   ]
  },
  {
   "cell_type": "markdown",
   "id": "2741f81e-695b-400c-a637-237b043c2688",
   "metadata": {},
   "source": [
    "변수의 값에 1을 더해 갱신하는 것을 **증가**(increment)라고 하고, 1을 빼서 갱신하는 것을 **감소**(decrement)라고 함"
   ]
  },
  {
   "cell_type": "markdown",
   "id": "9e146ec1-3108-4754-bae2-935cfd476377",
   "metadata": {},
   "source": [
    "### 7.3 while문"
   ]
  },
  {
   "cell_type": "markdown",
   "id": "c9b07091-f442-4fff-84d9-72e42c5df194",
   "metadata": {},
   "source": [
    "* **반복**(iteration): 컴퓨터가 거듭해서 되풀이되는 작업을 자동으로 처리하기 위한 동작\n",
    "\n",
    "* 반복 작업을 실시하는 명령문: 반복문(iteration loop), 보통 for나 while을 많이 사용하므로 for loop, while loop이라고도 표현함"
   ]
  },
  {
   "cell_type": "markdown",
   "id": "54619dcc-15e2-41ba-b151-428237fd52f3",
   "metadata": {},
   "source": [
    "**예제 1)** countdown 함수"
   ]
  },
  {
   "cell_type": "code",
   "execution_count": 59,
   "id": "354baabc-de70-42fd-8cba-5103ed47a2fe",
   "metadata": {},
   "outputs": [
    {
     "data": {
      "text/plain": [
       "countdown (generic function with 1 method)"
      ]
     },
     "execution_count": 59,
     "metadata": {},
     "output_type": "execute_result"
    }
   ],
   "source": [
    "function countdown(n)\n",
    "    while n > 0\n",
    "        print(n, \" \")\n",
    "        n = n - 1\n",
    "    end\n",
    "    println(\"Blastoff!\")\n",
    "end"
   ]
  },
  {
   "cell_type": "markdown",
   "id": "b088ae5f-3d19-42b4-9689-473596818368",
   "metadata": {},
   "source": [
    "while문은 거의 언제나 일상적인 문장을 읽는 것처럼 해석할 수 있음\n",
    "'n이 0보다 큰 동안에(while) n 값을 출력하고 n 값을 1만큼 감소하라. n이 0이 되면 \"Blastoff!\"를 출력하라.'\n",
    "\n",
    "* while loop의 작동 원리\n",
    "\n",
    "    1) 조건이 참인지 거짓인지 확인한다. \n",
    "    \n",
    "    2) 거짓이면, while 문을 빠져나가고 그 다음 문장을 실행한다.\n",
    "    \n",
    "    3) 참이면, 본문을 실행한 후, 1단계로 돌아간다.\n",
    "    \n",
    "* **주의)** while 루프는 본문에서 최종적으로는 조건이 거짓이 되어 루프가 끝낼수 있도록 한 개 이상의 변수 값을 갱신해야 함 -> 그렇지 않으면 무한 루프가 되어 버림"
   ]
  },
  {
   "cell_type": "markdown",
   "id": "063dc228-28ab-4525-9ffb-eade2fa36bad",
   "metadata": {},
   "source": [
    "**예제 2) collatz-conjecture** \n",
    "\n",
    "* 콜라츠 추측: T(n)을 모든 자연수 n에 대해 유한번 재귀 반복하면 1로 간다는 추측 (아직 증명되지는 못함)\n",
    "\n",
    "$ T(n) = \\begin{Bmatrix}{n\\over2} \\;, \\; if\\; n \\; is \\; \\\\ {3n+1} \\; , \\; if \\; n \\; is \\; odd \\\\ \\end{Bmatrix} $\n",
    "\n",
    "\n",
    "상세 설명은 https://namu.wiki/w/%EC%BD%9C%EB%9D%BC%EC%B8%A0%20%EC%B6%94%EC%B8%A1 또는 https://www.youtube.com/watch?v=5dZKr-Z2FO4 참조\n"
   ]
  },
  {
   "cell_type": "code",
   "execution_count": 61,
   "id": "547596d7-2513-426b-8083-93ab32718274",
   "metadata": {},
   "outputs": [
    {
     "data": {
      "text/plain": [
       "collatz (generic function with 1 method)"
      ]
     },
     "execution_count": 61,
     "metadata": {},
     "output_type": "execute_result"
    }
   ],
   "source": [
    "function collatz(n)\n",
    "    while n != 1\n",
    "        println(n)\n",
    "        if n % 2 == 0\n",
    "            n = n / 2\n",
    "        else\n",
    "            n = n*3 + 1\n",
    "        end\n",
    "    end\n",
    "end"
   ]
  },
  {
   "cell_type": "code",
   "execution_count": 65,
   "id": "4a2631ef-aae0-4fb7-97fc-e9ca90156bae",
   "metadata": {},
   "outputs": [
    {
     "name": "stdout",
     "output_type": "stream",
     "text": [
      "17\n",
      "52\n",
      "26.0\n",
      "13.0\n",
      "40.0\n",
      "20.0\n",
      "10.0\n",
      "5.0\n",
      "16.0\n",
      "8.0\n",
      "4.0\n",
      "2.0\n"
     ]
    }
   ],
   "source": [
    "collatz(17)"
   ]
  },
  {
   "cell_type": "markdown",
   "id": "cd17daa1-6b9c-4852-ae47-49e6354ee639",
   "metadata": {},
   "source": [
    "주) n이 늘어날 때도 있고, 줄어들때도 있기 때문에, n이 결국 1이 되어 프로그램이 종료된다는 것을 쉽게 증명할 수는 없음(아직 아무도 증명하거나 반증하지 못함)"
   ]
  },
  {
   "cell_type": "markdown",
   "id": "366100af-dc36-4fe7-b50d-5619a5b2a75a",
   "metadata": {},
   "source": [
    "**연습 7-1)** 5.8절 countdown 함수를 while문으로 재작성"
   ]
  },
  {
   "cell_type": "code",
   "execution_count": 66,
   "id": "7df342d0-96e4-45cc-b923-5c9bfb2ae61a",
   "metadata": {},
   "outputs": [
    {
     "data": {
      "text/plain": [
       "countdown (generic function with 1 method)"
      ]
     },
     "execution_count": 66,
     "metadata": {},
     "output_type": "execute_result"
    }
   ],
   "source": [
    "function countdown(n)\n",
    "    while n > 0\n",
    "        print(n, \" \")\n",
    "        n = n - 1\n",
    "    end\n",
    "    println(\"Blastoff!\")\n",
    "end"
   ]
  },
  {
   "cell_type": "code",
   "execution_count": 67,
   "id": "3515bda7-ff47-421d-a74e-50559516b407",
   "metadata": {},
   "outputs": [
    {
     "name": "stdout",
     "output_type": "stream",
     "text": [
      "10 9 8 7 6 5 4 3 2 1 Blastoff!\n"
     ]
    }
   ],
   "source": [
    "countdown(10)"
   ]
  },
  {
   "cell_type": "markdown",
   "id": "fe7ef6da-2d2d-43aa-97d3-adb0c8a78936",
   "metadata": {},
   "source": [
    "### 7.4 break "
   ]
  },
  {
   "cell_type": "markdown",
   "id": "34d8d9a8-0016-41c4-9f40-4ff8fbd7f732",
   "metadata": {},
   "source": [
    "* **break** : while loop를 빠져나오고 싶거나 그러한 조건을 설정할 경우 사용하는 명령어"
   ]
  },
  {
   "cell_type": "markdown",
   "id": "c19782f3-f75a-4b6b-aa6c-5207a262cc31",
   "metadata": {},
   "source": [
    "**예제 1)** readline 함수를 사용하는 예제로 Julia REPL에서 수행\n",
    "\n",
    "![image.png](capture_and_drawing/test2.png)"
   ]
  },
  {
   "cell_type": "markdown",
   "id": "0e7e4d91-ca79-4ebd-8fe4-1cc6006868f7",
   "metadata": {},
   "source": [
    "* 루프의 조건이 true로 고정되어 있기 때문에 break 문을 만나기 전까지는 루프가 계속 실행됨\n",
    "\n",
    "* break문을 사용하면 \"어떤 조건이 되면 멈춘다\"고 while문을 적극적으로 표현할 수 있음"
   ]
  },
  {
   "cell_type": "markdown",
   "id": "8a56288a-cc5a-4938-bc9a-c624cb7a5409",
   "metadata": {},
   "source": [
    "```julia\n",
    "# REPL 입력문의 indentation \n",
    "\n",
    "while true\n",
    "    print(\":\")\n",
    "    line = readline()\n",
    "    if line == \"done\"\n",
    "        break\n",
    "    end\n",
    "    println(line)\n",
    "end\n",
    "println(\"Done!\")        \n",
    "```"
   ]
  },
  {
   "cell_type": "markdown",
   "id": "6216be86-f50b-4b7e-a5dc-fdf780a0dbe5",
   "metadata": {},
   "source": [
    "### 7.5 continue"
   ]
  },
  {
   "cell_type": "markdown",
   "id": "0f93b895-fbcf-449c-89b8-fb6f0b55a363",
   "metadata": {},
   "source": [
    "* 현재 회차에서 아직 실행하지 않은 문장을 건너뛰고, 루프의 맨 위로 올라가 새로운 회차의 반복을 시행함"
   ]
  },
  {
   "cell_type": "markdown",
   "id": "865ccc87-fc31-4b89-8032-dab6fc40a0a3",
   "metadata": {},
   "source": [
    "**예제 1)** continue 문"
   ]
  },
  {
   "cell_type": "code",
   "execution_count": 69,
   "id": "576aca63-c3c9-4af7-80ba-9a6488786755",
   "metadata": {},
   "outputs": [
    {
     "name": "stdout",
     "output_type": "stream",
     "text": [
      "1 2 4 5 7 8 10 "
     ]
    }
   ],
   "source": [
    "for i in 1:10\n",
    "    if i % 3 == 0\n",
    "        continue\n",
    "    end\n",
    "    print(i, \" \")\n",
    "end"
   ]
  },
  {
   "cell_type": "markdown",
   "id": "ea645af8-93f6-41c5-a9f4-8f77381f2e5e",
   "metadata": {},
   "source": [
    "* 결과 해석: i가 3으로 나누어 떨어지는 수라면, continue 문은 현재 회차의 반복을 중단하고, 다음 회차의 반복을 시작함. -> 3으로 나누어 떨어지지 않는 수만 출력됨"
   ]
  },
  {
   "cell_type": "markdown",
   "id": "aa30a924-9b94-498a-b580-da85e501fff4",
   "metadata": {},
   "source": [
    "### 7.6 제곱근구하기"
   ]
  },
  {
   "cell_type": "markdown",
   "id": "66223edb-e9b1-4317-aeb8-4a4997f4dfcf",
   "metadata": {},
   "source": [
    "* **반복문 사용 예)** 수식에서 값을 구할 때, 먼저 근사값을 구한 후 반복적으로 개선하는 방식의 프로그램에서 루프를 사용함\n",
    "\n",
    "**예제 1)** 제곱근 구하기\n",
    "\n",
    "'뉴턴 방법' : a의 제곱근 값의 추정치를 x라 할 때\n",
    "\n",
    "$ y = {1 \\over 2}(x + {a \\over x})$"
   ]
  },
  {
   "cell_type": "code",
   "execution_count": 79,
   "id": "88863f40-8b26-41b5-86fa-50a809533726",
   "metadata": {},
   "outputs": [
    {
     "data": {
      "text/plain": [
       "3"
      ]
     },
     "execution_count": 79,
     "metadata": {},
     "output_type": "execute_result"
    }
   ],
   "source": [
    "a = 4\n",
    "x = 3"
   ]
  },
  {
   "cell_type": "code",
   "execution_count": 80,
   "id": "54fea5f1-1899-41b7-af54-da4ed320dfda",
   "metadata": {},
   "outputs": [
    {
     "data": {
      "text/plain": [
       "2.1666666666666665"
      ]
     },
     "execution_count": 80,
     "metadata": {},
     "output_type": "execute_result"
    }
   ],
   "source": [
    "y = (x + a/x)/2"
   ]
  },
  {
   "cell_type": "code",
   "execution_count": 81,
   "id": "9aab60b9-10f1-4835-a80a-39b7309f91ba",
   "metadata": {},
   "outputs": [
    {
     "name": "stdout",
     "output_type": "stream",
     "text": [
      "2.0064102564102564"
     ]
    }
   ],
   "source": [
    "# 첫번째 대입 \n",
    "x = y\n",
    "\n",
    "y = (x + a/x)/2\n",
    "\n",
    "print(y)"
   ]
  },
  {
   "cell_type": "code",
   "execution_count": 82,
   "id": "2739c718-25bb-42d4-9397-edcf385d2395",
   "metadata": {},
   "outputs": [
    {
     "name": "stdout",
     "output_type": "stream",
     "text": [
      "2.0000102400262145"
     ]
    }
   ],
   "source": [
    "# 두 번째 대입 \n",
    "x = y\n",
    "\n",
    "y = (x + a/x)/2\n",
    "\n",
    "print(y)"
   ]
  },
  {
   "cell_type": "code",
   "execution_count": 83,
   "id": "aa2828d7-acf4-4231-9900-083972a2d9af",
   "metadata": {},
   "outputs": [
    {
     "name": "stdout",
     "output_type": "stream",
     "text": [
      "2.0000000000262146"
     ]
    }
   ],
   "source": [
    "# 세 번째 대입 \n",
    "x = y\n",
    "\n",
    "y = (x + a/x)/2\n",
    "\n",
    "print(y)"
   ]
  },
  {
   "cell_type": "code",
   "execution_count": 84,
   "id": "1d282056-f721-4d8c-a3a9-2dc2833009b4",
   "metadata": {},
   "outputs": [
    {
     "name": "stdout",
     "output_type": "stream",
     "text": [
      "2.0"
     ]
    }
   ],
   "source": [
    "# 네 번째 대입 \n",
    "x = y\n",
    "\n",
    "y = (x + a/x)/2\n",
    "\n",
    "print(y)"
   ]
  },
  {
   "cell_type": "markdown",
   "id": "61383373-44c5-4345-9238-209127c4156b",
   "metadata": {},
   "source": [
    "몇 번의 대입을 통해 추정치가 거의 정확한 값이 되는 것을 확인할 수 있음\n",
    "\n",
    "\n",
    "일반적으로 어느 정도 반복을 시행해야 정확한 값이 될지 미리 알 수는 없지만 추정치가 변하기 않게 되면, 정확한 값이 되었음을 알 수 있음"
   ]
  },
  {
   "cell_type": "markdown",
   "id": "a7f2e0fd-0acd-48fc-9776-b7e35fb5125a",
   "metadata": {},
   "source": [
    "**While문으로 만들기**"
   ]
  },
  {
   "cell_type": "code",
   "execution_count": 86,
   "id": "4b1611b9-3523-456e-aca7-885899ca53bb",
   "metadata": {},
   "outputs": [
    {
     "name": "stdout",
     "output_type": "stream",
     "text": [
      "3\n",
      "2.1666666666666665\n",
      "2.0064102564102564\n",
      "2.0000102400262145\n",
      "2.0000000000262146\n",
      "2.0\n"
     ]
    }
   ],
   "source": [
    "a = 4\n",
    "x = 3\n",
    "\n",
    "while true\n",
    "    println(x)\n",
    "    y = (x + a/x)/2\n",
    "    if y == x\n",
    "        break\n",
    "    end\n",
    "    x = y\n",
    "end"
   ]
  },
  {
   "cell_type": "code",
   "execution_count": 89,
   "id": "53a08e27-b86c-4e6f-ac06-9a55ac7402a1",
   "metadata": {},
   "outputs": [
    {
     "name": "stdout",
     "output_type": "stream",
     "text": [
      "3\n",
      "2.1666666666666665\n",
      "2.0064102564102564\n",
      "2.0000102400262145\n",
      "2.0000000000262146\n",
      "2.0\n"
     ]
    }
   ],
   "source": [
    "a = 4\n",
    "x = 3\n",
    "ε = 10^-12 # 허용오차 지정 (피코 단위로 설정)\n",
    "\n",
    "while true\n",
    "    println(x)\n",
    "    y = (x + a/x)/2\n",
    "    if abs(y - x) < ε\n",
    "        break\n",
    "    end\n",
    "    x = y\n",
    "end"
   ]
  },
  {
   "cell_type": "markdown",
   "id": "3e1ac479-f21d-4cfd-a187-456d4c987fbe",
   "metadata": {},
   "source": [
    "### 7.7 알고리즘"
   ]
  },
  {
   "cell_type": "markdown",
   "id": "02f2fad3-7b5a-4562-8e5f-2ffb8029ff89",
   "metadata": {},
   "source": [
    "**알고리즘**(algorithm): 어떤 종류의 문제를 풀기 위한 기계적인 절차\n",
    "\n",
    "* 앞서 수행한 newton-rapson 방법을 이용한 제곱근 구하기 같은 절차가 알고리즘임. 알고리즘을 수행하는 것은 지루한 일이지만, 알고리즘을 만들어내는 것은 흥미롭고 지적으로 도전적인, 컴퓨터 과학의 핵심 요소"
   ]
  },
  {
   "cell_type": "markdown",
   "id": "6383d416-2afc-400d-9030-f7f9f715ed3b",
   "metadata": {},
   "source": [
    "### 7.8 디버깅\n",
    "\n",
    "* 디버깅 시간을 줄이는 방법 : 분할하여 디버깅하기\n",
    "\n",
    "* 오류가 있을 가능성이 있는 곳에 대해 고려하여 분할점 지정, 분할점 전후 코드를 중심으로 버그 찾기"
   ]
  },
  {
   "cell_type": "markdown",
   "id": "34b5d3a5-2dd9-4fbf-86b0-679e68722f40",
   "metadata": {},
   "source": [
    "### 7.9 용어집"
   ]
  },
  {
   "cell_type": "markdown",
   "id": "ac7b759c-1246-46ef-8911-788df01594fb",
   "metadata": {},
   "source": [
    "* **재할당(reassignment)**\n",
    "\n",
    "    - 이미 존재하는 변수에 새로운 값을 주는 할당\n",
    "```\n",
    "```\n",
    "* **갱신(update)**\n",
    "\n",
    "    - 변수에 이전 값을 토대로 한 새로운 값을 주는 할당\n",
    "```\n",
    "```\n",
    "* **초기화(initialization)**\n",
    "\n",
    "    - 나중에 갱신할 수 있도록 변수에 초깃값을 주는 할당\n",
    "```\n",
    "```\n",
    "* **증가(increment)**\n",
    "\n",
    "    - 변수의 값이 늘어나도록 하는 갱신(보통 1만큼)\n",
    "```\n",
    "```\n",
    "* **감소(decrement)**\n",
    "\n",
    "    - 변수의 값이 줄어들도록 하는 갱신\n",
    "```\n",
    "```\n",
    "* **반복(iteration)**\n",
    "\n",
    "    - 재귀 함수 호출이나 루프를 통해 어떤 문장의 집합을 되풀이해서 실행하는 것\n",
    "```\n",
    "```\n",
    "* **while 문**\n",
    "\n",
    "    - 어떤 조건에 의해 조절되는 반복을 만드는 명령문\n",
    "```\n",
    "```\n",
    "* **무한루프(Infinite loop)**\n",
    "\n",
    "    - 종료 조건이 절대 성립하지 않는 루프\n",
    "```\n",
    "```\n",
    "* **break 문**\n",
    "\n",
    "    - 즉시 루프 바깥으로 나갈 수 있게 하는 명령문\n",
    "```\n",
    "```\n",
    "* **continue 문**\n",
    "\n",
    "    - 루프의 처음으로 돌아가 다음 회차 반복을 실행하도록 하는 루프 내부의 명령문\n",
    "```\n",
    "```\n",
    "* **알고리즘(algorithm)**\n",
    "\n",
    "    - 어떤 종류의 문제를 풀기 위한 보편적인 절차"
   ]
  },
  {
   "cell_type": "markdown",
   "id": "a1e39a1c-e381-4ef6-aab2-7389ac2a9bf7",
   "metadata": {},
   "source": [
    "### 연습문제"
   ]
  },
  {
   "cell_type": "markdown",
   "id": "74d847d6-67ef-44c0-88ff-9cfadec535e2",
   "metadata": {},
   "source": [
    "**연습 7-4) 스리니바사 라마누잔 문제**\n",
    "\n",
    "$1 \\over \\pi$ 의 근사값을 생성하는 무한 급수 구현\n",
    "\n",
    "* 무한 급수 : $ {1 \\over \\pi} = {2 \\sqrt 2} / 9801 \\displaystyle\\sum_{k=0}^{\\infty} {{(4k)!(1103 + 26390k)} \\over {{(k!)^4}{396^4k}}} $\n",
    "\n",
    "    * 수열의 마지막 항이 1e-15보다 작아질 때까지 루프를 돌며 수열의 합을 계산"
   ]
  },
  {
   "cell_type": "code",
   "execution_count": 96,
   "id": "c872032b-7595-460b-887b-dc78a434b0ba",
   "metadata": {},
   "outputs": [
    {
     "data": {
      "text/plain": [
       "estimatpi (generic function with 1 method)"
      ]
     },
     "execution_count": 96,
     "metadata": {},
     "output_type": "execute_result"
    }
   ],
   "source": [
    "function estimatpi()\n",
    "    k = 0 \n",
    "    term = 0\n",
    "    sum = 0\n",
    "    \n",
    "    while true\n",
    "        term = factorial(4*k)*(1103 + 26390*k)/((factorial(k))^4*396^(4*k))\n",
    "        sum = sum + term\n",
    "        if term < 1e-15 \n",
    "            break\n",
    "        end\n",
    "        k = k + 1\n",
    "    end\n",
    "    \n",
    "    result = (2*sqrt(2)/9801 * sum)\n",
    "    \n",
    "    println(\"Estimation result: \", result)\n",
    "    return result\n",
    "        \n",
    "end        "
   ]
  },
  {
   "cell_type": "code",
   "execution_count": 94,
   "id": "9df04313-263e-4a8b-9ae4-4a9458c18c8d",
   "metadata": {},
   "outputs": [
    {
     "name": "stdout",
     "output_type": "stream",
     "text": [
      "Estimation result: 0.3183098861837199\n"
     ]
    },
    {
     "data": {
      "text/plain": [
       "0.3183098861837199"
      ]
     },
     "execution_count": 94,
     "metadata": {},
     "output_type": "execute_result"
    }
   ],
   "source": [
    "estimatpi()"
   ]
  },
  {
   "cell_type": "code",
   "execution_count": 95,
   "id": "345b3b03-8c26-46cc-aba5-464c21074af6",
   "metadata": {},
   "outputs": [
    {
     "data": {
      "text/plain": [
       "0.3183098861837907"
      ]
     },
     "execution_count": 95,
     "metadata": {},
     "output_type": "execute_result"
    }
   ],
   "source": [
    "1/π"
   ]
  },
  {
   "cell_type": "markdown",
   "id": "a7d0cab9-c7a6-4f20-a98a-f1ef8f5e7dd6",
   "metadata": {},
   "source": [
    "* 계산한 값을 줄리아에 내장된 상수인 π와 비교"
   ]
  },
  {
   "cell_type": "code",
   "execution_count": 97,
   "id": "66cd3b6b-c179-49b0-b5bc-bce00cf9bf45",
   "metadata": {},
   "outputs": [
    {
     "name": "stdout",
     "output_type": "stream",
     "text": [
      "Estimation result: 0.3183098861837199\n"
     ]
    },
    {
     "data": {
      "text/plain": [
       "-7.077671781985373e-14"
      ]
     },
     "execution_count": 97,
     "metadata": {},
     "output_type": "execute_result"
    }
   ],
   "source": [
    "estimatpi() - 1/π"
   ]
  },
  {
   "cell_type": "code",
   "execution_count": 98,
   "id": "fd2040f2-28cb-4faa-9a65-e9571e8f4e9c",
   "metadata": {},
   "outputs": [
    {
     "name": "stdout",
     "output_type": "stream",
     "text": [
      "Estimation result: 0.3183098861837199\n"
     ]
    },
    {
     "data": {
      "text/plain": [
       "-6.985523270941485e-13"
      ]
     },
     "execution_count": 98,
     "metadata": {},
     "output_type": "execute_result"
    }
   ],
   "source": [
    "π - 1/estimatpi()"
   ]
  }
 ],
 "metadata": {
  "kernelspec": {
   "display_name": "Julia 1.8.0",
   "language": "julia",
   "name": "julia-1.8"
  },
  "language_info": {
   "file_extension": ".jl",
   "mimetype": "application/julia",
   "name": "julia",
   "version": "1.8.0"
  }
 },
 "nbformat": 4,
 "nbformat_minor": 5
}
