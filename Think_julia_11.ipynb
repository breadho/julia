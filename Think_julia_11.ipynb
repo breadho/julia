{
 "cells": [
  {
   "cell_type": "markdown",
   "id": "478d3f09-e5e2-4d60-9bfb-32815cbb7f7c",
   "metadata": {},
   "source": [
    "# 줄리아를 생각하다(Think Julia)"
   ]
  },
  {
   "cell_type": "markdown",
   "id": "b45a77aa-8d3d-4d09-8bd0-09bf0e24c515",
   "metadata": {},
   "source": [
    "## Chapter 11. 딕셔너리"
   ]
  },
  {
   "cell_type": "markdown",
   "id": "4ff58101-690c-4bc8-858a-dcf64ff3c6fd",
   "metadata": {},
   "source": [
    "내장 자료형인 딕셔너리 확인"
   ]
  },
  {
   "cell_type": "markdown",
   "id": "fa272488-de08-4e72-8c93-77fa7a2d1be3",
   "metadata": {},
   "source": [
    "### 11.1 딕셔너리는 사상(A Dictionary Is a Mapping)"
   ]
  },
  {
   "cell_type": "markdown",
   "id": "13a33b5e-c20e-4ecc-8450-434620f44c96",
   "metadata": {},
   "source": [
    "* ```딕셔너리(dictionary)```는 배열과 비슷하지만 좀더 일반화된 것. 배열에서는 인덱스가 정수였는데, 딕셔너리에서는 거의 모든 자료형일 수 있음\n",
    "\n",
    "* 딕셔너리에서는 인덱스를 ```키(key)``` 라고 하며 ```값(value)```의 모음으로 이루어져 있음\n",
    "\n",
    "* 그렇게 짝지어진 키와 값을 ```키-값 쌍(key-value pair)``` 라고 하며, 어떨 때는 ```항목(item)``` 이라고도 함\n",
    "\n",
    "* 수학적으로 표현하면 딕셔너리는 키 집합을 값 집합으로 보내는 ```사상(mapping)```\n",
    "\n",
    "* 딕셔너리에서 키과 값의 자료형은 중괄호(brace)로 묶어 나타냄. (여기서 키와 값 모두 Any 타입임)\n",
    "\n",
    "* 비어 있는 딕셔너리의 값을 insert 하고자 한다면 대괄호(braket)를 이용할 수 있음"
   ]
  },
  {
   "cell_type": "code",
   "execution_count": 5,
   "id": "3c3a3d3e-935e-4f0e-9b7d-d9a1cca86e66",
   "metadata": {},
   "outputs": [
    {
     "data": {
      "text/plain": [
       "Dict{Any, Any}()"
      ]
     },
     "execution_count": 5,
     "metadata": {},
     "output_type": "execute_result"
    }
   ],
   "source": [
    "eng2sp = Dict()"
   ]
  },
  {
   "cell_type": "code",
   "execution_count": 6,
   "id": "e7bba8ce-e66d-416f-9fe4-c1336f7dab58",
   "metadata": {},
   "outputs": [
    {
     "data": {
      "text/plain": [
       "\"uno\""
      ]
     },
     "execution_count": 6,
     "metadata": {},
     "output_type": "execute_result"
    }
   ],
   "source": [
    "eng2sp[\"one\"] = \"uno\""
   ]
  },
  {
   "cell_type": "code",
   "execution_count": 7,
   "id": "9d6e9667-0948-49b6-ab24-7d87c93594a1",
   "metadata": {},
   "outputs": [
    {
     "data": {
      "text/plain": [
       "Dict{Any, Any} with 1 entry:\n",
       "  \"one\" => \"uno\""
      ]
     },
     "execution_count": 7,
     "metadata": {},
     "output_type": "execute_result"
    }
   ],
   "source": [
    "eng2sp"
   ]
  },
  {
   "cell_type": "code",
   "execution_count": 8,
   "id": "82fdd267-490a-4629-bb4a-dbb45bb2a3df",
   "metadata": {},
   "outputs": [
    {
     "data": {
      "text/plain": [
       "Dict{String, String} with 3 entries:\n",
       "  \"two\"   => \"dos\"\n",
       "  \"one\"   => \"uno\"\n",
       "  \"three\" => \"tres\""
      ]
     },
     "execution_count": 8,
     "metadata": {},
     "output_type": "execute_result"
    }
   ],
   "source": [
    "eng2sp = Dict(\"one\" => \"uno\", \"two\" => \"dos\", \"three\" => \"tres\")"
   ]
  },
  {
   "cell_type": "markdown",
   "id": "da42c6a7-ba9d-462e-a000-1d386d86c585",
   "metadata": {},
   "source": [
    "* 최초로 주어진 모든 키와 값이 문자열 형이므로 Dict{String, String}이 만들어짐\n",
    "\n",
    "* 딕셔너리에서 항목들의 순서는 예측할 수 없으. 다만 딕셔너리의 항목은 정수 인덱스를 참조하는 것이 아니므로 순서가 달라지는 것은 문제되지 않음\n",
    "\n",
    "* 대신 대응하는 값을 찾으려면 키를 사용해야 함"
   ]
  },
  {
   "cell_type": "code",
   "execution_count": 9,
   "id": "ecf5fe0b-9aca-458c-b7d0-c828529e0e43",
   "metadata": {},
   "outputs": [
    {
     "data": {
      "text/plain": [
       "\"dos\""
      ]
     },
     "execution_count": 9,
     "metadata": {},
     "output_type": "execute_result"
    }
   ],
   "source": [
    "eng2sp[\"two\"]"
   ]
  },
  {
   "cell_type": "code",
   "execution_count": 11,
   "id": "e5204d23-9f6b-42d1-b661-c17f047f1e29",
   "metadata": {},
   "outputs": [
    {
     "ename": "LoadError",
     "evalue": "KeyError: key \"four\" not found",
     "output_type": "error",
     "traceback": [
      "KeyError: key \"four\" not found",
      "",
      "Stacktrace:",
      " [1] getindex(h::Dict{String, String}, key::String)",
      "   @ Base .\\dict.jl:498",
      " [2] top-level scope",
      "   @ In[11]:3",
      " [3] eval",
      "   @ .\\boot.jl:368 [inlined]",
      " [4] include_string(mapexpr::typeof(REPL.softscope), mod::Module, code::String, filename::String)",
      "   @ Base .\\loading.jl:1428"
     ]
    }
   ],
   "source": [
    "# 딕셔너리에 없는 키 사용 시 발생하는 에러\n",
    "\n",
    "eng2sp[\"four\"]"
   ]
  },
  {
   "cell_type": "code",
   "execution_count": 12,
   "id": "892e5531-5314-48ed-8416-b54cef347c9e",
   "metadata": {},
   "outputs": [
    {
     "data": {
      "text/plain": [
       "3"
      ]
     },
     "execution_count": 12,
     "metadata": {},
     "output_type": "execute_result"
    }
   ],
   "source": [
    "length(eng2sp)"
   ]
  },
  {
   "cell_type": "markdown",
   "id": "a47fe5eb-7e3d-46d3-b368-f67cc47f23ff",
   "metadata": {},
   "source": [
    "* keys 함수는 딕셔너리의 키 집합을 반환함\n",
    "\n",
    "* 키 집합이 있으니 ∈ 연산자를 이용해 딕셔너리에 어떤 키가 있는지 없는지도 확인 가능\n",
    "\n",
    "* values 함수는 딕셔너리의 값 집합을 반환함\n",
    "\n",
    "* ∈ 연산자를 이용 값의 포함 여부 확인 가능"
   ]
  },
  {
   "cell_type": "code",
   "execution_count": 15,
   "id": "dde24210-1bab-4935-8c10-53b517f3113a",
   "metadata": {},
   "outputs": [
    {
     "name": "stdout",
     "output_type": "stream",
     "text": [
      "[\"two\", \"one\", \"three\"]\n"
     ]
    }
   ],
   "source": [
    "ks = keys(eng2sp);\n",
    "println(ks)"
   ]
  },
  {
   "cell_type": "code",
   "execution_count": 16,
   "id": "70b55eda-c4d7-4199-84f7-e947b3ff314a",
   "metadata": {},
   "outputs": [
    {
     "data": {
      "text/plain": [
       "true"
      ]
     },
     "execution_count": 16,
     "metadata": {},
     "output_type": "execute_result"
    }
   ],
   "source": [
    "\"one\" ∈ ks"
   ]
  },
  {
   "cell_type": "code",
   "execution_count": 17,
   "id": "2ce059be-7b94-4a3e-bf29-bda19e238236",
   "metadata": {},
   "outputs": [
    {
     "data": {
      "text/plain": [
       "false"
      ]
     },
     "execution_count": 17,
     "metadata": {},
     "output_type": "execute_result"
    }
   ],
   "source": [
    "\"uno\" ∈ ks"
   ]
  },
  {
   "cell_type": "code",
   "execution_count": 18,
   "id": "b6da0634-9e5a-4369-b860-5f6fbc481c79",
   "metadata": {},
   "outputs": [
    {
     "data": {
      "text/plain": [
       "true"
      ]
     },
     "execution_count": 18,
     "metadata": {},
     "output_type": "execute_result"
    }
   ],
   "source": [
    "vs = values(eng2sp);\n",
    "\n",
    "\"uno\" ∈ vs"
   ]
  },
  {
   "cell_type": "markdown",
   "id": "dea4d074-ed9b-4767-8486-775e5f9c98d8",
   "metadata": {},
   "source": [
    "* ∈ 연산자는 배열과 딕셔너리에서 다른 알고리즘을 사용함\n",
    "\n",
    "    * 배열에서는 순차적 검색(원소 하나씩 탐색) -> 배열이 길어지면 시간도 비례해서 길어짐\n",
    "    \n",
    "    * 딕셔너리에서는 해시 테이블(Hash table) 알고리즘 사용 -> 검색 시간 일정"
   ]
  },
  {
   "cell_type": "markdown",
   "id": "f76ae02a-7e34-4190-8262-2bedbd743330",
   "metadata": {},
   "source": [
    "### 11.2 딕셔너리 활용: 계수기 모음"
   ]
  },
  {
   "cell_type": "markdown",
   "id": "255add77-3010-4ffd-80ea-38f51464f197",
   "metadata": {},
   "source": [
    "**예제 1)** 히스토그램 함수 작성"
   ]
  },
  {
   "cell_type": "code",
   "execution_count": 19,
   "id": "69c619fb-2e9b-404b-b6b0-b2f8503256b0",
   "metadata": {},
   "outputs": [
    {
     "data": {
      "text/plain": [
       "histogram (generic function with 1 method)"
      ]
     },
     "execution_count": 19,
     "metadata": {},
     "output_type": "execute_result"
    }
   ],
   "source": [
    "function histogram(s)\n",
    "    d = Dict()\n",
    "    for c in s\n",
    "        if c ∉ keys(d)\n",
    "            d[c] = 1\n",
    "        else\n",
    "            d[c] += 1\n",
    "        end\n",
    "    end\n",
    "    d\n",
    "end"
   ]
  },
  {
   "cell_type": "code",
   "execution_count": 20,
   "id": "4fe00e55-b67b-4834-9fd7-4fb1ccbe115b",
   "metadata": {},
   "outputs": [
    {
     "data": {
      "text/plain": [
       "Dict{Any, Any} with 8 entries:\n",
       "  'n' => 1\n",
       "  's' => 2\n",
       "  'a' => 1\n",
       "  'r' => 2\n",
       "  't' => 1\n",
       "  'o' => 2\n",
       "  'u' => 2\n",
       "  'b' => 1"
      ]
     },
     "execution_count": 20,
     "metadata": {},
     "output_type": "execute_result"
    }
   ],
   "source": [
    "h = histogram(\"brontosaurus\")"
   ]
  },
  {
   "cell_type": "markdown",
   "id": "1e6e1d48-cbce-485a-9baa-82b539e8a220",
   "metadata": {},
   "source": [
    "* 딕셔너리에는 어떤 키와 기본값을 받는 함수 get이 있음\n",
    "\n",
    "* 키가 딕셔너리에 있다면 해당 값을 반환하고, 딕셔너리에 없다면 기본값을 반환함"
   ]
  },
  {
   "cell_type": "code",
   "execution_count": 30,
   "id": "6e8bd858-113c-4b37-bcb9-829bada3c1ea",
   "metadata": {},
   "outputs": [
    {
     "data": {
      "text/plain": [
       "Dict{Any, Any} with 1 entry:\n",
       "  'a' => 1"
      ]
     },
     "execution_count": 30,
     "metadata": {},
     "output_type": "execute_result"
    }
   ],
   "source": [
    "h = histogram(\"a\")"
   ]
  },
  {
   "cell_type": "code",
   "execution_count": 31,
   "id": "33316bf3-bc9d-4d37-a48b-ebb7785d8221",
   "metadata": {},
   "outputs": [
    {
     "data": {
      "text/plain": [
       "1"
      ]
     },
     "execution_count": 31,
     "metadata": {},
     "output_type": "execute_result"
    }
   ],
   "source": [
    "get(h, 'a', 0)"
   ]
  },
  {
   "cell_type": "code",
   "execution_count": 32,
   "id": "8ee8bacd-2b6c-4aab-8038-c85ea693b9a1",
   "metadata": {},
   "outputs": [
    {
     "data": {
      "text/plain": [
       "0"
      ]
     },
     "execution_count": 32,
     "metadata": {},
     "output_type": "execute_result"
    }
   ],
   "source": [
    "get(h, 'b', 0)"
   ]
  },
  {
   "cell_type": "markdown",
   "id": "ab9a29e5-2a2e-4fe8-8c58-49b704fe861c",
   "metadata": {},
   "source": [
    "### 11.3 루프와 딕셔너리"
   ]
  },
  {
   "cell_type": "markdown",
   "id": "bcbec336-03d6-4767-95ce-badb91ec61b7",
   "metadata": {},
   "source": [
    "for 문을 이용해 딕셔너리의 키 집합을 순회할 수 있음"
   ]
  },
  {
   "cell_type": "code",
   "execution_count": 33,
   "id": "60c129b4-114a-4f79-a225-201c491059ed",
   "metadata": {},
   "outputs": [
    {
     "data": {
      "text/plain": [
       "printhist (generic function with 1 method)"
      ]
     },
     "execution_count": 33,
     "metadata": {},
     "output_type": "execute_result"
    }
   ],
   "source": [
    "function printhist(h)\n",
    "    for c in keys(h)\n",
    "        println(c, \" \", h[c])\n",
    "    end\n",
    "end"
   ]
  },
  {
   "cell_type": "code",
   "execution_count": 34,
   "id": "da82e385-e4a3-4e59-b183-763620b32eac",
   "metadata": {},
   "outputs": [
    {
     "data": {
      "text/plain": [
       "Dict{Any, Any} with 5 entries:\n",
       "  'a' => 1\n",
       "  'r' => 2\n",
       "  'p' => 1\n",
       "  'o' => 1\n",
       "  't' => 1"
      ]
     },
     "execution_count": 34,
     "metadata": {},
     "output_type": "execute_result"
    }
   ],
   "source": [
    "h = histogram(\"parrot\")"
   ]
  },
  {
   "cell_type": "code",
   "execution_count": 35,
   "id": "469a34fd-e3d5-4063-a947-c640ad3eceb2",
   "metadata": {},
   "outputs": [
    {
     "name": "stdout",
     "output_type": "stream",
     "text": [
      "a 1\n",
      "r 2\n",
      "p 1\n",
      "o 1\n",
      "t 1\n"
     ]
    }
   ],
   "source": [
    "printhist(h)"
   ]
  },
  {
   "cell_type": "markdown",
   "id": "72ff9e77-bebb-4a90-91bd-ebe5e5c40fe2",
   "metadata": {},
   "source": [
    "키를 정렬하고 싶다면, sort와 collect 함수를 조합함"
   ]
  },
  {
   "cell_type": "code",
   "execution_count": 37,
   "id": "f24c7297-60cb-471d-879e-91592fc6aff4",
   "metadata": {},
   "outputs": [
    {
     "data": {
      "text/plain": [
       "5-element Vector{Any}:\n",
       " 'a': ASCII/Unicode U+0061 (category Ll: Letter, lowercase)\n",
       " 'o': ASCII/Unicode U+006F (category Ll: Letter, lowercase)\n",
       " 'p': ASCII/Unicode U+0070 (category Ll: Letter, lowercase)\n",
       " 'r': ASCII/Unicode U+0072 (category Ll: Letter, lowercase)\n",
       " 't': ASCII/Unicode U+0074 (category Ll: Letter, lowercase)"
      ]
     },
     "execution_count": 37,
     "metadata": {},
     "output_type": "execute_result"
    }
   ],
   "source": [
    "sort(collect(keys(h)))"
   ]
  },
  {
   "cell_type": "code",
   "execution_count": 38,
   "id": "3df39519-cfaa-4131-ae18-04c90d23bd0b",
   "metadata": {},
   "outputs": [
    {
     "name": "stdout",
     "output_type": "stream",
     "text": [
      "a 1\n",
      "o 1\n",
      "p 1\n",
      "r 2\n",
      "t 1\n"
     ]
    }
   ],
   "source": [
    "for c in sort(collect(keys(h)))\n",
    "    println(c, \" \", h[c])\n",
    "end"
   ]
  },
  {
   "cell_type": "markdown",
   "id": "0aee1734-f309-4d06-adb1-69314a62f22c",
   "metadata": {},
   "source": [
    "### 11.4 역조회 (Reverse lookup)\n",
    "\n",
    "* 딕셔너리 d와 키 k가 있을 때, 키에 대응하는 값 v = d[k]를 찾는 것은 쉬움 => **조회**(lookup)\n",
    "\n",
    "\n",
    "* 하지만 값 v가 있을 때, 해당하는 키 k를 찾는 것은 어려운 문제임\n",
    "\n",
    "    - 값 v에 대응하는 키가 두 개 이상일 수 있음. 원하는 바에 따라서 하나를 고르거나, 모든 키를 포함하는 배열을 생성  \n",
    "    \n",
    "    - 역조회(reverse lookup)를 하는 간단한 구문 규칙이 존재하지 않음  \n",
    "    \n",
    "    \n",
    "* **(Caution)** 역조회는 조회보다 매우 느림. 역조회를 자주 하거나 딕셔너리가 크면 프로그램 성능에 심각한 영향을 줌"
   ]
  },
  {
   "cell_type": "markdown",
   "id": "f24c55e8-9f4c-4f9a-aa0e-1ceab683e09b",
   "metadata": {},
   "source": [
    "**예시 1)** 어떤 값을 받아서 그 값에 대응하는 첫 번째 키를 반환하는 함수"
   ]
  },
  {
   "cell_type": "code",
   "execution_count": 39,
   "id": "0c4f37d6-f279-4d4b-b37e-828bb6e84861",
   "metadata": {},
   "outputs": [
    {
     "data": {
      "text/plain": [
       "reverselookup (generic function with 1 method)"
      ]
     },
     "execution_count": 39,
     "metadata": {},
     "output_type": "execute_result"
    }
   ],
   "source": [
    "function reverselookup(d, v)\n",
    "    for k in keys(d)\n",
    "        if d[k] == v\n",
    "            return k\n",
    "        end\n",
    "    end\n",
    "    error(\"LookupError\")\n",
    "end"
   ]
  },
  {
   "cell_type": "code",
   "execution_count": 40,
   "id": "0ea2c05a-3b47-4898-a462-32f234b5c3bb",
   "metadata": {},
   "outputs": [
    {
     "data": {
      "text/plain": [
       "'r': ASCII/Unicode U+0072 (category Ll: Letter, lowercase)"
      ]
     },
     "execution_count": 40,
     "metadata": {},
     "output_type": "execute_result"
    }
   ],
   "source": [
    "h = histogram(\"parrot\");\n",
    "\n",
    "key = reverselookup(h, 2)"
   ]
  },
  {
   "cell_type": "code",
   "execution_count": 41,
   "id": "f8c8f1f6-a2d0-4767-a27f-f32419303425",
   "metadata": {},
   "outputs": [
    {
     "ename": "LoadError",
     "evalue": "LookupError",
     "output_type": "error",
     "traceback": [
      "LookupError",
      "",
      "Stacktrace:",
      " [1] error(s::String)",
      "   @ Base .\\error.jl:35",
      " [2] reverselookup(d::Dict{Any, Any}, v::Int64)",
      "   @ Main .\\In[39]:7",
      " [3] top-level scope",
      "   @ In[41]:1",
      " [4] eval",
      "   @ .\\boot.jl:368 [inlined]",
      " [5] include_string(mapexpr::typeof(REPL.softscope), mod::Module, code::String, filename::String)",
      "   @ Base .\\loading.jl:1428"
     ]
    }
   ],
   "source": [
    "key = reverselookup(h, 3)"
   ]
  },
  {
   "cell_type": "markdown",
   "id": "6964e5b1-ef90-44b5-bd11-8002ea5f923f",
   "metadata": {},
   "source": [
    "* 사용자가 작성한 예외는 줄리아가 예외를 출력하는 것과 동일한 작용을 함.\n",
    "\n",
    "    - 스택트레이스와 오류 메시지를 출력함\n",
    "\n",
    "\n",
    "* error 함수 : 일반적인 제어 흐름을 중단시키는 예외 ErrorException을 일으킴 \n",
    "\n",
    "    - 작성된 함수에서는 키가 존재하지 않다는 것을 나타내기 위해 \"LookupError\"라는 메시지를 표시함"
   ]
  },
  {
   "cell_type": "code",
   "execution_count": 45,
   "id": "a197b208-39dc-4969-9e84-3d0016babdc4",
   "metadata": {},
   "outputs": [
    {
     "data": {
      "text/plain": [
       "1-element Vector{Char}:\n",
       " 'r': ASCII/Unicode U+0072 (category Ll: Letter, lowercase)"
      ]
     },
     "execution_count": 45,
     "metadata": {},
     "output_type": "execute_result"
    }
   ],
   "source": [
    "# 줄리아에서 역조회를 위한 최적화된 방법\n",
    "\n",
    "findall(isequal(2), h)"
   ]
  },
  {
   "cell_type": "markdown",
   "id": "41fe4b50-ff66-4b0f-99b1-a39ea456a61b",
   "metadata": {},
   "source": [
    "### 11.5 딕셔너리와 배열"
   ]
  },
  {
   "cell_type": "markdown",
   "id": "36e21ae4-5934-409c-b398-d5f6a59dd4a2",
   "metadata": {},
   "source": [
    "문자에 대한 빈도 값을 가진 딕셔너리 => 빈도에 대한 문자 값을 가진 딕셔너리 함수 작성\n",
    "\n",
    "* 같은 빈도를 가진 문자가 여럿일 수 있으므로, 뒤집힌 딕셔너리의 값들은 문자의 배열이어야 함"
   ]
  },
  {
   "cell_type": "code",
   "execution_count": 46,
   "id": "531f90d7-b071-43f9-b6bf-e1836573eacb",
   "metadata": {},
   "outputs": [
    {
     "data": {
      "text/plain": [
       "invertdict (generic function with 1 method)"
      ]
     },
     "execution_count": 46,
     "metadata": {},
     "output_type": "execute_result"
    }
   ],
   "source": [
    "function invertdict(d)\n",
    "    inverse = Dict()\n",
    "    for key in keys(d)\n",
    "        val = d[key]\n",
    "        if val ∉ keys(inverse)\n",
    "            inverse[val] = [key]\n",
    "        else\n",
    "            push!(inverse[val], key)\n",
    "        end\n",
    "    end\n",
    "    inverse\n",
    "end"
   ]
  },
  {
   "cell_type": "code",
   "execution_count": 47,
   "id": "eb5124f9-736e-48b3-94ee-2c160fdaf181",
   "metadata": {},
   "outputs": [
    {
     "data": {
      "text/plain": [
       "Dict{Any, Any} with 5 entries:\n",
       "  'a' => 1\n",
       "  'r' => 2\n",
       "  'p' => 1\n",
       "  'o' => 1\n",
       "  't' => 1"
      ]
     },
     "execution_count": 47,
     "metadata": {},
     "output_type": "execute_result"
    }
   ],
   "source": [
    "hist = histogram(\"parrot\")"
   ]
  },
  {
   "cell_type": "code",
   "execution_count": 48,
   "id": "72965d69-14d3-4bad-82ed-9b49a431a093",
   "metadata": {},
   "outputs": [
    {
     "data": {
      "text/plain": [
       "Dict{Any, Any} with 2 entries:\n",
       "  2 => ['r']\n",
       "  1 => ['a', 'p', 'o', 't']"
      ]
     },
     "execution_count": 48,
     "metadata": {},
     "output_type": "execute_result"
    }
   ],
   "source": [
    "inverse = invertdict(hist)"
   ]
  },
  {
   "cell_type": "markdown",
   "id": "31dcc824-ef91-46ce-b89b-5db55f9ca610",
   "metadata": {},
   "source": [
    "### 11.6 메모"
   ]
  },
  {
   "cell_type": "markdown",
   "id": "2c59e979-84e3-4fec-b657-ecdd81cfa5b5",
   "metadata": {},
   "source": [
    "* 한번 계산한 값을 딕셔너리에 저장해두고 다시 사용 => 저장해놓은 기존 계산값을 **메모(memo)** 라고 함\n",
    "\n",
    "* 이렇게 메모를 활용하는 프로그래밍 기법을 메모이제이션(메모 기법, memoization)이라고 함\n",
    "\n",
    "**예제1)** 피보나치 수열 함수를 메모이제이션으로 구현"
   ]
  },
  {
   "cell_type": "code",
   "execution_count": 49,
   "id": "a2e224a7-4a5d-4547-bec0-8e569b17dd40",
   "metadata": {},
   "outputs": [
    {
     "data": {
      "text/plain": [
       "fibonacci (generic function with 1 method)"
      ]
     },
     "execution_count": 49,
     "metadata": {},
     "output_type": "execute_result"
    }
   ],
   "source": [
    "known = Dict(0 => 0, 1 => 1) # 메모장 역할을 하는 변수 known 생성\n",
    "\n",
    "function fibonacci(n)\n",
    "    if n ∈keys(known)\n",
    "        return known[n]\n",
    "    end\n",
    "    res = fibonacci(n-1) + fibonacci(n-2)\n",
    "    known[n] = res # 새로운 값은 메모장에 기록\n",
    "    res\n",
    "end"
   ]
  },
  {
   "cell_type": "code",
   "execution_count": 52,
   "id": "1678d4cc-d9d2-41d1-80c1-fe6b3f829833",
   "metadata": {},
   "outputs": [
    {
     "name": "stdout",
     "output_type": "stream",
     "text": [
      "  0.000018 seconds (124 allocations: 6.469 KiB)\n"
     ]
    },
    {
     "data": {
      "text/plain": [
       "1134903170"
      ]
     },
     "execution_count": 52,
     "metadata": {},
     "output_type": "execute_result"
    }
   ],
   "source": [
    "using BenchmarkTools\n",
    "\n",
    "@time fibonacci(45)"
   ]
  },
  {
   "cell_type": "markdown",
   "id": "55f545f2-6b3f-4a86-9ebb-513bb87ccd6d",
   "metadata": {},
   "source": [
    "6.7절의 피보나치 수열에서는 45의 피보나치 수열 값을 구하기 위해 약 6초 정도를 사용함"
   ]
  },
  {
   "cell_type": "code",
   "execution_count": 54,
   "id": "a46027f3-20f9-4e1f-a8c4-b94f2591b0c3",
   "metadata": {},
   "outputs": [
    {
     "data": {
      "text/plain": [
       "331868.8888888889"
      ]
     },
     "execution_count": 54,
     "metadata": {},
     "output_type": "execute_result"
    }
   ],
   "source": [
    "5.973640/0.000018 # 약 33만배 빨라짐"
   ]
  },
  {
   "cell_type": "code",
   "execution_count": 58,
   "id": "a599435b-378d-49e3-98bd-7b96b662362f",
   "metadata": {},
   "outputs": [
    {
     "name": "stdout",
     "output_type": "stream",
     "text": [
      "  0.000005 seconds (2 allocations: 32 bytes)\n"
     ]
    },
    {
     "data": {
      "text/plain": [
       "12586269025"
      ]
     },
     "execution_count": 58,
     "metadata": {},
     "output_type": "execute_result"
    }
   ],
   "source": [
    "@time fibonacci(50) # 6.7 절에서 소요된 시간은 63.476279 seconds 임"
   ]
  },
  {
   "cell_type": "code",
   "execution_count": 57,
   "id": "519e823c-6e77-47bb-8999-0ed2df7b6cee",
   "metadata": {},
   "outputs": [
    {
     "data": {
      "text/plain": [
       "4.231751933333333e6"
      ]
     },
     "execution_count": 57,
     "metadata": {},
     "output_type": "execute_result"
    }
   ],
   "source": [
    "63.476279/0.000015 # 약 42만배 빨라짐"
   ]
  },
  {
   "cell_type": "markdown",
   "id": "da1553cf-ecb6-43a2-a11d-f43e0bb4e0d2",
   "metadata": {},
   "source": [
    "### 11.7 전역 변수"
   ]
  },
  {
   "cell_type": "markdown",
   "id": "a00d566e-1770-4149-b7a8-1c643cad6aba",
   "metadata": {},
   "source": [
    "* Main에 있는 변수 -> **전역 변수(global variable)**\n",
    "\n",
    "* 전역 변수는 **플래그(flag) 용도로 자주 사용**됨(어떤 조건이 참인지 여부를 나타내는 불리언 변수)\n"
   ]
  },
  {
   "cell_type": "markdown",
   "id": "c7f71c71-12e8-4729-9446-08047f22afad",
   "metadata": {},
   "source": [
    "---\n",
    "\n",
    "**예제1)** verbose라는 플래그를 이용해 상세한 출력을 할지 말지 결정하는 함수"
   ]
  },
  {
   "cell_type": "code",
   "execution_count": 59,
   "id": "4319aaa3-c272-4263-8aa6-74612b2c21a6",
   "metadata": {},
   "outputs": [
    {
     "data": {
      "text/plain": [
       "example1 (generic function with 1 method)"
      ]
     },
     "execution_count": 59,
     "metadata": {},
     "output_type": "execute_result"
    }
   ],
   "source": [
    "verbose = true\n",
    "\n",
    "function example1()\n",
    "    if verbose\n",
    "        println(\"Running Example\")\n",
    "    end\n",
    "end"
   ]
  },
  {
   "cell_type": "code",
   "execution_count": 60,
   "id": "953e61b9-de61-425d-bb4f-03e93aa323a1",
   "metadata": {},
   "outputs": [
    {
     "name": "stdout",
     "output_type": "stream",
     "text": [
      "Running Example\n"
     ]
    }
   ],
   "source": [
    "example1()"
   ]
  },
  {
   "cell_type": "markdown",
   "id": "f6bc09a9-943f-40f8-a44d-a2d8ee565cc2",
   "metadata": {},
   "source": [
    "전역 변수에 해당하는 ```verbose```를 재할당 하려다 보면 착오가 발생 \n",
    "-> 함수 내 **전역 변수**로 **선언(declare)** 하여 재할당\n",
    "\n",
    "---\n",
    "**예제2)** 함수 내 전역 변수 선언 예시"
   ]
  },
  {
   "cell_type": "code",
   "execution_count": 65,
   "id": "f4279b28-a19c-4830-8bc0-faaa506eb046",
   "metadata": {},
   "outputs": [
    {
     "name": "stdout",
     "output_type": "stream",
     "text": [
      "Before: false\n",
      "After: true\n"
     ]
    }
   ],
   "source": [
    "been_called = false\n",
    "\n",
    "println(\"Before: \",been_called)\n",
    "\n",
    "function example2()\n",
    "    global been_called\n",
    "    been_called = true\n",
    "end\n",
    "\n",
    "example2()\n",
    "\n",
    "println(\"After: \", been_called)"
   ]
  },
  {
   "cell_type": "code",
   "execution_count": 67,
   "id": "3928cd39-b21c-49a8-8d71-e8e3e634e41c",
   "metadata": {},
   "outputs": [
    {
     "name": "stdout",
     "output_type": "stream",
     "text": [
      "Before: false\n",
      "After: false\n"
     ]
    }
   ],
   "source": [
    "# 전역 변수 선언을 하지 않은 잘못된 예 \n",
    "\n",
    "been_called = false\n",
    "\n",
    "println(\"Before: \",been_called)\n",
    "\n",
    "function example3()\n",
    "    been_called = true\n",
    "end\n",
    "\n",
    "example3()\n",
    "\n",
    "# 함수를 적용하였지만 그대로 false인 상태인 것을 확인할 수 있음\n",
    "println(\"After: \", been_called) "
   ]
  },
  {
   "cell_type": "markdown",
   "id": "f040b318-9ea2-47c5-b239-a22135bc210f",
   "metadata": {},
   "source": [
    "---\n",
    "**예제3)** 전역 변수 갱신 예시"
   ]
  },
  {
   "cell_type": "code",
   "execution_count": 68,
   "id": "c76399a1-590f-4ff5-b0db-1642f656b014",
   "metadata": {},
   "outputs": [
    {
     "name": "stdout",
     "output_type": "stream",
     "text": [
      "Before: 0\n",
      "After: 1\n"
     ]
    }
   ],
   "source": [
    "counter = 0\n",
    "\n",
    "println(\"Before: \",counter)\n",
    "\n",
    "\n",
    "function example4()\n",
    "    global counter\n",
    "    counter = counter + 1\n",
    "end\n",
    "\n",
    "example4()\n",
    "\n",
    "println(\"After: \", counter) "
   ]
  },
  {
   "cell_type": "code",
   "execution_count": 70,
   "id": "7e2e452e-a854-49ca-aecd-1529bbec7ff0",
   "metadata": {},
   "outputs": [
    {
     "name": "stdout",
     "output_type": "stream",
     "text": [
      "Before: 0\n"
     ]
    },
    {
     "ename": "LoadError",
     "evalue": "UndefVarError: counter not defined",
     "output_type": "error",
     "traceback": [
      "UndefVarError: counter not defined",
      "",
      "Stacktrace:",
      " [1] example5()",
      "   @ Main .\\In[70]:10",
      " [2] top-level scope",
      "   @ In[70]:13",
      " [3] eval",
      "   @ .\\boot.jl:368 [inlined]",
      " [4] include_string(mapexpr::typeof(REPL.softscope), mod::Module, code::String, filename::String)",
      "   @ Base .\\loading.jl:1428"
     ]
    }
   ],
   "source": [
    "# 전역 변수 선언을 하지 않은 잘못된 예 \n",
    "\n",
    "counter = 0\n",
    "\n",
    "println(\"Before: \", counter)\n",
    "\n",
    "\n",
    "function example5()\n",
    "    # global counter\n",
    "    counter = counter + 1\n",
    "end\n",
    "\n",
    "example5()\n",
    "\n",
    "# 함수를 적용하였지만 그대로 false인 상태인 것을 확인할 수 있음\n",
    "println(\"After: \", counter) "
   ]
  },
  {
   "cell_type": "markdown",
   "id": "10664dcf-1179-41fa-b1fe-8992a86c8e04",
   "metadata": {},
   "source": [
    "---\n",
    "\n",
    "**예제4)** 전역 변수가 가변 값을 가리킨다면, 전역이라고 선언하지 않고도 그 값을 수정할 수 있는 예"
   ]
  },
  {
   "cell_type": "code",
   "execution_count": 78,
   "id": "1771da3f-1bc8-47e9-95a0-71c566c91c00",
   "metadata": {},
   "outputs": [
    {
     "data": {
      "text/plain": [
       "example6 (generic function with 1 method)"
      ]
     },
     "execution_count": 78,
     "metadata": {},
     "output_type": "execute_result"
    }
   ],
   "source": [
    "known = Dict(0 => 0, 1 => 1)\n",
    "\n",
    "function example6()\n",
    "    known[2] = 1\n",
    "end"
   ]
  },
  {
   "cell_type": "code",
   "execution_count": 80,
   "id": "74ef6557-493a-4b59-90bf-f65d0130bbcd",
   "metadata": {},
   "outputs": [
    {
     "name": "stdout",
     "output_type": "stream",
     "text": [
      "Dict(0 => 0, 2 => 1, 1 => 1)\n"
     ]
    }
   ],
   "source": [
    "example6()\n",
    "\n",
    "println(known)"
   ]
  },
  {
   "cell_type": "markdown",
   "id": "6f412c74-38f7-4830-8c6a-6fdc601b1ce9",
   "metadata": {},
   "source": [
    "* 전역 변수인 배열이나 딕셔너리는 특별한 선언 없이 원소를 추가, 삭제, 교체할 수 있다."
   ]
  },
  {
   "cell_type": "code",
   "execution_count": 81,
   "id": "39ec3e64-8839-4d23-8e92-be62fd0166b4",
   "metadata": {},
   "outputs": [
    {
     "data": {
      "text/plain": [
       "example7 (generic function with 1 method)"
      ]
     },
     "execution_count": 81,
     "metadata": {},
     "output_type": "execute_result"
    }
   ],
   "source": [
    "known = Dict(0 => 0, 1 => 1)\n",
    "\n",
    "function example7()\n",
    "    global known\n",
    "    known = Dict()\n",
    "end"
   ]
  },
  {
   "cell_type": "code",
   "execution_count": 83,
   "id": "708c47c1-fa8c-4ab4-a27a-237383f06ca2",
   "metadata": {},
   "outputs": [
    {
     "name": "stdout",
     "output_type": "stream",
     "text": [
      "Dict{Any, Any}()\n"
     ]
    }
   ],
   "source": [
    "example7()\n",
    "\n",
    "println(known)"
   ]
  },
  {
   "cell_type": "markdown",
   "id": "f4b55c43-6b86-4f57-8a1c-05d559e07932",
   "metadata": {},
   "source": [
    "* 그렇지만 변수에 값을 재할당하려면 전역이라고 선언해야 함\n",
    "\n",
    "* 성능을 높이고자 한다면, 전역 변수는 **상수(constant)** 로 선언해야 함\n",
    "\n",
    "* 이 경우, 변수에 더 이상 재할당은 할 수 없지만 가변 값을 가리키는 경우 그 값을 수정할 수 있음"
   ]
  },
  {
   "cell_type": "code",
   "execution_count": 88,
   "id": "4e40f0d5-7b7e-4583-b520-d1d402d6e8db",
   "metadata": {},
   "outputs": [
    {
     "name": "stdout",
     "output_type": "stream",
     "text": [
      "Dict(0 => 0, 1 => 1)\n",
      "Dict(0 => 0, 2 => 1, 1 => 1)\n"
     ]
    }
   ],
   "source": [
    "const known3 = Dict(0 => 0, 1 => 1)\n",
    "\n",
    "println(known3)\n",
    "\n",
    "function example8()\n",
    "    known3[2] = 1\n",
    "end\n",
    "\n",
    "example8()\n",
    "\n",
    "println(known3)"
   ]
  },
  {
   "cell_type": "markdown",
   "id": "9eb079b3-ac47-4cab-ab1d-2892bc0ce3b4",
   "metadata": {},
   "source": [
    "### 11.8 디버깅"
   ]
  },
  {
   "cell_type": "markdown",
   "id": "19df7354-ae56-4161-b6e4-87e0f02fc98f",
   "metadata": {},
   "source": [
    "큰 자료에 대한 디버깅 전략 4가지 \n",
    "\n",
    "1. 입력의 축소 \n",
    "\n",
    "    * head() 등을 이용한 header 확인 \n",
    "```\n",
    "```\n",
    "2. 요약과 자료형 확인 \n",
    "\n",
    "    * describe, summary 등을 이용한 요약 통계 등 활용\n",
    "    \n",
    "    * 값의 자료형(type) 확인\n",
    "```\n",
    "```\n",
    "3. 자가 점검 코드 작성\n",
    "\n",
    "    * 타당성 검사(sanity check) 코드 작성\n",
    "    \n",
    "        - 예) 평균이 최대값과 최소값 사이에 위치하는지 등\n",
    "    \n",
    "    * 일관성 검사(consistency check) 코드 작성\n",
    "    \n",
    "        - 예) 다른 방식으로도 계산 후 계산 결과가 맞는 지 확인\n",
    "```\n",
    "```\n",
    "4. 출력의 정돈\n",
    "\n",
    "    * 디버깅을 위한 출력 코드 정돈 (스캐폴딩)"
   ]
  },
  {
   "cell_type": "markdown",
   "id": "241a9e6e-420a-43da-9995-9b6ff567cb9b",
   "metadata": {},
   "source": [
    "### 11.9 용어집"
   ]
  },
  {
   "cell_type": "markdown",
   "id": "22769be0-abe5-4a65-8175-99417791cf94",
   "metadata": {},
   "source": [
    "* **딕셔너리(dictionary)**\n",
    "\n",
    "    - 어떤 키를 대응하는 어떤 값으로 보내는 사상.\n",
    "```\n",
    "```\n",
    "* **키(key)**\n",
    "\n",
    "    - 딕셔너리에 있는 객체로, 키-값 쌍의 앞부분.\n",
    "```\n",
    "```\n",
    "* **값(value)**\n",
    "\n",
    "    - 딕셔너리에 있는 객체로 키-값 쌍의 뒷부분. 기존에 사용한던 '값'은 일반적인 용어이고, 여기서는 명시적으로 키-값 쌍의 뒷부분을 지칭하는 용어로 사용\n",
    "```\n",
    "```\n",
    "* **키-값 쌍(key-value pair)**\n",
    "\n",
    "    - 키와 값의 대응 관계를 표시하는 순서쌍.\n",
    "```\n",
    "```\n",
    "* **항목(item)**\n",
    "\n",
    "    - 딕셔너리에서 키-값 쌍을 다르게 부르는 용어 \n",
    "```\n",
    "```\n",
    "* **사상(mapping)**\n",
    "\n",
    "    - 어떤 집합의 각 원소를 다른 집합의 각 원소에 대응토록 하는 구조\n",
    "```\n",
    "```\n",
    "* **구현(implementation)**\n",
    "\n",
    "    - 계산을 수행하는 방법\n",
    "```\n",
    "```\n",
    "* **조회(lookup)**\n",
    "\n",
    "    - 딕셔너리에 대한 연산으로 키를 받아 대응하는 값을 찾아줌\n",
    "```\n",
    "```\n",
    "* **역조회(reverse lookup)**\n",
    "\n",
    "    - 딕셔너리에 대한 연산으로 값을 받아 이 값에 대응하는 한 개 이상의 키를 찾아줌\n",
    "```\n",
    "```\n",
    "* **싱글턴(singleton)**\n",
    "\n",
    "    - 원소가 하나인 배열(혹은 그와 유사한 순열)\n",
    "```\n",
    "```\n",
    "* **해시 기능(hashable)**\n",
    "\n",
    "    - 해시 함수를 가지는 자료형을 가리킴\n",
    "```\n",
    "```\n",
    "* **해시 함수(hash function)**\n",
    "\n",
    "    - 해시 테이블에서 사용하는 함수로 어떤 키에 대한 위치를 계산함\n",
    "```\n",
    "```\n",
    "* **호출 그래프(call graph)**\n",
    "\n",
    "    - 프로그램 실행 중에 만들어지는 틀(함수)을 표시하는 도식으로 호출 함수에서 피호출 함수로 가는 화살표로 함수 호출을 나타냄\n",
    "```\n",
    "```\n",
    "* **메모(memo)**\n",
    "\n",
    "    - 불필요한 미래의 계산을 방지하기 위해 저장해 놓은 계산 값\n",
    "```\n",
    "```\n",
    "* **전역 변수(global variable)**\n",
    "\n",
    "    - 함수 바깥에서 정의된 변수. 전역 변수는 어떤 함수에서나 접근 가능하다.\n",
    "```\n",
    "```\n",
    "* **플래그(flag)**\n",
    "\n",
    "    - 어떤 조건이 참인지를 나타내는 부리언 변수.\n",
    "```\n",
    "```\n",
    "* **선언(declaration)**\n",
    "\n",
    "    - 'global' 변수 지정과 같이 해석기에 변수에 대한 정보를 제공한다.\n",
    "```\n",
    "```\n",
    "* **global 문**\n",
    "\n",
    "    - 변수 이름이 전역임을 선언하는 문장\n",
    "    "
   ]
  }
 ],
 "metadata": {
  "kernelspec": {
   "display_name": "Julia 1.8.0",
   "language": "julia",
   "name": "julia-1.8"
  },
  "language_info": {
   "file_extension": ".jl",
   "mimetype": "application/julia",
   "name": "julia",
   "version": "1.8.0"
  }
 },
 "nbformat": 4,
 "nbformat_minor": 5
}
