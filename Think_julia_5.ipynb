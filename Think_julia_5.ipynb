{
 "cells": [
  {
   "cell_type": "markdown",
   "id": "ffcd015c-8b3c-434d-8434-61e957c6d69e",
   "metadata": {},
   "source": [
    "# 줄리아를 생각하다(Think Julia)"
   ]
  },
  {
   "cell_type": "markdown",
   "id": "baa0eb68-3780-4a4e-b980-a7875354c11d",
   "metadata": {},
   "source": [
    "## Chapter 5. 조건과 재귀\n",
    "\n",
    "- 이 장의 주제는 if 명령문\n",
    "\n",
    "- 이 명령문은 프로그램의 상태에 따라 다른 코드를 실행함"
   ]
  },
  {
   "cell_type": "code",
   "execution_count": 1,
   "id": "0547dc69-d1af-4dac-8e62-30c4a876c6a0",
   "metadata": {},
   "outputs": [
    {
     "data": {
      "text/plain": [
       "\"D:\\\\JULIA\\\\Think_julia\""
      ]
     },
     "execution_count": 1,
     "metadata": {},
     "output_type": "execute_result"
    }
   ],
   "source": [
    "pwd()"
   ]
  },
  {
   "cell_type": "code",
   "execution_count": 2,
   "id": "424b9ccc-5556-4c80-92a0-60495cd6a910",
   "metadata": {},
   "outputs": [
    {
     "name": "stdout",
     "output_type": "stream",
     "text": [
      "Julia Version 1.8.0\n",
      "Commit 5544a0fab7 (2022-08-17 13:38 UTC)\n",
      "Platform Info:\n",
      "  OS: Windows (x86_64-w64-mingw32)\n",
      "  CPU: 16 × 12th Gen Intel(R) Core(TM) i7-1260P\n",
      "  WORD_SIZE: 64\n",
      "  LIBM: libopenlibm\n",
      "  LLVM: libLLVM-13.0.1 (ORCJIT, goldmont)\n",
      "  Threads: 1 on 16 virtual cores\n"
     ]
    }
   ],
   "source": [
    "versioninfo()"
   ]
  },
  {
   "cell_type": "markdown",
   "id": "d3e9d76b-4b15-46fb-bb80-efbf534306d5",
   "metadata": {},
   "source": [
    "### 5.1 몫 연산과 나머지 연산"
   ]
  },
  {
   "cell_type": "markdown",
   "id": "b662539f-f434-4348-b1d8-254170afbb2b",
   "metadata": {},
   "source": [
    "- **몫 연산자** (floor division operator): 두 수를 나눈 값을 소수점 첫째 자리에서 버리는 연산자 (REPL에서는 ÷ 를 입력하려면 \\div를 입력한 후 탭키를 누름)\n",
    "\n",
    "**예시 1)** 보통 시간은 소수점으로 표현하지 않으므로 몫 연산자를 이용하여 정수 단위 시간으로 계산"
   ]
  },
  {
   "cell_type": "code",
   "execution_count": 1,
   "id": "60b10502-c3c9-49a3-8351-1425e1e1a271",
   "metadata": {},
   "outputs": [
    {
     "data": {
      "text/plain": [
       "1.75"
      ]
     },
     "execution_count": 1,
     "metadata": {},
     "output_type": "execute_result"
    }
   ],
   "source": [
    "minutes = 105\n",
    "minutes / 60"
   ]
  },
  {
   "cell_type": "code",
   "execution_count": 2,
   "id": "bc005009-f351-44e3-9b3a-1a35462d01b4",
   "metadata": {},
   "outputs": [
    {
     "data": {
      "text/plain": [
       "1"
      ]
     },
     "execution_count": 2,
     "metadata": {},
     "output_type": "execute_result"
    }
   ],
   "source": [
    "hours = minutes ÷ 60"
   ]
  },
  {
   "cell_type": "markdown",
   "id": "0ccf767d-d5d7-4cd9-972d-66dd3e80896e",
   "metadata": {},
   "source": [
    "나머지 시간을 구하려면, 시간을 다시 분으로 환산해서 원래 값에서 빼줌"
   ]
  },
  {
   "cell_type": "code",
   "execution_count": 3,
   "id": "d7495132-7534-40d7-9d01-ebd0dbd6a923",
   "metadata": {},
   "outputs": [
    {
     "data": {
      "text/plain": [
       "45"
      ]
     },
     "execution_count": 3,
     "metadata": {},
     "output_type": "execute_result"
    }
   ],
   "source": [
    "remainder = minutes - hours * 60"
   ]
  },
  {
   "cell_type": "markdown",
   "id": "8641decb-e917-48f5-88df-ab93c9f8827e",
   "metadata": {},
   "source": [
    "* **나머지 연산자** (modulus operator): 두 수를 나눈 나머지를 반환함 (% 기호 사용)\n",
    "\n",
    "    - 프로그래밍에서 유용한 나머지 연산자\n",
    "    \n",
    "        + 예를 들어 어떤 수 x 가 어떤 수의 약수인지를 확인하려면 x % y를 실행한 후, 결과가 0인지를 확인\n",
    "        + if문에서 많이 쓰임 \n",
    "        + 예) ```if x%y == 0 ```\n",
    "   \n",
    "\n",
    "**예시 2)**"
   ]
  },
  {
   "cell_type": "code",
   "execution_count": 4,
   "id": "d1e5e5f5-69bb-48b1-969f-9bdf7571f0fb",
   "metadata": {},
   "outputs": [
    {
     "data": {
      "text/plain": [
       "45"
      ]
     },
     "execution_count": 4,
     "metadata": {},
     "output_type": "execute_result"
    }
   ],
   "source": [
    "remainder2 = minutes % 60"
   ]
  },
  {
   "cell_type": "markdown",
   "id": "3d260901-3fae-47ca-af5a-029f2aafadb4",
   "metadata": {},
   "source": [
    "### 5.2 논리 표현식"
   ]
  },
  {
   "cell_type": "markdown",
   "id": "e15dd9cf-6601-4ba3-9102-1843bef0bb2c",
   "metadata": {},
   "source": [
    "* **논리 표현식**(Boolean expression) : 평가 결과가 참(true)이거나 거짓(false)인 표현식\n",
    "\n",
    "    - == 연산자를 사용, 비교 결과가 참이면 true 반환, 거짓이면 false 반환"
   ]
  },
  {
   "cell_type": "code",
   "execution_count": 13,
   "id": "f678cf36-df61-4a60-98a9-8359f0bf8616",
   "metadata": {},
   "outputs": [
    {
     "data": {
      "text/plain": [
       "true"
      ]
     },
     "execution_count": 13,
     "metadata": {},
     "output_type": "execute_result"
    }
   ],
   "source": [
    "5 == 5"
   ]
  },
  {
   "cell_type": "code",
   "execution_count": null,
   "id": "36f72b09-1e47-4a15-922b-1f69fd3777ec",
   "metadata": {},
   "outputs": [
    {
     "data": {
      "text/plain": [
       "false"
      ]
     },
     "execution_count": 6,
     "metadata": {},
     "output_type": "execute_result"
    }
   ],
   "source": [
    "5 == 6"
   ]
  },
  {
   "cell_type": "markdown",
   "id": "5d17c1b9-19a9-444d-8b76-a749766995f3",
   "metadata": {},
   "source": [
    "* true와 false는 문자열이 아니고 Bool 자료형에 속하는 특별한 값"
   ]
  },
  {
   "cell_type": "code",
   "execution_count": 12,
   "id": "a3e5f1b6-8763-4a41-b3f6-35b588b84d4f",
   "metadata": {},
   "outputs": [
    {
     "name": "stdout",
     "output_type": "stream",
     "text": [
      "Bool / Bool"
     ]
    }
   ],
   "source": [
    "print(typeof(true), \" / \", typeof(false))"
   ]
  },
  {
   "cell_type": "markdown",
   "id": "772b012e-1e6e-4976-aaa6-2554dfff2074",
   "metadata": {},
   "source": [
    "**예시 2)** **관계 연산자**(relational operator)"
   ]
  },
  {
   "cell_type": "code",
   "execution_count": 24,
   "id": "71428fca-f278-4359-b1ff-b355b66a988f",
   "metadata": {},
   "outputs": [
    {
     "name": "stdout",
     "output_type": "stream",
     "text": [
      "If x = 1 and y= 2, 'x != y' is true\n",
      "If x = 1 and y= 2, 'x ≠ y' is true\n",
      "If x = 1 and y= 2, 'x > y' is false\n",
      "If x = 1 and y= 2, 'x < y' is true\n",
      "If x = 1 and y= 2, 'x >= y' is false\n",
      "If x = 1 and y= 2, 'x ≥ y' is false\n",
      "If x = 1 and y= 2, 'x <= y' is true\n",
      "If x = 1 and y= 2, 'x ≤ y' is true\n"
     ]
    }
   ],
   "source": [
    "x = 1\n",
    "y = 2\n",
    "\n",
    "print(\"If x = 1 and y= 2, 'x != y' is \", x != y,  \"\\n\") # x와 y는 같지 않다.\n",
    "print(\"If x = 1 and y= 2, 'x ≠ y' is \", x ≠ y,  \"\\n\") # x와 y는 같지 않다. (not equal 기호, 입력법: \\ne + tab)\n",
    "print(\"If x = 1 and y= 2, 'x > y' is \", x > y,  \"\\n\") # x가 y보다 크다\n",
    "print(\"If x = 1 and y= 2, 'x < y' is \", x < y,  \"\\n\") # x가 y보다 작다.\n",
    "print(\"If x = 1 and y= 2, 'x >= y' is \", x >= y,  \"\\n\") # x가 y보다 크거나 같다.\n",
    "print(\"If x = 1 and y= 2, 'x ≥ y' is \", x ≥ y,  \"\\n\") # x가 y보다 크거나 같다. (greater than or equal to 기호, 입력법: \\ge + tab)\n",
    "print(\"If x = 1 and y= 2, 'x <= y' is \", x <= y,  \"\\n\") # x가 y보다 작거나 같다. \n",
    "print(\"If x = 1 and y= 2, 'x ≤ y' is \", x ≤ y,  \"\\n\") # x가 y보다 작거나 같다. (less than or equal to 기호, 입력법: \\le + tab)\n"
   ]
  },
  {
   "cell_type": "markdown",
   "id": "9250b99b-9059-4a70-b737-817ffd2b21f6",
   "metadata": {},
   "source": [
    "**※ 주의(caution): ```=``` 할당 연산자, ```==``` 관계(비교) 연산자**"
   ]
  },
  {
   "cell_type": "markdown",
   "id": "8e918891-1791-4244-ba4e-252aebb89399",
   "metadata": {},
   "source": [
    "### 5.3 논리 연산자"
   ]
  },
  {
   "cell_type": "markdown",
   "id": "787d5f8b-5a18-4d5b-a90b-66e5e2d64ea6",
   "metadata": {},
   "source": [
    "* **논리 연산자**(logical operator): ```&&```(and: 논리곱), ```||```(or: 논리합), ```!```(not: 부정)\n",
    "\n",
    "    - 주의: ```&``` 와 ```|```는  비트 연산자(bitwise operators)로 논리 연산을 사용하고자 할때는 ```&&```, ```||``` 사용 권고"
   ]
  },
  {
   "cell_type": "code",
   "execution_count": 26,
   "id": "1407eca7-8819-41a9-b0b7-76c6f5a593dd",
   "metadata": {},
   "outputs": [
    {
     "name": "stdout",
     "output_type": "stream",
     "text": [
      "true\n",
      "true"
     ]
    }
   ],
   "source": [
    "x = 1\n",
    "y = 2\n",
    "n = 3\n",
    "\n",
    "print(x > 0 && x < 10, \"\\n\")\n",
    "print(n%2 == 0 || n %3 ==0)"
   ]
  },
  {
   "cell_type": "markdown",
   "id": "987f61d0-15c3-4079-baa1-cdab9ed2c0d3",
   "metadata": {},
   "source": [
    "* &&, || 연산자 모두 오른쪽 결합 연산자\n",
    "\n",
    "   - 오른쪽부터 왼쪽으로 결합시키는 연산자라는 의미로 a && b && c || d 가 있다면, a && (b && (c || d))로 구문을 분석함\n",
    "    \n",
    "    "
   ]
  },
  {
   "cell_type": "markdown",
   "id": "e0e29283-7579-4823-8af6-564573b3e2c4",
   "metadata": {},
   "source": [
    "### 5.4 조건부 실행 **(if 문)**"
   ]
  },
  {
   "cell_type": "markdown",
   "id": "20569fad-b3d9-44f9-a35f-6a41a583432a",
   "metadata": {},
   "source": [
    "* **조건부 명령문**(Conditional Statement) : 조건에 따라 프로그램의 동작을 바꿀 수 있는 기능을 수행하는 명령문\n",
    "\n",
    "**예제 1)** 간단한 조건문 예시"
   ]
  },
  {
   "cell_type": "code",
   "execution_count": 27,
   "id": "d105c95d-59c5-4f43-ae0f-48af9e22c4d1",
   "metadata": {},
   "outputs": [
    {
     "name": "stdout",
     "output_type": "stream",
     "text": [
      "x is positive\n"
     ]
    }
   ],
   "source": [
    "if x > 0\n",
    "    println(\"x is positive\")\n",
    "end"
   ]
  },
  {
   "cell_type": "markdown",
   "id": "b62c89e2-5c47-4fd2-9aab-6c2d97ffe100",
   "metadata": {},
   "source": [
    "- if 다음에 나오는 논리 표현식 -> 조건 \n",
    "- if - end 형태의 복합문장(compound statement) 구조를 가짐 \n",
    "\n",
    "    if 조건식 \n",
    "        수행문\n",
    "    end\n",
    "    \n",
    "    \n",
    "**예제 2)** 빈 본문을 사용하는 경우"
   ]
  },
  {
   "cell_type": "code",
   "execution_count": 28,
   "id": "97806c13-792b-4ca4-b80a-f4cc3269a872",
   "metadata": {},
   "outputs": [],
   "source": [
    "if x < 0\n",
    "        # To-do: 음수인 경우를 처리해야 함!\n",
    "end"
   ]
  },
  {
   "cell_type": "markdown",
   "id": "b22e2d8f-2fe9-4589-ac9d-b26b3cb8583d",
   "metadata": {},
   "source": [
    "### 5.5 대체 실행"
   ]
  },
  {
   "cell_type": "markdown",
   "id": "27b1c8db-ea2b-4460-90f4-e47d1d7c6441",
   "metadata": {},
   "source": [
    "* **대체 실행** : 분기(branch)가 있는 조건문\n",
    "\n",
    "**예제 1)**"
   ]
  },
  {
   "cell_type": "code",
   "execution_count": 29,
   "id": "271cb8cd-8f0a-4c0e-8a52-a15cafcc5522",
   "metadata": {},
   "outputs": [
    {
     "name": "stdout",
     "output_type": "stream",
     "text": [
      "x is odd\n"
     ]
    }
   ],
   "source": [
    "if x % 2 == 0\n",
    "    println(\"x is even\")\n",
    "else \n",
    "    println(\"x is odd\")\n",
    "end"
   ]
  },
  {
   "cell_type": "markdown",
   "id": "c2201a72-e9df-40c9-a55c-a57e055e911d",
   "metadata": {},
   "source": [
    "### 5.6 연쇄 조건문"
   ]
  },
  {
   "cell_type": "markdown",
   "id": "8ee465bf-45de-4d95-bf29-f6d2f1908812",
   "metadata": {},
   "source": [
    "* **연쇄 조건문**(Chained conditional statement) : 두 개 이상의 분기를 표현하는 조건문"
   ]
  },
  {
   "cell_type": "code",
   "execution_count": 30,
   "id": "36be9512-32fb-4045-b4fc-6703c220b7d7",
   "metadata": {},
   "outputs": [
    {
     "name": "stdout",
     "output_type": "stream",
     "text": [
      "x is less than y\n"
     ]
    }
   ],
   "source": [
    "if x < y\n",
    "    println(\"x is less than y\")\n",
    "elseif x > y\n",
    "    println(\"x is greater than y\")\n",
    "else\n",
    "    println(\"x and y are equal\")\n",
    "end"
   ]
  },
  {
   "cell_type": "markdown",
   "id": "afa6df09-6b07-43ae-9bdf-066c7d81c5c7",
   "metadata": {},
   "source": [
    "* 사용할 수 있는 elseif 문의 개수에는 제한이 없으며, else 문은 맨 뒤에 넣어야 함(필요 시 생략 가능)\n",
    "\n",
    "     - 각각의 조건은 위에서부터 차례로 확인됨. \n",
    "\n",
    "     - 처음 조건이 거짓이면, 그 다음으로 넘어감. \n",
    "\n",
    "     - 그 중 하나가 참이면, 해당 분기가 실행되고 연쇄 조건문 전체가 종료됨\n",
    "\n",
    "     - 한 개 이상의 조건이 참인 경우라 해도, 첫 번째로 참인 조건에 해당하는 분기만 실행됨"
   ]
  },
  {
   "cell_type": "markdown",
   "id": "918602b3-0515-430f-aa2e-70bf2167e73a",
   "metadata": {},
   "source": [
    "### 5.7 중첩 조건문"
   ]
  },
  {
   "cell_type": "markdown",
   "id": "80d3738f-1d51-4b8a-916b-552b97928abd",
   "metadata": {},
   "source": [
    "* **중첩 조건문**(nested conditional statement) : 조건문이 다른 조건문 안에 포함되어 중첩되는 조건문"
   ]
  },
  {
   "cell_type": "code",
   "execution_count": 33,
   "id": "126947a8-9ca7-4161-b5b9-5256752039b2",
   "metadata": {},
   "outputs": [
    {
     "name": "stdout",
     "output_type": "stream",
     "text": [
      "x is less than  y\n"
     ]
    }
   ],
   "source": [
    "if x == y\n",
    "    println(\"x and y are equal\")\n",
    "else\n",
    "    if x < y\n",
    "        println(\"x is less than  y\")\n",
    "    else\n",
    "        println(\"x is greater than y\")\n",
    "    end\n",
    "end"
   ]
  },
  {
   "cell_type": "markdown",
   "id": "ea15c759-b8d9-4ea1-bfdb-6096cec8f19b",
   "metadata": {},
   "source": [
    "- 들여쓰기를 통해 중첩 조건문의 구조를 명확하게 표현할 수 있음\n",
    "- 하지만, 중첩문은 빨리 읽기가 어려우므로 가능한 중첩 조건은 피하는 것이 좋음\n",
    "- 아래와 같이 논리 연산자는 종종 중첩 조건문을 간소화해줄 수 있음"
   ]
  },
  {
   "cell_type": "code",
   "execution_count": 34,
   "id": "0ca2e5c9-40b3-4089-b440-edd9ae39cf1a",
   "metadata": {},
   "outputs": [
    {
     "name": "stdout",
     "output_type": "stream",
     "text": [
      "x is a positive single-digit number.\n"
     ]
    }
   ],
   "source": [
    "if 0 < x\n",
    "    if x < 10\n",
    "        println(\"x is a positive single-digit number.\")\n",
    "    end\n",
    "end"
   ]
  },
  {
   "cell_type": "markdown",
   "id": "93b1c557-a52b-478b-ab37-b1d708c86089",
   "metadata": {},
   "source": [
    "* 두 개의 조건을 모두 만족하기 위한 논리 연산자를 이용할 수 있음"
   ]
  },
  {
   "cell_type": "code",
   "execution_count": 35,
   "id": "30a368e7-feee-4d4b-a22d-8b2a2ed10962",
   "metadata": {},
   "outputs": [
    {
     "name": "stdout",
     "output_type": "stream",
     "text": [
      "x is a positive single-digit number.\n"
     ]
    }
   ],
   "source": [
    "if 0 < x && x < 10\n",
    "    println(\"x is a positive single-digit number.\")\n",
    "end"
   ]
  },
  {
   "cell_type": "markdown",
   "id": "c052f6be-c107-4999-9c03-22e70e1d9d91",
   "metadata": {},
   "source": [
    "* 간결한 표현식 예시"
   ]
  },
  {
   "cell_type": "code",
   "execution_count": 36,
   "id": "77b1bc53-9348-43a9-a36d-58d50d026ac9",
   "metadata": {},
   "outputs": [
    {
     "name": "stdout",
     "output_type": "stream",
     "text": [
      "x is a positive single-digit number.\n"
     ]
    }
   ],
   "source": [
    "if 0 < x < 10\n",
    "    println(\"x is a positive single-digit number.\")\n",
    "end"
   ]
  },
  {
   "cell_type": "markdown",
   "id": "ddc6fa1e-0297-4cab-8d4f-03f0665d7405",
   "metadata": {},
   "source": [
    "### 5.8 재귀"
   ]
  },
  {
   "cell_type": "markdown",
   "id": "3960ee81-648b-40fb-b4a4-cf74760faff5",
   "metadata": {},
   "source": [
    "* **재귀 함수**(recursive function) : 자기 자신을 호출하는 함수\n",
    "\n",
    "* **재귀** (recursion) : 재귀 함수의 실행"
   ]
  },
  {
   "cell_type": "code",
   "execution_count": 40,
   "id": "9c8e5b8a-4b37-490f-9898-2e19ca5727be",
   "metadata": {},
   "outputs": [
    {
     "data": {
      "text/plain": [
       "countdown (generic function with 1 method)"
      ]
     },
     "execution_count": 40,
     "metadata": {},
     "output_type": "execute_result"
    }
   ],
   "source": [
    "function countdown(n)\n",
    "    if n ≤ 0\n",
    "        println(\"Blastoff!\")\n",
    "    else\n",
    "        print(n, \"\\n\")\n",
    "        countdown(n-1)\n",
    "    end\n",
    "end"
   ]
  },
  {
   "cell_type": "markdown",
   "id": "6e91792c-fc37-43d8-96ab-c513a5ab5a15",
   "metadata": {},
   "source": [
    "* 작동 원리: n이 음수이면 \"Blastoff!(발사!)\"를 출력함. 그렇지 않은 경우에는 n을 출력하고 n-1을 인수로 해서 countdown 함수, 즉 자기 자신을 호출함\n",
    "\n",
    "\n",
    "+ countdown이 시작합니다(매개변수 n = 3) -> n이 0보다 크니까 3을 출력하고, 자기 자신을 호출함\n",
    "\n",
    "    + countdown이 시작합니다(매개변수 n = 2) -> n이 0보다 크니까 2를 출력하고, 자기 자신을 호출함\n",
    "    \n",
    "        + countdown이 시작합니다(매개변수 n = 1) -> n이 0보다 크니까 1을 출력하고, 자기 자신을 호출함\n",
    "        \n",
    "            + countdown이 시작합니다(매개변수 n = 0) -> n이 0과 같으므로, \"Blastoff!\"를 출력하고 종료함 \n",
    "            \n",
    "        - n = 1을 받은 countdown이 종료됩니다.\n",
    "        \n",
    "    - n = 2를 받은 countdown이 종료됩니다.\n",
    "    \n",
    "- n = 3을 받은 countdown이 종료됩니다."
   ]
  },
  {
   "cell_type": "code",
   "execution_count": 41,
   "id": "97df587d-51b7-4ac3-836f-11c7b66837a6",
   "metadata": {},
   "outputs": [
    {
     "name": "stdout",
     "output_type": "stream",
     "text": [
      "3\n",
      "2\n",
      "1\n",
      "Blastoff!\n"
     ]
    }
   ],
   "source": [
    "countdown(3)"
   ]
  },
  {
   "cell_type": "markdown",
   "id": "f3745cce-4e89-4c78-9f99-f836722ef3e9",
   "metadata": {},
   "source": [
    "```\n",
    "```\n",
    "**예제 2)** 재귀함수 예제 2"
   ]
  },
  {
   "cell_type": "code",
   "execution_count": 46,
   "id": "ed0f18ff-20cf-4107-96fc-2f4488be9a6d",
   "metadata": {},
   "outputs": [
    {
     "data": {
      "text/plain": [
       "printn (generic function with 1 method)"
      ]
     },
     "execution_count": 46,
     "metadata": {},
     "output_type": "execute_result"
    }
   ],
   "source": [
    "function printn(s, n)\n",
    "    if n ≤ 0\n",
    "        return\n",
    "    end\n",
    "    println(s)\n",
    "    printn(s, n-1)\n",
    "end"
   ]
  },
  {
   "cell_type": "code",
   "execution_count": 49,
   "id": "7e1a8896-493b-400f-87d6-4dc49a9df035",
   "metadata": {},
   "outputs": [
    {
     "name": "stdout",
     "output_type": "stream",
     "text": [
      "Hello, Julia!\n",
      "Hello, Julia!\n",
      "Hello, Julia!\n",
      "Hello, Julia!\n",
      "Hello, Julia!\n"
     ]
    }
   ],
   "source": [
    "printn(\"Hello, Julia!\", 5)"
   ]
  },
  {
   "cell_type": "markdown",
   "id": "c60cc15c-325f-480e-b3ce-e29362d8f67b",
   "metadata": {},
   "source": [
    "```\n",
    "```\n",
    "### 5.9 재귀 함수의 스택 도식"
   ]
  },
  {
   "cell_type": "markdown",
   "id": "4ce4616e-e298-4a93-b92c-c1f45d7e3fba",
   "metadata": {},
   "source": [
    "줄리아는 함수가 호출될 때마다, 함수의 지역 변수와 매개변수를 갖고 있는 틀을 하나씩 생성. -> 재귀함수의 경우 동시에 두 개이상의 틀이 스택에 존재\n",
    "\n",
    "예) n = 3 으로 호출된 countdown 함수의 스택 도식\n",
    "\n",
    "Main      |-----------|\n",
    "\n",
    "countdown | n ----> 3 |\n",
    "\n",
    "countdown | n ----> 2 |\n",
    "\n",
    "countdown | n ----> 1 |\n",
    "\n",
    "countdown | n ----> 0 |\n",
    "\n",
    "* 보통 때처럼 스택의 맨 위는 Main frame -> 어떤 변수도 만들지 않고, 인수도 없으므로 Main frame은 비어 있음\n",
    "* 스택의 가장 아래에 있는 n = 0 인 경우를 **기저 상태**(base case)라고 부름 -> 기저 상태에서는 재귀 호출을 하지 않으므로 더 이상 틀이 없음 "
   ]
  },
  {
   "cell_type": "markdown",
   "id": "c9f3c681-6c2a-4dc0-af8e-302f38648ce0",
   "metadata": {},
   "source": [
    "### 5.10 무한 재귀"
   ]
  },
  {
   "cell_type": "markdown",
   "id": "0f5097e9-023d-409f-98b6-bea4ec7d4d03",
   "metadata": {},
   "source": [
    "* **무한 재귀**(infinite recursion) : 재귀가 기저 상태에 도달하지 못하고, 자기 자신을 무한히 호출하게 되는 상황"
   ]
  },
  {
   "cell_type": "markdown",
   "id": "917f592b-5721-47d3-ad69-f0eb0863e33b",
   "metadata": {},
   "source": [
    "**예제 1)**"
   ]
  },
  {
   "cell_type": "code",
   "execution_count": 50,
   "id": "13200eba-ca59-48f9-9d76-0c36948148f6",
   "metadata": {},
   "outputs": [
    {
     "data": {
      "text/plain": [
       "recurse (generic function with 1 method)"
      ]
     },
     "execution_count": 50,
     "metadata": {},
     "output_type": "execute_result"
    }
   ],
   "source": [
    "function recurse()\n",
    "    recurse()\n",
    "end"
   ]
  },
  {
   "cell_type": "code",
   "execution_count": 51,
   "id": "059972d3-760b-43c7-be28-c0ee24964d53",
   "metadata": {},
   "outputs": [
    {
     "ename": "LoadError",
     "evalue": "StackOverflowError:",
     "output_type": "error",
     "traceback": [
      "StackOverflowError:",
      "",
      "Stacktrace:",
      " [1] recurse() (repeats 79984 times)",
      "   @ Main .\\In[50]:2"
     ]
    }
   ],
   "source": [
    "recurse()"
   ]
  },
  {
   "cell_type": "markdown",
   "id": "fe19ea23-ce15-4990-8bb2-48e842ff6e62",
   "metadata": {},
   "source": [
    "* 대부분의 프로그래밍 환경에서, 무한 재귀를 갖고 있는 프로그램이 실제로 무한히 실행되지는 않음\n",
    "* 재귀의 스택 깊이가 최대치에 닿으면 줄리아는 위와 같은 오류 메시지를 출력함 (79,984번 실행후 stop)"
   ]
  },
  {
   "cell_type": "markdown",
   "id": "81b49d44-1a28-406e-81e8-ff00bb8ced79",
   "metadata": {},
   "source": [
    "### 5.11 키보드 입력"
   ]
  },
  {
   "cell_type": "markdown",
   "id": "06be7c74-8ae9-47fd-9e4b-62b6e2908296",
   "metadata": {},
   "source": [
    "줄리아의 내장함수 readline은 프로그램을 잠깐 멈추고 사용자의 입력을 받음"
   ]
  },
  {
   "cell_type": "markdown",
   "id": "9fa0cea8-c282-4f76-a802-1891d74bca45",
   "metadata": {},
   "source": [
    "![image.png](capture_and_drawing/test1.png)"
   ]
  },
  {
   "cell_type": "markdown",
   "id": "3b76626f-84f0-4d90-9312-55e340a0bf52",
   "metadata": {},
   "source": [
    "* 단, 주피터 노트북 환경에서는 실행되지 않아 줄리아의 REPL에서 수행함\n",
    "\n",
    "* 사용자가 엔터 키를 누르면 프로그램이 재개되며 readline이 사용자가 입력한 내용을 결괏값으로 돌려줌\n",
    "\n",
    "* 사용자로부터 입력을 받기 전에 프롬프트를 출력해 무엇을 입력해야 할지를 알려주는 것이 좋음\n",
    "\n",
    "* **세미콜론(;)** 은 여러 문장을 같은 행에 넣을 수 있게 해줌"
   ]
  },
  {
   "cell_type": "markdown",
   "id": "a349705a-f1d0-47b5-a19b-974d5e672bb2",
   "metadata": {},
   "source": [
    "### 5. 12 디버깅"
   ]
  },
  {
   "cell_type": "markdown",
   "id": "dbcc9777-ca45-4dba-ad7a-0af2dec080e9",
   "metadata": {},
   "source": [
    "오류 메시지 발생 시 많은 정보를 확인할 수 있으며, 가장 유용한 부분은 일반적으로 다음의 두 가지 정보임\n",
    "\n",
    "* 어떤 종류의 오류인가\n",
    "\n",
    "* 어디서 오류가 났는가"
   ]
  },
  {
   "cell_type": "markdown",
   "id": "3641372a-4787-4cc0-bda3-3a93e5f126f5",
   "metadata": {},
   "source": [
    "**예시 1)** 신호 대 노이즈 비율을 데시벨로 계산할 때 발생하는 실행 오류\n",
    "\n",
    "    * 다음 공식에 대한 줄리아 코드 작성\n",
    "\n",
    "$$ {SNR}_{db} = 10log_{10}{P_{signal}\\over P_{noise}} $$"
   ]
  },
  {
   "cell_type": "code",
   "execution_count": 53,
   "id": "849009da-d142-4186-9d44-6938c2de54fe",
   "metadata": {},
   "outputs": [
    {
     "name": "stdout",
     "output_type": "stream",
     "text": [
      "-Inf"
     ]
    }
   ],
   "source": [
    "signal_power = 9\n",
    "noise_power = 10\n",
    "ratio = signal_power ÷ noise_power\n",
    "decibels = 10 * log10(ratio)\n",
    "print(decibels)"
   ]
  },
  {
   "cell_type": "code",
   "execution_count": 54,
   "id": "0322be0b-d63e-467f-9a2d-558bd5aea448",
   "metadata": {},
   "outputs": [
    {
     "name": "stdout",
     "output_type": "stream",
     "text": [
      "0"
     ]
    }
   ],
   "source": [
    "print(ratio)"
   ]
  },
  {
   "cell_type": "markdown",
   "id": "0d324bff-2d8b-4b84-9576-52fc6e623b7b",
   "metadata": {},
   "source": [
    "ratio 값을 출력해보니 0의 값을 가짐 -> 몫 연산을 실시한 결과 => 나눗셈 연산(/)으로 수정"
   ]
  },
  {
   "cell_type": "code",
   "execution_count": 55,
   "id": "f5088eba-c4c9-4ef6-b039-d46f7928505d",
   "metadata": {},
   "outputs": [
    {
     "name": "stdout",
     "output_type": "stream",
     "text": [
      "-0.4575749056067512"
     ]
    }
   ],
   "source": [
    "signal_power = 9\n",
    "noise_power = 10\n",
    "ratio = signal_power/noise_power\n",
    "decibels = 10 * log10(ratio)\n",
    "print(decibels)"
   ]
  },
  {
   "cell_type": "markdown",
   "id": "7f8d35ba-1332-4097-9541-b153ddc39298",
   "metadata": {},
   "source": [
    "기대한 결과가 출력됨을 확인함\n",
    "\n",
    "**CAUTION**: 오류 메시지를 해석할 때는 시간을 들여서 주의 깊게 봐야 함. 메시지 내용 전부가 맞는다고 단순하게 가정해서는 안됨"
   ]
  },
  {
   "cell_type": "markdown",
   "id": "43fc8a0b-4c90-4d1c-abee-55a42fd3ae24",
   "metadata": {},
   "source": [
    "### 5.13 용어집"
   ]
  },
  {
   "cell_type": "markdown",
   "id": "72b5166d-53a6-4220-9b88-fab17dcff1f8",
   "metadata": {},
   "source": [
    "* **몫 연산자(floor division operator)**\n",
    "\n",
    "    - 어떤 수를 다른 수로 나눈 몫을 구하는 연산자. ÷ 기호를 사용함\n",
    "```\n",
    "```\n",
    "* **나머지 연산자(Modulus operator)**\n",
    "\n",
    "    - 어떤 수를 다른 수로 나눈 나머지를 구하는 연산자. 퍼센트 기호(%)를 사용함\n",
    "```\n",
    "```\n",
    "* **논리 표현식(Boolean expression)**\n",
    "\n",
    "    - 값이 참이나 거짓이 되는 표현식\n",
    "```\n",
    "```\n",
    "* **관계 연산자(Relational operator)**\n",
    "\n",
    "    - 피연산자들을 비교하는 연산자들\n",
    "```\n",
    "```\n",
    "* **논리 연산자(Logical operator)**\n",
    "\n",
    "    - 논리 표현식을 결합하는 연산자들\n",
    "    - && (논리곱), || (논리합), ! (부정)\n",
    "```\n",
    "```\n",
    "* **조건문(Conditional statement)**\n",
    "\n",
    "    - 어떤 조건에 따라 실행 여부가 결정되는 문장\n",
    "```\n",
    "```\n",
    "* **조건(Condition)**\n",
    "\n",
    "    - 조건문에서 어떤 분기가 실행될지를 결정하는 논리 표현식\n",
    "```\n",
    "```\n",
    "* **복합문장(Compound statement)**\n",
    "\n",
    "    - 헤더와 본문으로 구성된 문장. 본문은 end 예약어로 끝난다.\n",
    "```\n",
    "```\n",
    "* **분기(Branch)**\n",
    "\n",
    "    - 조건문에서 실행될 수 있는 여러 문장의 세트 중 하나.\n",
    "```\n",
    "```\n",
    "* **연쇄 조건문(Chained conditional statement)**\n",
    "\n",
    "    - 대체 실행될 수 있는 여러 문장의 세트 중 하나\n",
    "```\n",
    "```\n",
    "* **중첩 조건문(Nested conditional statement)**\n",
    "\n",
    "    - 어떤 조건문의 분기 안에 포함되어 있는 조건문\n",
    "```\n",
    "```\n",
    "* **재귀 함수(Recursive function)**\n",
    "\n",
    "    - 자기 자신을 호출하는 함수\n",
    "```\n",
    "```\n",
    "* **재귀 (Recursion)**\n",
    "\n",
    "    - 현재 실행되고 있는 함수 자신을 다시 호출해 실행하는 과정\n",
    "```\n",
    "```\n",
    "* **리턴문 (Return statement)**\n",
    "\n",
    "    - 함수를 즉시 종료시키며, 호출자에게 돌아가도록 하는 문장\n",
    "```\n",
    "```\n",
    "* **기저 상태 (Base case)**\n",
    "\n",
    "    - 함수를 즉시 종료시키며, 호출자에게 돌아가도록 하는 문장\n",
    "```\n",
    "```\n",
    "* **무한 재귀 (Infinite recursion)**\n",
    "\n",
    "    - 기저 상태가 없는 재귀, 또는 기저 상태로 도달하지 못하는 재귀. 무한 재귀는 결국 실행 오류를 내는 것으로 귀결됨\n",
    "    "
   ]
  },
  {
   "cell_type": "markdown",
   "id": "02e59aa7-6d34-449e-b2c1-c42e626a6837",
   "metadata": {},
   "source": [
    "### 연습문제"
   ]
  },
  {
   "cell_type": "markdown",
   "id": "28e470db-8285-4064-a1f1-f4a86138e7f5",
   "metadata": {},
   "source": [
    "페르마의 마지막 정리 검증 함수\n",
    "\n",
    "* 페르마의 마지막 정리: 2보다 큰 정수 n에 대해서 다음 식을 만족시키는 양의 정수 a, b, c가 존재하지 않는다.\n",
    "\n",
    "$$ a^{n} + b^{n} = c^{n} $$"
   ]
  },
  {
   "cell_type": "code",
   "execution_count": 59,
   "id": "150608b2-82f7-4f70-a565-6cf138b0d5db",
   "metadata": {},
   "outputs": [
    {
     "data": {
      "text/plain": [
       "checkfermat (generic function with 1 method)"
      ]
     },
     "execution_count": 59,
     "metadata": {},
     "output_type": "execute_result"
    }
   ],
   "source": [
    "function checkfermat(a, b, c, n)\n",
    "    if a^n + b^n == c^n\n",
    "        println(\"Holy smokes, Fermat was wrong!\")\n",
    "    elseif a^n + b^n != c^n\n",
    "        println(\"No, that doesn't work. Fermat was right!\")\n",
    "    end\n",
    "end"
   ]
  },
  {
   "cell_type": "code",
   "execution_count": 60,
   "id": "93fe34ea-98d7-4995-9572-961ee34082e1",
   "metadata": {},
   "outputs": [
    {
     "name": "stdout",
     "output_type": "stream",
     "text": [
      "No, that doesn't work. Fermat was right!\n"
     ]
    }
   ],
   "source": [
    "checkfermat(3, 4, 5, 6)"
   ]
  }
 ],
 "metadata": {
  "kernelspec": {
   "display_name": "Julia 1.8.0",
   "language": "julia",
   "name": "julia-1.8"
  },
  "language_info": {
   "file_extension": ".jl",
   "mimetype": "application/julia",
   "name": "julia",
   "version": "1.8.0"
  }
 },
 "nbformat": 4,
 "nbformat_minor": 5
}
