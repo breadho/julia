{
 "cells": [
  {
   "cell_type": "markdown",
   "id": "cc0fdfef-b1fd-4cd4-b7a5-e3cae86a08b1",
   "metadata": {},
   "source": [
    "# 줄리아 vs 파이썬 비교 코드"
   ]
  },
  {
   "cell_type": "markdown",
   "id": "7fdfeaa9-dba7-42bd-bebb-768d078a3ff1",
   "metadata": {},
   "source": [
    "## 1. 피보나치 수열"
   ]
  },
  {
   "cell_type": "code",
   "execution_count": 1,
   "id": "c32a7b19-073f-4ea0-9d88-851fb8330113",
   "metadata": {},
   "outputs": [],
   "source": [
    "def fib(n):\n",
    "    if n < 2:\n",
    "        return n\n",
    "    else:\n",
    "        return fib(n-1) + fib(n-2)        "
   ]
  },
  {
   "cell_type": "code",
   "execution_count": 2,
   "id": "d4cd40d0-b49a-44ed-bc3c-6790161b272a",
   "metadata": {},
   "outputs": [
    {
     "data": {
      "text/plain": [
       "2"
      ]
     },
     "execution_count": 2,
     "metadata": {},
     "output_type": "execute_result"
    }
   ],
   "source": [
    "fib(3)"
   ]
  },
  {
   "cell_type": "code",
   "execution_count": null,
   "id": "d7bc1f57-0b03-46bb-9e51-92495981320c",
   "metadata": {},
   "outputs": [],
   "source": [
    "%time fib(10)"
   ]
  },
  {
   "cell_type": "code",
   "execution_count": 3,
   "id": "df486175-7fd4-46c0-9007-87623a03a4b7",
   "metadata": {},
   "outputs": [
    {
     "name": "stdout",
     "output_type": "stream",
     "text": [
      "CPU times: total: 141 ms\n",
      "Wall time: 144 ms\n"
     ]
    },
    {
     "data": {
      "text/plain": [
       "832040"
      ]
     },
     "execution_count": 3,
     "metadata": {},
     "output_type": "execute_result"
    }
   ],
   "source": [
    "%time fib(30)"
   ]
  },
  {
   "cell_type": "code",
   "execution_count": 4,
   "id": "50e8e089-9a96-41d1-8199-c973f85bae92",
   "metadata": {},
   "outputs": [
    {
     "name": "stdout",
     "output_type": "stream",
     "text": [
      "CPU times: total: 3min 24s\n",
      "Wall time: 3min 24s\n"
     ]
    },
    {
     "data": {
      "text/plain": [
       "1134903170"
      ]
     },
     "execution_count": 4,
     "metadata": {},
     "output_type": "execute_result"
    }
   ],
   "source": [
    "%time fib(45)"
   ]
  },
  {
   "cell_type": "markdown",
   "id": "57d65326-ce88-41b6-81de-34ea80691810",
   "metadata": {},
   "source": [
    "## 2. Shallow copy & Deep copy"
   ]
  },
  {
   "cell_type": "code",
   "execution_count": 1,
   "id": "222a06af-84f3-4867-813b-f94e4343be5a",
   "metadata": {},
   "outputs": [],
   "source": [
    "# shallow copy\n",
    "\n",
    "a = [1, 2, 3]\n",
    "\n",
    "b = a"
   ]
  },
  {
   "cell_type": "code",
   "execution_count": 3,
   "id": "5342d28d-9752-47d5-82a4-27f2b4e8733e",
   "metadata": {},
   "outputs": [
    {
     "name": "stdout",
     "output_type": "stream",
     "text": [
      "a is  [1, 2, 5] \n",
      " b is  [1, 2, 5]\n"
     ]
    }
   ],
   "source": [
    "b[2] = 5 \n",
    "\n",
    "print(\"a is \", a, \"\\n\",\n",
    "      \"b is \", b)"
   ]
  },
  {
   "cell_type": "code",
   "execution_count": 6,
   "id": "d12419b5-57c2-4221-910a-18b67bbf354d",
   "metadata": {},
   "outputs": [
    {
     "name": "stdout",
     "output_type": "stream",
     "text": [
      "a is  [1, 2, 5] \n",
      " b is  [1, 2, 5] \n",
      " c is  [1, 2, 10]\n"
     ]
    }
   ],
   "source": [
    "# deep copy\n",
    "\n",
    "c = a.copy()\n",
    "\n",
    "c[2] = 10 \n",
    "\n",
    "print(\"a is \", a, \"\\n\",\n",
    "      \"b is \", b, \"\\n\",\n",
    "      \"c is \", c)"
   ]
  },
  {
   "cell_type": "code",
   "execution_count": 7,
   "id": "4a7732b7-9756-4159-ac0d-2b0b578e5bd3",
   "metadata": {},
   "outputs": [
    {
     "name": "stdout",
     "output_type": "stream",
     "text": [
      "a is  [1, 2, 5] \n",
      " b is  [1, 2, 5] \n",
      " c is  [1, 2, 10] \n",
      " d is  [1, 2, 99]\n"
     ]
    }
   ],
   "source": [
    "# deep copy\n",
    "\n",
    "d = a[:]\n",
    "\n",
    "d[2] = 99 \n",
    "\n",
    "print(\"a is \", a, \"\\n\",\n",
    "      \"b is \", b, \"\\n\",\n",
    "      \"c is \", c, \"\\n\",\n",
    "      \"d is \", d)"
   ]
  }
 ],
 "metadata": {
  "kernelspec": {
   "display_name": "Python 3 (ipykernel)",
   "language": "python",
   "name": "python3"
  },
  "language_info": {
   "codemirror_mode": {
    "name": "ipython",
    "version": 3
   },
   "file_extension": ".py",
   "mimetype": "text/x-python",
   "name": "python",
   "nbconvert_exporter": "python",
   "pygments_lexer": "ipython3",
   "version": "3.9.12"
  }
 },
 "nbformat": 4,
 "nbformat_minor": 5
}
