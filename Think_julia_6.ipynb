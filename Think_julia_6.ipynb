{
 "cells": [
  {
   "cell_type": "markdown",
   "id": "067c1bd8-40c6-43f1-9530-267b12c7fbf6",
   "metadata": {},
   "source": [
    "# 줄리아를 생각하다(Think Julia)"
   ]
  },
  {
   "cell_type": "markdown",
   "id": "f60439f4-761b-420e-819b-f65b0b2385ca",
   "metadata": {},
   "source": [
    "## Chapter 6. 유익 함수\n",
    "\n",
    "결괏값이 있는 유익 함수를 작성하는 법"
   ]
  },
  {
   "cell_type": "markdown",
   "id": "6f4ea0bd-d633-4b6b-a44e-9f5542e82d70",
   "metadata": {},
   "source": [
    "### 6.1 결괏값\n",
    "\n",
    "**예제 1)** area 함수 (반지름이 주어지면 원의 면적을 반환하는 함수)"
   ]
  },
  {
   "cell_type": "code",
   "execution_count": 1,
   "id": "14657375-344d-490c-84c2-fa79ee5a803f",
   "metadata": {},
   "outputs": [
    {
     "data": {
      "text/plain": [
       "area (generic function with 1 method)"
      ]
     },
     "execution_count": 1,
     "metadata": {},
     "output_type": "execute_result"
    }
   ],
   "source": [
    "function area(radius)\n",
    "    a = π * radius^2\n",
    "    return a\n",
    "end"
   ]
  },
  {
   "cell_type": "code",
   "execution_count": 2,
   "id": "ea4c3091-93cf-47d9-93e2-01de359b0689",
   "metadata": {},
   "outputs": [
    {
     "data": {
      "text/plain": [
       "28.274333882308138"
      ]
     },
     "execution_count": 2,
     "metadata": {},
     "output_type": "execute_result"
    }
   ],
   "source": [
    "area(3)"
   ]
  },
  {
   "cell_type": "markdown",
   "id": "fcd0e1c8-25d3-4a82-9cef-94ff67e343cb",
   "metadata": {},
   "source": [
    "a와 같은 **임시변수(temporary variable)** 와 명시적인 리턴문을 사용하면 디버깅이 좀 더 쉬움\n",
    "\n",
    "어떤 함수의 반환값은 그 함수에서 마지막으로 평가된 표현식의 값"
   ]
  },
  {
   "cell_type": "markdown",
   "id": "66cd049c-aa17-46b7-a132-6d942304e5dc",
   "metadata": {},
   "source": [
    "**예제 2)** 조건문의 분기에 따라 복수의 리턴문을 쓰는 것이 유용한 경우"
   ]
  },
  {
   "cell_type": "code",
   "execution_count": 3,
   "id": "16059d12-d323-4ed5-a426-462e3ad36995",
   "metadata": {},
   "outputs": [
    {
     "data": {
      "text/plain": [
       "absvalue (generic function with 1 method)"
      ]
     },
     "execution_count": 3,
     "metadata": {},
     "output_type": "execute_result"
    }
   ],
   "source": [
    "function absvalue(x)\n",
    "    if x < 0\n",
    "        return -x\n",
    "    else \n",
    "        return x\n",
    "    end # 배타적으로 실행되는 대체 분기이므로 하나의 조건만 사용\n",
    "end     "
   ]
  },
  {
   "cell_type": "markdown",
   "id": "d132cbfd-91d4-428f-a659-983d79e3b8e2",
   "metadata": {},
   "source": [
    "* 함수 실행 중 리턴문을 만나면 더 이상의 문장을 실행하지 않고 함수 실행이 종료됨\n",
    "* 리터문 뒤에 나오는 코드 등 실행 흐름이 결코 도달할 수 없는 코드를 **불필요한 코드(dead code)** 라고 부름"
   ]
  },
  {
   "cell_type": "markdown",
   "id": "e2d02947-222e-4a44-a898-16eb3ca3cf74",
   "metadata": {},
   "source": [
    "**예제 3)** 잘못된 리턴문 예시"
   ]
  },
  {
   "cell_type": "code",
   "execution_count": 4,
   "id": "ff95ba67-6bd3-4293-a5dd-90b02ae08bf7",
   "metadata": {},
   "outputs": [
    {
     "data": {
      "text/plain": [
       "absvalue2 (generic function with 1 method)"
      ]
     },
     "execution_count": 4,
     "metadata": {},
     "output_type": "execute_result"
    }
   ],
   "source": [
    "function absvalue2(x)\n",
    "    if x < 0\n",
    "        return -x\n",
    "    end\n",
    "    if x > 0\n",
    "        return x\n",
    "    end\n",
    "end"
   ]
  },
  {
   "cell_type": "code",
   "execution_count": 5,
   "id": "c2a49682-5a8f-4eaf-913f-c57deec47471",
   "metadata": {},
   "outputs": [
    {
     "data": {
      "text/plain": [
       "1"
      ]
     },
     "execution_count": 5,
     "metadata": {},
     "output_type": "execute_result"
    }
   ],
   "source": [
    "absvalue2(-1)"
   ]
  },
  {
   "cell_type": "code",
   "execution_count": 6,
   "id": "2f48340e-8816-4dca-95bc-edd651ed7ed1",
   "metadata": {},
   "outputs": [],
   "source": [
    "absvalue2(0)"
   ]
  },
  {
   "cell_type": "markdown",
   "id": "e21848bc-60d4-4e00-8ed3-a2af2ad2c93b",
   "metadata": {},
   "source": [
    "입력 인수가 0인 경우, 두 조건 모두 참이 아니므로 실행 흐름에서 return문을 만나지 못하고 결괏값은 nothing이 됨\n",
    "\n",
    "* nothing이 0의 절댓값이 아님!"
   ]
  },
  {
   "cell_type": "markdown",
   "id": "5eb1ebe8-f7b1-4f49-b0a8-b7c286e2c31d",
   "metadata": {},
   "source": [
    "**연습 6-1)** 두 개의 값을 받아서 x > y 이면 1, x == y 이면 0, x < y 이면 -1을 반환하는 함수 compare를 작성"
   ]
  },
  {
   "cell_type": "code",
   "execution_count": 7,
   "id": "d9c5b404-b7e7-42ba-8a37-0af09cc029f8",
   "metadata": {},
   "outputs": [
    {
     "data": {
      "text/plain": [
       "compare (generic function with 1 method)"
      ]
     },
     "execution_count": 7,
     "metadata": {},
     "output_type": "execute_result"
    }
   ],
   "source": [
    "function compare(x, y)\n",
    "    if x > y \n",
    "        return 1\n",
    "    elseif x == y \n",
    "        return 0\n",
    "    else\n",
    "        return -1\n",
    "    end\n",
    "end"
   ]
  },
  {
   "cell_type": "code",
   "execution_count": 8,
   "id": "86ff3b46-8cbe-4cb1-ab70-71cafdc8ca40",
   "metadata": {},
   "outputs": [
    {
     "name": "stdout",
     "output_type": "stream",
     "text": [
      "1\n",
      "0\n",
      "-1"
     ]
    }
   ],
   "source": [
    "print(compare(5,4), \"\\n\",\n",
    "        compare(5,5), \"\\n\",\n",
    "        compare(5,6))"
   ]
  },
  {
   "cell_type": "markdown",
   "id": "7fc5d23a-4747-40f1-93ac-b4c8cdff8b49",
   "metadata": {},
   "source": [
    "### 6.2 점진적 개발"
   ]
  },
  {
   "cell_type": "markdown",
   "id": "bbc5aeca-6b12-47d3-9f5a-4347bf43578d",
   "metadata": {},
   "source": [
    "복잡도가 증가하는 프로그램을 다루기 위해 **점진적 개발(incremental development)** 시도"
   ]
  },
  {
   "cell_type": "markdown",
   "id": "c15c56be-aa79-4efd-931a-7a04665f6772",
   "metadata": {},
   "source": [
    "**예제 1)** 두 점 사이의 유클라디안 거리 계산 함수 "
   ]
  },
  {
   "cell_type": "code",
   "execution_count": 9,
   "id": "078cfc6d-a774-49fb-b619-44875e6224c1",
   "metadata": {},
   "outputs": [
    {
     "data": {
      "text/plain": [
       "distance (generic function with 1 method)"
      ]
     },
     "execution_count": 9,
     "metadata": {},
     "output_type": "execute_result"
    }
   ],
   "source": [
    "# step 1. 함수의 윤곽 작성\n",
    "\n",
    "function distance(x₁, y₁, x₂, y₂)\n",
    "    0.0\n",
    "end\n",
    "\n",
    "# 아래 첨자는 \\_1 + tab, \\_2 + tab 이용"
   ]
  },
  {
   "cell_type": "code",
   "execution_count": 10,
   "id": "b93474a4-621e-4bb8-af5e-859483794868",
   "metadata": {},
   "outputs": [
    {
     "data": {
      "text/plain": [
       "0.0"
      ]
     },
     "execution_count": 10,
     "metadata": {},
     "output_type": "execute_result"
    }
   ],
   "source": [
    "# step 2. 샘플 인수 테스트\n",
    "distance(1, 2, 4, 5)"
   ]
  },
  {
   "cell_type": "code",
   "execution_count": 11,
   "id": "49006a13-d7f8-4dd6-82af-3915734f0cbb",
   "metadata": {},
   "outputs": [
    {
     "data": {
      "text/plain": [
       "distance (generic function with 1 method)"
      ]
     },
     "execution_count": 11,
     "metadata": {},
     "output_type": "execute_result"
    }
   ],
   "source": [
    "# step 3. 임시 변수 생성, @show 매크로 이용 x, y 증분 출력 버전 작성\n",
    "\n",
    "function distance(x₁, y₁, x₂, y₂)\n",
    "    dx = x₂ - x₁\n",
    "    dy = y₂ - y₁\n",
    "    @show dx, dy\n",
    "    0.0\n",
    "end"
   ]
  },
  {
   "cell_type": "code",
   "execution_count": 12,
   "id": "4fddc688-26c1-4382-b1f5-6e3118798a0a",
   "metadata": {},
   "outputs": [
    {
     "name": "stdout",
     "output_type": "stream",
     "text": [
      "(dx, dy) = (3, 3)\n"
     ]
    },
    {
     "data": {
      "text/plain": [
       "0.0"
      ]
     },
     "execution_count": 12,
     "metadata": {},
     "output_type": "execute_result"
    }
   ],
   "source": [
    "# step 4. 샘플 인수 테스트\n",
    "distance(1, 2, 4, 5)"
   ]
  },
  {
   "cell_type": "code",
   "execution_count": 13,
   "id": "8d3bfa7d-43d3-4729-a067-fd8f9406d77c",
   "metadata": {},
   "outputs": [
    {
     "data": {
      "text/plain": [
       "distance (generic function with 1 method)"
      ]
     },
     "execution_count": 13,
     "metadata": {},
     "output_type": "execute_result"
    }
   ],
   "source": [
    "# step 5. 임시 변수 생성, @show 매크로 이용 제곱값 출력 버전 작성\n",
    "\n",
    "function distance(x₁, y₁, x₂, y₂)\n",
    "    dx = x₂ - x₁\n",
    "    dy = y₂ - y₁\n",
    "    d² = dx^2 + dy^2  # \\^2 + tab 이용, 위첨자 입력\n",
    "    @show d²\n",
    "    0.0\n",
    "end"
   ]
  },
  {
   "cell_type": "code",
   "execution_count": 14,
   "id": "91513ec3-ff9b-48a4-8c03-3d0f2d793ac3",
   "metadata": {},
   "outputs": [
    {
     "name": "stdout",
     "output_type": "stream",
     "text": [
      "d² = 18\n"
     ]
    },
    {
     "data": {
      "text/plain": [
       "0.0"
      ]
     },
     "execution_count": 14,
     "metadata": {},
     "output_type": "execute_result"
    }
   ],
   "source": [
    "# step 6. 샘플 인수 테스트\n",
    "distance(1, 2, 4, 5)"
   ]
  },
  {
   "cell_type": "markdown",
   "id": "019529d1-d88e-416b-b126-551387657739",
   "metadata": {},
   "source": [
    "**수식에 대한 구현**\n",
    "\n",
    "\n",
    "$$ d = \\sqrt{(x_{2} - x_{1})^2 + (y_{2} - y_{1})^2}$$"
   ]
  },
  {
   "cell_type": "code",
   "execution_count": 15,
   "id": "1f0d887f-ac12-4b2b-bd0f-f233e0935290",
   "metadata": {},
   "outputs": [
    {
     "data": {
      "text/plain": [
       "distance (generic function with 1 method)"
      ]
     },
     "execution_count": 15,
     "metadata": {},
     "output_type": "execute_result"
    }
   ],
   "source": [
    "# step 7. 증분의 제곱합에 대한 제곱근 적용 -> 거리 계산\n",
    "\n",
    "function distance(x₁, y₁, x₂, y₂)\n",
    "    dx = x₂ - x₁\n",
    "    dy = y₂ - y₁\n",
    "    d² = dx^2 + dy^2\n",
    "    return sqrt(d²)\n",
    "end"
   ]
  },
  {
   "cell_type": "code",
   "execution_count": 16,
   "id": "4e1f3b87-77b8-4226-9bd3-f891b5020ae6",
   "metadata": {},
   "outputs": [
    {
     "data": {
      "text/plain": [
       "4.242640687119285"
      ]
     },
     "execution_count": 16,
     "metadata": {},
     "output_type": "execute_result"
    }
   ],
   "source": [
    "# step 8. 샘플 인수 테스트\n",
    "distance(1, 2, 4, 5)"
   ]
  },
  {
   "cell_type": "markdown",
   "id": "84bc9afe-7f26-46a0-8635-89857d6df7d6",
   "metadata": {},
   "source": [
    "```@show``` 매크로는 뒤에 오는 표현식이 어떻게 평가되는지 출력하고, 그 최종 결과를 또 한 번 출력하므로 디버깅에 매우 유용함"
   ]
  },
  {
   "cell_type": "code",
   "execution_count": 17,
   "id": "047bfded-fc4f-4ef5-8822-e5303fa151dd",
   "metadata": {},
   "outputs": [
    {
     "name": "stdout",
     "output_type": "stream",
     "text": [
      "1 + 1 = 2\n"
     ]
    },
    {
     "data": {
      "text/plain": [
       "2"
      ]
     },
     "execution_count": 17,
     "metadata": {},
     "output_type": "execute_result"
    }
   ],
   "source": [
    "@show 1 + 1"
   ]
  },
  {
   "cell_type": "code",
   "execution_count": 18,
   "id": "7ae5cbec-1744-424b-8480-829852a75209",
   "metadata": {},
   "outputs": [
    {
     "name": "stdout",
     "output_type": "stream",
     "text": [
      "distance(1, 2, 4, 5) = 4.242640687119285\n"
     ]
    },
    {
     "data": {
      "text/plain": [
       "4.242640687119285"
      ]
     },
     "execution_count": 18,
     "metadata": {},
     "output_type": "execute_result"
    }
   ],
   "source": [
    "@show distance(1, 2, 4, 5)"
   ]
  },
  {
   "cell_type": "markdown",
   "id": "b7cb97f3-6280-4d9b-9f29-af7f1392bf0f",
   "metadata": {},
   "source": [
    "* 디버깅하면서 유용하게 사용했던 ```print```문 또는 ```@show``` 명령어 등은 함수가 제대로 동작하는 것을 확인한 다음에는 제거해야 함\n",
    "\n",
    "* 이러한 코드를 **스캐폴딩(scaffolding) 코드** 라고 함"
   ]
  },
  {
   "cell_type": "markdown",
   "id": "d3e35c72-5788-486c-a5e9-322a34bbd1fd",
   "metadata": {},
   "source": [
    "**※ 점진적 개발 방법의 핵심**\n",
    "\n",
    "1) 동작하는 프로그램에서 시작해, 작고 점진적인 변화를 만듦 -> 어떤 시점에서 오류가 발생하면, 오류가 발생한 지점을 쉽게 파악할 수 있음\n",
    "\n",
    "2) 계산 중간 결과를 담는 변수를 사용 -> 화면에 출력하면서 동작 확인이 가능\n",
    "\n",
    "3) 프로그램이 잘 동작하면, 스캐폴딩을 제거(또는 주석처리)하거나 여러 문장을 복합 표현식으로 축약 -> 단, 프로그램을 읽기 어려워지지 않는 선에서\n"
   ]
  },
  {
   "cell_type": "markdown",
   "id": "e01370f9-965e-40e6-984c-4b33f88f938f",
   "metadata": {},
   "source": [
    "### 6.3 합성"
   ]
  },
  {
   "cell_type": "markdown",
   "id": "1228299d-c5ca-4aed-b70d-f521e6a79731",
   "metadata": {},
   "source": [
    "**예제 1)** 원의 중심점 좌표와 호에 있는 한 점의 좌표를 인수로 받아, 원의 넓이를 계산하는 함수 작성"
   ]
  },
  {
   "cell_type": "code",
   "execution_count": 19,
   "id": "2c7675b0-eb54-46e9-9399-0c80db91cbc7",
   "metadata": {},
   "outputs": [
    {
     "data": {
      "text/plain": [
       "area (generic function with 1 method)"
      ]
     },
     "execution_count": 19,
     "metadata": {},
     "output_type": "execute_result"
    }
   ],
   "source": [
    "function area(radius)\n",
    "    a = π * radius^2\n",
    "    return a\n",
    "end"
   ]
  },
  {
   "cell_type": "code",
   "execution_count": 20,
   "id": "f18979e9-31f1-4b93-8b4d-56df988da65c",
   "metadata": {},
   "outputs": [
    {
     "data": {
      "text/plain": [
       "distance (generic function with 1 method)"
      ]
     },
     "execution_count": 20,
     "metadata": {},
     "output_type": "execute_result"
    }
   ],
   "source": [
    "function distance(x₁, y₁, x₂, y₂)\n",
    "    dx = x₂ - x₁\n",
    "    dy = y₂ - y₁\n",
    "    d² = dx^2 + dy^2\n",
    "    return sqrt(d²)\n",
    "end"
   ]
  },
  {
   "cell_type": "code",
   "execution_count": 21,
   "id": "538c251e-cc3f-47e4-8e0a-ccd69d957c00",
   "metadata": {},
   "outputs": [
    {
     "data": {
      "text/plain": [
       "circlearea (generic function with 1 method)"
      ]
     },
     "execution_count": 21,
     "metadata": {},
     "output_type": "execute_result"
    }
   ],
   "source": [
    "function circlearea(xc, yc, xp, yp)\n",
    "    radius = distance(xc, yc, xp, yp)\n",
    "    result = area(radius)\n",
    "    return result\n",
    "end"
   ]
  },
  {
   "cell_type": "markdown",
   "id": "65e493c7-e13b-413f-942a-1e366604084d",
   "metadata": {},
   "source": [
    "임시 변수로 사용한 radius와 result는 개발과 디버깅 과정에서 유용하게 썼으나, 함수 호출을 합성해서 더 간결하게 만들 수 있음"
   ]
  },
  {
   "cell_type": "code",
   "execution_count": 22,
   "id": "bbed3f04-83cf-45ed-a9ac-1ac53a2478ba",
   "metadata": {},
   "outputs": [
    {
     "data": {
      "text/plain": [
       "circlearea2 (generic function with 1 method)"
      ]
     },
     "execution_count": 22,
     "metadata": {},
     "output_type": "execute_result"
    }
   ],
   "source": [
    "function circlearea2(xc, yc, xp, yp)\n",
    "    area(distance(xc, yc, xp, yp))\n",
    "end"
   ]
  },
  {
   "cell_type": "code",
   "execution_count": 23,
   "id": "884085ed-d57b-4e1f-afec-7dc22314584c",
   "metadata": {},
   "outputs": [
    {
     "name": "stdout",
     "output_type": "stream",
     "text": [
      "Result of circlearea function is 6.283185307179588\n",
      "Result of circlearea2 function is 6.283185307179588"
     ]
    }
   ],
   "source": [
    "print(\"Result of circlearea function is \", circlearea(0,0,1,1), \"\\n\", \n",
    "      \"Result of circlearea2 function is \", circlearea2(0,0,1,1))"
   ]
  },
  {
   "cell_type": "markdown",
   "id": "6420bb86-8002-49ae-95fe-c73d4bec06b6",
   "metadata": {},
   "source": [
    "### 6.4 불리언 함수\n",
    "\n",
    "불리언(Boolean) 자료형을 반환하는 함수는 복잡한 조건식을 함수 내부로 숨기는 데 편리하게 사용할 수 있음"
   ]
  },
  {
   "cell_type": "markdown",
   "id": "f6958a2d-d686-445c-9f03-7f2a2f0f9195",
   "metadata": {},
   "source": [
    "**예제 1)** 나머지가 없이 나누기 가능한지 검토하는 함수"
   ]
  },
  {
   "cell_type": "code",
   "execution_count": 24,
   "id": "d32ec613-f7b2-4ccd-a067-1409fc5200f9",
   "metadata": {},
   "outputs": [
    {
     "data": {
      "text/plain": [
       "isdivisible (generic function with 1 method)"
      ]
     },
     "execution_count": 24,
     "metadata": {},
     "output_type": "execute_result"
    }
   ],
   "source": [
    "function isdivisible(x, y)\n",
    "    if x % y == 0\n",
    "        return true\n",
    "    else\n",
    "        return false\n",
    "    end\n",
    "end"
   ]
  },
  {
   "cell_type": "code",
   "execution_count": 25,
   "id": "15b468ab-501d-4677-9658-60c533f13acf",
   "metadata": {},
   "outputs": [
    {
     "data": {
      "text/plain": [
       "false"
      ]
     },
     "execution_count": 25,
     "metadata": {},
     "output_type": "execute_result"
    }
   ],
   "source": [
    "isdivisible(6, 4)"
   ]
  },
  {
   "cell_type": "code",
   "execution_count": 26,
   "id": "9e7383dd-4833-4c00-82f4-a2e1810561ed",
   "metadata": {},
   "outputs": [
    {
     "data": {
      "text/plain": [
       "true"
      ]
     },
     "execution_count": 26,
     "metadata": {},
     "output_type": "execute_result"
    }
   ],
   "source": [
    "isdivisible(6, 3)"
   ]
  },
  {
   "cell_type": "markdown",
   "id": "750b88f6-93f7-42d3-8434-3b8777ea79d2",
   "metadata": {},
   "source": [
    "* 불리언 함수는 예, 아니오로 대답할 수 있는 질문인 것처럼 이름을 지음\n",
    "* == 연산자의 결과가 불리언 자료형 이므로 isdivisible 함수의 결과를 리터문 없이 직접 반환하도록 축약 가능"
   ]
  },
  {
   "cell_type": "code",
   "execution_count": 27,
   "id": "e5414873-005c-4d27-b5e2-311bc561f9da",
   "metadata": {},
   "outputs": [
    {
     "data": {
      "text/plain": [
       "isdivisible (generic function with 1 method)"
      ]
     },
     "execution_count": 27,
     "metadata": {},
     "output_type": "execute_result"
    }
   ],
   "source": [
    "function isdivisible(x, y)\n",
    "    x % y == 0\n",
    "end"
   ]
  },
  {
   "cell_type": "markdown",
   "id": "11937aca-218f-46de-b1e4-2616038e0ba8",
   "metadata": {},
   "source": [
    "보통 불리언 함수는 조건문에서 사용됨"
   ]
  },
  {
   "cell_type": "code",
   "execution_count": 28,
   "id": "b034623f-df98-41dc-a0a8-cc2000fcaa39",
   "metadata": {},
   "outputs": [
    {
     "name": "stdout",
     "output_type": "stream",
     "text": [
      "x is divisible y\n"
     ]
    }
   ],
   "source": [
    "x = 4; y = 2;\n",
    "\n",
    "if isdivisible(x, y)\n",
    "    println(\"x is divisible y\")\n",
    "end"
   ]
  },
  {
   "cell_type": "markdown",
   "id": "9f7c311e-0f41-40a0-b816-393835462008",
   "metadata": {},
   "source": [
    "**연습 6-3** isbetween(x, y, z) 함수 작성\n",
    "\n",
    "    * x <= y <= z를 만족하면 true, 그렇지 않으면 false"
   ]
  },
  {
   "cell_type": "code",
   "execution_count": 29,
   "id": "27f80ec6-a47e-49f8-8ca3-827d57aa2f05",
   "metadata": {},
   "outputs": [
    {
     "data": {
      "text/plain": [
       "isbetween (generic function with 1 method)"
      ]
     },
     "execution_count": 29,
     "metadata": {},
     "output_type": "execute_result"
    }
   ],
   "source": [
    "function isbetween(x, y, z)\n",
    "    if x ≤ y ≤ z\n",
    "        return true\n",
    "    else\n",
    "        return false\n",
    "    end\n",
    "end"
   ]
  },
  {
   "cell_type": "code",
   "execution_count": 30,
   "id": "4ca57fda-aea3-4221-a68b-37f32c7a56bf",
   "metadata": {},
   "outputs": [
    {
     "data": {
      "text/plain": [
       "true"
      ]
     },
     "execution_count": 30,
     "metadata": {},
     "output_type": "execute_result"
    }
   ],
   "source": [
    "isbetween(2, 3, 4)"
   ]
  },
  {
   "cell_type": "code",
   "execution_count": 31,
   "id": "a5532925-592c-43f5-b3aa-1dd7d493e6d5",
   "metadata": {},
   "outputs": [
    {
     "data": {
      "text/plain": [
       "false"
      ]
     },
     "execution_count": 31,
     "metadata": {},
     "output_type": "execute_result"
    }
   ],
   "source": [
    "isbetween(4, 3, 2)"
   ]
  },
  {
   "cell_type": "markdown",
   "id": "5398bd70-9f1d-4bb8-aed6-70c34d765fa3",
   "metadata": {},
   "source": [
    "### 6.5 재귀 심화\n",
    "\n",
    "몇 가지 재귀적으로 정의된 수학 함수 이용"
   ]
  },
  {
   "cell_type": "markdown",
   "id": "3aee4376-a1d7-4de2-8a09-4bd156a0f307",
   "metadata": {},
   "source": [
    "**예제 1)** factorial fucntion"
   ]
  },
  {
   "cell_type": "code",
   "execution_count": 32,
   "id": "893d2c7e-afbf-49a1-b648-8d98d6e3c130",
   "metadata": {},
   "outputs": [
    {
     "data": {
      "text/plain": [
       "fact (generic function with 1 method)"
      ]
     },
     "execution_count": 32,
     "metadata": {},
     "output_type": "execute_result"
    }
   ],
   "source": [
    "# 1. 매개변수 선정\n",
    "\n",
    "function fact(n) end"
   ]
  },
  {
   "cell_type": "code",
   "execution_count": 33,
   "id": "9427848d-4871-49c8-a64a-c09eafa63e90",
   "metadata": {},
   "outputs": [
    {
     "data": {
      "text/plain": [
       "fact (generic function with 1 method)"
      ]
     },
     "execution_count": 33,
     "metadata": {},
     "output_type": "execute_result"
    }
   ],
   "source": [
    "# 2. 인수가 0인 경우 1을 반환\n",
    "\n",
    "function fact(n)\n",
    "    if n == 0\n",
    "        return 1\n",
    "    end\n",
    "end"
   ]
  },
  {
   "cell_type": "code",
   "execution_count": 34,
   "id": "61999485-1a1a-4ec8-bb18-fca786b85109",
   "metadata": {},
   "outputs": [
    {
     "data": {
      "text/plain": [
       "fact (generic function with 1 method)"
      ]
     },
     "execution_count": 34,
     "metadata": {},
     "output_type": "execute_result"
    }
   ],
   "source": [
    "# 3. 다른 경우 n-1의 계승을 구하기 위해 재귀 호출 후 n을 곱함\n",
    "\n",
    "function fact(n)\n",
    "    if n == 0\n",
    "        return 1\n",
    "    else\n",
    "        recurse = fact(n-1)\n",
    "        result = n * recurse\n",
    "        return result\n",
    "    end\n",
    "end"
   ]
  },
  {
   "cell_type": "markdown",
   "id": "76888dfa-cab4-4446-af3c-eccabd453039",
   "metadata": {},
   "source": [
    "* 이 프로그램의 실행은 5.8절 countdown 함수와 비슷\n",
    "* 만일 인수를 3으로 정하여 fact 함수를 호출하면 다음의 실행 흐름이 이어짐\n",
    "- - -\n",
    "* 3은 0이 아니므로, 두번째 분기를 타서 n-1의 계승을 구함\n",
    "    * 2는 0이 아니므로, 두번째 분기를 타서 n-1의 계승을 구함\n",
    "        * 1은 0이 아니므로 두번째 분기를 타서 n-1의 계승을 구함\n",
    "            * 0은 0과 같으므로 첫번째 분기를 타서 더 이상의 재귀 호출 없이 1을 반환함\n",
    "        * 결과값 1을 n의 값 1과 곱한 결과 1이 반환됨\n",
    "    * 결과값 1을 n의 값 2와 곱한 결과 2가 반환됨\n",
    "* 결과값 2를 n의 값 3과 곱한 결과 6이 최초 함수 호출에 대한 결과로 반환됨\n",
    "- - -\n"
   ]
  },
  {
   "cell_type": "markdown",
   "id": "bef9379f-0a95-434f-8e8d-fc34193b890e",
   "metadata": {},
   "source": [
    "### 6.6 믿음의 도약"
   ]
  },
  {
   "cell_type": "markdown",
   "id": "c4b1ba02-05e2-441b-9cd5-08fdbf009ef5",
   "metadata": {},
   "source": [
    "* 믿음의 도약(leap of faith) : 함수 호출을 만나면, 실행 흐름을 따라가는 대신에 함수가 잘 동작하고 옳은 결과를 반환할 거라고 가정(assume)하는 것\n",
    "* 내장 함수에 대해서 믿음의 도약을 실시하고 있음(함수 내용 또는 함수의 소스코드를 열어서 확인하지는 않음. 단지 잘 동작할 것일라고 가정 후 사용)\n",
    "* 재귀 호출 프로그램에서도 재귀 호출이 잘 동작한다고 가정 후 재귀 함수 작성!"
   ]
  },
  {
   "cell_type": "markdown",
   "id": "c0aad866-260d-4647-bc51-32557101b433",
   "metadata": {},
   "source": [
    "### 6.7 추가 예제"
   ]
  },
  {
   "cell_type": "markdown",
   "id": "f9848eab-6676-415c-9467-61a7667b196c",
   "metadata": {},
   "source": [
    "계승 다음으로 가장 흔하게 재귀적으로 정의되는 수함 함수: 피보나치 수\n"
   ]
  },
  {
   "cell_type": "code",
   "execution_count": 35,
   "id": "05be59fc-ef17-46c2-9cb2-23da60d780a9",
   "metadata": {},
   "outputs": [
    {
     "data": {
      "text/plain": [
       "fib (generic function with 1 method)"
      ]
     },
     "execution_count": 35,
     "metadata": {},
     "output_type": "execute_result"
    }
   ],
   "source": [
    "function fib(n)\n",
    "    if n == 0\n",
    "        return 0\n",
    "    elseif n == 1\n",
    "        return 1\n",
    "    else\n",
    "        return fib(n-1) + fib(n-2)\n",
    "    end\n",
    "end"
   ]
  },
  {
   "cell_type": "code",
   "execution_count": 36,
   "id": "97029f9c-31b4-4333-ae8e-64cec1969c55",
   "metadata": {},
   "outputs": [
    {
     "data": {
      "text/plain": [
       "fib2 (generic function with 1 method)"
      ]
     },
     "execution_count": 36,
     "metadata": {},
     "output_type": "execute_result"
    }
   ],
   "source": [
    "# 또 다른 예\n",
    "fib2(n) = n < 2 ? n : fib(n-1) + fib(n-2)"
   ]
  },
  {
   "cell_type": "markdown",
   "id": "f8b17328-703f-4ac5-a16d-fa2cc45b2ffe",
   "metadata": {},
   "source": [
    "**(번외) 피보나치 함수의 성능 테스트**"
   ]
  },
  {
   "cell_type": "code",
   "execution_count": 37,
   "id": "5cbfa2e9-2fa5-4e44-94fb-b5229bd71c0b",
   "metadata": {},
   "outputs": [],
   "source": [
    "using BenchmarkTools"
   ]
  },
  {
   "cell_type": "code",
   "execution_count": 38,
   "id": "dc277503-8200-4493-8500-147629a2358d",
   "metadata": {},
   "outputs": [
    {
     "name": "stdout",
     "output_type": "stream",
     "text": [
      "  0.000002 seconds\n"
     ]
    },
    {
     "data": {
      "text/plain": [
       "55"
      ]
     },
     "execution_count": 38,
     "metadata": {},
     "output_type": "execute_result"
    }
   ],
   "source": [
    "@time fib(10)"
   ]
  },
  {
   "cell_type": "code",
   "execution_count": 39,
   "id": "7c2ec80d-2a23-4d10-9c84-32ba8208ecd8",
   "metadata": {},
   "outputs": [
    {
     "name": "stdout",
     "output_type": "stream",
     "text": [
      "  0.004664 seconds\n"
     ]
    },
    {
     "data": {
      "text/plain": [
       "832040"
      ]
     },
     "execution_count": 39,
     "metadata": {},
     "output_type": "execute_result"
    }
   ],
   "source": [
    "@time fib(30)"
   ]
  },
  {
   "cell_type": "code",
   "execution_count": 40,
   "id": "02175086-10f4-44df-bd99-a235c4a3a0b0",
   "metadata": {},
   "outputs": [
    {
     "name": "stdout",
     "output_type": "stream",
     "text": [
      "  3.612707 seconds\n"
     ]
    },
    {
     "data": {
      "text/plain": [
       "701408733"
      ]
     },
     "execution_count": 40,
     "metadata": {},
     "output_type": "execute_result"
    }
   ],
   "source": [
    "@time fib(44)"
   ]
  },
  {
   "cell_type": "code",
   "execution_count": 41,
   "id": "b59fd893-1dd7-4140-a6ac-19b7a50c3780",
   "metadata": {},
   "outputs": [
    {
     "name": "stdout",
     "output_type": "stream",
     "text": [
      "  5.757731 seconds\n"
     ]
    },
    {
     "data": {
      "text/plain": [
       "1134903170"
      ]
     },
     "execution_count": 41,
     "metadata": {},
     "output_type": "execute_result"
    }
   ],
   "source": [
    "@time fib(45)"
   ]
  },
  {
   "cell_type": "code",
   "execution_count": 42,
   "id": "68f02bc8-00c2-43e4-ace3-62f5398e141f",
   "metadata": {},
   "outputs": [
    {
     "name": "stdout",
     "output_type": "stream",
     "text": [
      "  5.773703 seconds\n"
     ]
    },
    {
     "data": {
      "text/plain": [
       "1134903170"
      ]
     },
     "execution_count": 42,
     "metadata": {},
     "output_type": "execute_result"
    }
   ],
   "source": [
    "@time fib2(45)"
   ]
  },
  {
   "cell_type": "code",
   "execution_count": 43,
   "id": "8a7c32e2-2d0c-4de3-9400-8e3ef714e0f9",
   "metadata": {},
   "outputs": [
    {
     "name": "stdout",
     "output_type": "stream",
     "text": [
      "  9.371605 seconds\n"
     ]
    },
    {
     "data": {
      "text/plain": [
       "1836311903"
      ]
     },
     "execution_count": 43,
     "metadata": {},
     "output_type": "execute_result"
    }
   ],
   "source": [
    "@time fib(46)"
   ]
  },
  {
   "cell_type": "code",
   "execution_count": 44,
   "id": "6ac186f1-b74b-42a4-ba3b-26e5efb57333",
   "metadata": {},
   "outputs": [
    {
     "name": "stdout",
     "output_type": "stream",
     "text": [
      " 15.240239 seconds\n"
     ]
    },
    {
     "data": {
      "text/plain": [
       "2971215073"
      ]
     },
     "execution_count": 44,
     "metadata": {},
     "output_type": "execute_result"
    }
   ],
   "source": [
    "@time fib(47)"
   ]
  },
  {
   "cell_type": "code",
   "execution_count": 45,
   "id": "2589d65f-29bf-443c-8b87-b35aefdcf71e",
   "metadata": {},
   "outputs": [
    {
     "name": "stdout",
     "output_type": "stream",
     "text": [
      " 24.241153 seconds\n"
     ]
    },
    {
     "data": {
      "text/plain": [
       "4807526976"
      ]
     },
     "execution_count": 45,
     "metadata": {},
     "output_type": "execute_result"
    }
   ],
   "source": [
    "@time fib(48)"
   ]
  },
  {
   "cell_type": "code",
   "execution_count": 46,
   "id": "5f6b76d6-f976-4123-9840-f226a12ca89b",
   "metadata": {},
   "outputs": [
    {
     "name": "stdout",
     "output_type": "stream",
     "text": [
      " 39.702762 seconds\n"
     ]
    },
    {
     "data": {
      "text/plain": [
       "7778742049"
      ]
     },
     "execution_count": 46,
     "metadata": {},
     "output_type": "execute_result"
    }
   ],
   "source": [
    "@time fib(49)"
   ]
  },
  {
   "cell_type": "code",
   "execution_count": 47,
   "id": "5d752a7d-9437-410e-8b1f-f5bd88e7ea48",
   "metadata": {},
   "outputs": [
    {
     "name": "stdout",
     "output_type": "stream",
     "text": [
      " 65.799661 seconds\n"
     ]
    },
    {
     "data": {
      "text/plain": [
       "12586269025"
      ]
     },
     "execution_count": 47,
     "metadata": {},
     "output_type": "execute_result"
    }
   ],
   "source": [
    "@time fib(50)"
   ]
  },
  {
   "cell_type": "markdown",
   "id": "5a4b2d0e-4b7a-4259-9c21-d5c917879019",
   "metadata": {},
   "source": [
    "### 6.8 자료형 검사"
   ]
  },
  {
   "cell_type": "markdown",
   "id": "bac40aa6-764c-4dcf-8ca0-3f9ef8b20cf7",
   "metadata": {},
   "source": [
    "* fact 함수에 1.5를 입력하면 무한 재귀가 발생한 것처럼 나타남\n",
    "\n",
    "    * -> 함수의 기저 상태는 n == 0 일때 이나, n이 정수가 아니라면, 기저 상태를 놓치므로 무한 재귀에 빠지게 됨\n",
    "    \n",
    "    \n",
    "* 해결 가능한 방안은 두 가지가 있음 \n",
    "\n",
    "    1) 계승 함수를 일반화해서 부동소수점 수에서도 적용 -> 감마함수\n",
    "    \n",
    "    2) fact 함수가 인수의 자료형을 미리 확인하도록 하는 것 -> 실질적인 방법\n",
    "   \n",
    "    "
   ]
  },
  {
   "cell_type": "markdown",
   "id": "f039e407-8e44-40a0-a4a9-d4be8416209e",
   "metadata": {},
   "source": [
    "**예제 1)** 인수의 자료형 검사"
   ]
  },
  {
   "cell_type": "code",
   "execution_count": 48,
   "id": "f873f158-b90c-4355-8c7d-ef047014eb8e",
   "metadata": {},
   "outputs": [
    {
     "data": {
      "text/plain": [
       "fact (generic function with 1 method)"
      ]
     },
     "execution_count": 48,
     "metadata": {},
     "output_type": "execute_result"
    }
   ],
   "source": [
    "# 내장 연산자 isa 사용\n",
    "\n",
    "function fact(n)\n",
    "    if !(n isa Int64)\n",
    "        error(\"Factorial is only defined for integers.\")\n",
    "    elseif n < 0\n",
    "        error(\"Factorial is not defined for negative integers.\")\n",
    "    elseif n == 0\n",
    "        return 1\n",
    "    else\n",
    "        return n * fact(n-1)\n",
    "    end\n",
    "end"
   ]
  },
  {
   "cell_type": "code",
   "execution_count": 49,
   "id": "b92d4055-d713-4f05-a207-5f6f26df5f11",
   "metadata": {},
   "outputs": [
    {
     "ename": "LoadError",
     "evalue": "Factorial is only defined for integers.",
     "output_type": "error",
     "traceback": [
      "Factorial is only defined for integers.",
      "",
      "Stacktrace:",
      " [1] error(s::String)",
      "   @ Base .\\error.jl:35",
      " [2] fact(n::String)",
      "   @ Main .\\In[48]:5",
      " [3] top-level scope",
      "   @ In[49]:3",
      " [4] eval",
      "   @ .\\boot.jl:368 [inlined]",
      " [5] include_string(mapexpr::typeof(REPL.softscope), mod::Module, code::String, filename::String)",
      "   @ Base .\\loading.jl:1428"
     ]
    }
   ],
   "source": [
    "# 오류값 반환 예시\n",
    "\n",
    "fact(\"fred\")"
   ]
  },
  {
   "cell_type": "code",
   "execution_count": 50,
   "id": "afd402e2-8abd-4d03-9a9b-a1adc2d007a9",
   "metadata": {},
   "outputs": [
    {
     "ename": "LoadError",
     "evalue": "Factorial is not defined for negative integers.",
     "output_type": "error",
     "traceback": [
      "Factorial is not defined for negative integers.",
      "",
      "Stacktrace:",
      " [1] error(s::String)",
      "   @ Base .\\error.jl:35",
      " [2] fact(n::Int64)",
      "   @ Main .\\In[48]:7",
      " [3] top-level scope",
      "   @ In[50]:4",
      " [4] eval",
      "   @ .\\boot.jl:368 [inlined]",
      " [5] include_string(mapexpr::typeof(REPL.softscope), mod::Module, code::String, filename::String)",
      "   @ Base .\\loading.jl:1428"
     ]
    }
   ],
   "source": [
    "# 오류값 반환 예시\n",
    "\n",
    "\n",
    "fact(-2)"
   ]
  },
  {
   "cell_type": "markdown",
   "id": "1ac557db-181a-48af-86a3-7a323d97a7fa",
   "metadata": {},
   "source": [
    "앞에 있는 조건문 2개가 **보호자(guardian)** 로서 이후에 나오는 코드에 오류를 발생시킬 수 있는 값이 들어가지 않도록 보호해 줌\n",
    "\n",
    "(-> 코드의 정합성 유지)"
   ]
  },
  {
   "cell_type": "markdown",
   "id": "566ed94e-122b-4bc2-9aa8-1da44d8a6b06",
   "metadata": {},
   "source": [
    "### 6.9 디버깅"
   ]
  },
  {
   "cell_type": "markdown",
   "id": "565c42a8-37fd-40d3-9dea-8bc93562d6e7",
   "metadata": {},
   "source": [
    "* 어떤 함수가 잘 동작하지 않으면, 세 가지 가능성이 있음\n",
    "\n",
    "    1) 함수에 전달되는 인수에 문제가 있다. (전제 조건 위반)\n",
    "    \n",
    "    2) 함수 자체에 문제가 있다. (후행 조건 위반)\n",
    "    \n",
    "    3) 결괏값에 문제가 있거나, 사용 방식에 문제가 있다."
   ]
  },
  {
   "cell_type": "markdown",
   "id": "c48b57b2-37ab-4504-8535-16eb1eee18ea",
   "metadata": {},
   "source": [
    "* 대응 방법\n",
    "\n",
    "    1. 첫 번째 가능성을 배제하기 위해서 함수의 앞부분에 출력문을 추가해 매개변수 값(과 자료형)을 출력해볼 수 있음\n",
    "    2. 매개변수에 문제가 없다면, 각각의 리턴문 앞에 결괏값을 출력하는 출력문을 넣음\n",
    "    3. 함수 자체에 문제가 없는 것 같다면, 함수를 호출하는 부분을 잘 살펴보고 결괏값이 옳게 사용되는지를 확인\n",
    "    4. 함수의 앞부분과 뒷부분에 출력문을 넣으면 실행 흐름을 파악하는 데 도움이 됨\n",
    "\n",
    "**예제 1)** 실행 흐름을 파악하기 위해 출력문을 넣은 fact 함수"
   ]
  },
  {
   "cell_type": "code",
   "execution_count": 51,
   "id": "dff6507a-1096-44d5-96de-bae9a6133d66",
   "metadata": {},
   "outputs": [
    {
     "data": {
      "text/plain": [
       "fact (generic function with 1 method)"
      ]
     },
     "execution_count": 51,
     "metadata": {},
     "output_type": "execute_result"
    }
   ],
   "source": [
    "function fact(n)\n",
    "    space = \" \" ^ (4*n)\n",
    "    println(space, \"factorial \", n)\n",
    "    if n == 0\n",
    "        println(space, \"returning 1\")\n",
    "        return 1\n",
    "    else\n",
    "        recurse = fact(n-1)\n",
    "        result = n*recurse\n",
    "        println(space, \"returning\", result)\n",
    "        return result\n",
    "    end\n",
    "end"
   ]
  },
  {
   "cell_type": "code",
   "execution_count": 52,
   "id": "9f56fd8a-dfbe-4b38-88c7-1fa3799da7ef",
   "metadata": {},
   "outputs": [
    {
     "name": "stdout",
     "output_type": "stream",
     "text": [
      "                factorial 4\n",
      "            factorial 3\n",
      "        factorial 2\n",
      "    factorial 1\n",
      "factorial 0\n",
      "returning 1\n",
      "    returning1\n",
      "        returning2\n",
      "            returning6\n",
      "                returning24\n"
     ]
    },
    {
     "data": {
      "text/plain": [
       "24"
      ]
     },
     "execution_count": 52,
     "metadata": {},
     "output_type": "execute_result"
    }
   ],
   "source": [
    "fact(4)"
   ]
  },
  {
   "cell_type": "code",
   "execution_count": 53,
   "id": "1507bb00-8467-4369-a0ab-6d6479d464a7",
   "metadata": {},
   "outputs": [
    {
     "name": "stdout",
     "output_type": "stream",
     "text": [
      "                                        factorial 10\n",
      "                                    factorial 9\n",
      "                                factorial 8\n",
      "                            factorial 7\n",
      "                        factorial 6\n",
      "                    factorial 5\n",
      "                factorial 4\n",
      "            factorial 3\n",
      "        factorial 2\n",
      "    factorial 1\n",
      "factorial 0\n",
      "returning 1\n",
      "    returning1\n",
      "        returning2\n",
      "            returning6\n",
      "                returning24\n",
      "                    returning120\n",
      "                        returning720\n",
      "                            returning5040\n",
      "                                returning40320\n",
      "                                    returning362880\n",
      "                                        returning3628800\n"
     ]
    },
    {
     "data": {
      "text/plain": [
       "3628800"
      ]
     },
     "execution_count": 53,
     "metadata": {},
     "output_type": "execute_result"
    }
   ],
   "source": [
    "fact(10)"
   ]
  },
  {
   "cell_type": "markdown",
   "id": "ffff12f0-d94a-4dde-bf14-2e667e8b2806",
   "metadata": {},
   "source": [
    "* space는 들여쓰기를 위해 사용하는 빈 칸으로 된 문자열\n",
    "* 실행 흐름이 헷갈리면 이런 식의 출력이 도움이 됨\n",
    "* 약간의 스캐폴딩으로도 디버깅이 크게 줄어들 수 있음"
   ]
  },
  {
   "cell_type": "markdown",
   "id": "d5bac918-bfd0-4b50-acd6-acc8e831a5c1",
   "metadata": {},
   "source": [
    "### 6.10 용어집"
   ]
  },
  {
   "cell_type": "markdown",
   "id": "cd5ef3ca-557d-42b5-81d8-3f5304032e42",
   "metadata": {},
   "source": [
    "* **임시 변수(Temporary variable)** \n",
    "\n",
    "    - 복잡한 계산 과정 중간에 나오는 값을 저장하는 변수\n",
    "    \n",
    "* **불필요한 코드(Dead code)** \n",
    "\n",
    "    - 프로그램 중 절대 실행되지 않는 부분. 종종 코드가 리턴문 뒤에 있기 때문에 발생\n",
    "    \n",
    "* **점진적 개발(Incremental development)** \n",
    "\n",
    "    - 한 번에 작은 분량의 코드만을 추가하고 테스트함으로써 디버깅을 줄이는 것을 목표로 하는 프로그램 개발 계획\n",
    "\n",
    "* **스캐폴딩(Scaffolding)** \n",
    "\n",
    "    - 프로그램 개발 중에만 사용하고, 완성 후에는 제거하는 코드\n",
    "    \n",
    "* **보호자(Gaurdian)** \n",
    "\n",
    "    - 오류가 발생할 수 있는 상황을 미리 체크하고 조치하기 위해 조건문을 사용하는 프로그램 패턴\n"
   ]
  },
  {
   "cell_type": "markdown",
   "id": "bb72c027-8aff-4ddf-9c05-770e62a183db",
   "metadata": {},
   "source": [
    "### 연습 문제"
   ]
  },
  {
   "cell_type": "markdown",
   "id": "91a47393-730b-465a-8f9b-d9c55ca3631e",
   "metadata": {},
   "source": [
    "**연습문제 6-4**"
   ]
  },
  {
   "cell_type": "code",
   "execution_count": 54,
   "id": "7b922700-28e7-47a0-9b7f-62d0d35a02c2",
   "metadata": {},
   "outputs": [
    {
     "data": {
      "text/plain": [
       "c (generic function with 1 method)"
      ]
     },
     "execution_count": 54,
     "metadata": {},
     "output_type": "execute_result"
    }
   ],
   "source": [
    "function b(z)\n",
    "    prod = a(z, z)\n",
    "    println(z, \" \", prod)\n",
    "    prod\n",
    "end\n",
    "\n",
    "function a(x, y)\n",
    "    x = x + 1\n",
    "    x*y\n",
    "end\n",
    "\n",
    "function c(x, y, z)\n",
    "    total = x + y + z\n",
    "    square = b(total)^2\n",
    "    square\n",
    "end"
   ]
  },
  {
   "cell_type": "code",
   "execution_count": 55,
   "id": "865db734-9766-417e-af1d-de07fcc22940",
   "metadata": {},
   "outputs": [
    {
     "name": "stdout",
     "output_type": "stream",
     "text": [
      "9 90\n",
      "8100\n"
     ]
    }
   ],
   "source": [
    "x = 1\n",
    "y = x + 1\n",
    "println(c(x, y+3, x+y))"
   ]
  },
  {
   "cell_type": "markdown",
   "id": "ba0c57af-c954-4ad3-8011-2dc02e365f9e",
   "metadata": {},
   "source": [
    "**연습문제 6-5)** 아커만 함수"
   ]
  },
  {
   "cell_type": "code",
   "execution_count": 56,
   "id": "83626f94-250a-413e-b0e8-afaf613e90d9",
   "metadata": {},
   "outputs": [
    {
     "data": {
      "text/plain": [
       "ack (generic function with 1 method)"
      ]
     },
     "execution_count": 56,
     "metadata": {},
     "output_type": "execute_result"
    }
   ],
   "source": [
    "function ack(m ,n)\n",
    "    if m == 0\n",
    "        return n + 1\n",
    "    elseif m > 0 && n == 0\n",
    "        return ack(m-1, 1)\n",
    "    elseif m > 0 && n > 0\n",
    "        return ack(m-1, ack(m, n-1))\n",
    "    else\n",
    "        println(\"There are not cases for calculating in this function.\")\n",
    "    end\n",
    "end"
   ]
  },
  {
   "cell_type": "code",
   "execution_count": 57,
   "id": "97ebde86-7211-4f7f-9a0f-67b5557156f1",
   "metadata": {},
   "outputs": [
    {
     "data": {
      "text/plain": [
       "125"
      ]
     },
     "execution_count": 57,
     "metadata": {},
     "output_type": "execute_result"
    }
   ],
   "source": [
    "ack(3, 4)"
   ]
  },
  {
   "cell_type": "markdown",
   "id": "3aa51995-83ca-4483-92c9-a28773343ac2",
   "metadata": {},
   "source": [
    "**연습 6-6)** 우영우 문제: 똑바로 읽어도 거꾸로 읽어도 같은 회문(palindrome) 판별 함수 작성"
   ]
  },
  {
   "cell_type": "code",
   "execution_count": 58,
   "id": "f1836900-00d2-4ea2-ab08-0fc78a3b19e4",
   "metadata": {},
   "outputs": [
    {
     "data": {
      "text/plain": [
       "middle (generic function with 1 method)"
      ]
     },
     "execution_count": 58,
     "metadata": {},
     "output_type": "execute_result"
    }
   ],
   "source": [
    "function first(word)\n",
    "    first = firstindex(word)\n",
    "    word[first]\n",
    "end\n",
    "\n",
    "function last(word)\n",
    "    last = lastindex(word)\n",
    "    word[last]\n",
    "end\n",
    "\n",
    "function middle(word)\n",
    "    first = firstindex(word)\n",
    "    last = lastindex(word)\n",
    "    word[nextind(word, first) : prevind(word, last)]\n",
    "end"
   ]
  },
  {
   "cell_type": "code",
   "execution_count": 59,
   "id": "45c05449-9327-4044-a476-28b2257adca9",
   "metadata": {},
   "outputs": [
    {
     "data": {
      "text/plain": [
       "\"\""
      ]
     },
     "execution_count": 59,
     "metadata": {},
     "output_type": "execute_result"
    }
   ],
   "source": [
    "middle(\"la\")"
   ]
  },
  {
   "cell_type": "code",
   "execution_count": 60,
   "id": "05f981d8-a427-40d0-b3a2-2f1c6d02f950",
   "metadata": {},
   "outputs": [
    {
     "data": {
      "text/plain": [
       "\"a\""
      ]
     },
     "execution_count": 60,
     "metadata": {},
     "output_type": "execute_result"
    }
   ],
   "source": [
    "middle(\"lal\")"
   ]
  },
  {
   "cell_type": "code",
   "execution_count": 61,
   "id": "c7baddc0-ae34-418a-8d40-f45a11541eea",
   "metadata": {},
   "outputs": [
    {
     "ename": "LoadError",
     "evalue": "BoundsError: attempt to access empty String at index [1]",
     "output_type": "error",
     "traceback": [
      "BoundsError: attempt to access empty String at index [1]",
      "",
      "Stacktrace:",
      " [1] _nextind_str",
      "   @ .\\strings\\string.jl:158 [inlined]",
      " [2] nextind",
      "   @ .\\strings\\string.jl:152 [inlined]",
      " [3] middle(word::String)",
      "   @ Main .\\In[58]:14",
      " [4] top-level scope",
      "   @ In[61]:1",
      " [5] eval",
      "   @ .\\boot.jl:368 [inlined]",
      " [6] include_string(mapexpr::typeof(REPL.softscope), mod::Module, code::String, filename::String)",
      "   @ Base .\\loading.jl:1428"
     ]
    }
   ],
   "source": [
    "middle(\"\")"
   ]
  }
 ],
 "metadata": {
  "kernelspec": {
   "display_name": "Julia 1.8.0",
   "language": "julia",
   "name": "julia-1.8"
  },
  "language_info": {
   "file_extension": ".jl",
   "mimetype": "application/julia",
   "name": "julia",
   "version": "1.8.0"
  }
 },
 "nbformat": 4,
 "nbformat_minor": 5
}
