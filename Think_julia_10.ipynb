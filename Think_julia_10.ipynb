{
 "cells": [
  {
   "cell_type": "markdown",
   "id": "aba9cbb5-428b-41a9-819e-8466aafa4740",
   "metadata": {},
   "source": [
    "# 줄리아를 생각하다(Think Julia)"
   ]
  },
  {
   "cell_type": "markdown",
   "id": "66beff5d-2c9e-4474-bce2-edeeff0a6331",
   "metadata": {},
   "source": [
    "## Chapter 10. 배열"
   ]
  },
  {
   "cell_type": "markdown",
   "id": "1fa2a02d-e949-425d-b366-7e84291b51f5",
   "metadata": {},
   "source": [
    "### 10.1 배열은 순열 (An Array is Sequence)\n",
    "\n",
    "* 문자열처럼 **배열(array)** 는 값의 순서 있는 나열, 즉 순열(sequence)임\n",
    "\n",
    "* 배열의 각 값은 **원소(element)** 라고 하며, **항목(item)** 이라고도 함\n",
    "\n",
    "* 배열을 만드는 방법은 대괄호(braket) ```[ ]``` 로 감싸서 생성"
   ]
  },
  {
   "cell_type": "code",
   "execution_count": 1,
   "id": "469fa8b0-f2aa-46ac-858f-c69a3e557366",
   "metadata": {},
   "outputs": [
    {
     "data": {
      "text/plain": [
       "4-element Vector{Int64}:\n",
       " 10\n",
       " 20\n",
       " 30\n",
       " 40"
      ]
     },
     "execution_count": 1,
     "metadata": {},
     "output_type": "execute_result"
    }
   ],
   "source": [
    "[10, 20, 30, 40]"
   ]
  },
  {
   "cell_type": "code",
   "execution_count": 2,
   "id": "a6f05a3d-de51-45d2-8580-6fd95b4b6946",
   "metadata": {},
   "outputs": [
    {
     "data": {
      "text/plain": [
       "3-element Vector{String}:\n",
       " \"crunchy frog\"\n",
       " \"ram bladder\"\n",
       " \"lark vomit\""
      ]
     },
     "execution_count": 2,
     "metadata": {},
     "output_type": "execute_result"
    }
   ],
   "source": [
    "[\"crunchy frog\", \"ram bladder\", \"lark vomit\"]"
   ]
  },
  {
   "cell_type": "markdown",
   "id": "cfc5fa10-47b0-469a-851b-a76e8c376105",
   "metadata": {},
   "source": [
    "* 배열의 원소를 각각 다른 자료형으로 만들 수 있음 -> data type이 Any로 설정되는 것을 확인할 수 있음\n",
    "\n",
    "* 배열의 원소로 배열을 가지고 갈 수 있음 -> **중첩된 배열(nested array)**"
   ]
  },
  {
   "cell_type": "code",
   "execution_count": 3,
   "id": "a461edee-378a-407b-b9bb-747fa48a2656",
   "metadata": {},
   "outputs": [
    {
     "data": {
      "text/plain": [
       "4-element Vector{Any}:\n",
       "  \"spam\"\n",
       " 2.0\n",
       " 5\n",
       "  [10, 20]"
      ]
     },
     "execution_count": 3,
     "metadata": {},
     "output_type": "execute_result"
    }
   ],
   "source": [
    "[\"spam\", 2.0, 5, [10, 20]]"
   ]
  },
  {
   "cell_type": "markdown",
   "id": "32e3b932-a36a-43ef-928e-948b5c0ba4c2",
   "metadata": {},
   "source": [
    "* 배열의 변수 할당 및 자료형 확인 \n",
    "\n",
    "* 빈 배열(Empty array)도 생성 가능 -> 모든 자료형을 담을 수 있으므로 Any type으로 생성"
   ]
  },
  {
   "cell_type": "code",
   "execution_count": 4,
   "id": "86830062-3fce-4f74-a170-9195641fb19f",
   "metadata": {},
   "outputs": [
    {
     "name": "stdout",
     "output_type": "stream",
     "text": [
      "Vector{String}, [\"Cheddar\", \"Edam\", \"Gouda\"]\n",
      "Vector{Int64}, [42, 123]\n",
      "Vector{Any}, Any[]\n"
     ]
    }
   ],
   "source": [
    "cheeses = [\"Cheddar\", \"Edam\", \"Gouda\"]\n",
    "numbers = [42, 123]\n",
    "empty = []\n",
    "\n",
    "array_set = (cheeses, numbers, empty)\n",
    "    \n",
    "for element in array_set\n",
    "    println(typeof(element), \", \", element)\n",
    "end"
   ]
  },
  {
   "cell_type": "markdown",
   "id": "46406515-d588-46da-ab9c-640a65c2821a",
   "metadata": {},
   "source": [
    "```\n",
    "```\n",
    "### 10.2 배열은 가변 (Arrays are Mutable)"
   ]
  },
  {
   "cell_type": "markdown",
   "id": "a9b467fb-dd5e-448c-af62-4b1f5e3a2a21",
   "metadata": {},
   "source": [
    "* 배열 원소에 접근하기 위한 구문 규칙은 문자열에서 문자에 접근하는 것과 동일하게 대괄호 연산자(indexing) 사용\n",
    "\n",
    "* 대괄호 안에 있는 표현식은 인덱스를 나타내며, 줄리아의 인덱스는 1부터 시작 (Python은 0, R은 1부터 시작)\n",
    "\n",
    "* 배열의 원소에 (값을 새로 넣는)할당이 가능 --> 가변적임"
   ]
  },
  {
   "cell_type": "code",
   "execution_count": 5,
   "id": "c0d15bc6-bc18-435c-9952-d3ab722eff29",
   "metadata": {},
   "outputs": [
    {
     "data": {
      "text/plain": [
       "\"Cheddar\""
      ]
     },
     "execution_count": 5,
     "metadata": {},
     "output_type": "execute_result"
    }
   ],
   "source": [
    "cheeses[1]"
   ]
  },
  {
   "cell_type": "code",
   "execution_count": 6,
   "id": "db2d0f91-3075-4d45-ab94-7e9ab0917ba2",
   "metadata": {},
   "outputs": [
    {
     "data": {
      "text/plain": [
       "123"
      ]
     },
     "execution_count": 6,
     "metadata": {},
     "output_type": "execute_result"
    }
   ],
   "source": [
    "numbers[2]"
   ]
  },
  {
   "cell_type": "code",
   "execution_count": 7,
   "id": "6659267f-7320-4832-8e04-23ffd9386f2f",
   "metadata": {},
   "outputs": [
    {
     "name": "stdout",
     "output_type": "stream",
     "text": [
      "[42, 5]"
     ]
    }
   ],
   "source": [
    "numbers[2] = 5\n",
    "print(numbers)"
   ]
  },
  {
   "cell_type": "markdown",
   "id": "624deccd-c053-4140-910f-0ef8eb820e35",
   "metadata": {},
   "source": [
    "* 인덱스로 정수 표현식 사용 가능\n",
    "\n",
    "* 존재하지 않는 원소를 읽거나 쓰려고 하면, BoundsError가 발생함\n",
    "\n",
    "* 예약어 end는 배열의 마지막 인덱스를 가리킴\n",
    "\n",
    "* ∈ 연산자 사용 가능"
   ]
  },
  {
   "cell_type": "code",
   "execution_count": 8,
   "id": "18968fb6-dce4-4cec-b176-d6e4a724e615",
   "metadata": {},
   "outputs": [
    {
     "data": {
      "text/plain": [
       "true"
      ]
     },
     "execution_count": 8,
     "metadata": {},
     "output_type": "execute_result"
    }
   ],
   "source": [
    "\"Edam\" ∈ cheeses"
   ]
  },
  {
   "cell_type": "code",
   "execution_count": 9,
   "id": "9f261f65-d826-4f08-a92c-bd7037e52737",
   "metadata": {},
   "outputs": [
    {
     "data": {
      "text/plain": [
       "false"
      ]
     },
     "execution_count": 9,
     "metadata": {},
     "output_type": "execute_result"
    }
   ],
   "source": [
    "\"Brie\" ∈ cheeses"
   ]
  },
  {
   "cell_type": "markdown",
   "id": "b35f93b5-9879-417c-b6cb-27ea8b22277d",
   "metadata": {},
   "source": [
    "```\n",
    "```\n",
    "### 10.3 배열 순회하기 (Traversing an Array)"
   ]
  },
  {
   "cell_type": "markdown",
   "id": "93fd8f6b-4166-489c-9991-db9f625408ee",
   "metadata": {},
   "source": [
    "* for loop를 이용한 배열의 원소 순회(traversal)"
   ]
  },
  {
   "cell_type": "code",
   "execution_count": 10,
   "id": "ee85d89d-37b1-42d6-83cf-98d5792d10d5",
   "metadata": {},
   "outputs": [
    {
     "name": "stdout",
     "output_type": "stream",
     "text": [
      "Cheddar\n",
      "Edam\n",
      "Gouda\n"
     ]
    }
   ],
   "source": [
    "for cheese in cheeses\n",
    "    println(cheese)\n",
    "end"
   ]
  },
  {
   "cell_type": "code",
   "execution_count": 11,
   "id": "6e03a1f6-0622-49fb-bc00-91b1d254bdb9",
   "metadata": {},
   "outputs": [
    {
     "name": "stdout",
     "output_type": "stream",
     "text": [
      "Cheddar cheese\n",
      "\n",
      "Edam cheese\n",
      "\n",
      "Gouda cheese\n",
      "\n",
      "[\"Cheddar\", \"Edam\", \"Gouda\"]\n"
     ]
    }
   ],
   "source": [
    "for cheese in cheeses\n",
    "    cheese = cheese*\" cheese\"\n",
    "    println(cheese, \"\\n\")\n",
    "end\n",
    "\n",
    "# 하지만 cheeses 배열은 변화 없음\n",
    "println(cheeses)"
   ]
  },
  {
   "cell_type": "markdown",
   "id": "818e8930-0c37-4941-8956-2ce4d6476c75",
   "metadata": {},
   "source": [
    "* 배열에 새로 기입하거나 원소를 갱신하고자 한다면 인덱스를 이용해야 함\n",
    "\n",
    "* Julia의 내장 함수 eachindex를 이용하는 방법을 활용할 수 있음\n",
    "\n",
    "* 빈 배열(Empty array)에 대한 for loop는 한 번도 실행되지 않음"
   ]
  },
  {
   "cell_type": "code",
   "execution_count": 12,
   "id": "934534b0-a575-4334-9f8d-1b5666e078e2",
   "metadata": {},
   "outputs": [
    {
     "name": "stdout",
     "output_type": "stream",
     "text": [
      "[84, 10]\n"
     ]
    }
   ],
   "source": [
    "for i in eachindex(numbers)\n",
    "    numbers[i] = numbers[i] * 2\n",
    "end\n",
    "\n",
    "println(numbers)"
   ]
  },
  {
   "cell_type": "code",
   "execution_count": 13,
   "id": "a6a047d5-d172-427d-8bcf-c1cf91378f33",
   "metadata": {},
   "outputs": [],
   "source": [
    "for x in []\n",
    "    println(\"Check empty array\")\n",
    "end"
   ]
  },
  {
   "cell_type": "markdown",
   "id": "995000aa-9f5b-42f1-9b03-a7029cd6ff57",
   "metadata": {},
   "source": [
    "* 배열은 다른 배열을 원소로 가질 수 있지만, 중첩된 배열 또한 한 개의 원소로 처리\n",
    "\n",
    "* length 함수를 이용한 배열의 길이(element의 개수) 확인"
   ]
  },
  {
   "cell_type": "code",
   "execution_count": 14,
   "id": "44c80eda-0e0d-4fb8-ab3c-caeaac286023",
   "metadata": {},
   "outputs": [
    {
     "data": {
      "text/plain": [
       "4-element Vector{Any}:\n",
       "  \"spam\"\n",
       " 1\n",
       "  [\"Brie\", \"Roquefort\", \"Camembert\"]\n",
       "  [1, 2, 3]"
      ]
     },
     "execution_count": 14,
     "metadata": {},
     "output_type": "execute_result"
    }
   ],
   "source": [
    "[\"spam\", 1, [\"Brie\", \"Roquefort\", \"Camembert\"], [1, 2, 3]]"
   ]
  },
  {
   "cell_type": "code",
   "execution_count": 15,
   "id": "d56e892e-8110-472d-a6b8-9dfc79880ead",
   "metadata": {},
   "outputs": [
    {
     "data": {
      "text/plain": [
       "4"
      ]
     },
     "execution_count": 15,
     "metadata": {},
     "output_type": "execute_result"
    }
   ],
   "source": [
    "# [\"Brie\", \"Roquefort\", \"Camembert\"] 와 [1, 2, 3] nested array를 각각 1개의 element로 인식\n",
    "\n",
    "length([\"spam\", 1, [\"Brie\", \"Roquefort\", \"Camembert\"], [1, 2, 3]])"
   ]
  },
  {
   "cell_type": "markdown",
   "id": "075ec8ff-5eb8-4e8f-8e46-2768a1e9d5e4",
   "metadata": {},
   "source": [
    "```\n",
    "```\n",
    "### 10.4 배열 자르기 (Array slices)"
   ]
  },
  {
   "cell_type": "markdown",
   "id": "55cf95ba-34c7-42ea-9d4c-219b41392599",
   "metadata": {},
   "source": [
    "* 슬라이싱 연산자(slice operator) 또한 배열에 적용됨\n",
    "\n",
    "* 슬라이싱 연산자를 이용해 특정 위치에 원소를 삭제하거나 새로 입력하거나 (CRUD) 할 수 있음"
   ]
  },
  {
   "cell_type": "code",
   "execution_count": 16,
   "id": "0a48a7eb-56b9-42c2-a2b6-e60fdb73f0ee",
   "metadata": {},
   "outputs": [
    {
     "name": "stdout",
     "output_type": "stream",
     "text": [
      "['a', 'b', 'c']\n"
     ]
    }
   ],
   "source": [
    "t = ['a', 'b', 'c', 'd', 'e', 'f']\n",
    "println(t[1:3])"
   ]
  },
  {
   "cell_type": "code",
   "execution_count": 17,
   "id": "880f8fd8-7c39-45bc-aa39-94333e2c191a",
   "metadata": {},
   "outputs": [
    {
     "name": "stdout",
     "output_type": "stream",
     "text": [
      "['c', 'd', 'e', 'f']\n"
     ]
    }
   ],
   "source": [
    "println(t[3:end])"
   ]
  },
  {
   "cell_type": "code",
   "execution_count": 18,
   "id": "31a7b5eb-b8bc-4fa6-b9fb-494e0f9e0d0b",
   "metadata": {},
   "outputs": [
    {
     "name": "stdout",
     "output_type": "stream",
     "text": [
      "['a', 'b', 'c', 'd', 'e', 'f']\n"
     ]
    }
   ],
   "source": [
    "println(t[:])"
   ]
  },
  {
   "cell_type": "code",
   "execution_count": 19,
   "id": "728bca20-85be-4fb7-89af-70d13bb774f5",
   "metadata": {},
   "outputs": [
    {
     "name": "stdout",
     "output_type": "stream",
     "text": [
      "['a', 'x', 'y', 'd', 'e', 'f']\n"
     ]
    }
   ],
   "source": [
    "t[2:3] = ['x', 'y']\n",
    "println(t)"
   ]
  },
  {
   "cell_type": "markdown",
   "id": "d1a723a9-765b-4132-ba87-6c28fe9f5e7e",
   "metadata": {},
   "source": [
    "```\n",
    "```\n",
    "### 10.5 배열 라이브러리 (Array Library)"
   ]
  },
  {
   "cell_type": "markdown",
   "id": "2737255b-c845-4561-9d20-29697c3decb3",
   "metadata": {},
   "source": [
    "줄리아는 기본적인 데이터 구조 타입으로 collection을 설정하고 있다. \n",
    "\n",
    "collection과 array의 차이에 대해 파악하는 것이 필요함\n",
    "\n",
    "참고: https://discourse.julialang.org/t/difference-between-collect-x-and-array-x/64652\n",
    "\n"
   ]
  },
  {
   "cell_type": "markdown",
   "id": "f9a908ee-b223-4773-ad1d-0909a73a101f",
   "metadata": {},
   "source": [
    "**1) push! 함수**\n",
    "\n",
    "* 배열의 맨 뒤에서 새로운 원소를 추가함"
   ]
  },
  {
   "cell_type": "code",
   "execution_count": 20,
   "id": "a36acad2-7eaf-4c80-a849-33f5c39db9f2",
   "metadata": {},
   "outputs": [
    {
     "name": "stdout",
     "output_type": "stream",
     "text": [
      "['a', 'b', 'c', 'd']"
     ]
    }
   ],
   "source": [
    "t = ['a', 'b', 'c'];\n",
    "push!(t, 'd')\n",
    "print(t)"
   ]
  },
  {
   "cell_type": "markdown",
   "id": "0ea05503-85b8-49fc-97e1-ed03dd73b725",
   "metadata": {},
   "source": [
    "**2) append! 함수**\n",
    "\n",
    "* 두 번째 배열의 원소들을 첫 번째 배열의 뒤에 붙임"
   ]
  },
  {
   "cell_type": "code",
   "execution_count": 21,
   "id": "45ea0d1b-3734-4351-b18b-650649628ff9",
   "metadata": {},
   "outputs": [
    {
     "name": "stdout",
     "output_type": "stream",
     "text": [
      "['a', 'b', 'c', 'd', 'e']\n"
     ]
    }
   ],
   "source": [
    "t1 = ['a', 'b', 'c'];\n",
    "t2 = ['d', 'e'];\n",
    "append!(t1, t2);\n",
    "println(t1)"
   ]
  },
  {
   "cell_type": "markdown",
   "id": "6eba6d95-fcec-49ec-a902-f4e586061c1e",
   "metadata": {},
   "source": [
    "**3) sort! 함수**\n",
    "\n",
    "* 배열의 원소를 오름차순으로 정렬 -> 인수로 입력된 배열의 순서를 정렬함 **(배열의 데이터가 바뀜)**"
   ]
  },
  {
   "cell_type": "code",
   "execution_count": 22,
   "id": "c807f411-e5a8-4b3c-b2fb-7e753daf3cf6",
   "metadata": {},
   "outputs": [
    {
     "name": "stdout",
     "output_type": "stream",
     "text": [
      "['a', 'b', 'c', 'd', 'e']\n",
      "['e', 'd', 'c', 'b', 'a']\n"
     ]
    }
   ],
   "source": [
    "t = ['a', 'c', 'd', 'b', 'e'];\n",
    "\n",
    "sort!(t);\n",
    "println(t)\n",
    "\n",
    "sort!(t, rev = true)\n",
    "println(t)"
   ]
  },
  {
   "cell_type": "markdown",
   "id": "98f35250-09b8-4804-ae9e-b9ab981ebfd1",
   "metadata": {},
   "source": [
    "**4) sort 함수**\n",
    "\n",
    "* 오름차순으로 원소가 배렬된 복사본을 반환함"
   ]
  },
  {
   "cell_type": "code",
   "execution_count": 23,
   "id": "b678d48e-f240-4ebb-b3aa-cd1b2d9aceee",
   "metadata": {},
   "outputs": [
    {
     "name": "stdout",
     "output_type": "stream",
     "text": [
      "t1: ['d', 'c', 'e', 'b', 'a']\n",
      "t2: ['a', 'b', 'c', 'd', 'e']\n"
     ]
    }
   ],
   "source": [
    "t1 = ['d', 'c', 'e', 'b', 'a'];\n",
    "t2 = sort(t1)\n",
    "\n",
    "println(\"t1: \", t1)\n",
    "println(\"t2: \", t2)"
   ]
  },
  {
   "cell_type": "markdown",
   "id": "fa9a0f75-0da2-4674-9eb4-3d413e820088",
   "metadata": {},
   "source": [
    "####  modify their arguments (!)\n",
    "\n",
    "**줄리아는 인수를 수정하는 함수의 이름에는 !를 붙이는 관례가 있음!!**"
   ]
  },
  {
   "cell_type": "markdown",
   "id": "71a6d505-4962-4854-ba6b-480b65682b00",
   "metadata": {},
   "source": [
    "```\n",
    "```\n",
    "### 10.6 맵, 필터, 리듀스"
   ]
  },
  {
   "cell_type": "markdown",
   "id": "4f878797-9e39-4b48-b4fe-2e1293fcabb1",
   "metadata": {},
   "source": [
    "배열의 모든 원소를 합하려면, 보통 다음과 같은 기초 루프를 작성함\n",
    "\n",
    "* 변수 total을 모두 0으로 초기화한 후, 루프를 돌 때마다 += 연산자에 배열의 원소를 하나씩 더함 -> **누산기(accumulator)**\n",
    "\n",
    "* **증강할당문(augmented assignment statement)** 사용"
   ]
  },
  {
   "cell_type": "code",
   "execution_count": 24,
   "id": "cb5282a5-1483-4d0b-b130-6208cb57a24a",
   "metadata": {},
   "outputs": [
    {
     "data": {
      "text/plain": [
       "addall (generic function with 1 method)"
      ]
     },
     "execution_count": 24,
     "metadata": {},
     "output_type": "execute_result"
    }
   ],
   "source": [
    "function addall(t)\n",
    "    total = 0\n",
    "    for x in t\n",
    "        total += x # 증강할당문\n",
    "    end\n",
    "    return total\n",
    "end"
   ]
  },
  {
   "cell_type": "markdown",
   "id": "c325ac9f-6c60-43bd-9d2d-958863de43f2",
   "metadata": {},
   "source": [
    "#### 1) 리듀스(reduce)\n",
    "\n",
    "* **원소의 순열을 합쳐서 단일한 값을 만드는 연산을 리듀스 연산(reduce operation)이라 함**\n",
    "\n",
    "줄리아 내장함수 sum 이용 예시\n"
   ]
  },
  {
   "cell_type": "code",
   "execution_count": 25,
   "id": "d4efe0ab-cf2b-4a53-9771-8f52b4d871e3",
   "metadata": {},
   "outputs": [
    {
     "data": {
      "text/plain": [
       "10"
      ]
     },
     "execution_count": 25,
     "metadata": {},
     "output_type": "execute_result"
    }
   ],
   "source": [
    "t = [1, 2, 3, 4]\n",
    "sum(t)"
   ]
  },
  {
   "cell_type": "markdown",
   "id": "9be23722-9484-42a3-abdc-40100ab181f4",
   "metadata": {},
   "source": [
    "#### 2) 맵(map)\n",
    "\n",
    "\n",
    "* **배열의 각 원소에 대해 어떤 함수를 적용하는 연산**\n",
    "\n",
    "대문자 변환 map 연산 예시"
   ]
  },
  {
   "cell_type": "code",
   "execution_count": 26,
   "id": "8b3b3b46-a8b0-4d08-a878-8a0faed05795",
   "metadata": {},
   "outputs": [
    {
     "data": {
      "text/plain": [
       "capitalizeall (generic function with 1 method)"
      ]
     },
     "execution_count": 26,
     "metadata": {},
     "output_type": "execute_result"
    }
   ],
   "source": [
    "function capitalizeall(t)\n",
    "    res = []\n",
    "    for s in t\n",
    "        push!(res, uppercase(s))\n",
    "    end\n",
    "    res\n",
    "end"
   ]
  },
  {
   "cell_type": "code",
   "execution_count": 27,
   "id": "0a7699d0-b2f8-4685-812c-b9bd9c02ee7c",
   "metadata": {},
   "outputs": [
    {
     "data": {
      "text/plain": [
       "3-element Vector{Any}:\n",
       " \"TEST\"\n",
       " \"OPERATION\"\n",
       " \"FOOD\""
      ]
     },
     "execution_count": 27,
     "metadata": {},
     "output_type": "execute_result"
    }
   ],
   "source": [
    "capitalizeall([\"test\", \"operation\", \"food\"])"
   ]
  },
  {
   "cell_type": "markdown",
   "id": "26d5265c-f80e-4be0-b33b-3fca4579c30f",
   "metadata": {
    "tags": []
   },
   "source": [
    "#### 3) 필터(filter)\n",
    "\n",
    "* 어떤 원소는 선택하고 어떤 원소는 걸러내는 연산\n",
    "\n",
    "문자열의 배열을 받아서 대문자 단어만 추린 배열을 반환하는 예시"
   ]
  },
  {
   "cell_type": "code",
   "execution_count": 28,
   "id": "600677e8-d525-4054-b210-8849f287efc5",
   "metadata": {},
   "outputs": [
    {
     "data": {
      "text/plain": [
       "onlyupper (generic function with 1 method)"
      ]
     },
     "execution_count": 28,
     "metadata": {},
     "output_type": "execute_result"
    }
   ],
   "source": [
    "function onlyupper(t)\n",
    "    res = []\n",
    "    for s in t\n",
    "        if s == uppercase(s)\n",
    "            push!(res, s)\n",
    "        end\n",
    "    end\n",
    "    res\n",
    "end"
   ]
  },
  {
   "cell_type": "code",
   "execution_count": 29,
   "id": "3fd3722a-f730-4f46-94b1-9f111fc23779",
   "metadata": {},
   "outputs": [
    {
     "data": {
      "text/plain": [
       "2-element Vector{Any}:\n",
       " 'T': ASCII/Unicode U+0054 (category Lu: Letter, uppercase)\n",
       " 'T': ASCII/Unicode U+0054 (category Lu: Letter, uppercase)"
      ]
     },
     "execution_count": 29,
     "metadata": {},
     "output_type": "execute_result"
    }
   ],
   "source": [
    "onlyupper(\"TesT\")"
   ]
  },
  {
   "cell_type": "markdown",
   "id": "f2ea9956-9f43-4815-a9ab-25e4485882d0",
   "metadata": {},
   "source": [
    "**※ 대부분의 배열 연산은 맵, 필터, 리듀스의 조합으로 표현 가능**"
   ]
  },
  {
   "cell_type": "markdown",
   "id": "a685d523-7ec4-4abd-b9dc-fa8331db88f0",
   "metadata": {},
   "source": [
    "```\n",
    "```\n",
    "### 10.7 도트 연산자(Dot operation, Dot Syntax)"
   ]
  },
  {
   "cell_type": "markdown",
   "id": "29ca095d-e8e1-4454-911b-6356f7019d35",
   "metadata": {},
   "source": [
    "**_줄리아에서 매우 중요하면서도 타 언어(Python, R) 대비 이질적인 부분이 바로 Dot syntax 이다._**\n",
    "\n",
    "* ^ 같은 모든 이항 연산자는 .^처럼 대응하는 dot operator를 가지고 있음. \n",
    "\n",
    "* dot operator는 자동적으로 두 배열의 대응하는원소와 원소에 대한 연산을 수행함(element-wise)\n",
    "\n",
    "* 예를 들어 [1, 2, 3]^3 은 정의되지 않는 식이지만 [1, 2, 3] .^3 은 원소별로 연산을 수행함\n",
    "\n",
    "**(원문 참조) dot operator ```.^``` that is automatically defined to perform ```^``` element-by-element on arrays.**\n",
    "\n"
   ]
  },
  {
   "cell_type": "code",
   "execution_count": 30,
   "id": "4e92a6f5-5f8b-46d8-9dbf-2523ba147b56",
   "metadata": {},
   "outputs": [
    {
     "ename": "LoadError",
     "evalue": "MethodError: no method matching ^(::Vector{Int64}, ::Int64)\n\u001b[0mClosest candidates are:\n\u001b[0m  ^(\u001b[91m::Union{AbstractChar, AbstractString}\u001b[39m, ::Integer) at strings/basic.jl:730\n\u001b[0m  ^(\u001b[91m::LinearAlgebra.Symmetric{var\"#s884\", S} where {var\"#s884\"<:Real, S<:(AbstractMatrix{<:var\"#s884\"})}\u001b[39m, ::Integer) at C:\\Users\\jeffr\\AppData\\Local\\Programs\\Julia-1.8.0\\share\\julia\\stdlib\\v1.8\\LinearAlgebra\\src\\symmetric.jl:674\n\u001b[0m  ^(\u001b[91m::LinearAlgebra.Symmetric{var\"#s884\", S} where {var\"#s884\"<:Complex, S<:(AbstractMatrix{<:var\"#s884\"})}\u001b[39m, ::Integer) at C:\\Users\\jeffr\\AppData\\Local\\Programs\\Julia-1.8.0\\share\\julia\\stdlib\\v1.8\\LinearAlgebra\\src\\symmetric.jl:675\n\u001b[0m  ...",
     "output_type": "error",
     "traceback": [
      "MethodError: no method matching ^(::Vector{Int64}, ::Int64)\n\u001b[0mClosest candidates are:\n\u001b[0m  ^(\u001b[91m::Union{AbstractChar, AbstractString}\u001b[39m, ::Integer) at strings/basic.jl:730\n\u001b[0m  ^(\u001b[91m::LinearAlgebra.Symmetric{var\"#s884\", S} where {var\"#s884\"<:Real, S<:(AbstractMatrix{<:var\"#s884\"})}\u001b[39m, ::Integer) at C:\\Users\\jeffr\\AppData\\Local\\Programs\\Julia-1.8.0\\share\\julia\\stdlib\\v1.8\\LinearAlgebra\\src\\symmetric.jl:674\n\u001b[0m  ^(\u001b[91m::LinearAlgebra.Symmetric{var\"#s884\", S} where {var\"#s884\"<:Complex, S<:(AbstractMatrix{<:var\"#s884\"})}\u001b[39m, ::Integer) at C:\\Users\\jeffr\\AppData\\Local\\Programs\\Julia-1.8.0\\share\\julia\\stdlib\\v1.8\\LinearAlgebra\\src\\symmetric.jl:675\n\u001b[0m  ...",
      "",
      "Stacktrace:",
      " [1] literal_pow(f::typeof(^), x::Vector{Int64}, #unused#::Val{3})",
      "   @ Base .\\intfuncs.jl:340",
      " [2] top-level scope",
      "   @ In[30]:3",
      " [3] eval",
      "   @ .\\boot.jl:368 [inlined]",
      " [4] include_string(mapexpr::typeof(REPL.softscope), mod::Module, code::String, filename::String)",
      "   @ Base .\\loading.jl:1428"
     ]
    }
   ],
   "source": [
    "# dot operator가 없을 때 에러가 나는 모습\n",
    "\n",
    "print([1, 2, 3]^3)"
   ]
  },
  {
   "cell_type": "code",
   "execution_count": 31,
   "id": "4748eca0-82f4-4a86-b69d-1a48552d51c2",
   "metadata": {},
   "outputs": [
    {
     "name": "stdout",
     "output_type": "stream",
     "text": [
      "[1, 8, 27]"
     ]
    }
   ],
   "source": [
    "# dot operator를 통해 에러 없이 수행되는 모습\n",
    "\n",
    "print([1, 2, 3] .^ 3)"
   ]
  },
  {
   "cell_type": "markdown",
   "id": "937491e0-2817-4700-8ed4-dbdd634867d8",
   "metadata": {},
   "source": [
    "* 모든 줄리아 함수 f는 dot syntax를 통해 배열의 각 원소에 적용 가능함\n",
    "\n",
    "uppercase 함수에 dot syntax 적용 예시"
   ]
  },
  {
   "cell_type": "code",
   "execution_count": 32,
   "id": "2a6f8a8d-ba0b-4999-9246-a1c77805f978",
   "metadata": {},
   "outputs": [
    {
     "name": "stdout",
     "output_type": "stream",
     "text": [
      "[\"ABC\", \"DEF\", \"GHI\"]"
     ]
    }
   ],
   "source": [
    "t = uppercase.([\"abc\", \"def\", \"ghi\"])\n",
    "\n",
    "print(t)"
   ]
  },
  {
   "cell_type": "markdown",
   "id": "745ea930-c006-4825-9b78-bf7322e9b131",
   "metadata": {},
   "source": [
    "* 도트 구문 규칙(dot syntax)를 사용하면 맵을 우아하게 구현할 수 있음\n",
    "\n",
    "한 줄로 구현한 capitalizeall 함수 예시"
   ]
  },
  {
   "cell_type": "code",
   "execution_count": 33,
   "id": "33e241f3-ce9d-4e47-9d83-47d91a148283",
   "metadata": {},
   "outputs": [
    {
     "data": {
      "text/plain": [
       "capitalizeal (generic function with 1 method)"
      ]
     },
     "execution_count": 33,
     "metadata": {},
     "output_type": "execute_result"
    }
   ],
   "source": [
    "function capitalizeal(t)\n",
    "    uppercase.(t)\n",
    "end"
   ]
  },
  {
   "cell_type": "code",
   "execution_count": 34,
   "id": "43099b9a-1091-4bdc-8ac0-20c6bc9bfcac",
   "metadata": {},
   "outputs": [
    {
     "name": "stdout",
     "output_type": "stream",
     "text": [
      "[\"ABC\", \"DEF\", \"GHI\"]\n"
     ]
    }
   ],
   "source": [
    "println(capitalizeal(t))"
   ]
  },
  {
   "cell_type": "markdown",
   "id": "78467c9f-ba8e-45ae-84c3-e7afa1b1c311",
   "metadata": {},
   "source": [
    "```\n",
    "```\n",
    "### 10.8 원소의 삭제 및 추가(Deleting and Insering elements)"
   ]
  },
  {
   "cell_type": "markdown",
   "id": "5e9b6602-1402-4d96-b9b6-41e11cce4173",
   "metadata": {},
   "source": [
    "1) splice! 함수 \n",
    "\n",
    "    * 삭제하고 싶은 원소의 인덱스를 이용\n",
    "    \n",
    "    * 인수로 들어간 배열을 수정하고 삭제한 원소를 결과로 반환함"
   ]
  },
  {
   "cell_type": "code",
   "execution_count": 35,
   "id": "46e1501a-04ae-4d1d-9795-bf01fc8ac750",
   "metadata": {},
   "outputs": [
    {
     "data": {
      "text/plain": [
       "'b': ASCII/Unicode U+0062 (category Ll: Letter, lowercase)"
      ]
     },
     "execution_count": 35,
     "metadata": {},
     "output_type": "execute_result"
    }
   ],
   "source": [
    "t = ['a', 'b', 'c']\n",
    "\n",
    "splice!(t, 2)"
   ]
  },
  {
   "cell_type": "code",
   "execution_count": 36,
   "id": "6861b326-dc23-4f22-9b85-1372fabd8a5a",
   "metadata": {},
   "outputs": [
    {
     "name": "stdout",
     "output_type": "stream",
     "text": [
      "['a', 'c']\n"
     ]
    }
   ],
   "source": [
    "println(t)"
   ]
  },
  {
   "cell_type": "markdown",
   "id": "73f22fe9-2317-4953-88d4-8c3899f26249",
   "metadata": {},
   "source": [
    "2. pop! 함수\n",
    "\n",
    "    * 배열의 마지막 원소를 삭제하고, 삭제한 원소를 결과로 반환함"
   ]
  },
  {
   "cell_type": "code",
   "execution_count": 37,
   "id": "6e8c5bd1-9177-4c9f-a2ba-415246c5798c",
   "metadata": {},
   "outputs": [
    {
     "data": {
      "text/plain": [
       "'c': ASCII/Unicode U+0063 (category Ll: Letter, lowercase)"
      ]
     },
     "execution_count": 37,
     "metadata": {},
     "output_type": "execute_result"
    }
   ],
   "source": [
    "t = ['a', 'b', 'c']\n",
    "\n",
    "pop!(t)"
   ]
  },
  {
   "cell_type": "code",
   "execution_count": 38,
   "id": "5828ca18-3dfd-41e5-86c0-5046f82994f7",
   "metadata": {},
   "outputs": [
    {
     "name": "stdout",
     "output_type": "stream",
     "text": [
      "['a', 'b']\n"
     ]
    }
   ],
   "source": [
    "println(t)"
   ]
  },
  {
   "cell_type": "markdown",
   "id": "1900fc65-13e6-4741-8479-ace5351f147c",
   "metadata": {},
   "source": [
    "3. popfist! 함수\n",
    "\n",
    "    * 배열의 첫 번째 원소를 삭제하고 결과로 반환함"
   ]
  },
  {
   "cell_type": "code",
   "execution_count": 39,
   "id": "6ece9d78-63bf-4fe8-81c3-3b2e9f6e175f",
   "metadata": {},
   "outputs": [
    {
     "data": {
      "text/plain": [
       "'a': ASCII/Unicode U+0061 (category Ll: Letter, lowercase)"
      ]
     },
     "execution_count": 39,
     "metadata": {},
     "output_type": "execute_result"
    }
   ],
   "source": [
    "t = ['a', 'b', 'c']\n",
    "\n",
    "popfirst!(t)"
   ]
  },
  {
   "cell_type": "code",
   "execution_count": 40,
   "id": "639739a3-b348-41b2-a1a8-174e89f304d9",
   "metadata": {},
   "outputs": [
    {
     "name": "stdout",
     "output_type": "stream",
     "text": [
      "['b', 'c']\n"
     ]
    }
   ],
   "source": [
    "println(t)"
   ]
  },
  {
   "cell_type": "markdown",
   "id": "e7104493-d53e-4fbb-8077-56f0ebc9be02",
   "metadata": {},
   "source": [
    "4. pushfirst! 함수\n",
    "\n",
    "    * 배열의 첫 번째 위치에 원소를 추가함"
   ]
  },
  {
   "cell_type": "code",
   "execution_count": 41,
   "id": "1551b1c5-b26d-4372-bb7a-6a06a4199c64",
   "metadata": {},
   "outputs": [
    {
     "data": {
      "text/plain": [
       "5-element Vector{Char}:\n",
       " 'd': ASCII/Unicode U+0064 (category Ll: Letter, lowercase)\n",
       " 'e': ASCII/Unicode U+0065 (category Ll: Letter, lowercase)\n",
       " 'a': ASCII/Unicode U+0061 (category Ll: Letter, lowercase)\n",
       " 'b': ASCII/Unicode U+0062 (category Ll: Letter, lowercase)\n",
       " 'c': ASCII/Unicode U+0063 (category Ll: Letter, lowercase)"
      ]
     },
     "execution_count": 41,
     "metadata": {},
     "output_type": "execute_result"
    }
   ],
   "source": [
    "t = ['a', 'b', 'c']\n",
    "\n",
    "pushfirst!(t, 'd', 'e')"
   ]
  },
  {
   "cell_type": "code",
   "execution_count": 42,
   "id": "6a6b6521-a450-404c-9a24-fe54e0d904ac",
   "metadata": {},
   "outputs": [
    {
     "name": "stdout",
     "output_type": "stream",
     "text": [
      "['d', 'e', 'a', 'b', 'c']\n"
     ]
    }
   ],
   "source": [
    "println(t)"
   ]
  },
  {
   "cell_type": "markdown",
   "id": "8615a941-4c56-442a-9d51-a3fdba6d8785",
   "metadata": {},
   "source": [
    "5. push! 함수\n",
    "\n",
    "    * 배열의 마지막 위치에 원소를 추가함"
   ]
  },
  {
   "cell_type": "code",
   "execution_count": 43,
   "id": "a4b62241-4b93-4a36-9707-595c15bbb081",
   "metadata": {},
   "outputs": [
    {
     "data": {
      "text/plain": [
       "5-element Vector{Char}:\n",
       " 'a': ASCII/Unicode U+0061 (category Ll: Letter, lowercase)\n",
       " 'b': ASCII/Unicode U+0062 (category Ll: Letter, lowercase)\n",
       " 'c': ASCII/Unicode U+0063 (category Ll: Letter, lowercase)\n",
       " 'd': ASCII/Unicode U+0064 (category Ll: Letter, lowercase)\n",
       " 'e': ASCII/Unicode U+0065 (category Ll: Letter, lowercase)"
      ]
     },
     "execution_count": 43,
     "metadata": {},
     "output_type": "execute_result"
    }
   ],
   "source": [
    "t = ['a', 'b', 'c']\n",
    "\n",
    "push!(t, 'd', 'e')"
   ]
  },
  {
   "cell_type": "code",
   "execution_count": 44,
   "id": "44763e61-82fd-449b-ace0-6c89774fbfa2",
   "metadata": {},
   "outputs": [
    {
     "name": "stdout",
     "output_type": "stream",
     "text": [
      "['a', 'b', 'c', 'd', 'e']\n"
     ]
    }
   ],
   "source": [
    "println(t)"
   ]
  },
  {
   "cell_type": "markdown",
   "id": "00109f84-84eb-4a99-842b-f86b0d32bdcd",
   "metadata": {},
   "source": [
    "6. deleteat! 함수\n",
    "\n",
    "    * 삭제한 원소가 필요없다면 deleteat! 함수 사용"
   ]
  },
  {
   "cell_type": "code",
   "execution_count": 46,
   "id": "5d1f49aa-12df-4666-ac6c-32d9638c4e38",
   "metadata": {},
   "outputs": [
    {
     "name": "stdout",
     "output_type": "stream",
     "text": [
      "['a', 'c']\n"
     ]
    }
   ],
   "source": [
    "t = ['a', 'b', 'c']\n",
    "\n",
    "println(deleteat!(t, 2))"
   ]
  },
  {
   "cell_type": "markdown",
   "id": "e3d65d0e-ef14-4105-a5c8-50735895a8a3",
   "metadata": {},
   "source": [
    "7. insert! 함수\n",
    "\n",
    "    * 주어진 인덱스에 원소 삽입"
   ]
  },
  {
   "cell_type": "code",
   "execution_count": 47,
   "id": "187bafe8-3c9c-43fa-9b1c-81e43c55b3fd",
   "metadata": {},
   "outputs": [
    {
     "name": "stdout",
     "output_type": "stream",
     "text": [
      "['a', 'x', 'b', 'c']\n"
     ]
    }
   ],
   "source": [
    "t = ['a', 'b', 'c']\n",
    "\n",
    "println(insert!(t, 2, 'x'))"
   ]
  },
  {
   "cell_type": "markdown",
   "id": "e5558544-724d-4846-9d72-aecde87e1fd8",
   "metadata": {
    "tags": []
   },
   "source": [
    "```\n",
    "```\n",
    "### 10.9 배열과 문자열"
   ]
  },
  {
   "cell_type": "markdown",
   "id": "a4c47965-4af4-4e70-9f4d-6c8b2275e6be",
   "metadata": {},
   "source": [
    "1. collect 함수\n",
    "\n",
    "    * 문자열이나 다른 나열을 분해해서 개별 원소의 나열로 만들어 줌\n",
    "\n",
    "    * 문자열을 배열로 바꿀 수 있는 함수"
   ]
  },
  {
   "cell_type": "code",
   "execution_count": 48,
   "id": "98df685b-9faa-429f-8249-58bfeaffe53d",
   "metadata": {},
   "outputs": [
    {
     "data": {
      "text/plain": [
       "4-element Vector{Char}:\n",
       " 's': ASCII/Unicode U+0073 (category Ll: Letter, lowercase)\n",
       " 'p': ASCII/Unicode U+0070 (category Ll: Letter, lowercase)\n",
       " 'a': ASCII/Unicode U+0061 (category Ll: Letter, lowercase)\n",
       " 'm': ASCII/Unicode U+006D (category Ll: Letter, lowercase)"
      ]
     },
     "execution_count": 48,
     "metadata": {},
     "output_type": "execute_result"
    }
   ],
   "source": [
    "t = collect(\"spam\")"
   ]
  },
  {
   "cell_type": "code",
   "execution_count": 49,
   "id": "e2f4a254-d064-49bc-b772-fb427134f0a9",
   "metadata": {},
   "outputs": [
    {
     "name": "stdout",
     "output_type": "stream",
     "text": [
      "['s', 'p', 'a', 'm']"
     ]
    }
   ],
   "source": [
    "print(t)"
   ]
  },
  {
   "cell_type": "markdown",
   "id": "530400d1-7836-435c-b4fe-c09bbcbd70d3",
   "metadata": {},
   "source": [
    "2. split 함수\n",
    "\n",
    "    * 문자열을 단어 단위로 parsing 하는 함수\n",
    "    \n",
    "    * 선택적 인수로 구분자 입력 가능\n",
    "    "
   ]
  },
  {
   "cell_type": "code",
   "execution_count": 50,
   "id": "430dad76-4029-46ee-9146-97d1c529c000",
   "metadata": {},
   "outputs": [
    {
     "name": "stdout",
     "output_type": "stream",
     "text": [
      "SubString{String}[\"printing\", \"for\", \"the\", \"fjords\"]"
     ]
    }
   ],
   "source": [
    "t = split(\"printing for the fjords\");\n",
    "print(t)"
   ]
  },
  {
   "cell_type": "code",
   "execution_count": 52,
   "id": "26b33f2b-d27f-455f-b610-e5b9abaced28",
   "metadata": {},
   "outputs": [
    {
     "name": "stdout",
     "output_type": "stream",
     "text": [
      "SubString{String}[\"spam\", \"spam\", \"spam\"]"
     ]
    }
   ],
   "source": [
    "t = split(\"spam-spam-spam\", \"-\");\n",
    "print(t)"
   ]
  },
  {
   "cell_type": "markdown",
   "id": "d3aec0e7-f0ee-45a8-83e9-3047bb3b15ac",
   "metadata": {},
   "source": [
    "3. join 함수\n",
    "\n",
    "    * 문자열로 된 배열을 받아서 모두 이어붙인 문자열을 반환"
   ]
  },
  {
   "cell_type": "code",
   "execution_count": 53,
   "id": "f450b59c-a520-49aa-9aa1-9a62d11af983",
   "metadata": {},
   "outputs": [
    {
     "data": {
      "text/plain": [
       "\"pining for the fjords\""
      ]
     },
     "execution_count": 53,
     "metadata": {},
     "output_type": "execute_result"
    }
   ],
   "source": [
    "t = [\"pining\", \"for\", \"the\", \"fjords\"];\n",
    "s = join(t, ' ')"
   ]
  },
  {
   "cell_type": "markdown",
   "id": "c7ace38e-f5fd-49df-b34b-ad6bdd1c9db9",
   "metadata": {},
   "source": [
    "### 10.10 객체와 값"
   ]
  },
  {
   "cell_type": "markdown",
   "id": "a52ea99b-ba80-4ae8-be86-01b6b9a6a220",
   "metadata": {},
   "source": [
    "* 객체(object) : 변수가 가리킬 수 있는 어떤 것"
   ]
  },
  {
   "cell_type": "code",
   "execution_count": 59,
   "id": "dcbc7e9a-1a18-499d-9540-9cd6033545b3",
   "metadata": {},
   "outputs": [
    {
     "data": {
      "text/plain": [
       "true"
      ]
     },
     "execution_count": 59,
     "metadata": {},
     "output_type": "execute_result"
    }
   ],
   "source": [
    "# 문자열 객체 예시\n",
    "\n",
    "a = \"banana\"\n",
    "b = \"banana\"\n",
    "a ≡ b  # \\equiv + tab or === 사용"
   ]
  },
  {
   "cell_type": "markdown",
   "id": "1c578494-86cf-44d7-9a9a-56f3e464744a",
   "metadata": {},
   "source": [
    "문자열은 두 변수가 같은 객체를 가리키고 있음"
   ]
  },
  {
   "cell_type": "code",
   "execution_count": 58,
   "id": "549e7773-0476-41be-86c8-34aed84951ae",
   "metadata": {},
   "outputs": [
    {
     "data": {
      "text/plain": [
       "false"
      ]
     },
     "execution_count": 58,
     "metadata": {},
     "output_type": "execute_result"
    }
   ],
   "source": [
    "# 배열 객체 예시\n",
    "\n",
    "a = [1, 2, 3];\n",
    "b = [1, 2, 3];\n",
    "a ≡ b  # \\equiv + tab"
   ]
  },
  {
   "cell_type": "markdown",
   "id": "b67f3fe8-63c3-43b9-ae6b-53bd2ca9074e",
   "metadata": {},
   "source": [
    "_배열은 두 변수가 같은 객체를 가리키고 있지 않음(별개의 객체를 가리킴)_\n",
    "\n",
    "_배열은 독립된 객체(object)로서 생성됨_\n",
    "\n",
    "* 이 경우, 우리는 두 배열이 동등하다(equivalent)고 말할 수 있으나, 동일하다(identical)고 말할 수는 없음"
   ]
  },
  {
   "cell_type": "markdown",
   "id": "9460c72a-c226-41cd-9ef2-004189256ead",
   "metadata": {},
   "source": [
    "```\n",
    "```\n",
    "### 10.11 별칭(Aliasing)"
   ]
  },
  {
   "cell_type": "markdown",
   "id": "c7ca30b9-2a16-42ad-8e3a-e17ff983515d",
   "metadata": {},
   "source": [
    "* 문자열 -> immutable : 동일값은 중복된 하나의 객체로 인식\n",
    "\n",
    "* 배열 -> mutable : 동일값이더라도 독립된 객체\n",
    "\n",
    "* 참조(reference) : 변수가 어떤 액체를 가리키는 것\n",
    "\n",
    "* 별칭(alias) : 참조가 두 개 이상인 객체는 별칭을 가졌다고 함, 별칭을 가진 객체가 가변일 때, 한 별칭으로 변경을 가하면 다른쪽도 효과가 나타남 (shallow copy 효과)\n",
    "\n",
    "**예시1) 얕은 복사(shallow copy) 실시**"
   ]
  },
  {
   "cell_type": "code",
   "execution_count": 79,
   "id": "9f5d93c4-0bbe-4ad4-92e6-e427d6114ca3",
   "metadata": {},
   "outputs": [
    {
     "data": {
      "text/plain": [
       "true"
      ]
     },
     "execution_count": 79,
     "metadata": {},
     "output_type": "execute_result"
    }
   ],
   "source": [
    "a = [1, 2, 3];\n",
    "\n",
    "b = a;\n",
    "\n",
    "b ≡ a # identical equivalent (동일한 객체를 참조하고 있다는 의미)"
   ]
  },
  {
   "cell_type": "markdown",
   "id": "ef961b20-04fa-4fe9-b06e-c9a8c6b4b760",
   "metadata": {},
   "source": [
    "동일한 객체를 참조하고 있다는 의미를 직관적으로 확인하기 위해서 메모리 주소를 확인함\n",
    "\n",
    "_note) Update: in Julia version >= 1.0, ```pointer_from_objref``` may not be called on immutable objects,_\n",
    "\n",
    "_so for the example above works, the a variable needs to be setted to a mutable type (e.g., an Array type):_"
   ]
  },
  {
   "cell_type": "code",
   "execution_count": 81,
   "id": "bcad2540-712a-4267-bd68-79f48813d5aa",
   "metadata": {},
   "outputs": [
    {
     "name": "stdout",
     "output_type": "stream",
     "text": [
      "0x000000000b668470\n",
      "0x000000000b668470\n"
     ]
    }
   ],
   "source": [
    "# a, b의 메모리 주소를 확인함\n",
    "\n",
    "addr_a = repr(UInt64(pointer_from_objref(a)));\n",
    "addr_b = repr(UInt64(pointer_from_objref(b)));\n",
    "\n",
    "println(addr_a, \"\\n\", addr_b)"
   ]
  },
  {
   "cell_type": "markdown",
   "id": "e77b8488-50b1-4182-bff2-8f99be063e47",
   "metadata": {},
   "source": [
    "\n",
    "**예시2) 동일한 값이나, 각각 배열을 생성하여 두 개의 객체를 생성함**"
   ]
  },
  {
   "cell_type": "code",
   "execution_count": 67,
   "id": "890570d1-8878-40b2-bff9-e903ea3da268",
   "metadata": {},
   "outputs": [
    {
     "data": {
      "text/plain": [
       "false"
      ]
     },
     "execution_count": 67,
     "metadata": {},
     "output_type": "execute_result"
    }
   ],
   "source": [
    "a2 = [1, 2, 3];\n",
    "b2 = [1, 2, 3];\n",
    "a2 ≡ b2  # \\equiv + tab"
   ]
  },
  {
   "cell_type": "code",
   "execution_count": 71,
   "id": "4e04c052-1354-4021-902f-edd68c34fcc7",
   "metadata": {},
   "outputs": [
    {
     "name": "stdout",
     "output_type": "stream",
     "text": [
      "0x000000000b378600\n",
      "0x000000000b3788d0\n"
     ]
    }
   ],
   "source": [
    "# 각각 따로 할당된 배열의 메모리 주소가 다르다는 것을 확인\n",
    "\n",
    "addr_a2 = repr(UInt64(pointer_from_objref(a2)));\n",
    "addr_b2 = repr(UInt64(pointer_from_objref(b2)));\n",
    "\n",
    "println(addr_a2, \"\\n\", addr_b2)"
   ]
  },
  {
   "cell_type": "markdown",
   "id": "2bebe2b3-7166-4385-99ee-94507f6e01a9",
   "metadata": {},
   "source": [
    "각각 할당된 배열의 메모리 주소가 다르기 때문에 다른 객체를 참조하고 있으므로 \n",
    "\n",
    "두 변수(a2, a3)가 참조하고 있는 객체는 동일하지 않음\n",
    "\n",
    "**예제3) immutable object 문자열 비교**"
   ]
  },
  {
   "cell_type": "code",
   "execution_count": 87,
   "id": "50726b73-a74f-4f85-b8bf-afb61b25dd86",
   "metadata": {},
   "outputs": [
    {
     "data": {
      "text/plain": [
       "\"banana\""
      ]
     },
     "execution_count": 87,
     "metadata": {},
     "output_type": "execute_result"
    }
   ],
   "source": [
    "a3 = \"banana\"\n",
    "b3 = \"banana\""
   ]
  },
  {
   "cell_type": "code",
   "execution_count": 84,
   "id": "6b5cc0d6-4a23-4b10-969c-1de466c8c8c2",
   "metadata": {},
   "outputs": [
    {
     "name": "stdout",
     "output_type": "stream",
     "text": [
      "0x000000000a0bba60\n",
      "0x000000000a0bbad8\n",
      "a3 ≡ b3 : true\n"
     ]
    }
   ],
   "source": [
    "addr_a3 = repr(UInt64(pointer_from_objref(a3)));\n",
    "addr_b3 = repr(UInt64(pointer_from_objref(b3)));\n",
    "\n",
    "println(addr_a3, \"\\n\", addr_b3)\n",
    "println(\"a3 ≡ b3 : \", a3 === b3)"
   ]
  },
  {
   "cell_type": "markdown",
   "id": "3f8e9cf6-207d-418a-82be-9d77bd45c1b5",
   "metadata": {},
   "source": [
    "**immutable 객체는 객체의 stack 메모리 주소가 달라도 값이 같으면 \n",
    "동일한 heap 기반 메모리 주소 값을 가지므로 identical equivalent를 만족함** \n",
    "\n",
    "* 따라서, immutable object인 문자열은 별칭(alias)이 있어도 문제되지 않음\n",
    "\n",
    "**(참고)** \n",
    "\n",
    "https://stackoverflow.com/questions/72550351/address-of-immutable-object-in-julia\n",
    "\n",
    "_Immutable objects don't necessarily exist in memory (they may be stored in registers, or not exist at all) so you can't get their address. Clarifying examples:_\n",
    "\n",
    "_It makes sense to ask \"Where does the array a = [0] live in memory?\" This makes sense because a = [0] is a specific array, allocated once and which must live in a specific place in memory because it must be possible for all observers of that array/memory to see when someone has modified it: if someone does a[1] = 1 then there's a memory location that is changed from holding the value 0 to the value 1._\n",
    "\n",
    "_It does not make sense to ask \"Where does the integer 0 live in memory?\" It doesn't live anywhere specific—there are many instances of 0 all over the place and they are all \"the same zero\" in the sense that they are indistinguishable and interchangeable. There's no way to change the value of zero to another value, it is only possible to change what value some mutable container (with location) refers to._\n",
    "\n",
    "* java string 불변성과 그 이유: https://dololak.tistory.com/699\n",
    "\n",
    "* c# 문자열 메모리 처리 방식 : https://guslabview.tistory.com/187\n",
    "\n",
    "* stack과 heap 메모리 차이 : https://guslabview.tistory.com/186\n",
    "\n",
    "* https://discourse.julialang.org/t/a-nice-explanation-of-memory-stack-vs-heap/53915"
   ]
  },
  {
   "cell_type": "markdown",
   "id": "5543dc5d-c43f-47db-88b5-88ac38257108",
   "metadata": {},
   "source": [
    "**예제4) immutable object 문자열을 복사한 경우 비교**"
   ]
  },
  {
   "cell_type": "code",
   "execution_count": 85,
   "id": "d4bc42b5-bbfc-4ea7-bebf-3023a9f02a3a",
   "metadata": {},
   "outputs": [
    {
     "data": {
      "text/plain": [
       "\"banana\""
      ]
     },
     "execution_count": 85,
     "metadata": {},
     "output_type": "execute_result"
    }
   ],
   "source": [
    "a4 = \"banana\"\n",
    "b4 = a4"
   ]
  },
  {
   "cell_type": "code",
   "execution_count": 86,
   "id": "5738ddd3-c594-49c2-9193-b834114b2446",
   "metadata": {},
   "outputs": [
    {
     "name": "stdout",
     "output_type": "stream",
     "text": [
      "0x000000000a11db28\n",
      "0x000000000a11db28\n",
      "a4 ≡ b4 : true\n"
     ]
    }
   ],
   "source": [
    "addr_a4 = repr(UInt64(pointer_from_objref(a4)));\n",
    "addr_b4 = repr(UInt64(pointer_from_objref(b4)));\n",
    "\n",
    "println(addr_a4, \"\\n\", addr_b4)\n",
    "println(\"a4 ≡ b4 : \", a4 === b4)"
   ]
  },
  {
   "cell_type": "markdown",
   "id": "6a72cb3e-c7a6-44de-8959-2716bec3ba09",
   "metadata": {},
   "source": [
    "```\n",
    "```\n",
    "### 10.12 배열 인수"
   ]
  },
  {
   "cell_type": "markdown",
   "id": "91c52a39-ab37-4ed2-b306-46ad5aa87bd4",
   "metadata": {},
   "source": [
    "어떤 함수에 배열을 인수로 전달하면 그 함수는배열에 대한 참조를 얻게 됨\n",
    "\n",
    "함수가 배열을 수정하게 되면, 호출자 역시 변경 사항을 보게 됨\n",
    "\n",
    "아래 예시의 매개변수 t와 변수 letters는 같은 객체에 대한 별칭"
   ]
  },
  {
   "cell_type": "code",
   "execution_count": 92,
   "id": "5db7259d-9f64-4c8f-b0f0-829736142aad",
   "metadata": {},
   "outputs": [
    {
     "data": {
      "text/plain": [
       "deletehead! (generic function with 1 method)"
      ]
     },
     "execution_count": 92,
     "metadata": {},
     "output_type": "execute_result"
    }
   ],
   "source": [
    "function deletehead!(t)\n",
    "    popfirst!(t)\n",
    "end"
   ]
  },
  {
   "cell_type": "code",
   "execution_count": 93,
   "id": "c536405f-e32a-4d2f-9b9c-7b62ab355680",
   "metadata": {},
   "outputs": [
    {
     "name": "stdout",
     "output_type": "stream",
     "text": [
      "['b', 'c']"
     ]
    }
   ],
   "source": [
    "letters = ['a', 'b', 'c'];\n",
    "deletehead!(letters);\n",
    "print(letters)"
   ]
  },
  {
   "cell_type": "markdown",
   "id": "29b68065-7009-4a3d-91c8-fde3974513cd",
   "metadata": {},
   "source": [
    "letters가 처음 참조하고 있던 객체 배열[1, 2, 3]이 수정되어 배열 [2, 3]으로 변한 것을 확인할 수 있음"
   ]
  },
  {
   "cell_type": "markdown",
   "id": "6823dd09-f92b-401d-9599-eaaef88bbdfc",
   "metadata": {},
   "source": [
    "**예시2)** push! 함수를 이용 배열을 수정하고, vcat 함수를 이용 새로운 배열을 만드는 예시"
   ]
  },
  {
   "cell_type": "code",
   "execution_count": 95,
   "id": "89d15257-8c7a-4b83-8203-38fd07ba7fd5",
   "metadata": {},
   "outputs": [
    {
     "name": "stdout",
     "output_type": "stream",
     "text": [
      "[1, 2, 3][1, 2, 3]"
     ]
    }
   ],
   "source": [
    "t1 = [1, 2];\n",
    "t2 = push!(t1, 3);\n",
    "print(t1, t2)"
   ]
  },
  {
   "cell_type": "code",
   "execution_count": 96,
   "id": "f5d11c6d-c904-410f-8abf-02e103184613",
   "metadata": {},
   "outputs": [
    {
     "name": "stdout",
     "output_type": "stream",
     "text": [
      "[1, 2, 3][1, 2, 3, 4]"
     ]
    }
   ],
   "source": [
    "t3 = vcat(t1, [4]);\n",
    "print(t1)\n",
    "print(t3)"
   ]
  },
  {
   "cell_type": "markdown",
   "id": "c0886a81-4eb9-4264-9357-2cde4f7f1f77",
   "metadata": {},
   "source": [
    "**배열을 수정하는 함수 작성 시, 배열의 원래 객체의 값을 수정하는 지 수정된 새로운 객체를 반환하는 지를 구분하는 것이 중요!**"
   ]
  },
  {
   "cell_type": "markdown",
   "id": "9363c968-70a7-47b6-996a-6ebcd7e26d2c",
   "metadata": {},
   "source": [
    "**예시3)** 새로운 객체를 반환토록 의도하는 함수"
   ]
  },
  {
   "cell_type": "code",
   "execution_count": 97,
   "id": "b48bde1f-eb30-4ab3-a634-9747259dd04b",
   "metadata": {},
   "outputs": [
    {
     "name": "stdout",
     "output_type": "stream",
     "text": [
      "[1, 2, 3, 4]\n",
      "[2, 3, 4]\n"
     ]
    }
   ],
   "source": [
    "function baddeletehead(t)\n",
    "    t = t[2:end]\n",
    "end\n",
    "\n",
    "t4 = baddeletehead(t3);\n",
    "\n",
    "println(t3, \"\\n\", t4)"
   ]
  },
  {
   "cell_type": "code",
   "execution_count": 98,
   "id": "3b3f15c3-05b1-4e76-9fa4-71983d6c0f72",
   "metadata": {},
   "outputs": [
    {
     "name": "stdout",
     "output_type": "stream",
     "text": [
      "[1, 2, 3, 4]\n",
      "[2, 3, 4]\n",
      "[2, 3, 4]\n"
     ]
    }
   ],
   "source": [
    "function tail(t)\n",
    "    t[2:end]\n",
    "end\n",
    "\n",
    "t5 = tail(t3);\n",
    "\n",
    "println(t3, \"\\n\", \n",
    "        t4, \"\\n\",\n",
    "        t5)"
   ]
  },
  {
   "cell_type": "markdown",
   "id": "2cc304ac-d9cf-4328-97ea-cbe4429bbb79",
   "metadata": {},
   "source": [
    "```tail``` 과 ```baddeletehead``` 함수는 이름만 다르고, 동작이 완전히 동일한 함수임. 함수의 이름이 뜻하는 바가 마치 배열을 수정하는 것처럼 보이느냐, 새로운 배열을 반환하는 것처럼 보이느냐의 차이가 있을 뿐\n",
    "\n",
    "여기서 주의할 점!\n",
    "\n",
    "* ```baddeletehead``` 는 주어진 인수(입력된 배열)를 수정하는 것처럼 함수명이 작성되었지만 실제로는 그렇지 않고 수정된 새로운 객체를 리턴하는 동작을 하므로 의도와 다르게 잘못 만들어진 함수라고 볼 수 있음\n",
    "\n",
    "* ```tail```은 주어진 인수(입력된 배열)로부터 새로운 배열을 반환하는 것으로 이해되고, 그렇게 동작하도록 만들어졌으므로 제대로 된 것이라 할 수 있음 -> 새로운 객체를 반환토록 의도한다면 ```tail``` 함수처럼 작성해야 함"
   ]
  },
  {
   "cell_type": "markdown",
   "id": "e916b50a-02f8-4c83-8e8c-56f854841eae",
   "metadata": {},
   "source": [
    "```\n",
    "```\n",
    "### 10.13 디버깅"
   ]
  },
  {
   "cell_type": "markdown",
   "id": "88c29012-b210-4334-86cb-05c62d7588e7",
   "metadata": {},
   "source": [
    "* 배열을 다룸에 있어 내장함수들의 역할에 대해 올바른 이해가 필요함. 두 가지 경우 중 한 가지 방식을 선택하여 일관성 있게 사용할 것을 권고\n",
    "\n",
    "    1) 전달된 인수(배열) 자체를 수정하는 함수\n",
    "\n",
    "    2) 전달된 인수(배열)로부터 새로운 배열을 생성하여 리턴하는 함수\n",
    "    \n",
    "* 또한, 1)의 인수를 수정하는 함수를 사용하려 할 때는 원래 배열의 백업 배열(복사본)을 생성한 뒤 사용할 것을 권고\n",
    "\n",
    "         예) sort! 함수"
   ]
  },
  {
   "cell_type": "code",
   "execution_count": 101,
   "id": "4b5d8280-0435-4d99-9bad-2be0b6c40bca",
   "metadata": {},
   "outputs": [
    {
     "name": "stdout",
     "output_type": "stream",
     "text": [
      "t: [1, 2, 3]\n",
      "t2: [3, 1, 2]\n"
     ]
    }
   ],
   "source": [
    "t = [3, 1, 2]\n",
    "t2 = t[:] # t2 = copy(t)\n",
    "\n",
    "sort!(t)\n",
    "\n",
    "println(\"t: \", t, \"\\n\",\n",
    "        \"t2: \", t2)"
   ]
  },
  {
   "cell_type": "markdown",
   "id": "f5af2afc-73e7-451f-86f4-b1aa4edd71ac",
   "metadata": {},
   "source": [
    "```\n",
    "```\n",
    "### 10.14 용어집 (Glossary)"
   ]
  },
  {
   "cell_type": "markdown",
   "id": "cb1311da-5935-4d6b-922b-a94dec27d25c",
   "metadata": {},
   "source": [
    "* **배열(array)**\n",
    "\n",
    "    - 값들의 순서 있는 나열\n",
    "```\n",
    "```\n",
    "* **원소(element)**\n",
    "\n",
    "    - 배열(혹은 그와 유사한 나열)에 있는 값들 중 하나, 항목(item)이라고 부른다.\n",
    "```\n",
    "```\n",
    "* **중첩된 배열(element)**\n",
    "\n",
    "    - 다른 배열의 원소인 배열\n",
    "```\n",
    "```\n",
    "* **가변(mutable)**\n",
    "\n",
    "    - 수정할 수 있음을 나타내는 값의 성질\n",
    "```\n",
    "```\n",
    "* **증강 할당문(augmented assignment)**\n",
    "\n",
    "    - += 같은 연산자를 사용해 변수의 값을 갱신하는 명령문 \n",
    "```\n",
    "```\n",
    "* **누산기(accumulator)**\n",
    "\n",
    "    - 루프에서 결괏값을 누적해서 더하기 위해 사용하는 변수\n",
    "```\n",
    "```\n",
    "* **리듀스 연산(reduce operation)**\n",
    "\n",
    "    - 배열을 순회하면서 여러 원소를 누적 연산해 하나의 값으로 바꾸는 식으로 동작하는 절차\n",
    "```\n",
    "```\n",
    "* **맵(map)**\n",
    "\n",
    "    - 배열을 순회하면서 어떤 조건을 만족하는 원소들만 선택하는 절차\n",
    "```\n",
    "```\n",
    "* **필터(filter)**\n",
    "\n",
    "    - 배열을 순회하면서 어떤 조건을 만족하는 원소들만 선택하는 절차\n",
    "```\n",
    "```\n",
    "* **도트 연산자(dot operator)**\n",
    "\n",
    "    - 어떤 함수를 배열의 각 원소에 적용되도록 하는 이항 연산자\n",
    "```\n",
    "```\n",
    "* **도트 구문 규칙(dot syntax)**\n",
    "\n",
    "    - 어떤 함수를 배열의 각 원소에 적용되도록 하는 구문 규칙\n",
    "```\n",
    "```\n",
    "* **선택적 인수(optional argument)**\n",
    "\n",
    "    - 필수적이지 않은 인수\n",
    "```\n",
    "```\n",
    "* **구분자(delimiter)**\n",
    "\n",
    "    - 문자열을 나누는 기준이 되는 문자나 문자열\n",
    "```\n",
    "```\n",
    "* **객체(object)**\n",
    "\n",
    "    - 변수가 참조할 수 있는 어떤 값. 객체는 자료형과 값이 있음\n",
    "```\n",
    "```\n",
    "* **동등하다(equivalent)**\n",
    "\n",
    "    - 같은 값을 가지다\n",
    "```\n",
    "```\n",
    "* **동일하다(identical)**\n",
    "\n",
    "    - 같은 객체이다.\n",
    "```\n",
    "```\n",
    "* **참조(reference)**\n",
    "\n",
    "    - 어떤 변수와 그 변수가 가리키는 값 사이의 관계\n",
    "```\n",
    "```\n",
    "* **별칭(alias)**\n",
    "\n",
    "    - 두 개이상의 변수가 같은 객체를 참조할 때, 그 변수들은 서로 간의 별칭이다.\n",
    "    "
   ]
  }
 ],
 "metadata": {
  "kernelspec": {
   "display_name": "Julia 1.8.0",
   "language": "julia",
   "name": "julia-1.8"
  },
  "language_info": {
   "file_extension": ".jl",
   "mimetype": "application/julia",
   "name": "julia",
   "version": "1.8.0"
  }
 },
 "nbformat": 4,
 "nbformat_minor": 5
}
