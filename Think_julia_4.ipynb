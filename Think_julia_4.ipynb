{
 "cells": [
  {
   "cell_type": "markdown",
   "id": "370c5a26-066b-4bef-9ea9-a88c174cf355",
   "metadata": {},
   "source": [
    "# 줄리아를 생각하다(Think Julia)"
   ]
  },
  {
   "cell_type": "markdown",
   "id": "edf6283f-1323-4a6b-8370-51d155b6581f",
   "metadata": {},
   "source": [
    "## Chapter 4.  사례 연구: 인터페이스 디자인"
   ]
  },
  {
   "cell_type": "markdown",
   "id": "66939381-723a-4324-a706-c61d4841c637",
   "metadata": {},
   "source": [
    "- ThinkJulia 모듈을 사용하도록 설치해야 하나 설치가 안되는 문제점이 있음"
   ]
  },
  {
   "cell_type": "markdown",
   "id": "8ceee02d-0b82-4a8b-8819-9a7043f60b48",
   "metadata": {},
   "source": [
    "### 4.1 거북이"
   ]
  },
  {
   "cell_type": "markdown",
   "id": "4b6c629f-3d3b-4e45-874a-f8edfd88a251",
   "metadata": {},
   "source": [
    "* 모듈(module): 관련 있는 함수 모음이 들어 있는 파일"
   ]
  },
  {
   "cell_type": "code",
   "execution_count": 1,
   "id": "caaf6a0d-53e2-457d-ae39-ed112df84347",
   "metadata": {},
   "outputs": [],
   "source": [
    "using Pkg"
   ]
  },
  {
   "cell_type": "code",
   "execution_count": 2,
   "id": "91e6454c-1c35-422e-a025-9c7fcaab5e95",
   "metadata": {},
   "outputs": [
    {
     "name": "stderr",
     "output_type": "stream",
     "text": [
      "\u001b[32m\u001b[1m    Updating\u001b[22m\u001b[39m git-repo `http://github.com/BenLauwens/ThinkJulia.jl`\n",
      "\u001b[32m\u001b[1m    Updating\u001b[22m\u001b[39m registry at `C:\\Users\\jeffr\\.julia\\registries\\General.toml`\n",
      "\u001b[32m\u001b[1m   Resolving\u001b[22m\u001b[39m package versions...\n",
      "\u001b[32m\u001b[1m  No Changes\u001b[22m\u001b[39m to `C:\\Users\\jeffr\\.julia\\environments\\v1.8\\Project.toml`\n",
      "\u001b[32m\u001b[1m  No Changes\u001b[22m\u001b[39m to `C:\\Users\\jeffr\\.julia\\environments\\v1.8\\Manifest.toml`\n"
     ]
    }
   ],
   "source": [
    "Pkg.add(url = \"http://github.com/BenLauwens/ThinkJulia.jl\")"
   ]
  },
  {
   "cell_type": "code",
   "execution_count": 3,
   "id": "e468d6ec-ca97-42e7-9d76-3415c7e65573",
   "metadata": {},
   "outputs": [
    {
     "name": "stderr",
     "output_type": "stream",
     "text": [
      "┌ Info: Precompiling ThinkJulia [a7f2b756-c18b-4c7f-87da-faca9ac81b29]\n",
      "└ @ Base loading.jl:1662\n",
      "┌ Info: Skipping precompilation since __precompile__(false). Importing ThinkJulia [a7f2b756-c18b-4c7f-87da-faca9ac81b29].\n",
      "└ @ Base loading.jl:1341\n"
     ]
    },
    {
     "ename": "LoadError",
     "evalue": "LoadError: ThinkJulia not installed properly, run Pkg.build(\"ThinkJulia\"), restart Julia and try again\nin expression starting at C:\\Users\\jeffr\\.julia\\packages\\ThinkJulia\\REhsz\\src\\ThinkJulia.jl:1",
     "output_type": "error",
     "traceback": [
      "LoadError: ThinkJulia not installed properly, run Pkg.build(\"ThinkJulia\"), restart Julia and try again\nin expression starting at C:\\Users\\jeffr\\.julia\\packages\\ThinkJulia\\REhsz\\src\\ThinkJulia.jl:1",
      "",
      "Stacktrace:",
      "  [1] error(s::String)",
      "    @ Base .\\error.jl:35",
      "  [2] top-level scope",
      "    @ C:\\Users\\jeffr\\.julia\\packages\\ThinkJulia\\REhsz\\src\\ThinkJulia.jl:15",
      "  [3] include",
      "    @ .\\Base.jl:419 [inlined]",
      "  [4] _require(pkg::Base.PkgId)",
      "    @ Base .\\loading.jl:1367",
      "  [5] _require_prelocked(uuidkey::Base.PkgId)",
      "    @ Base .\\loading.jl:1200",
      "  [6] macro expansion",
      "    @ .\\loading.jl:1180 [inlined]",
      "  [7] macro expansion",
      "    @ .\\lock.jl:223 [inlined]",
      "  [8] require(into::Module, mod::Symbol)",
      "    @ Base .\\loading.jl:1144",
      "  [9] eval",
      "    @ .\\boot.jl:368 [inlined]",
      " [10] include_string(mapexpr::typeof(REPL.softscope), mod::Module, code::String, filename::String)",
      "    @ Base .\\loading.jl:1428"
     ]
    }
   ],
   "source": [
    "using ThinkJulia"
   ]
  },
  {
   "cell_type": "code",
   "execution_count": 4,
   "id": "9ddd4830-e750-434c-81b0-c86ba5a5faf8",
   "metadata": {},
   "outputs": [
    {
     "name": "stderr",
     "output_type": "stream",
     "text": [
      "\u001b[32m\u001b[1m    Building\u001b[22m\u001b[39m GR ─────────→ `C:\\Users\\jeffr\\.julia\\scratchspaces\\44cfe95a-1eb2-52ea-b672-e2afdf69b78f\\7ea6f715b7caa10d7ee16f1cfcd12f3ccc74116a\\build.log`\n",
      "\u001b[32m\u001b[1m    Building\u001b[22m\u001b[39m Plots ──────→ `C:\\Users\\jeffr\\.julia\\scratchspaces\\44cfe95a-1eb2-52ea-b672-e2afdf69b78f\\484ade6d734feb43c06721c689155eb4aa3259f5\\build.log`\n",
      "\u001b[32m\u001b[1m    Building\u001b[22m\u001b[39m ImageMagick → `C:\\Users\\jeffr\\.julia\\scratchspaces\\44cfe95a-1eb2-52ea-b672-e2afdf69b78f\\54dfa264804aefc44630c96619474e683a522d78\\build.log`\n"
     ]
    },
    {
     "ename": "LoadError",
     "evalue": "Error building `ImageMagick`: \nERROR: LoadError: Unable to open libLLVM!\nStacktrace:\n  [1] error(s::String)\n    @ Base .\\error.jl:35\n  [2] (::BinaryProvider.var\"#open_libllvm#124\")()\n    @ BinaryProvider C:\\Users\\jeffr\\.julia\\packages\\BinaryProvider\\U2dKK\\src\\PlatformNames.jl:652\n  [3] detect_cxx11_string_abi()\n    @ BinaryProvider C:\\Users\\jeffr\\.julia\\packages\\BinaryProvider\\U2dKK\\src\\PlatformNames.jl:655\n  [4] detect_compiler_abi()\n    @ BinaryProvider C:\\Users\\jeffr\\.julia\\packages\\BinaryProvider\\U2dKK\\src\\PlatformNames.jl:668\n  [5] top-level scope\n    @ C:\\Users\\jeffr\\.julia\\packages\\BinaryProvider\\U2dKK\\src\\PlatformNames.jl:685\n  [6] include(mod::Module, _path::String)\n    @ Base .\\Base.jl:419\n  [7] include(x::String)\n    @ BinaryProvider C:\\Users\\jeffr\\.julia\\packages\\BinaryProvider\\U2dKK\\src\\BinaryProvider.jl:1\n  [8] top-level scope\n    @ C:\\Users\\jeffr\\.julia\\packages\\BinaryProvider\\U2dKK\\src\\BinaryProvider.jl:12\n  [9] include\n    @ .\\Base.jl:419 [inlined]\n [10] include_package_for_output(pkg::Base.PkgId, input::String, depot_path::Vector{String}, dl_load_path::Vector{String}, load_path::Vector{String}, concrete_deps::Vector{Pair{Base.PkgId, UInt64}}, source::String)\n    @ Base .\\loading.jl:1554\n [11] top-level scope\n    @ stdin:1\nin expression starting at C:\\Users\\jeffr\\.julia\\packages\\BinaryProvider\\U2dKK\\src\\PlatformNames.jl:685\nin expression starting at C:\\Users\\jeffr\\.julia\\packages\\BinaryProvider\\U2dKK\\src\\BinaryProvider.jl:1\nin expression starting at stdin:1\nERROR: LoadError: Failed to precompile BinaryProvider [b99e7846-7c00-51b0-8f62-c81ae34c0232] to C:\\Users\\jeffr\\.julia\\compiled\\v1.8\\BinaryProvider\\jl_C051.tmp.\nStacktrace:\n  [1] error(s::String)\n    @ Base .\\error.jl:35\n  [2] compilecache(pkg::Base.PkgId, path::String, internal_stderr::IO, internal_stdout::IO, keep_loaded_modules::Bool)\n    @ Base .\\loading.jl:1705\n  [3] compilecache\n    @ .\\loading.jl:1649 [inlined]\n  [4] _require(pkg::Base.PkgId)\n    @ Base .\\loading.jl:1337\n  [5] _require_prelocked(uuidkey::Base.PkgId)\n    @ Base .\\loading.jl:1200\n  [6] macro expansion\n    @ .\\loading.jl:1180 [inlined]\n  [7] macro expansion\n    @ .\\lock.jl:223 [inlined]\n  [8] require(into::Module, mod::Symbol)\n    @ Base .\\loading.jl:1144\n  [9] include(fname::String)\n    @ Base.MainInclude .\\client.jl:476\n [10] top-level scope\n    @ none:5\nin expression starting at C:\\Users\\jeffr\\.julia\\packages\\ImageMagick\\adWD8\\deps\\build.jl:1",
     "output_type": "error",
     "traceback": [
      "Error building `ImageMagick`: \nERROR: LoadError: Unable to open libLLVM!\nStacktrace:\n  [1] error(s::String)\n    @ Base .\\error.jl:35\n  [2] (::BinaryProvider.var\"#open_libllvm#124\")()\n    @ BinaryProvider C:\\Users\\jeffr\\.julia\\packages\\BinaryProvider\\U2dKK\\src\\PlatformNames.jl:652\n  [3] detect_cxx11_string_abi()\n    @ BinaryProvider C:\\Users\\jeffr\\.julia\\packages\\BinaryProvider\\U2dKK\\src\\PlatformNames.jl:655\n  [4] detect_compiler_abi()\n    @ BinaryProvider C:\\Users\\jeffr\\.julia\\packages\\BinaryProvider\\U2dKK\\src\\PlatformNames.jl:668\n  [5] top-level scope\n    @ C:\\Users\\jeffr\\.julia\\packages\\BinaryProvider\\U2dKK\\src\\PlatformNames.jl:685\n  [6] include(mod::Module, _path::String)\n    @ Base .\\Base.jl:419\n  [7] include(x::String)\n    @ BinaryProvider C:\\Users\\jeffr\\.julia\\packages\\BinaryProvider\\U2dKK\\src\\BinaryProvider.jl:1\n  [8] top-level scope\n    @ C:\\Users\\jeffr\\.julia\\packages\\BinaryProvider\\U2dKK\\src\\BinaryProvider.jl:12\n  [9] include\n    @ .\\Base.jl:419 [inlined]\n [10] include_package_for_output(pkg::Base.PkgId, input::String, depot_path::Vector{String}, dl_load_path::Vector{String}, load_path::Vector{String}, concrete_deps::Vector{Pair{Base.PkgId, UInt64}}, source::String)\n    @ Base .\\loading.jl:1554\n [11] top-level scope\n    @ stdin:1\nin expression starting at C:\\Users\\jeffr\\.julia\\packages\\BinaryProvider\\U2dKK\\src\\PlatformNames.jl:685\nin expression starting at C:\\Users\\jeffr\\.julia\\packages\\BinaryProvider\\U2dKK\\src\\BinaryProvider.jl:1\nin expression starting at stdin:1\nERROR: LoadError: Failed to precompile BinaryProvider [b99e7846-7c00-51b0-8f62-c81ae34c0232] to C:\\Users\\jeffr\\.julia\\compiled\\v1.8\\BinaryProvider\\jl_C051.tmp.\nStacktrace:\n  [1] error(s::String)\n    @ Base .\\error.jl:35\n  [2] compilecache(pkg::Base.PkgId, path::String, internal_stderr::IO, internal_stdout::IO, keep_loaded_modules::Bool)\n    @ Base .\\loading.jl:1705\n  [3] compilecache\n    @ .\\loading.jl:1649 [inlined]\n  [4] _require(pkg::Base.PkgId)\n    @ Base .\\loading.jl:1337\n  [5] _require_prelocked(uuidkey::Base.PkgId)\n    @ Base .\\loading.jl:1200\n  [6] macro expansion\n    @ .\\loading.jl:1180 [inlined]\n  [7] macro expansion\n    @ .\\lock.jl:223 [inlined]\n  [8] require(into::Module, mod::Symbol)\n    @ Base .\\loading.jl:1144\n  [9] include(fname::String)\n    @ Base.MainInclude .\\client.jl:476\n [10] top-level scope\n    @ none:5\nin expression starting at C:\\Users\\jeffr\\.julia\\packages\\ImageMagick\\adWD8\\deps\\build.jl:1",
      "",
      "Stacktrace:",
      "  [1] pkgerror(msg::String)",
      "    @ Pkg.Types C:\\Users\\jeffr\\AppData\\Local\\Programs\\Julia-1.8.0\\share\\julia\\stdlib\\v1.8\\Pkg\\src\\Types.jl:67",
      "  [2] (::Pkg.Operations.var\"#66#73\"{Bool, Pkg.Types.Context, String, Pkg.Types.PackageSpec, String})()",
      "    @ Pkg.Operations C:\\Users\\jeffr\\AppData\\Local\\Programs\\Julia-1.8.0\\share\\julia\\stdlib\\v1.8\\Pkg\\src\\Operations.jl:1060",
      "  [3] withenv(::Pkg.Operations.var\"#66#73\"{Bool, Pkg.Types.Context, String, Pkg.Types.PackageSpec, String}, ::Pair{String, String}, ::Vararg{Pair{String}})",
      "    @ Base .\\env.jl:172",
      "  [4] (::Pkg.Operations.var\"#107#112\"{String, Bool, Bool, Bool, Pkg.Operations.var\"#66#73\"{Bool, Pkg.Types.Context, String, Pkg.Types.PackageSpec, String}, Pkg.Types.PackageSpec})()",
      "    @ Pkg.Operations C:\\Users\\jeffr\\AppData\\Local\\Programs\\Julia-1.8.0\\share\\julia\\stdlib\\v1.8\\Pkg\\src\\Operations.jl:1619",
      "  [5] with_temp_env(fn::Pkg.Operations.var\"#107#112\"{String, Bool, Bool, Bool, Pkg.Operations.var\"#66#73\"{Bool, Pkg.Types.Context, String, Pkg.Types.PackageSpec, String}, Pkg.Types.PackageSpec}, temp_env::String)",
      "    @ Pkg.Operations C:\\Users\\jeffr\\AppData\\Local\\Programs\\Julia-1.8.0\\share\\julia\\stdlib\\v1.8\\Pkg\\src\\Operations.jl:1493",
      "  [6] (::Pkg.Operations.var\"#105#110\"{Dict{String, Any}, Bool, Bool, Bool, Pkg.Operations.var\"#66#73\"{Bool, Pkg.Types.Context, String, Pkg.Types.PackageSpec, String}, Pkg.Types.Context, Pkg.Types.PackageSpec, String, Pkg.Types.Project, String})(tmp::String)",
      "    @ Pkg.Operations C:\\Users\\jeffr\\AppData\\Local\\Programs\\Julia-1.8.0\\share\\julia\\stdlib\\v1.8\\Pkg\\src\\Operations.jl:1582",
      "  [7] mktempdir(fn::Pkg.Operations.var\"#105#110\"{Dict{String, Any}, Bool, Bool, Bool, Pkg.Operations.var\"#66#73\"{Bool, Pkg.Types.Context, String, Pkg.Types.PackageSpec, String}, Pkg.Types.Context, Pkg.Types.PackageSpec, String, Pkg.Types.Project, String}, parent::String; prefix::String)",
      "    @ Base.Filesystem .\\file.jl:764",
      "  [8] mktempdir(fn::Function, parent::String) (repeats 2 times)",
      "    @ Base.Filesystem .\\file.jl:760",
      "  [9] sandbox(fn::Function, ctx::Pkg.Types.Context, target::Pkg.Types.PackageSpec, target_path::String, sandbox_path::String, sandbox_project_override::Pkg.Types.Project; preferences::Dict{String, Any}, force_latest_compatible_version::Bool, allow_earlier_backwards_compatible_versions::Bool, allow_reresolve::Bool)",
      "    @ Pkg.Operations C:\\Users\\jeffr\\AppData\\Local\\Programs\\Julia-1.8.0\\share\\julia\\stdlib\\v1.8\\Pkg\\src\\Operations.jl:1540",
      " [10] build_versions(ctx::Pkg.Types.Context, uuids::Set{Base.UUID}; verbose::Bool)",
      "    @ Pkg.Operations C:\\Users\\jeffr\\AppData\\Local\\Programs\\Julia-1.8.0\\share\\julia\\stdlib\\v1.8\\Pkg\\src\\Operations.jl:1041",
      " [11] build(ctx::Pkg.Types.Context, uuids::Set{Base.UUID}, verbose::Bool)",
      "    @ Pkg.Operations C:\\Users\\jeffr\\AppData\\Local\\Programs\\Julia-1.8.0\\share\\julia\\stdlib\\v1.8\\Pkg\\src\\Operations.jl:898",
      " [12] build(ctx::Pkg.Types.Context, pkgs::Vector{Pkg.Types.PackageSpec}; verbose::Bool, kwargs::Base.Pairs{Symbol, IJulia.IJuliaStdio{Base.PipeEndpoint}, Tuple{Symbol}, NamedTuple{(:io,), Tuple{IJulia.IJuliaStdio{Base.PipeEndpoint}}}})",
      "    @ Pkg.API C:\\Users\\jeffr\\AppData\\Local\\Programs\\Julia-1.8.0\\share\\julia\\stdlib\\v1.8\\Pkg\\src\\API.jl:1024",
      " [13] build(pkgs::Vector{Pkg.Types.PackageSpec}; io::IJulia.IJuliaStdio{Base.PipeEndpoint}, kwargs::Base.Pairs{Symbol, Union{}, Tuple{}, NamedTuple{(), Tuple{}}})",
      "    @ Pkg.API C:\\Users\\jeffr\\AppData\\Local\\Programs\\Julia-1.8.0\\share\\julia\\stdlib\\v1.8\\Pkg\\src\\API.jl:156",
      " [14] build(pkgs::Vector{Pkg.Types.PackageSpec})",
      "    @ Pkg.API C:\\Users\\jeffr\\AppData\\Local\\Programs\\Julia-1.8.0\\share\\julia\\stdlib\\v1.8\\Pkg\\src\\API.jl:145",
      " [15] #build#99",
      "    @ C:\\Users\\jeffr\\AppData\\Local\\Programs\\Julia-1.8.0\\share\\julia\\stdlib\\v1.8\\Pkg\\src\\API.jl:144 [inlined]",
      " [16] build",
      "    @ C:\\Users\\jeffr\\AppData\\Local\\Programs\\Julia-1.8.0\\share\\julia\\stdlib\\v1.8\\Pkg\\src\\API.jl:144 [inlined]",
      " [17] #build#98",
      "    @ C:\\Users\\jeffr\\AppData\\Local\\Programs\\Julia-1.8.0\\share\\julia\\stdlib\\v1.8\\Pkg\\src\\API.jl:143 [inlined]",
      " [18] build(pkg::String)",
      "    @ Pkg.API C:\\Users\\jeffr\\AppData\\Local\\Programs\\Julia-1.8.0\\share\\julia\\stdlib\\v1.8\\Pkg\\src\\API.jl:143",
      " [19] top-level scope",
      "    @ In[4]:1",
      " [20] eval",
      "    @ .\\boot.jl:368 [inlined]",
      " [21] include_string(mapexpr::typeof(REPL.softscope), mod::Module, code::String, filename::String)",
      "    @ Base .\\loading.jl:1428"
     ]
    }
   ],
   "source": [
    "Pkg.build(\"ThinkJulia\")"
   ]
  },
  {
   "cell_type": "code",
   "execution_count": 7,
   "id": "f733b9cd-4827-4336-a0ef-358b20956f40",
   "metadata": {},
   "outputs": [
    {
     "name": "stdout",
     "output_type": "stream",
     "text": [
      "Julia Version 1.8.0\n",
      "Commit 5544a0fab7 (2022-08-17 13:38 UTC)\n",
      "Platform Info:\n",
      "  OS: Windows (x86_64-w64-mingw32)\n",
      "  CPU: 16 × 12th Gen Intel(R) Core(TM) i7-1260P\n",
      "  WORD_SIZE: 64\n",
      "  LIBM: libopenlibm\n",
      "  LLVM: libLLVM-13.0.1 (ORCJIT, goldmont)\n",
      "  Threads: 1 on 16 virtual cores\n"
     ]
    }
   ],
   "source": [
    "versioninfo()"
   ]
  },
  {
   "cell_type": "code",
   "execution_count": 8,
   "id": "a4c52c0b-75eb-4981-8f82-9019a8eea04e",
   "metadata": {},
   "outputs": [
    {
     "name": "stderr",
     "output_type": "stream",
     "text": [
      "\u001b[32m\u001b[1m    Building\u001b[22m\u001b[39m ImageMagick → `C:\\Users\\jeffr\\.julia\\scratchspaces\\44cfe95a-1eb2-52ea-b672-e2afdf69b78f\\54dfa264804aefc44630c96619474e683a522d78\\build.log`\n"
     ]
    },
    {
     "ename": "LoadError",
     "evalue": "Error building `ImageMagick`: \nERROR: LoadError: Unable to open libLLVM!\nStacktrace:\n  [1] error(s::String)\n    @ Base .\\error.jl:35\n  [2] (::BinaryProvider.var\"#open_libllvm#124\")()\n    @ BinaryProvider C:\\Users\\jeffr\\.julia\\packages\\BinaryProvider\\U2dKK\\src\\PlatformNames.jl:652\n  [3] detect_cxx11_string_abi()\n    @ BinaryProvider C:\\Users\\jeffr\\.julia\\packages\\BinaryProvider\\U2dKK\\src\\PlatformNames.jl:655\n  [4] detect_compiler_abi()\n    @ BinaryProvider C:\\Users\\jeffr\\.julia\\packages\\BinaryProvider\\U2dKK\\src\\PlatformNames.jl:668\n  [5] top-level scope\n    @ C:\\Users\\jeffr\\.julia\\packages\\BinaryProvider\\U2dKK\\src\\PlatformNames.jl:685\n  [6] include(mod::Module, _path::String)\n    @ Base .\\Base.jl:419\n  [7] include(x::String)\n    @ BinaryProvider C:\\Users\\jeffr\\.julia\\packages\\BinaryProvider\\U2dKK\\src\\BinaryProvider.jl:1\n  [8] top-level scope\n    @ C:\\Users\\jeffr\\.julia\\packages\\BinaryProvider\\U2dKK\\src\\BinaryProvider.jl:12\n  [9] include\n    @ .\\Base.jl:419 [inlined]\n [10] include_package_for_output(pkg::Base.PkgId, input::String, depot_path::Vector{String}, dl_load_path::Vector{String}, load_path::Vector{String}, concrete_deps::Vector{Pair{Base.PkgId, UInt64}}, source::String)\n    @ Base .\\loading.jl:1554\n [11] top-level scope\n    @ stdin:1\nin expression starting at C:\\Users\\jeffr\\.julia\\packages\\BinaryProvider\\U2dKK\\src\\PlatformNames.jl:685\nin expression starting at C:\\Users\\jeffr\\.julia\\packages\\BinaryProvider\\U2dKK\\src\\BinaryProvider.jl:1\nin expression starting at stdin:1\nERROR: LoadError: Failed to precompile BinaryProvider [b99e7846-7c00-51b0-8f62-c81ae34c0232] to C:\\Users\\jeffr\\.julia\\compiled\\v1.8\\BinaryProvider\\jl_D234.tmp.\nStacktrace:\n  [1] error(s::String)\n    @ Base .\\error.jl:35\n  [2] compilecache(pkg::Base.PkgId, path::String, internal_stderr::IO, internal_stdout::IO, keep_loaded_modules::Bool)\n    @ Base .\\loading.jl:1705\n  [3] compilecache\n    @ .\\loading.jl:1649 [inlined]\n  [4] _require(pkg::Base.PkgId)\n    @ Base .\\loading.jl:1337\n  [5] _require_prelocked(uuidkey::Base.PkgId)\n    @ Base .\\loading.jl:1200\n  [6] macro expansion\n    @ .\\loading.jl:1180 [inlined]\n  [7] macro expansion\n    @ .\\lock.jl:223 [inlined]\n  [8] require(into::Module, mod::Symbol)\n    @ Base .\\loading.jl:1144\n  [9] include(fname::String)\n    @ Base.MainInclude .\\client.jl:476\n [10] top-level scope\n    @ none:5\nin expression starting at C:\\Users\\jeffr\\.julia\\packages\\ImageMagick\\adWD8\\deps\\build.jl:1",
     "output_type": "error",
     "traceback": [
      "Error building `ImageMagick`: \nERROR: LoadError: Unable to open libLLVM!\nStacktrace:\n  [1] error(s::String)\n    @ Base .\\error.jl:35\n  [2] (::BinaryProvider.var\"#open_libllvm#124\")()\n    @ BinaryProvider C:\\Users\\jeffr\\.julia\\packages\\BinaryProvider\\U2dKK\\src\\PlatformNames.jl:652\n  [3] detect_cxx11_string_abi()\n    @ BinaryProvider C:\\Users\\jeffr\\.julia\\packages\\BinaryProvider\\U2dKK\\src\\PlatformNames.jl:655\n  [4] detect_compiler_abi()\n    @ BinaryProvider C:\\Users\\jeffr\\.julia\\packages\\BinaryProvider\\U2dKK\\src\\PlatformNames.jl:668\n  [5] top-level scope\n    @ C:\\Users\\jeffr\\.julia\\packages\\BinaryProvider\\U2dKK\\src\\PlatformNames.jl:685\n  [6] include(mod::Module, _path::String)\n    @ Base .\\Base.jl:419\n  [7] include(x::String)\n    @ BinaryProvider C:\\Users\\jeffr\\.julia\\packages\\BinaryProvider\\U2dKK\\src\\BinaryProvider.jl:1\n  [8] top-level scope\n    @ C:\\Users\\jeffr\\.julia\\packages\\BinaryProvider\\U2dKK\\src\\BinaryProvider.jl:12\n  [9] include\n    @ .\\Base.jl:419 [inlined]\n [10] include_package_for_output(pkg::Base.PkgId, input::String, depot_path::Vector{String}, dl_load_path::Vector{String}, load_path::Vector{String}, concrete_deps::Vector{Pair{Base.PkgId, UInt64}}, source::String)\n    @ Base .\\loading.jl:1554\n [11] top-level scope\n    @ stdin:1\nin expression starting at C:\\Users\\jeffr\\.julia\\packages\\BinaryProvider\\U2dKK\\src\\PlatformNames.jl:685\nin expression starting at C:\\Users\\jeffr\\.julia\\packages\\BinaryProvider\\U2dKK\\src\\BinaryProvider.jl:1\nin expression starting at stdin:1\nERROR: LoadError: Failed to precompile BinaryProvider [b99e7846-7c00-51b0-8f62-c81ae34c0232] to C:\\Users\\jeffr\\.julia\\compiled\\v1.8\\BinaryProvider\\jl_D234.tmp.\nStacktrace:\n  [1] error(s::String)\n    @ Base .\\error.jl:35\n  [2] compilecache(pkg::Base.PkgId, path::String, internal_stderr::IO, internal_stdout::IO, keep_loaded_modules::Bool)\n    @ Base .\\loading.jl:1705\n  [3] compilecache\n    @ .\\loading.jl:1649 [inlined]\n  [4] _require(pkg::Base.PkgId)\n    @ Base .\\loading.jl:1337\n  [5] _require_prelocked(uuidkey::Base.PkgId)\n    @ Base .\\loading.jl:1200\n  [6] macro expansion\n    @ .\\loading.jl:1180 [inlined]\n  [7] macro expansion\n    @ .\\lock.jl:223 [inlined]\n  [8] require(into::Module, mod::Symbol)\n    @ Base .\\loading.jl:1144\n  [9] include(fname::String)\n    @ Base.MainInclude .\\client.jl:476\n [10] top-level scope\n    @ none:5\nin expression starting at C:\\Users\\jeffr\\.julia\\packages\\ImageMagick\\adWD8\\deps\\build.jl:1",
      "",
      "Stacktrace:",
      "  [1] pkgerror(msg::String)",
      "    @ Pkg.Types C:\\Users\\jeffr\\AppData\\Local\\Programs\\Julia-1.8.0\\share\\julia\\stdlib\\v1.8\\Pkg\\src\\Types.jl:67",
      "  [2] (::Pkg.Operations.var\"#66#73\"{Bool, Pkg.Types.Context, String, Pkg.Types.PackageSpec, String})()",
      "    @ Pkg.Operations C:\\Users\\jeffr\\AppData\\Local\\Programs\\Julia-1.8.0\\share\\julia\\stdlib\\v1.8\\Pkg\\src\\Operations.jl:1060",
      "  [3] withenv(::Pkg.Operations.var\"#66#73\"{Bool, Pkg.Types.Context, String, Pkg.Types.PackageSpec, String}, ::Pair{String, String}, ::Vararg{Pair{String}})",
      "    @ Base .\\env.jl:172",
      "  [4] (::Pkg.Operations.var\"#107#112\"{String, Bool, Bool, Bool, Pkg.Operations.var\"#66#73\"{Bool, Pkg.Types.Context, String, Pkg.Types.PackageSpec, String}, Pkg.Types.PackageSpec})()",
      "    @ Pkg.Operations C:\\Users\\jeffr\\AppData\\Local\\Programs\\Julia-1.8.0\\share\\julia\\stdlib\\v1.8\\Pkg\\src\\Operations.jl:1619",
      "  [5] with_temp_env(fn::Pkg.Operations.var\"#107#112\"{String, Bool, Bool, Bool, Pkg.Operations.var\"#66#73\"{Bool, Pkg.Types.Context, String, Pkg.Types.PackageSpec, String}, Pkg.Types.PackageSpec}, temp_env::String)",
      "    @ Pkg.Operations C:\\Users\\jeffr\\AppData\\Local\\Programs\\Julia-1.8.0\\share\\julia\\stdlib\\v1.8\\Pkg\\src\\Operations.jl:1493",
      "  [6] (::Pkg.Operations.var\"#105#110\"{Dict{String, Any}, Bool, Bool, Bool, Pkg.Operations.var\"#66#73\"{Bool, Pkg.Types.Context, String, Pkg.Types.PackageSpec, String}, Pkg.Types.Context, Pkg.Types.PackageSpec, String, Pkg.Types.Project, String})(tmp::String)",
      "    @ Pkg.Operations C:\\Users\\jeffr\\AppData\\Local\\Programs\\Julia-1.8.0\\share\\julia\\stdlib\\v1.8\\Pkg\\src\\Operations.jl:1582",
      "  [7] mktempdir(fn::Pkg.Operations.var\"#105#110\"{Dict{String, Any}, Bool, Bool, Bool, Pkg.Operations.var\"#66#73\"{Bool, Pkg.Types.Context, String, Pkg.Types.PackageSpec, String}, Pkg.Types.Context, Pkg.Types.PackageSpec, String, Pkg.Types.Project, String}, parent::String; prefix::String)",
      "    @ Base.Filesystem .\\file.jl:764",
      "  [8] mktempdir(fn::Function, parent::String) (repeats 2 times)",
      "    @ Base.Filesystem .\\file.jl:760",
      "  [9] sandbox(fn::Function, ctx::Pkg.Types.Context, target::Pkg.Types.PackageSpec, target_path::String, sandbox_path::String, sandbox_project_override::Pkg.Types.Project; preferences::Dict{String, Any}, force_latest_compatible_version::Bool, allow_earlier_backwards_compatible_versions::Bool, allow_reresolve::Bool)",
      "    @ Pkg.Operations C:\\Users\\jeffr\\AppData\\Local\\Programs\\Julia-1.8.0\\share\\julia\\stdlib\\v1.8\\Pkg\\src\\Operations.jl:1540",
      " [10] build_versions(ctx::Pkg.Types.Context, uuids::Set{Base.UUID}; verbose::Bool)",
      "    @ Pkg.Operations C:\\Users\\jeffr\\AppData\\Local\\Programs\\Julia-1.8.0\\share\\julia\\stdlib\\v1.8\\Pkg\\src\\Operations.jl:1041",
      " [11] build(ctx::Pkg.Types.Context, uuids::Set{Base.UUID}, verbose::Bool)",
      "    @ Pkg.Operations C:\\Users\\jeffr\\AppData\\Local\\Programs\\Julia-1.8.0\\share\\julia\\stdlib\\v1.8\\Pkg\\src\\Operations.jl:898",
      " [12] build(ctx::Pkg.Types.Context, pkgs::Vector{Pkg.Types.PackageSpec}; verbose::Bool, kwargs::Base.Pairs{Symbol, IJulia.IJuliaStdio{Base.PipeEndpoint}, Tuple{Symbol}, NamedTuple{(:io,), Tuple{IJulia.IJuliaStdio{Base.PipeEndpoint}}}})",
      "    @ Pkg.API C:\\Users\\jeffr\\AppData\\Local\\Programs\\Julia-1.8.0\\share\\julia\\stdlib\\v1.8\\Pkg\\src\\API.jl:1024",
      " [13] build(pkgs::Vector{Pkg.Types.PackageSpec}; io::IJulia.IJuliaStdio{Base.PipeEndpoint}, kwargs::Base.Pairs{Symbol, Union{}, Tuple{}, NamedTuple{(), Tuple{}}})",
      "    @ Pkg.API C:\\Users\\jeffr\\AppData\\Local\\Programs\\Julia-1.8.0\\share\\julia\\stdlib\\v1.8\\Pkg\\src\\API.jl:156",
      " [14] build(pkgs::Vector{Pkg.Types.PackageSpec})",
      "    @ Pkg.API C:\\Users\\jeffr\\AppData\\Local\\Programs\\Julia-1.8.0\\share\\julia\\stdlib\\v1.8\\Pkg\\src\\API.jl:145",
      " [15] #build#99",
      "    @ C:\\Users\\jeffr\\AppData\\Local\\Programs\\Julia-1.8.0\\share\\julia\\stdlib\\v1.8\\Pkg\\src\\API.jl:144 [inlined]",
      " [16] build",
      "    @ C:\\Users\\jeffr\\AppData\\Local\\Programs\\Julia-1.8.0\\share\\julia\\stdlib\\v1.8\\Pkg\\src\\API.jl:144 [inlined]",
      " [17] #build#98",
      "    @ C:\\Users\\jeffr\\AppData\\Local\\Programs\\Julia-1.8.0\\share\\julia\\stdlib\\v1.8\\Pkg\\src\\API.jl:143 [inlined]",
      " [18] build(pkg::String)",
      "    @ Pkg.API C:\\Users\\jeffr\\AppData\\Local\\Programs\\Julia-1.8.0\\share\\julia\\stdlib\\v1.8\\Pkg\\src\\API.jl:143",
      " [19] top-level scope",
      "    @ In[8]:1",
      " [20] eval",
      "    @ .\\boot.jl:368 [inlined]",
      " [21] include_string(mapexpr::typeof(REPL.softscope), mod::Module, code::String, filename::String)",
      "    @ Base .\\loading.jl:1428"
     ]
    }
   ],
   "source": [
    "Pkg.build(\"ImageMagick\")"
   ]
  },
  {
   "cell_type": "markdown",
   "id": "cddb5bf8-58d6-4f39-80b3-3e498abbda23",
   "metadata": {},
   "source": [
    "```\n",
    "```\n",
    "결과적으로 ThikJulia.jl 패키지에서 제한을 걸어 놓은 패키지 버전들이 현재는 사용되지 않음에 따라 \n",
    "설치가 계속 실패하게 됨\n",
    "\n",
    "대표적으로 ImageMagick 패키지는 현재 1.2.2 버전이 사용되고 있는데 제한은 3년 전 배포버전인 0.7.0 ~ 0.7.9 버전에 한정되어 있다.\n",
    "```\n",
    "```\n",
    "다른 방도로 예전 버전의 줄리아(Julia v0.7)를 설치하고 해당 버전에서 설치하려고 하였으나, \n",
    "\n",
    "해당 버전에 맞는 TikzPictures 패키지는 현재 지원이 중단되었고, 형상도 재편되어 3버전에서 0.8 버전으로 바뀌었다. \n",
    "\n",
    "따라서 제대로 설치를 하려면 현재의 환경에서는 어렵다는 결론을 내림\n",
    "```\n",
    "```\n",
    "ThinkJulia.jl 패키지의 Project.toml 파일의 내용은 다음과 같다. \n",
    "\n",
    "```julia\n",
    "name = \"ThinkJulia\"\n",
    "uuid = \"a7f2b756-c18b-4c7f-87da-faca9ac81b29\"\n",
    "\n",
    "[deps]\n",
    "Base64 = \"2a0f44e3-6c83-55bd-87e4-b1978d98bd5f\"\n",
    "BinaryProvider = \"b99e7846-7c00-51b0-8f62-c81ae34c0232\"\n",
    "Libdl = \"8f399da3-3557-5675-b5ff-fb832c97cbdb\"\n",
    "Luxor = \"ae8d54c2-7ccd-5906-9d76-62fc9837b5bc\"\n",
    "Plots = \"91a5bcdd-55d7-5caf-9e0b-520d859cae80\"\n",
    "Printf = \"de0858da-6303-5e67-8744-51eddeeeb8d7\"\n",
    "REPL = \"3fa0cd96-eef1-5676-8a61-b3b8758bbffb\"\n",
    "Random = \"9a3f8284-a2c9-5f02-9a11-845980a1fd5c\"\n",
    "TikzPictures = \"37f6aa50-8035-52d0-81c2-5a1d08754b2d\"\n",
    "\n",
    "[compat]\n",
    "BinaryProvider = \"0.5\"\n",
    "Luxor = \"1\"\n",
    "TikzPictures = \"3\"\n",
    "julia = \"0.7, 1\"\n",
    "\n",
    "[extras]\n",
    "Test = \"8dfed614-e22c-5e08-85e1-65c5234f0b40\"\n",
    "\n",
    "[targets]\n",
    "test = [\"Test\"]\n",
    "```"
   ]
  },
  {
   "cell_type": "markdown",
   "id": "1c41167c-d64e-473c-9499-07cbc3052c9e",
   "metadata": {},
   "source": [
    "재미있을 것 같은 거북이 실험은 당분간 보류함\n",
    "\n",
    "다만 책에 나와 있는 예제 코드는 참고적으로 적어 놓기로 함"
   ]
  },
  {
   "cell_type": "markdown",
   "id": "2fb99869-f123-4a28-b195-2de564d79e7c",
   "metadata": {},
   "source": [
    "### 4.1 거북이"
   ]
  },
  {
   "cell_type": "markdown",
   "id": "578d3814-14b9-40ba-a261-752d31b493a6",
   "metadata": {},
   "source": [
    "```julia\n",
    "@svg begin\n",
    "    forward( 🐢, 100)\n",
    "end\n",
    "```\n",
    "```@svg``` 는 SVG 형식의 그림을 그리는 매크로 실행\n",
    "\n",
    "```julia\n",
    "🐢 = Turtle()\n",
    "\n",
    "@svg begin\n",
    "    forward( 🐢, 100)\n",
    "    turn( 🐢, -90)\n",
    "    forward( 🐢, 100)\n",
    "end\n",
    "```\n"
   ]
  },
  {
   "cell_type": "markdown",
   "id": "96e5f2fc-6a76-49ba-921e-a587a2103a2c",
   "metadata": {},
   "source": [
    "### 4.2 단순 반복"
   ]
  },
  {
   "cell_type": "markdown",
   "id": "5c18de66-fac3-4713-9373-cc8ca48fed26",
   "metadata": {},
   "source": [
    "```julia\n",
    "🐢 = Turtle()\n",
    "\n",
    "@svg begin\n",
    "    for i in 1:4\n",
    "        forward( 🐢, 100)\n",
    "        turn( 🐢, -90)\n",
    "    end\n",
    "end\n",
    "```"
   ]
  },
  {
   "cell_type": "markdown",
   "id": "5653e0f9-69ac-4f7b-88b9-5d147d44f2cf",
   "metadata": {},
   "source": [
    "### 4.4 캡슐화"
   ]
  },
  {
   "cell_type": "markdown",
   "id": "d2ffe4e5-fb20-4009-a987-03127b8f6446",
   "metadata": {},
   "source": [
    "```julia\n",
    "function square(t)\n",
    "    for i in 1:4\n",
    "        forward( 🐢, 100)\n",
    "        turn( 🐢, -90)\n",
    "    end\n",
    "end\n",
    "\n",
    "🐢 = Turtle()\n",
    "\n",
    "@svg begin\n",
    "    square(🐢)\n",
    "end\n",
    "\n",
    "```\n",
    "\n",
    "또는 다른 이모지 이용 가능 \n",
    "\n",
    "```julia\n",
    "🐫 = Turtle()\n",
    "\n",
    "@svg begin\n",
    "    square(🐫)\n",
    "end\n",
    "```"
   ]
  },
  {
   "cell_type": "markdown",
   "id": "bddf6b31-3e89-4d35-afb4-4c962d94e309",
   "metadata": {},
   "source": [
    "### 4.5 일반화\n",
    "\n",
    "```julia\n",
    "function polygon(t, n, len)\n",
    "    angle = 360 / n\n",
    "    for i in 1:n\n",
    "        forward(t, len)\n",
    "        turn(t, -angle)\n",
    "    end\n",
    "end\n",
    "\n",
    "🐢 = Turtle()\n",
    "\n",
    "@svg begin\n",
    "    polygon(🐢 , 7 , 70)\n",
    "end\n",
    "```"
   ]
  },
  {
   "cell_type": "markdown",
   "id": "acd03ce7-4f07-4a54-9449-d269599c106c",
   "metadata": {},
   "source": [
    "### 4.6 인터페이스 디자인\n",
    "\n",
    "```julia\n",
    "function circle(t, r)\n",
    "    circumference = 2 * π * r\n",
    "    n = 50\n",
    "    len = circumference / n\n",
    "    polygon(t, n, len)\n",
    "end\n",
    "\n",
    "\n",
    "function circle(t, r)\n",
    "    circumference = 2 * π * r\n",
    "    n = trun(circumference / 3) + 3\n",
    "    len = circumference / n\n",
    "    polygon(t, n, len)\n",
    "end\n",
    "```"
   ]
  },
  {
   "cell_type": "markdown",
   "id": "424b67c2-cc6d-4089-9db6-ce6b63450315",
   "metadata": {},
   "source": [
    "### 4.9 문서화 문자열\n",
    "\n",
    "**문서화 문자열(docstring)** 은 함수 정의 바로 앞에 나오는 문자열로 그 함수의 인터페이스를 설명하는 용도로 쓰임 (보통 삼중 따옴표로 인용된 문자열로 작성)\n"
   ]
  },
  {
   "cell_type": "code",
   "execution_count": 1,
   "id": "b18d4c09-2555-4038-aee5-dfc5afd4e804",
   "metadata": {},
   "outputs": [
    {
     "data": {
      "text/plain": [
       "polyline"
      ]
     },
     "execution_count": 1,
     "metadata": {},
     "output_type": "execute_result"
    }
   ],
   "source": [
    "\"\"\"\n",
    "polyline(t, n, len, angle)\n",
    "\n",
    "n개의 선분을 연달아 그린다. 선분의 길이는 len이고\n",
    "선분 사이의 각도는 angle이다(단위는 도). t는 거북이.\n",
    "\"\"\"\n",
    "function polyline(t, n, len, angle)\n",
    "    for i in 1:n\n",
    "        forward(t, len)\n",
    "        turn(t, -angle)\n",
    "    end\n",
    "end"
   ]
  },
  {
   "cell_type": "code",
   "execution_count": 2,
   "id": "89630ddd-901b-41c2-bab8-5e4c5e84ca66",
   "metadata": {},
   "outputs": [
    {
     "name": "stdout",
     "output_type": "stream",
     "text": [
      "search: \u001b[0m\u001b[1mp\u001b[22m\u001b[0m\u001b[1mo\u001b[22m\u001b[0m\u001b[1ml\u001b[22m\u001b[0m\u001b[1my\u001b[22m\u001b[0m\u001b[1ml\u001b[22m\u001b[0m\u001b[1mi\u001b[22m\u001b[0m\u001b[1mn\u001b[22m\u001b[0m\u001b[1me\u001b[22m\n",
      "\n"
     ]
    },
    {
     "data": {
      "text/latex": [
       "polyline(t, n, len, angle)\n",
       "\n",
       "n개의 선분을 연달아 그린다. 선분의 길이는 len이고 선분 사이의 각도는 angle이다(단위는 도). t는 거북이.\n",
       "\n"
      ],
      "text/markdown": [
       "polyline(t, n, len, angle)\n",
       "\n",
       "n개의 선분을 연달아 그린다. 선분의 길이는 len이고 선분 사이의 각도는 angle이다(단위는 도). t는 거북이.\n"
      ],
      "text/plain": [
       "  polyline(t, n, len, angle)\n",
       "\n",
       "  n개의 선분을 연달아 그린다. 선분의 길이는 len이고 선분 사이의 각도는 angle이다(단위는 도). t는 거북이."
      ]
     },
     "execution_count": 2,
     "metadata": {},
     "output_type": "execute_result"
    }
   ],
   "source": [
    "?polyline"
   ]
  },
  {
   "cell_type": "markdown",
   "id": "0a194788-eaf2-4b2c-bf90-fe25a8a043a9",
   "metadata": {},
   "source": [
    "### 4.11 용어집"
   ]
  },
  {
   "cell_type": "markdown",
   "id": "90c2ea06-4453-423c-b495-bcb656d02159",
   "metadata": {},
   "source": [
    "* **모듈(module)**\n",
    "\n",
    "    * 연관된 함수 및 기타 정의들의 모음을 포함하는 파일\n",
    "\n",
    "\n",
    "* **패키지(package)**\n",
    "\n",
    "    * 추가 기능을 가지고 있는 외부 라이브러리 \n",
    "\n",
    "\n",
    "* **using 문**\n",
    "\n",
    "    * 모듈 파일을 읽어서 모듈 객체를 생성시키는 문장\n",
    "    \n",
    "* **루프(loop)**\n",
    "\n",
    "    * 반복해서 실행되는 프로그램의 부분.\n",
    "    \n",
    "* **캡슐화(encapsulation)**\n",
    "\n",
    "    * 명령문의 나열을 함수 정의로 바꾸는 공정\n",
    "    \n",
    "* **일반화(generalization)**\n",
    "\n",
    "    * (숫자처럼) 불필요하게 구체적인 어떤 것을 (변수나 매개변수처럼) 더 일반적인 것으로 바꾸는 공정\n",
    "    \n",
    "* **인터페이스(interface)**\n",
    "\n",
    "    * 함수를 어떻게 사용해야 하는지에 대한 설명. 인수의 이름과 설명, 결괏값을 포함한다.\n",
    "    \n",
    "* **계발 계획**\n",
    "\n",
    "    * 프로그램을 작성하기 위한 어떤 공정\n",
    "    \n",
    "* **문서화 문자열(docstring)**\n",
    "\n",
    "    * 함수 정의 위에 위치한 문자열로, 함수의 인터페이스를 기술한다.\n",
    "\n",
    "* **전제 조건(precondition)**\n",
    "\n",
    "    * 어떤 함수가 실행되기 전에 호출자에 의해서 만족되어야 하는 요구 사항들\n",
    "    \n",
    "* **후행 조건(postcondition)**\n",
    "\n",
    "    * 어떤 함수가 실행을 종료하기 전에 만족시켜야 하는 요구 사항"
   ]
  }
 ],
 "metadata": {
  "kernelspec": {
   "display_name": "Julia 1.8.0",
   "language": "julia",
   "name": "julia-1.8"
  },
  "language_info": {
   "file_extension": ".jl",
   "mimetype": "application/julia",
   "name": "julia",
   "version": "1.8.0"
  }
 },
 "nbformat": 4,
 "nbformat_minor": 5
}
