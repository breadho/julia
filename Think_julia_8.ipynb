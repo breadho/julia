{
 "cells": [
  {
   "cell_type": "markdown",
   "id": "61739085-4933-40de-8d52-f9169e0719a0",
   "metadata": {},
   "source": [
    "# 줄리아를 생각하다(Think Julia)"
   ]
  },
  {
   "cell_type": "markdown",
   "id": "10960775-786e-40ce-83b4-2db712488211",
   "metadata": {},
   "source": [
    "## Chapter 8. 문자열"
   ]
  },
  {
   "cell_type": "markdown",
   "id": "a2eb37ad-4cdb-4c59-9d6c-d30f92cd46ca",
   "metadata": {},
   "source": [
    "문자열은 일종의 **순열**(sequence)인데, 어떤 값들을 순서대로 묶어 놓았다는 의미"
   ]
  },
  {
   "cell_type": "markdown",
   "id": "e9a173c6-02bf-4d4f-879e-365b042957b3",
   "metadata": {},
   "source": [
    "### 8.1 문자"
   ]
  },
  {
   "cell_type": "markdown",
   "id": "7f1cc86e-93c6-4b14-8b7b-f6d573fd5056",
   "metadata": {},
   "source": [
    "* 영어 알파벳: 미국정보교환표준부호(American standard code for Information Interchange), 줄여서 아스키 표준(ASCII standard)으로 표준화 되어 있음(각 문자마다 0~127 사이의 숫자 하나가 대응)\n",
    "\n",
    "* 비영어권 문자: 유니코드 표준(Unicode standard)으로 세계적 규모의 모든 문자에 고유한 숫자 하나씩 할당되어 있음"
   ]
  },
  {
   "cell_type": "markdown",
   "id": "4ef94a8e-7f84-4d65-91f6-7a933e62ed75",
   "metadata": {},
   "source": [
    "한 개의 문자를 표현하는 자료형은 Char\n",
    "\n",
    "값을 표시할 때는 문자를 작은 따옴표로 감싸줌"
   ]
  },
  {
   "cell_type": "code",
   "execution_count": 1,
   "id": "56edd104-6d6a-44ac-8484-15026987c04c",
   "metadata": {},
   "outputs": [
    {
     "data": {
      "text/plain": [
       "'x': ASCII/Unicode U+0078 (category Ll: Letter, lowercase)"
      ]
     },
     "execution_count": 1,
     "metadata": {},
     "output_type": "execute_result"
    }
   ],
   "source": [
    "'x'"
   ]
  },
  {
   "cell_type": "code",
   "execution_count": 5,
   "id": "51aa713b-99cf-496a-963d-1bce7bf8e172",
   "metadata": {},
   "outputs": [
    {
     "data": {
      "text/plain": [
       "'🍌': Unicode U+1F34C (category So: Symbol, other)"
      ]
     },
     "execution_count": 5,
     "metadata": {},
     "output_type": "execute_result"
    }
   ],
   "source": [
    "'🍌' # \\:banana: + tab"
   ]
  },
  {
   "cell_type": "code",
   "execution_count": 3,
   "id": "96944a06-083c-438b-9dc5-5a037ae494e5",
   "metadata": {},
   "outputs": [
    {
     "data": {
      "text/plain": [
       "Char"
      ]
     },
     "execution_count": 3,
     "metadata": {},
     "output_type": "execute_result"
    }
   ],
   "source": [
    "typeof('x')"
   ]
  },
  {
   "cell_type": "code",
   "execution_count": 4,
   "id": "710aea38-eb5b-421c-9d63-6506382c08af",
   "metadata": {},
   "outputs": [
    {
     "data": {
      "text/plain": [
       "Char"
      ]
     },
     "execution_count": 4,
     "metadata": {},
     "output_type": "execute_result"
    }
   ],
   "source": [
    "typeof('🍌')"
   ]
  },
  {
   "cell_type": "markdown",
   "id": "0c473e13-7c7c-47ae-ab85-5b5bad11641f",
   "metadata": {},
   "source": [
    "### 8.2 문자열은 순열"
   ]
  },
  {
   "cell_type": "markdown",
   "id": "4ce95beb-e3a6-40b9-b6c4-0ada32b1e40a",
   "metadata": {},
   "source": [
    "문자열은 문자의 순열: 대괄호(Bracket) 연산자(```[]```)를 이용해 각 문자에 접근 가능"
   ]
  },
  {
   "cell_type": "code",
   "execution_count": 6,
   "id": "f9e47e6a-c632-493a-877a-0e41d7d67373",
   "metadata": {},
   "outputs": [
    {
     "data": {
      "text/plain": [
       "\"banana\""
      ]
     },
     "execution_count": 6,
     "metadata": {},
     "output_type": "execute_result"
    }
   ],
   "source": [
    "fruit = \"banana\""
   ]
  },
  {
   "cell_type": "code",
   "execution_count": 8,
   "id": "e4eb708f-fa73-4ad8-91a9-e3d68c3a79a4",
   "metadata": {},
   "outputs": [
    {
     "data": {
      "text/plain": [
       "'b': ASCII/Unicode U+0062 (category Ll: Letter, lowercase)"
      ]
     },
     "execution_count": 8,
     "metadata": {},
     "output_type": "execute_result"
    }
   ],
   "source": [
    "letter = fruit[1]"
   ]
  },
  {
   "cell_type": "markdown",
   "id": "9aeb4d65-cee3-448f-be0b-1f87af009839",
   "metadata": {},
   "source": [
    "* 두 번째 실행문은 fruit의 첫 번째 문자를 가져와 letter에 할당\n",
    "* 대괄호 안에 있는 표현식을 **인덱스**(index)라고 함(인덱스는 원하는 순열 안에서 어떤 문자를 가져올 지를 정함)\n",
    "     1) 줄리아의 인덱스는 1에서 시작함(**첫번째 원소**는 인덱스 ```1```로 접근할 수 있고, **마지막 원소**는 인덱스 ```end```로 접근 가능)\n",
    "     2) 인덱스에는 값과 연산자를 포함하는 표현식을 쓸 수 있음\n",
    "     3) 다만, 인덱스 값의 자료형은 정수여야 하며 그렇지 않을 경우 오류가 발생함"
   ]
  },
  {
   "cell_type": "code",
   "execution_count": 10,
   "id": "efc289e4-2a85-4208-a6b0-2a98a52dcf7e",
   "metadata": {},
   "outputs": [
    {
     "data": {
      "text/plain": [
       "'a': ASCII/Unicode U+0061 (category Ll: Letter, lowercase)"
      ]
     },
     "execution_count": 10,
     "metadata": {},
     "output_type": "execute_result"
    }
   ],
   "source": [
    "# 인덱스 예사 1)\n",
    "fruit[end]"
   ]
  },
  {
   "cell_type": "code",
   "execution_count": 11,
   "id": "1ee4ad31-0217-46ad-8c5b-54b2facd6390",
   "metadata": {},
   "outputs": [
    {
     "data": {
      "text/plain": [
       "'a': ASCII/Unicode U+0061 (category Ll: Letter, lowercase)"
      ]
     },
     "execution_count": 11,
     "metadata": {},
     "output_type": "execute_result"
    }
   ],
   "source": [
    "# 인덱스 예시 2)\n",
    "i = 1\n",
    "fruit[i + 1]"
   ]
  },
  {
   "cell_type": "code",
   "execution_count": 17,
   "id": "cfdc22c2-6981-4fec-84ab-c379618a107b",
   "metadata": {},
   "outputs": [
    {
     "ename": "LoadError",
     "evalue": "MethodError: no method matching getindex(::String, ::Float64)\n\u001b[0mClosest candidates are:\n\u001b[0m  getindex(::AbstractString, \u001b[91m::Colon\u001b[39m) at strings/basic.jl:189\n\u001b[0m  getindex(::String, \u001b[91m::Int64\u001b[39m) at strings/string.jl:224\n\u001b[0m  getindex(::AbstractString, \u001b[91m::Integer\u001b[39m) at strings/basic.jl:184\n\u001b[0m  ...",
     "output_type": "error",
     "traceback": [
      "MethodError: no method matching getindex(::String, ::Float64)\n\u001b[0mClosest candidates are:\n\u001b[0m  getindex(::AbstractString, \u001b[91m::Colon\u001b[39m) at strings/basic.jl:189\n\u001b[0m  getindex(::String, \u001b[91m::Int64\u001b[39m) at strings/string.jl:224\n\u001b[0m  getindex(::AbstractString, \u001b[91m::Integer\u001b[39m) at strings/basic.jl:184\n\u001b[0m  ...",
      "",
      "Stacktrace:",
      " [1] top-level scope",
      "   @ In[17]:2",
      " [2] eval",
      "   @ .\\boot.jl:368 [inlined]",
      " [3] include_string(mapexpr::typeof(REPL.softscope), mod::Module, code::String, filename::String)",
      "   @ Base .\\loading.jl:1428"
     ]
    }
   ],
   "source": [
    "# 인덱스 예시 3)\n",
    "fruit[1.5]"
   ]
  },
  {
   "cell_type": "markdown",
   "id": "437f5036-e71a-46d1-94c3-780865fe70cc",
   "metadata": {},
   "source": [
    "### 8.3 length\n",
    "\n",
    "* length는 문자열을 이루는 문자의 개수를 반환하는 내장 함수"
   ]
  },
  {
   "cell_type": "code",
   "execution_count": 24,
   "id": "1f39a2ec-f530-4aad-8ba7-e2a80d08c6e6",
   "metadata": {},
   "outputs": [
    {
     "data": {
      "text/plain": [
       "\"🍌 🍎 🥭\""
      ]
     },
     "execution_count": 24,
     "metadata": {},
     "output_type": "execute_result"
    }
   ],
   "source": [
    "fruits = \"🍌 🍎 🥭\""
   ]
  },
  {
   "cell_type": "code",
   "execution_count": 25,
   "id": "1e7ea226-9911-43e8-b4ca-ee66d584febc",
   "metadata": {},
   "outputs": [
    {
     "data": {
      "text/plain": [
       "5"
      ]
     },
     "execution_count": 25,
     "metadata": {},
     "output_type": "execute_result"
    }
   ],
   "source": [
    "len = length(fruits)"
   ]
  },
  {
   "cell_type": "code",
   "execution_count": 28,
   "id": "faa2b4af-270b-45ba-bcf0-460edfeb4b22",
   "metadata": {},
   "outputs": [
    {
     "data": {
      "text/plain": [
       "' ': ASCII/Unicode U+0020 (category Zs: Separator, space)"
      ]
     },
     "execution_count": 28,
     "metadata": {},
     "output_type": "execute_result"
    }
   ],
   "source": [
    "last = fruits[len]"
   ]
  },
  {
   "cell_type": "markdown",
   "id": "ed78dc1b-0896-41b0-9bc7-3e4a15f41350",
   "metadata": {},
   "source": [
    "줄리아의 문자열은 UTF-8 부호화(UTF-8 encoding)을 사용\n",
    "\n",
    "UTF-8은 가변 길이 부호화 방식이므로 각 문자를 이루는 메모리의 바이트 수가 문자의 종류에 따라 달라질 수 있음\n",
    "\n",
    "sizeof 함수는 문자열의 메모리 바이트 수를 반환함"
   ]
  },
  {
   "cell_type": "code",
   "execution_count": 29,
   "id": "bc55da8e-4dcf-493c-aeff-33342338164b",
   "metadata": {},
   "outputs": [
    {
     "data": {
      "text/plain": [
       "4"
      ]
     },
     "execution_count": 29,
     "metadata": {},
     "output_type": "execute_result"
    }
   ],
   "source": [
    "sizeof(\"🍌\")"
   ]
  },
  {
   "cell_type": "markdown",
   "id": "0de60fd4-c5a5-4159-8bdc-5dfd3ae962a7",
   "metadata": {},
   "source": [
    "이모지가 4바이트로 부호화되고, 문자열은 바이트 단위로 인덱스되기 때문에 fruits의 다섯번째 원소는 공백(space)임\n",
    "\n",
    "따라서 UTF-8 문자열에서는 모든 바이트 인덱스가 유효하지는 않음 -> 유효하지 않은 바이트 인덱스 문자열에 접근하면 다음과 같이 오류 발생"
   ]
  },
  {
   "cell_type": "code",
   "execution_count": 30,
   "id": "c15dbe7c-7c8c-4bc4-a14b-09c6e82c6a61",
   "metadata": {},
   "outputs": [
    {
     "ename": "LoadError",
     "evalue": "StringIndexError: invalid index [2], valid nearby indices [1]=>'🍌', [5]=>' '",
     "output_type": "error",
     "traceback": [
      "StringIndexError: invalid index [2], valid nearby indices [1]=>'🍌', [5]=>' '",
      "",
      "Stacktrace:",
      " [1] string_index_err(s::String, i::Int64)",
      "   @ Base .\\strings\\string.jl:12",
      " [2] getindex_continued(s::String, i::Int64, u::UInt32)",
      "   @ Base .\\strings\\string.jl:235",
      " [3] getindex(s::String, i::Int64)",
      "   @ Base .\\strings\\string.jl:228",
      " [4] top-level scope",
      "   @ In[30]:1",
      " [5] eval",
      "   @ .\\boot.jl:368 [inlined]",
      " [6] include_string(mapexpr::typeof(REPL.softscope), mod::Module, code::String, filename::String)",
      "   @ Base .\\loading.jl:1428"
     ]
    }
   ],
   "source": [
    "fruits[2]"
   ]
  },
  {
   "cell_type": "markdown",
   "id": "2516b6b6-58e3-4cdf-8046-685652db753a",
   "metadata": {},
   "source": [
    "fruits의 경우 이모지 문자는 4바이트를 차지하므로, 인덱스 2, 3, 4는 유효하지 않고 5가 다음 문자의 인덱스가 됨\n",
    "\n",
    "이를 nextind() 함수를 이용하여 확인함"
   ]
  },
  {
   "cell_type": "code",
   "execution_count": null,
   "id": "31cc6ea2-aefa-47e7-951d-b57599723ada",
   "metadata": {},
   "outputs": [
    {
     "data": {
      "text/plain": [
       "5"
      ]
     },
     "execution_count": 31,
     "metadata": {},
     "output_type": "execute_result"
    }
   ],
   "source": [
    "nextind(fruits, 1)"
   ]
  },
  {
   "cell_type": "code",
   "execution_count": 32,
   "id": "8c3e8dd7-b83f-486a-afe5-c89dd9ded01c",
   "metadata": {},
   "outputs": [
    {
     "data": {
      "text/plain": [
       "6"
      ]
     },
     "execution_count": 32,
     "metadata": {},
     "output_type": "execute_result"
    }
   ],
   "source": [
    "nextind(fruits, 5)"
   ]
  },
  {
   "cell_type": "code",
   "execution_count": 38,
   "id": "15bb3d7d-b258-4c2a-ae55-20c0f264ab81",
   "metadata": {},
   "outputs": [
    {
     "name": "stdout",
     "output_type": "stream",
     "text": [
      "🍌\n",
      " \n",
      "🍎\n",
      " \n",
      "🥭\n",
      "\n"
     ]
    }
   ],
   "source": [
    "println(fruits[1], '\\n',\n",
    "        fruits[5], '\\n',\n",
    "        fruits[6], '\\n',\n",
    "        fruits[10], '\\n',\n",
    "        fruits[11], '\\n')  "
   ]
  },
  {
   "cell_type": "code",
   "execution_count": 48,
   "id": "fab654a0-b549-4f39-ab87-d89c571ee07c",
   "metadata": {},
   "outputs": [
    {
     "data": {
      "text/plain": [
       "parsing_emoji_string (generic function with 1 method)"
      ]
     },
     "execution_count": 48,
     "metadata": {},
     "output_type": "execute_result"
    }
   ],
   "source": [
    "# 이모지를 사용하는 문자열을 파싱하는 함수 만들기\n",
    "\n",
    "function parsing_emoji_string(string)\n",
    "    \n",
    "        str = string\n",
    "        ind = 1\n",
    "    \n",
    "        while true\n",
    "            println(str[ind])\n",
    "            if ind == lastindex(str)\n",
    "                break\n",
    "            end\n",
    "            ind = nextind(str, ind)\n",
    "        end\n",
    "end "
   ]
  },
  {
   "cell_type": "code",
   "execution_count": 46,
   "id": "b2fd3c4e-b167-470e-8591-3268d1df80c4",
   "metadata": {},
   "outputs": [
    {
     "name": "stdout",
     "output_type": "stream",
     "text": [
      "🍌\n",
      " \n",
      "🍎\n",
      " \n",
      "🥭\n"
     ]
    }
   ],
   "source": [
    "parsing_emoji_string(fruits)"
   ]
  },
  {
   "cell_type": "markdown",
   "id": "43a2650b-e8f0-40d2-9fb2-08b0da8e3671",
   "metadata": {},
   "source": [
    "### 8.4 순회"
   ]
  },
  {
   "cell_type": "markdown",
   "id": "f2d796d3-6d94-473e-a3de-ba038182fa41",
   "metadata": {},
   "source": [
    "보통 문자열의 처음부터 시작해, 매번 한 글자씩 나아가며 뭔가를 처리하고, 맨 마지막 문자까지 이를 반복하는 처리 패턴을 **순회**(traversal)라고 함"
   ]
  },
  {
   "cell_type": "markdown",
   "id": "87861263-8aff-43a2-8749-73cfe745dc48",
   "metadata": {},
   "source": [
    "**예제 1) While 문을 이용한 순회**"
   ]
  },
  {
   "cell_type": "code",
   "execution_count": 50,
   "id": "976b1cc7-e508-48a3-9e9c-c99cee0c17f1",
   "metadata": {},
   "outputs": [
    {
     "name": "stdout",
     "output_type": "stream",
     "text": [
      "🍌\n",
      " \n",
      "🍎\n",
      " \n",
      "🥭\n"
     ]
    }
   ],
   "source": [
    "index = firstindex(fruits)\n",
    "\n",
    "while index <= sizeof(fruits)\n",
    "    letter = fruits[index]\n",
    "    println(letter)\n",
    "    global index = nextind(fruits, index)\n",
    "end"
   ]
  },
  {
   "cell_type": "markdown",
   "id": "89d2c7a7-81ad-42b8-b2bf-ae5b46deebdf",
   "metadata": {},
   "source": [
    "* 이 루프는 문자열을 순회하면서 각 문자를 한 줄에 하나씩 출력함\n",
    "\n",
    "* 루프의 조건은 index <= sizeof(fruit)이며, index가 문자열의 바이트 길이보다 커지면 조건이 false가 되고, 루프는 더 이상 실행되지 않음\n",
    "\n",
    "    - sizeof(fruit) == 14\n",
    "```\n",
    "```\n",
    "* firstindex 함수는 유효한 첫 바이트 인덱스를 반환 \n",
    "\n",
    "* index 앞에 있는 예약어 global은 Main에서 정의된 변수(while 루프 바깥의 변수) index에 재할당하겠다는 의미\n"
   ]
  },
  {
   "cell_type": "markdown",
   "id": "69a25d0d-ce3f-427a-b32d-fdb572b67e5b",
   "metadata": {},
   "source": [
    "**예제 2) for 문을 이용한 순회**"
   ]
  },
  {
   "cell_type": "code",
   "execution_count": 52,
   "id": "de6d886b-dd48-46f8-84d5-ce970f35d396",
   "metadata": {},
   "outputs": [
    {
     "name": "stdout",
     "output_type": "stream",
     "text": [
      "🍌\n",
      " \n",
      "🍎\n",
      " \n",
      "🥭\n"
     ]
    }
   ],
   "source": [
    "for letter in fruits\n",
    "    println(letter)\n",
    "end"
   ]
  },
  {
   "cell_type": "markdown",
   "id": "bf1e67f4-d640-4e33-b603-bcf8f468d366",
   "metadata": {},
   "source": [
    "* 루프를 돌 때마다, 문자열의 다음 문자가 변수 letter에 할당됨\n",
    "* 루프는 더 이상 다음 문자가 없을 때까지 계속됨"
   ]
  },
  {
   "cell_type": "markdown",
   "id": "24c18ab3-e8c6-456e-8045-a4b52064cd68",
   "metadata": {},
   "source": [
    "**예제 3) for 문을 이용해 딕셔너리 순으로 나열을 만드는 방법**"
   ]
  },
  {
   "cell_type": "code",
   "execution_count": 53,
   "id": "f440e4d4-8cf5-4c0f-858e-cc5a25f76365",
   "metadata": {},
   "outputs": [
    {
     "name": "stdout",
     "output_type": "stream",
     "text": [
      "Jack\n",
      "Kack\n",
      "Lack\n",
      "Mack\n",
      "Nack\n",
      "Oack\n",
      "Pack\n",
      "Qack\n"
     ]
    }
   ],
   "source": [
    "prefixes = \"JKLMNOPQ\"\n",
    "suffix = \"ack\"\n",
    "\n",
    "for letter in prefixes\n",
    "    println(letter * suffix)\n",
    "end"
   ]
  },
  {
   "cell_type": "markdown",
   "id": "909f4db8-fd9d-419d-9caf-b300e9b12ef0",
   "metadata": {},
   "source": [
    "**연습문제 8-2** Ouack와 quack은 철자가 다름. 이를 수정하는 for문 작성"
   ]
  },
  {
   "cell_type": "code",
   "execution_count": 67,
   "id": "797e4ae7-bbe9-4dd9-91b7-3463c5f1b417",
   "metadata": {},
   "outputs": [
    {
     "name": "stdout",
     "output_type": "stream",
     "text": [
      "Jack\n",
      "Kack\n",
      "Lack\n",
      "Mack\n",
      "Nack\n",
      "Ouack\n",
      "Pack\n",
      "Quack\n"
     ]
    }
   ],
   "source": [
    "prefixes = \"JKLMNOPQ\"\n",
    "suffix = \"ack\"\n",
    "\n",
    "for letter in prefixes\n",
    "    # 한 개의 문자를 표현하는 자료형인 char를 이용하여 비교해야 함 ' ' \n",
    "    if letter == 'O' || letter == 'Q'\n",
    "        println(letter * \"uack\")\n",
    "    else\n",
    "        println(letter * suffix)\n",
    "    end\n",
    "end"
   ]
  },
  {
   "cell_type": "code",
   "execution_count": 68,
   "id": "3c791877-3888-42b7-8fe6-b31da2bee47f",
   "metadata": {},
   "outputs": [
    {
     "data": {
      "text/plain": [
       "Char"
      ]
     },
     "execution_count": 68,
     "metadata": {},
     "output_type": "execute_result"
    }
   ],
   "source": [
    "typeof(letter)"
   ]
  },
  {
   "cell_type": "code",
   "execution_count": 69,
   "id": "f94b4cbe-0b48-434f-b0e7-cb5679ef290c",
   "metadata": {},
   "outputs": [
    {
     "data": {
      "text/plain": [
       "String"
      ]
     },
     "execution_count": 69,
     "metadata": {},
     "output_type": "execute_result"
    }
   ],
   "source": [
    "typeof(prefixes)"
   ]
  },
  {
   "cell_type": "markdown",
   "id": "f51dcc1d-1305-4006-aec2-8e1a285963a2",
   "metadata": {},
   "source": [
    "### 8.5 문자열 조각"
   ]
  },
  {
   "cell_type": "markdown",
   "id": "19c1acfa-7faf-412f-8362-d64028c6f7b5",
   "metadata": {},
   "source": [
    "문자열의 일부분을 **조각**(slice)라고 함. 조각을 선택하는 것(slicing in string)은 한 글자를 선택하는 것과 유사함"
   ]
  },
  {
   "cell_type": "code",
   "execution_count": 71,
   "id": "4f6a291b-8410-4f97-bad4-d8713857e073",
   "metadata": {},
   "outputs": [],
   "source": [
    "str = \"Julius Caeser\" ; # ;은 복수의 문장을 한 줄로 실행하게 하면서 해당 문장의 출력을 보이지 않게 하는 역할도 함"
   ]
  },
  {
   "cell_type": "code",
   "execution_count": 72,
   "id": "e66afc68-da57-4642-9a39-dec15766af18",
   "metadata": {},
   "outputs": [
    {
     "data": {
      "text/plain": [
       "\"Julius\""
      ]
     },
     "execution_count": 72,
     "metadata": {},
     "output_type": "execute_result"
    }
   ],
   "source": [
    "str[1:6]"
   ]
  },
  {
   "cell_type": "markdown",
   "id": "36fbf901-597a-4ccd-b9e2-5b387c68a08f",
   "metadata": {},
   "source": [
    "연산 [n:m]은 문자열의 n번째 바이트에서 m번째 바이트까지의 문자로 이루어진 문자열을 반환함\n",
    "\n",
    "   * 인덱스 처리에 유의\n",
    "   * 예약어 end는 문자열의 마지막 바이트를 가리키는 인덱스로 사용 가능\n",
    "   * 첫 번째 인덱스가 두 번째보다 크다면, 결과는 빈 문자열이 됨 (\"\")"
   ]
  },
  {
   "cell_type": "code",
   "execution_count": 73,
   "id": "0778ced3-5186-470f-96e8-8c45d0e69411",
   "metadata": {},
   "outputs": [
    {
     "data": {
      "text/plain": [
       "\"Caeser\""
      ]
     },
     "execution_count": 73,
     "metadata": {},
     "output_type": "execute_result"
    }
   ],
   "source": [
    "str[8:end]"
   ]
  },
  {
   "cell_type": "code",
   "execution_count": 74,
   "id": "70cb85c1-2496-4c79-acf9-9be178c5b952",
   "metadata": {},
   "outputs": [
    {
     "data": {
      "text/plain": [
       "\"\""
      ]
     },
     "execution_count": 74,
     "metadata": {},
     "output_type": "execute_result"
    }
   ],
   "source": [
    "str[8:7]"
   ]
  },
  {
   "cell_type": "markdown",
   "id": "c53d3964-a945-4d4b-9886-c47011f4d071",
   "metadata": {},
   "source": [
    "### 8.7 문자열은 불변"
   ]
  },
  {
   "cell_type": "markdown",
   "id": "b6628a47-e266-490d-b552-7f047959ad9a",
   "metadata": {},
   "source": [
    "문자열은 **불변(immutable)** 하므로 문자열 인덱싱을 통한 수정은 불가"
   ]
  },
  {
   "cell_type": "code",
   "execution_count": 80,
   "id": "61d84d55-9dd6-45df-97f8-393f47c04b65",
   "metadata": {},
   "outputs": [
    {
     "name": "stdout",
     "output_type": "stream",
     "text": [
      "Hello, world"
     ]
    }
   ],
   "source": [
    "greeting = \"Hello, world\"\n",
    "print(greeting)"
   ]
  },
  {
   "cell_type": "code",
   "execution_count": 78,
   "id": "e5a28e93-75a7-4707-8230-c40097bae767",
   "metadata": {},
   "outputs": [
    {
     "ename": "LoadError",
     "evalue": "syntax: space before \"[\" not allowed in \"greeting [\" at In[78]:2",
     "output_type": "error",
     "traceback": [
      "syntax: space before \"[\" not allowed in \"greeting [\" at In[78]:2",
      "",
      "Stacktrace:",
      " [1] top-level scope",
      "   @ In[78]:2",
      " [2] eval",
      "   @ .\\boot.jl:368 [inlined]",
      " [3] include_string(mapexpr::typeof(REPL.softscope), mod::Module, code::String, filename::String)",
      "   @ Base .\\loading.jl:1428"
     ]
    }
   ],
   "source": [
    "# immutable 속성때문에 에러 발생 \n",
    "greeting [1] = 'J'"
   ]
  },
  {
   "cell_type": "markdown",
   "id": "417ae329-06b2-4369-9566-96975d568863",
   "metadata": {},
   "source": [
    "수정을 원할 경우, 원본을 기준으로 변화가 가해진 새로운 문자열을 생성함"
   ]
  },
  {
   "cell_type": "code",
   "execution_count": 82,
   "id": "96546cb2-63ec-4af1-a195-0501352c02ad",
   "metadata": {},
   "outputs": [
    {
     "data": {
      "text/plain": [
       "\"Jello, world\""
      ]
     },
     "execution_count": 82,
     "metadata": {},
     "output_type": "execute_result"
    }
   ],
   "source": [
    "greeting2 = \"J\" * greeting[2:end]"
   ]
  },
  {
   "cell_type": "markdown",
   "id": "eab6e83e-6a6e-453f-8266-4f5d1d14c29d",
   "metadata": {},
   "source": [
    "### 8.7 문자열 보간"
   ]
  },
  {
   "cell_type": "markdown",
   "id": "43b5b284-201b-4b1e-ab4d-fb540f432922",
   "metadata": {},
   "source": [
    "병합을 이용하여 문자열을 만드는 것은 번잡스러운 면이 있음.\n",
    "\n",
    "이를 해소하기 위해, $ 기호를 이용한 **문자열 보간(string interpolation)** 을 이용할 수 있음"
   ]
  },
  {
   "cell_type": "code",
   "execution_count": 83,
   "id": "a71789b1-4adf-400c-b4db-afc805fc0fe1",
   "metadata": {},
   "outputs": [
    {
     "data": {
      "text/plain": [
       "\"Hello\""
      ]
     },
     "execution_count": 83,
     "metadata": {},
     "output_type": "execute_result"
    }
   ],
   "source": [
    "greet = \"Hello\""
   ]
  },
  {
   "cell_type": "code",
   "execution_count": 84,
   "id": "8e497d8a-8b47-4d93-8122-b5f1a5474e54",
   "metadata": {},
   "outputs": [
    {
     "data": {
      "text/plain": [
       "\"World\""
      ]
     },
     "execution_count": 84,
     "metadata": {},
     "output_type": "execute_result"
    }
   ],
   "source": [
    "whom = \"World\""
   ]
  },
  {
   "cell_type": "code",
   "execution_count": 90,
   "id": "dfa9060a-cfd8-4cc4-8c1e-64196e499427",
   "metadata": {},
   "outputs": [
    {
     "data": {
      "text/plain": [
       "\"Hello, World!\""
      ]
     },
     "execution_count": 90,
     "metadata": {},
     "output_type": "execute_result"
    }
   ],
   "source": [
    "\"$greet, $(whom)!\" # !기호를 붙이기 위해서 괄호 사용"
   ]
  },
  {
   "cell_type": "markdown",
   "id": "53542949-0080-4793-8b4e-d619b8bd08f9",
   "metadata": {},
   "source": [
    "$ 기호 다음에 나오는 가장 짧은 완전 표현식이 보간될 문자열 값이 됨. 따라서 괄호를 사용하면 어떤 표현식이나 사용 가능"
   ]
  },
  {
   "cell_type": "code",
   "execution_count": 91,
   "id": "507679bc-8aec-4673-91f1-4d38a04e60cb",
   "metadata": {},
   "outputs": [
    {
     "data": {
      "text/plain": [
       "\"1 + 2 = 3\""
      ]
     },
     "execution_count": 91,
     "metadata": {},
     "output_type": "execute_result"
    }
   ],
   "source": [
    "\"1 + 2 = $(1 + 2)\""
   ]
  },
  {
   "cell_type": "markdown",
   "id": "085ebdfa-e92b-432c-91f7-8634fb622644",
   "metadata": {},
   "source": [
    "### 8.8 탐색"
   ]
  },
  {
   "cell_type": "markdown",
   "id": "42fba59a-1a3e-44fb-9e03-005664362681",
   "metadata": {},
   "source": [
    "**예제 1)** 글자의 인덱스를 찾는 find 함수\n",
    "\n",
    "인덱스를 받아서 해당 글자를 가져오는 대신 글자를 받아서 해당 인덱스를 돌려줌(찾으려는 글자가 없으면 -1을 반환)"
   ]
  },
  {
   "cell_type": "code",
   "execution_count": 98,
   "id": "66b297f2-b726-4669-a090-ca45b5589e8f",
   "metadata": {},
   "outputs": [
    {
     "data": {
      "text/plain": [
       "find (generic function with 2 methods)"
      ]
     },
     "execution_count": 98,
     "metadata": {},
     "output_type": "execute_result"
    }
   ],
   "source": [
    "function find(word, letter)\n",
    "    index = firstindex(word)\n",
    "    while index <= sizeof(word)\n",
    "        if word[index] == letter\n",
    "            return index\n",
    "        end\n",
    "        index = nextind(word, index)\n",
    "    end\n",
    "    -1\n",
    "end"
   ]
  },
  {
   "cell_type": "code",
   "execution_count": 94,
   "id": "59b64d06-5f57-48d4-8479-50ccb2d619b0",
   "metadata": {},
   "outputs": [
    {
     "data": {
      "text/plain": [
       "4"
      ]
     },
     "execution_count": 94,
     "metadata": {},
     "output_type": "execute_result"
    }
   ],
   "source": [
    "find(\"Test string in Julia\", 't')"
   ]
  },
  {
   "cell_type": "markdown",
   "id": "18592966-8da1-4547-879d-e200828bc519",
   "metadata": {},
   "source": [
    "**연습 8-4** find 함수를 수정해서, 세번째 인수를 받도록 함. 이 인수는 탐색을 시작할 시작 인덱스로 사용됨"
   ]
  },
  {
   "cell_type": "code",
   "execution_count": 111,
   "id": "fe50f57d-4c3a-47ed-829c-9db8873e4199",
   "metadata": {},
   "outputs": [
    {
     "data": {
      "text/plain": [
       "find2 (generic function with 1 method)"
      ]
     },
     "execution_count": 111,
     "metadata": {},
     "output_type": "execute_result"
    }
   ],
   "source": [
    "function find2(word, letter, st_index)\n",
    "    index = st_index\n",
    "    while index <= sizeof(word)\n",
    "        if word[index] == letter\n",
    "            return index - st_index + 1\n",
    "        end\n",
    "        index = nextind(word, index)\n",
    "    end\n",
    "    -1\n",
    "end"
   ]
  },
  {
   "cell_type": "code",
   "execution_count": 110,
   "id": "19c23493-c7a9-407e-bc0b-4c4c7ac36cc0",
   "metadata": {},
   "outputs": [
    {
     "data": {
      "text/plain": [
       "2"
      ]
     },
     "execution_count": 110,
     "metadata": {},
     "output_type": "execute_result"
    }
   ],
   "source": [
    "find2(\"Test string in Julia\", 't', 3)"
   ]
  },
  {
   "cell_type": "markdown",
   "id": "e17a2c55-ee4a-4a67-bd95-a75387029cf9",
   "metadata": {},
   "source": [
    "* 순열을 순회하면서 찾으려고 하는 것을 찾았을 때 결과를 되돌려주는 것을 **탐색**(search)이라고 함"
   ]
  },
  {
   "cell_type": "markdown",
   "id": "c421b0f2-3992-4d74-a2ed-0b349af4b820",
   "metadata": {},
   "source": [
    "### 8.9 루프와 계수"
   ]
  },
  {
   "cell_type": "markdown",
   "id": "cf685acf-db3f-47be-af64-846ea16f4ed7",
   "metadata": {},
   "source": [
    "**예제 1) 문자열에서 특정 글자가 나타나는 횟수 카운트**"
   ]
  },
  {
   "cell_type": "code",
   "execution_count": 116,
   "id": "37bf314b-20ea-4104-af83-afd0e08d0d16",
   "metadata": {},
   "outputs": [
    {
     "name": "stdout",
     "output_type": "stream",
     "text": [
      "3\n"
     ]
    }
   ],
   "source": [
    "word = \"Banana\"\n",
    "counter = 0\n",
    "\n",
    "for letter in word\n",
    "    if letter == 'a'\n",
    "        global counter = counter + 1\n",
    "    end\n",
    "end\n",
    "\n",
    "println(counter)"
   ]
  },
  {
   "cell_type": "markdown",
   "id": "1c4778d6-b878-4a95-aa41-2287b12a6e91",
   "metadata": {},
   "source": [
    "이 프로그램은 **계수기(counter)** 라는 널리 쓰이는 계산 패턴을 보여줌\n",
    "\n",
    "변수 counter는 0으로 초기화된 후, a가 발견될 때마다 증가함 -> 루프 종료 후 counter의 결과는 'a'의 개수가 됨"
   ]
  },
  {
   "cell_type": "code",
   "execution_count": 118,
   "id": "d869e61c-f33e-4498-b677-3028ad9612ac",
   "metadata": {},
   "outputs": [
    {
     "data": {
      "text/plain": [
       "count (generic function with 1 method)"
      ]
     },
     "execution_count": 118,
     "metadata": {},
     "output_type": "execute_result"
    }
   ],
   "source": [
    "function count(str, input_char , st_index)\n",
    "    word = str[st_index:end]\n",
    "    counter = 0\n",
    "\n",
    "    for letter in word\n",
    "        if letter == input_char\n",
    "            counter = counter + 1\n",
    "        end\n",
    "    end\n",
    "    \n",
    "    return counter\n",
    "end"
   ]
  },
  {
   "cell_type": "code",
   "execution_count": 125,
   "id": "45ac0299-1619-4636-b333-4787520be0da",
   "metadata": {},
   "outputs": [
    {
     "name": "stdout",
     "output_type": "stream",
     "text": [
      "1부터 시작할 때: 2번\n",
      "\n",
      "5부터 시작할 때: 1번\n",
      "\n"
     ]
    }
   ],
   "source": [
    "println(\"1부터 시작할 때: \", count(\"Test string in Julia\", 't', 1), \"번\", \"\\n\")\n",
    "\n",
    "println(\"5부터 시작할 때: \", count(\"Test string in Julia\", 't', 5),  \"번\", \"\\n\")"
   ]
  },
  {
   "cell_type": "markdown",
   "id": "caa73112-421f-47e4-8fc6-a72febdbbdea",
   "metadata": {},
   "source": [
    "### 8.10 문자열 라이브러리"
   ]
  },
  {
   "cell_type": "markdown",
   "id": "a21968c1-e8e1-49d9-8adf-2c1dcbd7b3b2",
   "metadata": {},
   "source": [
    "줄리아에는 문자열 작업을 하는데 유용한 다양한 기능을 제공함"
   ]
  },
  {
   "cell_type": "code",
   "execution_count": 126,
   "id": "31722013-14cf-4e00-9df1-62538d478f1a",
   "metadata": {},
   "outputs": [
    {
     "data": {
      "text/plain": [
       "\"HELLO, WORLD!\""
      ]
     },
     "execution_count": 126,
     "metadata": {},
     "output_type": "execute_result"
    }
   ],
   "source": [
    "uppercase(\"Hello, World!\")"
   ]
  },
  {
   "cell_type": "code",
   "execution_count": 131,
   "id": "402e0d24-a291-4edb-8985-c7aaea4ae21c",
   "metadata": {},
   "outputs": [
    {
     "data": {
      "text/plain": [
       "2"
      ]
     },
     "execution_count": 131,
     "metadata": {},
     "output_type": "execute_result"
    }
   ],
   "source": [
    "findfirst('a', \"banana\")"
   ]
  },
  {
   "cell_type": "code",
   "execution_count": 132,
   "id": "bafd538f-81db-4ffe-acf4-285f778d20eb",
   "metadata": {},
   "outputs": [
    {
     "data": {
      "text/plain": [
       "2:3"
      ]
     },
     "execution_count": 132,
     "metadata": {},
     "output_type": "execute_result"
    }
   ],
   "source": [
    "findfirst(\"an\", \"banana\")"
   ]
  },
  {
   "cell_type": "code",
   "execution_count": 133,
   "id": "7fa6970e-8a43-4280-814f-1f406e4d509a",
   "metadata": {},
   "outputs": [
    {
     "data": {
      "text/plain": [
       "5:6"
      ]
     },
     "execution_count": 133,
     "metadata": {},
     "output_type": "execute_result"
    }
   ],
   "source": [
    "findnext(\"na\", \"banana\", 4)"
   ]
  },
  {
   "cell_type": "markdown",
   "id": "2b054d09-496f-4735-a589-f768203f794e",
   "metadata": {},
   "source": [
    "이 외에도 문자열에 관련된 다양한 기능을 활용하고자 한다면 \n",
    "\n",
    "Strings.jl 패키지 참조\n",
    "\n",
    "https://docs.julialang.org/en/v1/base/strings/"
   ]
  },
  {
   "cell_type": "markdown",
   "id": "6c503800-69c2-4bb0-97c4-2b98be7da50f",
   "metadata": {},
   "source": [
    "### 8.11 ∈ 연산자\n",
    "\n",
    "∈: 연산자 왼쪽에 있는 문자가 오른쪽에 있는 문자열에 포함되어 있는지를 알려주는 불리언 연산자"
   ]
  },
  {
   "cell_type": "code",
   "execution_count": 134,
   "id": "aae5f72b-1c02-439f-8b9e-530828b73e02",
   "metadata": {},
   "outputs": [
    {
     "data": {
      "text/plain": [
       "true"
      ]
     },
     "execution_count": 134,
     "metadata": {},
     "output_type": "execute_result"
    }
   ],
   "source": [
    "'a' ∈\"banana\" # 'a' in \"banana\""
   ]
  },
  {
   "cell_type": "markdown",
   "id": "9d4535a4-d0f5-4a18-b835-8e29483c8c1b",
   "metadata": {},
   "source": [
    "**예제 1)** word1의 글자 중에서 word2에도 나오는 글자를 모두 출력"
   ]
  },
  {
   "cell_type": "code",
   "execution_count": 135,
   "id": "cfb050ab-be8b-4a20-bfa4-58b22ce8aa23",
   "metadata": {},
   "outputs": [
    {
     "data": {
      "text/plain": [
       "inboth (generic function with 1 method)"
      ]
     },
     "execution_count": 135,
     "metadata": {},
     "output_type": "execute_result"
    }
   ],
   "source": [
    "function inboth(word1, word2)\n",
    "    for letter in word1\n",
    "        if letter ∈word2\n",
    "            print(letter, \" \")\n",
    "        end\n",
    "    end\n",
    "end"
   ]
  },
  {
   "cell_type": "code",
   "execution_count": 136,
   "id": "5d78d41d-a93b-4476-adca-ae45d7a6c0b9",
   "metadata": {},
   "outputs": [
    {
     "name": "stdout",
     "output_type": "stream",
     "text": [
      "a e s "
     ]
    }
   ],
   "source": [
    "inboth(\"apples\", \"oranges\")"
   ]
  },
  {
   "cell_type": "markdown",
   "id": "bee0616c-9b1a-4ad8-b229-dcc3102ff475",
   "metadata": {},
   "source": [
    "변수 이름을 잘 지으면, 줄리아 코드를 영어처럼 읽을 수 있음 \n",
    "\n",
    "예) inboth 함수의 내용 -> \"for (each) letter in (the first) word, if (the) letter is an element of (the second) word, print (the) letter.\""
   ]
  },
  {
   "cell_type": "markdown",
   "id": "1393f1ba-14bc-40ce-a9f4-4d0818f91ad6",
   "metadata": {},
   "source": [
    "### 8.12 문자열 비교\n",
    "\n",
    "문자열에도 관계 연산자를 사용할 수 있음\n",
    "\n",
    "두 문자열이 같은지 확인하려면 ==를 사용함"
   ]
  },
  {
   "cell_type": "code",
   "execution_count": 138,
   "id": "460e95c1-fd9d-4b61-9340-4fc9ecd3eebe",
   "metadata": {},
   "outputs": [],
   "source": [
    "word = \"Pineapple\"\n",
    "\n",
    "if word == \"banana\"\n",
    "    println(\"All right, bananas.\")\n",
    "end"
   ]
  },
  {
   "cell_type": "markdown",
   "id": "aaf7a4fd-9ad3-4c5c-886c-235ae1e3948d",
   "metadata": {},
   "source": [
    "다른 관계 연산자들로 문자열이 알파벳 순서로 앞쪽인지 뒤쪽인지를 비교할 수 있음"
   ]
  },
  {
   "cell_type": "code",
   "execution_count": 139,
   "id": "684a23a0-a500-480a-bf57-8fe25c05321c",
   "metadata": {},
   "outputs": [
    {
     "name": "stdout",
     "output_type": "stream",
     "text": [
      "Your word, Pineapple, comes before banana.\n"
     ]
    }
   ],
   "source": [
    "if word < \"banana\"\n",
    "    println(\"Your word, $word, comes before banana.\")\n",
    "elseif word > \"banana\"\n",
    "    println(\"Your word, $word, comes after banana.\")\n",
    "else\n",
    "    println(\"All right, bananas.\")\n",
    "end"
   ]
  },
  {
   "cell_type": "markdown",
   "id": "99230e0a-59eb-48d9-b400-12dd1f65526b",
   "metadata": {},
   "source": [
    "대문자가 소문자에 우선하기 때문에 바나나보다 앞서 온다는 메시지가 출력됨"
   ]
  },
  {
   "cell_type": "markdown",
   "id": "380599c1-122f-4a89-8441-ccca620ba776",
   "metadata": {},
   "source": [
    "### 8.13 디버깅"
   ]
  },
  {
   "cell_type": "markdown",
   "id": "8ce4b3fc-22e7-4b76-8d99-3f2720e696e1",
   "metadata": {},
   "source": [
    "**예제) 회문(palindrome) 확인 함수** \n",
    "\n",
    "똑바로 읽어도 거꾸로 읽어도 우영우 (기러기 토마토 스위스 인도인 별똥별 역삼역?) 인지 확인하는 함수"
   ]
  },
  {
   "cell_type": "code",
   "execution_count": 140,
   "id": "df6aa333-49fb-4d11-a48d-c89e8e854316",
   "metadata": {},
   "outputs": [
    {
     "data": {
      "text/plain": [
       "isreverse (generic function with 1 method)"
      ]
     },
     "execution_count": 140,
     "metadata": {},
     "output_type": "execute_result"
    }
   ],
   "source": [
    "function isreverse(word1, word2)\n",
    "    if length(word1) != length(word2)\n",
    "        return false\n",
    "    end\n",
    "    i = firstindex(word1)\n",
    "    j = lastindex(word2)\n",
    "    while j >= 0 \n",
    "        j = prevind(word2, j)\n",
    "        if word1[i] != word2[j]\n",
    "            return false\n",
    "        end\n",
    "        i = nextind(word1, i)\n",
    "    end\n",
    "    true\n",
    "end"
   ]
  },
  {
   "cell_type": "code",
   "execution_count": 141,
   "id": "e3282add-bc7a-4f01-af83-a545ed083f11",
   "metadata": {},
   "outputs": [
    {
     "data": {
      "text/plain": [
       "false"
      ]
     },
     "execution_count": 141,
     "metadata": {},
     "output_type": "execute_result"
    }
   ],
   "source": [
    "# 테스트 \n",
    "isreverse(\"pots\", \"stop\")"
   ]
  },
  {
   "cell_type": "code",
   "execution_count": 144,
   "id": "c8fa4c22-3be3-407c-b2b5-3d984cbbe521",
   "metadata": {},
   "outputs": [
    {
     "data": {
      "text/plain": [
       "isreverse (generic function with 1 method)"
      ]
     },
     "execution_count": 144,
     "metadata": {},
     "output_type": "execute_result"
    }
   ],
   "source": [
    "# 디버깅 -> 인덱스 출력\n",
    "\n",
    "function isreverse(word1, word2)\n",
    "    if length(word1) != length(word2)\n",
    "        return false\n",
    "    end\n",
    "    i = firstindex(word1)\n",
    "    j = lastindex(word2)\n",
    "    while j >= 0 \n",
    "        j = prevind(word2, j)\n",
    "        @show i j\n",
    "        if word1[i] != word2[j]\n",
    "            return false\n",
    "        end\n",
    "        i = nextind(word1, i)\n",
    "    end\n",
    "    true\n",
    "end"
   ]
  },
  {
   "cell_type": "code",
   "execution_count": 145,
   "id": "65a3bf34-3365-44a5-a129-7c8fd2353fc6",
   "metadata": {},
   "outputs": [
    {
     "name": "stdout",
     "output_type": "stream",
     "text": [
      "i = 1\n",
      "j = 3\n"
     ]
    },
    {
     "data": {
      "text/plain": [
       "false"
      ]
     },
     "execution_count": 145,
     "metadata": {},
     "output_type": "execute_result"
    }
   ],
   "source": [
    "# 디버깅 테스트 \n",
    "isreverse(\"pots\", \"stop\")"
   ]
  },
  {
   "cell_type": "markdown",
   "id": "d03a0cf7-4f29-45d4-8db6-aba5f33a73c0",
   "metadata": {},
   "source": [
    "루프의 1회 차 실행에서는 j가 4가 되어야 하지만 출력된 값은 3으로 나옴 "
   ]
  },
  {
   "cell_type": "code",
   "execution_count": 150,
   "id": "e855e6c3-f1d6-4392-8a17-083faeaf40a7",
   "metadata": {},
   "outputs": [
    {
     "data": {
      "text/plain": [
       "isreverse (generic function with 1 method)"
      ]
     },
     "execution_count": 150,
     "metadata": {},
     "output_type": "execute_result"
    }
   ],
   "source": [
    "# 함수 수정\n",
    "\n",
    "function isreverse(word1, word2)\n",
    "    if length(word1) != length(word2)\n",
    "        return false\n",
    "    end\n",
    "    i = firstindex(word1)\n",
    "    j = lastindex(word2)\n",
    "    while j >= 0 \n",
    "\n",
    "        @show i j\n",
    "        if word1[i] != word2[j]\n",
    "            return false\n",
    "        end\n",
    "        \n",
    "        # 문장의 길이에 맞춰서 while문을 빠져나오는 break문 추가\n",
    "        # 연습 8-6 \n",
    "        if i >= length(word1)\n",
    "            break\n",
    "        end\n",
    "        \n",
    "        i = nextind(word1, i)\n",
    "        j = prevind(word2, j)\n",
    "        \n",
    "    end\n",
    "    true\n",
    "end"
   ]
  },
  {
   "cell_type": "code",
   "execution_count": 151,
   "id": "edadb43c-35a9-44d7-9b2a-415253af3981",
   "metadata": {},
   "outputs": [
    {
     "name": "stdout",
     "output_type": "stream",
     "text": [
      "i = 1\n",
      "j = 4\n",
      "i = 2\n",
      "j = 3\n",
      "i = 3\n",
      "j = 2\n",
      "i = 4\n",
      "j = 1\n"
     ]
    },
    {
     "data": {
      "text/plain": [
       "true"
      ]
     },
     "execution_count": 151,
     "metadata": {},
     "output_type": "execute_result"
    }
   ],
   "source": [
    "isreverse(\"pots\", \"stop\")"
   ]
  },
  {
   "cell_type": "markdown",
   "id": "06014a1f-0c12-41c1-8e82-75477a8578b7",
   "metadata": {},
   "source": [
    "번외로 \"우영우\"로 실험을 실시 -> **한글은 3byte unicode** 임을 확인함 (UTF-8 encoding)"
   ]
  },
  {
   "cell_type": "code",
   "execution_count": 161,
   "id": "53c61731-8181-4eca-a155-617be89f45bd",
   "metadata": {},
   "outputs": [
    {
     "name": "stdout",
     "output_type": "stream",
     "text": [
      "i = 1\n",
      "j = 7\n",
      "i = 4\n",
      "j = 4\n"
     ]
    },
    {
     "data": {
      "text/plain": [
       "true"
      ]
     },
     "execution_count": 161,
     "metadata": {},
     "output_type": "execute_result"
    }
   ],
   "source": [
    "isreverse(\"우영우\", \"우영우\")"
   ]
  },
  {
   "cell_type": "code",
   "execution_count": 163,
   "id": "665c6894-0302-4d55-b2cf-2c10c7222be9",
   "metadata": {},
   "outputs": [
    {
     "name": "stdout",
     "output_type": "stream",
     "text": [
      "우 to the 영 to the 우\n"
     ]
    }
   ],
   "source": [
    "println(\"우영우\"[1], \" to the \", \n",
    "        \"우영우\"[4], \" to the \",\n",
    "        \"우영우\"[7]) # unicode는 3byte"
   ]
  },
  {
   "cell_type": "code",
   "execution_count": 164,
   "id": "4895bdb1-6779-442f-9341-c8633e6729b8",
   "metadata": {},
   "outputs": [
    {
     "data": {
      "text/plain": [
       "4"
      ]
     },
     "execution_count": 164,
     "metadata": {},
     "output_type": "execute_result"
    }
   ],
   "source": [
    "nextind(\"우영우\", 1)"
   ]
  },
  {
   "cell_type": "code",
   "execution_count": 165,
   "id": "ad057384-89b1-42ea-a596-3a9ea8a9b88b",
   "metadata": {},
   "outputs": [
    {
     "data": {
      "text/plain": [
       "'우': Unicode U+C6B0 (category Lo: Letter, other)"
      ]
     },
     "execution_count": 165,
     "metadata": {},
     "output_type": "execute_result"
    }
   ],
   "source": [
    "\"우영우\"[1]"
   ]
  },
  {
   "cell_type": "markdown",
   "id": "87aa1cae-b93a-44d2-a53f-b55772e57041",
   "metadata": {},
   "source": [
    "### 8.14 용어집"
   ]
  },
  {
   "cell_type": "markdown",
   "id": "afcd4d80-a36d-4308-a4b5-d2029026a086",
   "metadata": {},
   "source": [
    "* **순열(sequence)**\n",
    "\n",
    "    - 어떤 값들의 순서 있는 모음. 정수 인덱스로 구분할 수 있다.\n",
    "```\n",
    "```\n",
    "* **아스키 표준(ASCII standard)**\n",
    "\n",
    "    - 전자 통신을 위해 문자열을 숫자로 대응시킨 표준. 128개 문자가 있음\n",
    "```\n",
    "```\n",
    "* **유니코드 표준(Unicode standard)**\n",
    "\n",
    "    - 컴퓨터 산업 표준으로, 전 세계에서 사용되는 거의 모든 문자 체계의 문자들에 대해 일관된 코드화 규칙, 표시 방법, 처리 방법을 규정했다. \n",
    "```\n",
    "```\n",
    "* **인덱스(index)**\n",
    "\n",
    "    - 순열에 있는 한 항목(예를 들면 문자열에 있는 한 문자)에 접근하기 위해 사용하는 정수. 줄리아에서는 인덱스가 1부터 시작한다.\n",
    "```\n",
    "```\n",
    "* **UTF-8 부호화(UTF-8 encoding)**\n",
    "\n",
    "    - 유니코드의 1,112,064개 모든 유효한 코드 포인트(문자)를 처리할 수 있는 가변 길이 문자 부호화 방법. 한 개부터 네 개까지의 바이트를 사용해 문자를 부호화한다.\n",
    "```\n",
    "```\n",
    "* **순회(traverse)**\n",
    "\n",
    "    - 순열에 있는 항목에 차례대로 접근하여 각각에 대해 유사한 작업을 수행하는 것을 말한다.\n",
    "```\n",
    "```\n",
    "* **조각(slice)**\n",
    "\n",
    "    - 인덱스 범위로 지정 가능한 문자열의 부분\n",
    "```\n",
    "```\n",
    "* **빈 문자열(empty string)**\n",
    "\n",
    "    - 문자를 가지고 있지 않은 문자열. 길이가 0이고, 연속된 두 개의 따옴표로 표기\n",
    "```\n",
    "```\n",
    "* **불변(immutable)**\n",
    "\n",
    "    - 순열의 성질로, 항목을 변경하지 못함을 의미함\n",
    "```\n",
    "```\n",
    "* **문자열 보간(string interpolation)**\n",
    "\n",
    "    - 한 개 이상의 지정 위치를 가지고 있는 어떤 문자열을 평가하는 절차. 각 지정 위치의 표현식을 평가하고 결과를 치환하는 식으로 동작한다.\n",
    "```\n",
    "```\n",
    "* **탐색(search)**\n",
    "\n",
    "    - 순회 패턴의 한 종류로, 목표 항목을 찾을 때까지 순회하는 것을 말함\n",
    "```\n",
    "```\n",
    "* **계수기(counter)**\n",
    "\n",
    "    - 어떤 것을 세기 위해 사용하는 변수. 일반적으로 0으로 초기화한 후, 증가시키는 식으로 사용"
   ]
  },
  {
   "cell_type": "markdown",
   "id": "95a2ebe1-c2ab-497e-b432-dd99c087697f",
   "metadata": {},
   "source": [
    "### 연습문제\n",
    "\n",
    "**연습 8-7)**  줄리아 공식 메뉴얼 확인 \n",
    "\n",
    "\n",
    "https://docs.julialang.org/en/v1/manual/strings/"
   ]
  },
  {
   "cell_type": "markdown",
   "id": "9e46c1fe-3938-4c50-ac3a-a730496303fc",
   "metadata": {},
   "source": [
    "* replace 함수 사용 (참조: https://www.geeksforgeeks.org/replace-a-substring-with-another-string-in-julia-replace-method/)"
   ]
  },
  {
   "cell_type": "code",
   "execution_count": 178,
   "id": "3280ab30-bd8d-41fe-ae82-d91ea3533f1d",
   "metadata": {},
   "outputs": [
    {
     "name": "stdout",
     "output_type": "stream",
     "text": [
      "GFG is a Computer Science portal.\n",
      "GFG is a CS portal.\n"
     ]
    }
   ],
   "source": [
    "println(replace(\"GFG is a CS portal.\", \"CS\" => \"Computer Science\"))\n",
    "println(replace(\"GeeksforGeeks is a CS portal.\", \"GeeksforGeeks\" => \"GFG\"))"
   ]
  },
  {
   "cell_type": "markdown",
   "id": "c671627f-5165-4b92-956e-40bca12d8c9b",
   "metadata": {},
   "source": [
    "```\n",
    "```\n",
    "**연습 8-9)** indexing 활용 회문 여부 확인 함수 작성"
   ]
  },
  {
   "cell_type": "code",
   "execution_count": 174,
   "id": "ebe6c67c-20a0-4136-864d-085db22054ca",
   "metadata": {},
   "outputs": [
    {
     "data": {
      "text/plain": [
       "ispalindrome (generic function with 1 method)"
      ]
     },
     "execution_count": 174,
     "metadata": {},
     "output_type": "execute_result"
    }
   ],
   "source": [
    "\"banana\"[end:-1:1]\n",
    "\n",
    "function ispalindrome(str)\n",
    "    ind_interval = nextind(str,1) - 1\n",
    "        if str == str[end:-ind_interval:1]\n",
    "        true\n",
    "    else\n",
    "        false\n",
    "    end\n",
    "end"
   ]
  },
  {
   "cell_type": "code",
   "execution_count": 175,
   "id": "ae7e80a0-ba35-44a9-b267-f313049c27f2",
   "metadata": {},
   "outputs": [
    {
     "data": {
      "text/plain": [
       "false"
      ]
     },
     "execution_count": 175,
     "metadata": {},
     "output_type": "execute_result"
    }
   ],
   "source": [
    "ispalindrome(\"banana\")"
   ]
  },
  {
   "cell_type": "code",
   "execution_count": 176,
   "id": "a2ca73f4-3fa9-4284-9d07-c1755f55d387",
   "metadata": {},
   "outputs": [
    {
     "data": {
      "text/plain": [
       "true"
      ]
     },
     "execution_count": 176,
     "metadata": {},
     "output_type": "execute_result"
    }
   ],
   "source": [
    "ispalindrome(\"우영우\")"
   ]
  },
  {
   "cell_type": "code",
   "execution_count": 177,
   "id": "85a1e0ca-eee9-4104-845d-188e80bf3187",
   "metadata": {},
   "outputs": [
    {
     "data": {
      "text/plain": [
       "true"
      ]
     },
     "execution_count": 177,
     "metadata": {},
     "output_type": "execute_result"
    }
   ],
   "source": [
    "ispalindrome(\"TopoT\")"
   ]
  }
 ],
 "metadata": {
  "kernelspec": {
   "display_name": "Julia 1.8.0",
   "language": "julia",
   "name": "julia-1.8"
  },
  "language_info": {
   "file_extension": ".jl",
   "mimetype": "application/julia",
   "name": "julia",
   "version": "1.8.0"
  }
 },
 "nbformat": 4,
 "nbformat_minor": 5
}
