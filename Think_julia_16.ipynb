{
 "cells": [
  {
   "cell_type": "markdown",
   "id": "963ce5ce-3fda-4aaf-8da5-d95bfa31282f",
   "metadata": {},
   "source": [
    "# 줄리아를 생각하다(Think julia)"
   ]
  },
  {
   "cell_type": "markdown",
   "id": "2c918966-1e72-451a-8e52-e50d03730beb",
   "metadata": {},
   "source": [
    "## Chapter 16. 구조체와 함수"
   ]
  },
  {
   "cell_type": "markdown",
   "id": "fe2d005f-83c4-47fb-a230-038c6eb6a3a8",
   "metadata": {},
   "source": [
    "사용자 정의 객체를 인수로 받아 반환값으로 내놓는 함수 작성\n",
    "\n",
    "함수형 프로그래밍(functional programming)과 계획된 개발(designed development)의 두 가지 새로운 개발 계획"
   ]
  },
  {
   "cell_type": "markdown",
   "id": "b3036715-0502-4111-8ea5-46503bede0f3",
   "metadata": {},
   "source": [
    "### 16.1 시간"
   ]
  },
  {
   "cell_type": "markdown",
   "id": "164dc209-8310-42d8-9a44-a9c3b47b77c1",
   "metadata": {},
   "source": [
    "**예제1)** 어떤 시점의 시각을 기록하는 구조체 MyTime 작성"
   ]
  },
  {
   "cell_type": "code",
   "execution_count": 1,
   "id": "770913be-7765-44ae-9d40-1be7f55f0e44",
   "metadata": {},
   "outputs": [],
   "source": [
    "\"\"\"\n",
    "Represents the time of day.\n",
    "\n",
    "fields: hour, minute, second\n",
    "\"\"\"\n",
    "\n",
    "struct MyTime\n",
    "    hour\n",
    "    minute\n",
    "    second\n",
    "end"
   ]
  },
  {
   "cell_type": "code",
   "execution_count": 18,
   "id": "5ba2dd2d-8bad-4735-a8da-cf1ed0d93fc7",
   "metadata": {},
   "outputs": [
    {
     "data": {
      "text/plain": [
       "MyTime(11, 59, 5)"
      ]
     },
     "execution_count": 18,
     "metadata": {},
     "output_type": "execute_result"
    }
   ],
   "source": [
    "time = MyTime(11, 59, 5)"
   ]
  },
  {
   "cell_type": "code",
   "execution_count": 28,
   "id": "29bfbe75-505b-4718-bb01-f578f8704a9b",
   "metadata": {},
   "outputs": [
    {
     "name": "stdout",
     "output_type": "stream",
     "text": [
      "11:59:5\n"
     ]
    }
   ],
   "source": [
    "function printtime(time)\n",
    "    h = time.hour\n",
    "    m = time.minute\n",
    "    s = time.second\n",
    "    \n",
    "    println(\"$h:$m:$s\")\n",
    "end\n",
    "\n",
    "printtime(time)"
   ]
  },
  {
   "cell_type": "code",
   "execution_count": 21,
   "id": "97bdf57d-bdf2-4c66-9a33-fa16b6d7b3ed",
   "metadata": {},
   "outputs": [
    {
     "name": "stdout",
     "output_type": "stream",
     "text": [
      "11:59:5\n"
     ]
    }
   ],
   "source": [
    "println(time.hour,\":\",time.minute,\":\",time.second)"
   ]
  },
  {
   "cell_type": "code",
   "execution_count": 9,
   "id": "fcf67819-a4db-4e6b-8544-ef1252c1bbcd",
   "metadata": {},
   "outputs": [],
   "source": [
    "using Printf"
   ]
  },
  {
   "cell_type": "code",
   "execution_count": 24,
   "id": "4ed5cab3-9331-4a3a-9037-61112dec4093",
   "metadata": {},
   "outputs": [
    {
     "name": "stdout",
     "output_type": "stream",
     "text": [
      "11 : 59 : 05"
     ]
    }
   ],
   "source": [
    "@printf \"%02d : %02d : %02d\" time.hour time.minute time.second"
   ]
  },
  {
   "cell_type": "markdown",
   "id": "383936bb-0408-4d1b-8310-140d4bb3397b",
   "metadata": {},
   "source": [
    "### 16.2 순수 함수"
   ]
  },
  {
   "cell_type": "markdown",
   "id": "8bfd0b86-5eee-4c67-8d5d-34638170953b",
   "metadata": {},
   "source": [
    "* 순수 함수(pure function) : 값만 반환하는 함수\n",
    "\n",
    "* 변경자(modifier) : 함수의 인수로 받는 객체를 수정하는 함수\n",
    "\n",
    "* 프로토타이핑(prototype and patch) : 단순한 버전 -> 테스트해보면서 에러를 수정하는 방식"
   ]
  },
  {
   "cell_type": "code",
   "execution_count": 25,
   "id": "907b077b-f33b-4ec3-9e8b-0d358e300ace",
   "metadata": {},
   "outputs": [
    {
     "data": {
      "text/plain": [
       "addtime (generic function with 1 method)"
      ]
     },
     "execution_count": 25,
     "metadata": {},
     "output_type": "execute_result"
    }
   ],
   "source": [
    "function addtime(t1, t2)\n",
    "    MyTime(t1.hour + t2.hour, t1.minute + t2.minute, t1.second + t2.second)\n",
    "end"
   ]
  },
  {
   "cell_type": "code",
   "execution_count": 29,
   "id": "2bb50a43-f27e-4a99-b446-22f45e8a58fd",
   "metadata": {},
   "outputs": [
    {
     "name": "stdout",
     "output_type": "stream",
     "text": [
      "10:80:0\n"
     ]
    }
   ],
   "source": [
    "start = MyTime(9, 45, 0);\n",
    "duration = MyTime(1, 35, 0);\n",
    "done = addtime(start, duration);\n",
    "printtime(done)"
   ]
  },
  {
   "cell_type": "code",
   "execution_count": 32,
   "id": "a5cff403-8f10-4056-b676-1dbbfe741e7e",
   "metadata": {},
   "outputs": [
    {
     "data": {
      "text/plain": [
       "addtime (generic function with 1 method)"
      ]
     },
     "execution_count": 32,
     "metadata": {},
     "output_type": "execute_result"
    }
   ],
   "source": [
    "# 수정된 버전의 addtime\n",
    "\n",
    "function addtime(t1, t2)\n",
    "    second = t1.second + t2.second\n",
    "    minute = t1.minute + t2.minute\n",
    "    hour= t1.hour + t2.hour\n",
    "    \n",
    "    if second >= 60\n",
    "        second -= 60\n",
    "        minute += 1\n",
    "    end\n",
    "    \n",
    "    if minute >= 60\n",
    "        minute -= 60\n",
    "        hour+= 1\n",
    "    end\n",
    "    MyTime(hour, minute, second)\n",
    "end"
   ]
  },
  {
   "cell_type": "code",
   "execution_count": 31,
   "id": "d87fdce5-ebe1-49b5-a8ba-721df56e1aaf",
   "metadata": {},
   "outputs": [
    {
     "name": "stdout",
     "output_type": "stream",
     "text": [
      "11:20:0\n"
     ]
    }
   ],
   "source": [
    "done = addtime(start, duration);\n",
    "printtime(done)"
   ]
  },
  {
   "cell_type": "markdown",
   "id": "c5478348-9b19-488b-a7ab-9f453d0857d8",
   "metadata": {},
   "source": [
    "### 16.3 변경자"
   ]
  },
  {
   "cell_type": "code",
   "execution_count": 33,
   "id": "e5cfb2f2-c283-4baf-86c7-371356e54209",
   "metadata": {},
   "outputs": [
    {
     "data": {
      "text/plain": [
       "increment! (generic function with 1 method)"
      ]
     },
     "execution_count": 33,
     "metadata": {},
     "output_type": "execute_result"
    }
   ],
   "source": [
    "function increment!(time, seconds)\n",
    "    time.second += seconds\n",
    "    if time.second >= 60 \n",
    "        time.second -= 60\n",
    "        time.minute += 1\n",
    "    end\n",
    "    if time.minute >= 60\n",
    "        time.minute -= 60\n",
    "        time.hour += 1\n",
    "    end\n",
    "end"
   ]
  },
  {
   "cell_type": "markdown",
   "id": "efc766dd-73fb-469a-8fb0-d5bb0b486478",
   "metadata": {},
   "source": [
    "### 16.4 시제품 만들기 vs 계획하기"
   ]
  },
  {
   "cell_type": "markdown",
   "id": "203d1f9e-4061-4314-a72f-8ab2a4e4c70f",
   "metadata": {},
   "source": [
    "문제를 일반화하여 **계획된 개발(designed development)** 을 수행\n",
    "\n",
    "* 문제에 대한 수준 높은 통찰을 바탕으로 프로그래밍을 더 쉽게 만드는 방법"
   ]
  },
  {
   "cell_type": "markdown",
   "id": "c0e53589-764c-410d-a054-8ad95d2d3474",
   "metadata": {},
   "source": [
    "* 시간을 초 단위 정수로 바꾸는 함수 작성"
   ]
  },
  {
   "cell_type": "code",
   "execution_count": 42,
   "id": "74e87ca1-a7b5-40a1-aff6-84de1aa1082b",
   "metadata": {},
   "outputs": [
    {
     "data": {
      "text/plain": [
       "timetoint (generic function with 1 method)"
      ]
     },
     "execution_count": 42,
     "metadata": {},
     "output_type": "execute_result"
    }
   ],
   "source": [
    "function timetoint(time)\n",
    "    minutes = time.hour * 60 + time.minute\n",
    "    seconds = minutes *60 + time.second\n",
    "end"
   ]
  },
  {
   "cell_type": "markdown",
   "id": "b0f92d50-ebcf-4c61-b046-3d944dae349b",
   "metadata": {},
   "source": [
    "* 초 단위 정수를 다시 시간으로 변경하는 함수 작성"
   ]
  },
  {
   "cell_type": "code",
   "execution_count": 43,
   "id": "074ba990-8c75-4224-9434-2b94eaa529cd",
   "metadata": {},
   "outputs": [
    {
     "data": {
      "text/plain": [
       "inttotime (generic function with 1 method)"
      ]
     },
     "execution_count": 43,
     "metadata": {},
     "output_type": "execute_result"
    }
   ],
   "source": [
    "function inttotime(seconds)\n",
    "    (minutes, second) = (seconds ÷ 60 , seconds %60)\n",
    "    hour, minute = (minutes ÷ 60 , minutes %60)\n",
    "    MyTime(hour, minute, second)\n",
    "end"
   ]
  },
  {
   "cell_type": "markdown",
   "id": "fe022d4b-ebee-41d1-8b7b-c5e57ab4516e",
   "metadata": {},
   "source": [
    "* 초 단위 정수로 변환하여 두 시간을 합한 후 다시 시간으로 변경하는 함수를 리턴하는 addtime 함수 작성"
   ]
  },
  {
   "cell_type": "code",
   "execution_count": 44,
   "id": "90d03c1f-89d3-41d6-8b64-d72a75dad407",
   "metadata": {},
   "outputs": [
    {
     "data": {
      "text/plain": [
       "addtime (generic function with 1 method)"
      ]
     },
     "execution_count": 44,
     "metadata": {},
     "output_type": "execute_result"
    }
   ],
   "source": [
    "function addtime(t1, t2)\n",
    "    seconds = timetoint(t1) + timetoint(t2)\n",
    "    inttotime(seconds)\n",
    "end"
   ]
  },
  {
   "cell_type": "markdown",
   "id": "c86f91c2-b272-438e-8a17-79b7a873a5fc",
   "metadata": {},
   "source": [
    "### 16.5 디버깅"
   ]
  },
  {
   "cell_type": "markdown",
   "id": "4470067d-a0c8-4d67-9a23-7c4f09464770",
   "metadata": {},
   "source": [
    "* **불변식(invariant)** : 요구 사항을 나타내는 조건식\n",
    "\n",
    "    - 예) MyTime 객체는 minute와 second가 0 이상 60 미만이고, hour가 0보다 크거나 같아야 하며, second는 소수점 아래 허용 필요 등"
   ]
  },
  {
   "cell_type": "markdown",
   "id": "594304c8-cd2a-4f31-a185-864b4c2ab7a2",
   "metadata": {},
   "source": [
    "**예시1)** MyTime 객체를 받아서 불변식 위반 여부를 체크하는 함수 isvalidtime 작성"
   ]
  },
  {
   "cell_type": "code",
   "execution_count": 45,
   "id": "f78aa5e3-d111-4fa7-bb34-40b3c42d6187",
   "metadata": {},
   "outputs": [
    {
     "data": {
      "text/plain": [
       "isvalidtime (generic function with 1 method)"
      ]
     },
     "execution_count": 45,
     "metadata": {},
     "output_type": "execute_result"
    }
   ],
   "source": [
    "function isvalidtime(time)\n",
    "    if time.hour < 0 || time.minute < 0 || time.second < 0\n",
    "        return false\n",
    "    end\n",
    "    if time.minute >= 60 || time.second >= 60\n",
    "        return false\n",
    "    end\n",
    "    true\n",
    "end"
   ]
  },
  {
   "cell_type": "markdown",
   "id": "753da696-4e2b-406b-8571-f8ffef785b0e",
   "metadata": {},
   "source": [
    "* 각 함수의 앞쪽에 인수가 정상적인지 체크하는 코드 삽입"
   ]
  },
  {
   "cell_type": "code",
   "execution_count": 49,
   "id": "b473e731-057a-4052-b8fa-f043b1610d40",
   "metadata": {},
   "outputs": [
    {
     "data": {
      "text/plain": [
       "addtime (generic function with 1 method)"
      ]
     },
     "execution_count": 49,
     "metadata": {},
     "output_type": "execute_result"
    }
   ],
   "source": [
    "function addtime(t1, t2)\n",
    "    if !isvalidtime(t1) || !isvalidtime(t2)\n",
    "        error(\"invalid MyTime object in add_time\")\n",
    "    end\n",
    "    seconds = timetoint(t1) + timetoint(t2)\n",
    "    inttotime(seconds)\n",
    "end"
   ]
  },
  {
   "cell_type": "markdown",
   "id": "ed9c90ce-693f-4d2c-9a48-1e28cea67861",
   "metadata": {},
   "source": [
    "* 다른 방법으로는 @assert 매크로를 사용할 수 있음\n",
    "\n",
    "* **@assert** 매크로는 조건식이 false인 경우에 예외를 출력함\n",
    "\n",
    "    - @assert 매크로를 사용하면 오류 체크를 위한 코드와 일반 코드를 쉽게 구분할 수 있음"
   ]
  },
  {
   "cell_type": "code",
   "execution_count": 52,
   "id": "674e3162-abf2-4ee3-9a82-2c2aac98fd5e",
   "metadata": {},
   "outputs": [
    {
     "data": {
      "text/plain": [
       "addtime2 (generic function with 1 method)"
      ]
     },
     "execution_count": 52,
     "metadata": {},
     "output_type": "execute_result"
    }
   ],
   "source": [
    "function addtime2(t1, t2)\n",
    "    @assert(isvalidtime(t1) && isvalidtime(t2), \"invalid MyTime object in add_time\")\n",
    "    seconds = timetoint(t1) + timetoint(t2)\n",
    "    inttotime(seconds)\n",
    "end"
   ]
  },
  {
   "cell_type": "code",
   "execution_count": 50,
   "id": "21fb86c0-ae4a-463d-a210-290fc589d6db",
   "metadata": {},
   "outputs": [
    {
     "data": {
      "text/plain": [
       "MyTime(11, 20, 0)"
      ]
     },
     "execution_count": 50,
     "metadata": {},
     "output_type": "execute_result"
    }
   ],
   "source": [
    "addtime(start, duration)"
   ]
  },
  {
   "cell_type": "code",
   "execution_count": 53,
   "id": "9c4b34ce-7541-4dd7-95d0-a6a10f9d6fbf",
   "metadata": {},
   "outputs": [
    {
     "data": {
      "text/plain": [
       "MyTime(11, 20, 0)"
      ]
     },
     "execution_count": 53,
     "metadata": {},
     "output_type": "execute_result"
    }
   ],
   "source": [
    "addtime2(start, duration)"
   ]
  },
  {
   "cell_type": "code",
   "execution_count": 54,
   "id": "2e776406-a824-439b-b0e5-08ed2a91e35f",
   "metadata": {},
   "outputs": [
    {
     "ename": "LoadError",
     "evalue": "invalid MyTime object in add_time",
     "output_type": "error",
     "traceback": [
      "invalid MyTime object in add_time",
      "",
      "Stacktrace:",
      " [1] error(s::String)",
      "   @ Base .\\error.jl:35",
      " [2] addtime(t1::MyTime, t2::MyTime)",
      "   @ Main .\\In[49]:3",
      " [3] top-level scope",
      "   @ In[54]:1",
      " [4] eval",
      "   @ .\\boot.jl:368 [inlined]",
      " [5] include_string(mapexpr::typeof(REPL.softscope), mod::Module, code::String, filename::String)",
      "   @ Base .\\loading.jl:1428"
     ]
    }
   ],
   "source": [
    "addtime(MyTime(9, 45, 0), MyTime(1, 80, 0))"
   ]
  },
  {
   "cell_type": "code",
   "execution_count": 55,
   "id": "3a1c81b9-7fe3-49b6-bafd-637e6e45b28e",
   "metadata": {},
   "outputs": [
    {
     "ename": "LoadError",
     "evalue": "AssertionError: invalid MyTime object in add_time",
     "output_type": "error",
     "traceback": [
      "AssertionError: invalid MyTime object in add_time",
      "",
      "Stacktrace:",
      " [1] addtime2(t1::MyTime, t2::MyTime)",
      "   @ Main .\\In[52]:2",
      " [2] top-level scope",
      "   @ In[55]:1",
      " [3] eval",
      "   @ .\\boot.jl:368 [inlined]",
      " [4] include_string(mapexpr::typeof(REPL.softscope), mod::Module, code::String, filename::String)",
      "   @ Base .\\loading.jl:1428"
     ]
    }
   ],
   "source": [
    "addtime2(MyTime(9, 45, 0), MyTime(1, 80, 0))"
   ]
  },
  {
   "cell_type": "markdown",
   "id": "df6788ec-ebfc-4581-bb02-f3b4ce1b1d5f",
   "metadata": {},
   "source": [
    "### 16.6 용어집"
   ]
  },
  {
   "cell_type": "markdown",
   "id": "9ffeccee-6ca7-4da9-8878-11821f2fa133",
   "metadata": {},
   "source": [
    "* **프로토타이핑** (prototype and patch)\n",
    "\n",
    "    - 프로그램의 대강의 초안을 먼저 작성한 후, 테스트하면서 오류를 수정해나가는 개발 계획\n",
    "```\n",
    "```\n",
    "* **순수 함수** (pure function)\n",
    "\n",
    "    - 인수로 받는 객체를 수정하지 않는 함수. 대부분의 순수 함수는 반환값이 있는 유익(fruitful) 함수\n",
    "```\n",
    "```\n",
    "* **변경자** (modifier)\n",
    "\n",
    "    - 인수로 받는 객체 일부 또는 전체를 수정하는 함수. 대부분 변경자는 반환값이 없는 nothing인 빈 함수임\n",
    "```\n",
    "```\n",
    "* **함수형 프로그래밍** (functional development)\n",
    "\n",
    "    - 대부분의 함수를 순수 함수로 구현하는 프로그래밍 스타일\n",
    "```\n",
    "```\n",
    "* **설계된 개발** (designed development)\n",
    "\n",
    "    - 문제에 대한 높은 수준의 이해를 바탕으로, 점진적 개발이나 프로토타이핑에 비해 더 많은 계획을 하는 개발 계획\n",
    "```\n",
    "```\n",
    "* **불변식** (invariant)\n",
    "\n",
    "    - 프로그램 실행 중에 절대 변하지 않아야 하는 조건식\n",
    "    "
   ]
  }
 ],
 "metadata": {
  "kernelspec": {
   "display_name": "Julia 1.8.0",
   "language": "julia",
   "name": "julia-1.8"
  },
  "language_info": {
   "file_extension": ".jl",
   "mimetype": "application/julia",
   "name": "julia",
   "version": "1.8.0"
  }
 },
 "nbformat": 4,
 "nbformat_minor": 5
}
