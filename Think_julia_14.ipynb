{
 "cells": [
  {
   "cell_type": "markdown",
   "id": "0d4213cc-c75e-4e26-a3fb-ed1b75bda0ba",
   "metadata": {},
   "source": [
    "# 줄리아를 생각하다(Think julia)"
   ]
  },
  {
   "cell_type": "markdown",
   "id": "a8b45378-ff26-42dd-8313-89b37dc688a0",
   "metadata": {},
   "source": [
    "## Chapter 14. 파일"
   ]
  },
  {
   "cell_type": "markdown",
   "id": "05ef3062-a8f5-4421-b867-95f6f4195f66",
   "metadata": {},
   "source": [
    "자료를 영구 저장소에 보관하는 지속적 프로그램에 대한 아이디어 소개\n",
    "\n",
    "파일과 데이터베이스 같은 여러가지 영구 저장소를 사용하는 방법에 대한 소개"
   ]
  },
  {
   "cell_type": "markdown",
   "id": "45d1c7d5-4f7f-46f3-bc3f-31f550961f65",
   "metadata": {},
   "source": [
    "### 14.1 지속성\n",
    "\n",
    "* 오랜 시간 실행되고, 자료 중 일부를 영구 저장소에 보관, 재시작 시 종료 지점부터 재시작 등 -> **지속적(persistant)**\n",
    "\n",
    "* 지속적(presistent) 프로그램의 예: 컴퓨터가 켜져 있는 동안 계속 실행되는 운영체제, 항상 실행되면서 네트워킁서 요청이 들어오기를 기다리는 웹 서버"
   ]
  },
  {
   "cell_type": "markdown",
   "id": "190128bc-7f25-4676-8a3f-a3fb120989bf",
   "metadata": {},
   "source": [
    "### 14.2 읽기와 쓰기"
   ]
  },
  {
   "cell_type": "markdown",
   "id": "58754831-c71a-4c97-93e6-930f68d476f5",
   "metadata": {},
   "source": [
    "* 텍스트 파일은 하드디스크나 플래시 메모리 같은 영구 저장소에 저장되어 있는 문자의 순열\n",
    "\n",
    "* 파일에 쓰기를 하려면 파일을 열 때 두 번째 매개변수를 쓰기 모드 'w'로 지정해야 함\n",
    "\n",
    "* **(주의)** 쓰기 모드로 파일을 열었을 때, 파일이 이미 존재하고 있다면 기존 데이터가 모두 삭제되고 빈 파일로 시작됨"
   ]
  },
  {
   "cell_type": "code",
   "execution_count": 1,
   "id": "9425b237-69b9-430f-a0e8-0c06868b6b59",
   "metadata": {},
   "outputs": [
    {
     "data": {
      "text/plain": [
       "IOStream(<file ./data/output.txt>)"
      ]
     },
     "execution_count": 1,
     "metadata": {},
     "output_type": "execute_result"
    }
   ],
   "source": [
    "fout = open(\"./data/output.txt\", \"w\")"
   ]
  },
  {
   "cell_type": "code",
   "execution_count": 2,
   "id": "69ac7709-ba52-4856-ba26-547c136b9d9d",
   "metadata": {},
   "outputs": [],
   "source": [
    "line1 = \"This here'sthe wattle, \\n\" ;"
   ]
  },
  {
   "cell_type": "code",
   "execution_count": 3,
   "id": "bb353bdc-28ec-4927-925c-0d5522942349",
   "metadata": {},
   "outputs": [
    {
     "data": {
      "text/plain": [
       "24"
      ]
     },
     "execution_count": 3,
     "metadata": {},
     "output_type": "execute_result"
    }
   ],
   "source": [
    "write(fout, line1)"
   ]
  },
  {
   "cell_type": "markdown",
   "id": "d6ec5e94-fae3-448b-a179-52f5b66bb354",
   "metadata": {},
   "source": [
    "* open 함수는 파일 객체를 반환하고, write 함수는 파일에 데이터를 집어 넣음\n",
    "\n",
    "* 반환값은 파일에 기록된 문자의 개수\n",
    "\n",
    "* 쓰기를 마치면 파일을 닫아야 함 (파일을 닫지 않으면, 프로그램이 끝날 때 자동적으로 닫힘)"
   ]
  },
  {
   "cell_type": "code",
   "execution_count": 4,
   "id": "9236a66e-49e6-42f1-a227-c127333ea960",
   "metadata": {},
   "outputs": [],
   "source": [
    "close(fout)"
   ]
  },
  {
   "cell_type": "markdown",
   "id": "eaba43b0-c38e-4b12-9ed5-507359a1b8c9",
   "metadata": {},
   "source": [
    "### 14.3 쓰기 서식"
   ]
  },
  {
   "cell_type": "markdown",
   "id": "6f8ef093-e748-479b-9465-003276d2d8d3",
   "metadata": {},
   "source": [
    "* write 함수의 인수는 문자열이어야 하기 때문에 다른 자료형의 값을 파일에 쓰려면 문자열로 변환해야 함\n",
    "\n",
    "* 가장 쉬운 방법은 string 함수나 문자열 보간법을 이용하는 것"
   ]
  },
  {
   "cell_type": "code",
   "execution_count": 20,
   "id": "51a537e4-fbeb-462f-bf86-8c312a2f2317",
   "metadata": {},
   "outputs": [
    {
     "data": {
      "text/plain": [
       "IOStream(<file ./data/output2.txt>)"
      ]
     },
     "execution_count": 20,
     "metadata": {},
     "output_type": "execute_result"
    }
   ],
   "source": [
    "fout = open(\"./data/output2.txt\", \"w\")"
   ]
  },
  {
   "cell_type": "code",
   "execution_count": 21,
   "id": "990508c1-1c60-49e4-8392-c04db6bcc201",
   "metadata": {},
   "outputs": [
    {
     "data": {
      "text/plain": [
       "3"
      ]
     },
     "execution_count": 21,
     "metadata": {},
     "output_type": "execute_result"
    }
   ],
   "source": [
    "write(fout, string(150))"
   ]
  },
  {
   "cell_type": "markdown",
   "id": "ff8e4006-d64e-4b50-b558-9572c58abd32",
   "metadata": {},
   "source": [
    "* 다른 방법은 print나 println 함수를 사용하는 것\n",
    "\n",
    "* 좀 더 강력한 방법은 C언어 스타일의 형식 지정 문자열을 사용하는 @printf 매크로 사용"
   ]
  },
  {
   "cell_type": "code",
   "execution_count": 19,
   "id": "703545dd-62f1-4bfd-b59e-3d12a2a2d771",
   "metadata": {},
   "outputs": [],
   "source": [
    "camels = 42\n",
    "\n",
    "println(fout, \"I have spotted $camels camels.\")"
   ]
  },
  {
   "cell_type": "code",
   "execution_count": 16,
   "id": "b309a6c6-af5b-4f74-8ebf-41e2c0520ba3",
   "metadata": {},
   "outputs": [],
   "source": [
    "close(fout)"
   ]
  },
  {
   "cell_type": "markdown",
   "id": "9b60a6d2-6d7d-4691-90c3-6e8fb17e37e7",
   "metadata": {},
   "source": [
    "### 14.4 파일명과 경로"
   ]
  },
  {
   "cell_type": "markdown",
   "id": "0ee642e5-4d30-4b1c-a654-05b68f16d8e4",
   "metadata": {},
   "source": [
    "* 파일은 **디렉터리(directory 또는 folder)** 로 조직화되어 있음\n",
    "\n",
    "* pwd 함수는 현재 디렉터리의 이름(**경로(path)**) 을 반환\n",
    "\n",
    "* abspath 함수는 절대 경로를 반환\n",
    "\n",
    "* ispath 함수는 특정 파일이나 디렉토리가 존재하는지 여부를 반환\n",
    "\n",
    "* isdir 함수는 디렉토리 존재 여부를 반환\n",
    "\n",
    "* isfile 함수는 파일 존재 여부를 반환"
   ]
  },
  {
   "cell_type": "code",
   "execution_count": 22,
   "id": "8d08765e-4c0d-4230-8c76-86aae3110da2",
   "metadata": {},
   "outputs": [
    {
     "data": {
      "text/plain": [
       "\"D:\\\\JULIA\\\\Think_julia\""
      ]
     },
     "execution_count": 22,
     "metadata": {},
     "output_type": "execute_result"
    }
   ],
   "source": [
    "pwd()"
   ]
  },
  {
   "cell_type": "code",
   "execution_count": 23,
   "id": "4c29e8c9-7787-42f3-8c70-6006e191702d",
   "metadata": {},
   "outputs": [
    {
     "data": {
      "text/plain": [
       "\"D:\\\\JULIA\\\\Think_julia\\\\data\\\\memo.txt\""
      ]
     },
     "execution_count": 23,
     "metadata": {},
     "output_type": "execute_result"
    }
   ],
   "source": [
    "abspath(\"./data/memo.txt\")"
   ]
  },
  {
   "cell_type": "code",
   "execution_count": 24,
   "id": "a72db07c-7fa9-44c9-a673-1617af8a6cd2",
   "metadata": {},
   "outputs": [
    {
     "data": {
      "text/plain": [
       "\"D:\\\\JULIA\\\\Think_julia\\\\memo.txt\""
      ]
     },
     "execution_count": 24,
     "metadata": {},
     "output_type": "execute_result"
    }
   ],
   "source": [
    "abspath(\"memo.txt\")"
   ]
  },
  {
   "cell_type": "code",
   "execution_count": 25,
   "id": "f7fe228b-abdb-45f2-b781-7ef4b4dc771d",
   "metadata": {},
   "outputs": [
    {
     "data": {
      "text/plain": [
       "false"
      ]
     },
     "execution_count": 25,
     "metadata": {},
     "output_type": "execute_result"
    }
   ],
   "source": [
    "ispath(\"memo.txt\")"
   ]
  },
  {
   "cell_type": "code",
   "execution_count": 26,
   "id": "21f68d7c-1a94-43f8-8f06-59cb26b67e8a",
   "metadata": {},
   "outputs": [
    {
     "data": {
      "text/plain": [
       "false"
      ]
     },
     "execution_count": 26,
     "metadata": {},
     "output_type": "execute_result"
    }
   ],
   "source": [
    "isdir(\"memo.txt\")"
   ]
  },
  {
   "cell_type": "code",
   "execution_count": 30,
   "id": "1e715733-478f-4f76-8bf6-9135c4bb94d0",
   "metadata": {},
   "outputs": [
    {
     "data": {
      "text/plain": [
       "true"
      ]
     },
     "execution_count": 30,
     "metadata": {},
     "output_type": "execute_result"
    }
   ],
   "source": [
    "isdir(\"d:/JULIA\")"
   ]
  },
  {
   "cell_type": "code",
   "execution_count": 31,
   "id": "02f0f7b3-131f-490c-acda-a1bb59deaffe",
   "metadata": {},
   "outputs": [
    {
     "data": {
      "text/plain": [
       "false"
      ]
     },
     "execution_count": 31,
     "metadata": {},
     "output_type": "execute_result"
    }
   ],
   "source": [
    "isfile(\"memo.txt\")"
   ]
  },
  {
   "cell_type": "markdown",
   "id": "e981c631-8ee3-4dde-8217-f474a547c520",
   "metadata": {},
   "source": [
    "* readdir 함수는 주어진 디렉터리에 있는 파일 및 디렉터리를 배열로 반환함\n",
    "\n",
    "* joinpath 함수는 디렉터리와 파일명을 받아 둘을 결합한 완전한 경로를 만들어 반환함 \n",
    "\n",
    "* **예제 1)** 주어진 디렉터리 안에 있는 모든 경로에 대한 파일 이름을 출력하는 함수 작성"
   ]
  },
  {
   "cell_type": "code",
   "execution_count": 41,
   "id": "8e10a16b-c062-48a3-b816-05c159e3422c",
   "metadata": {},
   "outputs": [
    {
     "data": {
      "text/plain": [
       "21-element Vector{String}:\n",
       " \".ipynb_checkpoints\"\n",
       " \"Think_julia_1.ipynb\"\n",
       " \"Think_julia_10.ipynb\"\n",
       " \"Think_julia_11.ipynb\"\n",
       " \"Think_julia_12.ipynb\"\n",
       " \"Think_julia_13.ipynb\"\n",
       " \"Think_julia_14.ipynb\"\n",
       " \"Think_julia_2.ipynb\"\n",
       " \"Think_julia_3.ipynb\"\n",
       " \"Think_julia_4.ipynb\"\n",
       " \"Think_julia_5.ipynb\"\n",
       " \"Think_julia_6.ipynb\"\n",
       " \"Think_julia_7.ipynb\"\n",
       " \"Think_julia_8.ipynb\"\n",
       " \"Think_julia_9.ipynb\"\n",
       " \"capture_and_drawing\"\n",
       " \"chapter9.jl\"\n",
       " \"compare_python.ipynb\"\n",
       " \"data\"\n",
       " \"master_source\"\n",
       " \"output2.txt\""
      ]
     },
     "execution_count": 41,
     "metadata": {},
     "output_type": "execute_result"
    }
   ],
   "source": [
    "readdir(pwd())"
   ]
  },
  {
   "cell_type": "code",
   "execution_count": 33,
   "id": "70182de7-3b4c-49b6-81f3-a9000303a274",
   "metadata": {},
   "outputs": [
    {
     "data": {
      "text/plain": [
       "walk (generic function with 1 method)"
      ]
     },
     "execution_count": 33,
     "metadata": {},
     "output_type": "execute_result"
    }
   ],
   "source": [
    "function walk(dirname)\n",
    "    for name in readdir(dirname)\n",
    "        path = joinpath(dirname, name)\n",
    "        if isfile(path)\n",
    "            println(path)\n",
    "        else\n",
    "            walk(path)\n",
    "        end\n",
    "    end\n",
    "end"
   ]
  },
  {
   "cell_type": "code",
   "execution_count": 36,
   "id": "07cee512-a6d2-4310-b71f-73851fa38a36",
   "metadata": {},
   "outputs": [
    {
     "name": "stdout",
     "output_type": "stream",
     "text": [
      "data\\book.txt\n",
      "data\\emma.txt\n",
      "data\\output.txt\n",
      "data\\output2.txt\n",
      "data\\words.txt\n"
     ]
    }
   ],
   "source": [
    "walk(\"data\")"
   ]
  },
  {
   "cell_type": "markdown",
   "id": "4d419b5f-1381-48e1-bffa-be286037274f",
   "metadata": {},
   "source": [
    "* 줄리아 내장함수 walkdir 비교\n",
    "\n",
    "* walkdir 함수는 경로, 폴더, 파일명을 반환함\n",
    "\n",
    "* first 함수를 이용해 계속 확인해 내려갈 수 있음"
   ]
  },
  {
   "cell_type": "code",
   "execution_count": 42,
   "id": "8b91d150-d710-4fdf-8490-6a4eec1dd410",
   "metadata": {},
   "outputs": [
    {
     "data": {
      "text/plain": [
       "(\"my\", [\"test\"], String[])"
      ]
     },
     "execution_count": 42,
     "metadata": {},
     "output_type": "execute_result"
    }
   ],
   "source": [
    "mkpath(\"my/test/dir\");\n",
    "itr = walkdir(\"my\");\n",
    "(root, dirs, files) = first(itr)"
   ]
  },
  {
   "cell_type": "code",
   "execution_count": 43,
   "id": "81a63439-189d-4526-b4c2-b0f06e7c20ca",
   "metadata": {},
   "outputs": [
    {
     "data": {
      "text/plain": [
       "(\"my\\\\test\", [\"dir\"], String[])"
      ]
     },
     "execution_count": 43,
     "metadata": {},
     "output_type": "execute_result"
    }
   ],
   "source": [
    "(root, dirs, files) = first(itr)"
   ]
  },
  {
   "cell_type": "code",
   "execution_count": 44,
   "id": "26d4e697-8969-46ad-9cfe-f9fbee1f4c63",
   "metadata": {},
   "outputs": [
    {
     "data": {
      "text/plain": [
       "(\"my\\\\test\\\\dir\", String[], String[])"
      ]
     },
     "execution_count": 44,
     "metadata": {},
     "output_type": "execute_result"
    }
   ],
   "source": [
    "(root, dirs, files) = first(itr)"
   ]
  },
  {
   "cell_type": "code",
   "execution_count": 45,
   "id": "c45a5b7c-1e43-4744-a996-f032df5fd4b3",
   "metadata": {},
   "outputs": [
    {
     "data": {
      "text/plain": [
       "(\"D:\\\\JULIA\\\\Think_julia\", [\".ipynb_checkpoints\", \"capture_and_drawing\", \"data\", \"master_source\", \"my\"], [\"Think_julia_1.ipynb\", \"Think_julia_10.ipynb\", \"Think_julia_11.ipynb\", \"Think_julia_12.ipynb\", \"Think_julia_13.ipynb\", \"Think_julia_14.ipynb\", \"Think_julia_2.ipynb\", \"Think_julia_3.ipynb\", \"Think_julia_4.ipynb\", \"Think_julia_5.ipynb\", \"Think_julia_6.ipynb\", \"Think_julia_7.ipynb\", \"Think_julia_8.ipynb\", \"Think_julia_9.ipynb\", \"chapter9.jl\", \"compare_python.ipynb\", \"output2.txt\"])"
      ]
     },
     "execution_count": 45,
     "metadata": {},
     "output_type": "execute_result"
    }
   ],
   "source": [
    "itr = walkdir(pwd());\n",
    "(root, dirs, files) = first(itr)"
   ]
  },
  {
   "cell_type": "code",
   "execution_count": 46,
   "id": "19fd574e-1ffa-46dd-a58d-6a743162c08d",
   "metadata": {},
   "outputs": [
    {
     "data": {
      "text/plain": [
       "(\"D:\\\\JULIA\\\\Think_julia\\\\.ipynb_checkpoints\", String[], [\"Think_julia_1-checkpoint.ipynb\", \"Think_julia_10-checkpoint.ipynb\", \"Think_julia_11-checkpoint.ipynb\", \"Think_julia_12-checkpoint.ipynb\", \"Think_julia_13-checkpoint.ipynb\", \"Think_julia_14-checkpoint.ipynb\", \"Think_julia_2-checkpoint.ipynb\", \"Think_julia_3-checkpoint.ipynb\", \"Think_julia_4-checkpoint.ipynb\", \"Think_julia_5-checkpoint.ipynb\", \"Think_julia_6-checkpoint.ipynb\", \"Think_julia_7-checkpoint.ipynb\", \"Think_julia_8-checkpoint.ipynb\", \"Think_julia_9-checkpoint.ipynb\", \"compare_python-checkpoint.ipynb\"])"
      ]
     },
     "execution_count": 46,
     "metadata": {},
     "output_type": "execute_result"
    }
   ],
   "source": [
    "(root, dirs, files) = first(itr)"
   ]
  },
  {
   "cell_type": "code",
   "execution_count": 47,
   "id": "81482e37-9c9f-4259-8565-9b70b3aded67",
   "metadata": {},
   "outputs": [
    {
     "data": {
      "text/plain": [
       "(\"D:\\\\JULIA\\\\Think_julia\\\\capture_and_drawing\", [\".ipynb_checkpoints\"], [\"Think_julia_drawing.png\", \"Think_julia_drawing.pptx\", \"chapter9_2.png\", \"test1.png\", \"test2.png\", \"test3.png\"])"
      ]
     },
     "execution_count": 47,
     "metadata": {},
     "output_type": "execute_result"
    }
   ],
   "source": [
    "(root, dirs, files) = first(itr)"
   ]
  },
  {
   "cell_type": "code",
   "execution_count": 48,
   "id": "5d344e37-a70e-4877-a0dd-4146cc5c0102",
   "metadata": {},
   "outputs": [
    {
     "data": {
      "text/plain": [
       "(\"D:\\\\JULIA\\\\Think_julia\\\\capture_and_drawing\\\\.ipynb_checkpoints\", String[], [\"Think_julia_drawing-checkpoint.png\"])"
      ]
     },
     "execution_count": 48,
     "metadata": {},
     "output_type": "execute_result"
    }
   ],
   "source": [
    "(root, dirs, files) = first(itr)"
   ]
  },
  {
   "cell_type": "markdown",
   "id": "a573b3f3-bbf5-4c2c-bb0b-8293c3472aa3",
   "metadata": {},
   "source": [
    "### 14.5 예외 처리"
   ]
  },
  {
   "cell_type": "markdown",
   "id": "c29154d9-2ed7-4016-ba9f-17445f4456b6",
   "metadata": {},
   "source": [
    "**(SystemError)**\n",
    "\n",
    "* 존재하지 않는 파일을 열려고 할 경우, SystemError 만남\n",
    "\n",
    "* 접근하려는 파일에 권한이 없을 때도 같음"
   ]
  },
  {
   "cell_type": "code",
   "execution_count": 50,
   "id": "b99c30a0-1af0-4b9d-89d3-a39cd6c59a2d",
   "metadata": {},
   "outputs": [
    {
     "ename": "LoadError",
     "evalue": "SystemError: opening file \"bad_file\": No such file or directory",
     "output_type": "error",
     "traceback": [
      "SystemError: opening file \"bad_file\": No such file or directory",
      "",
      "Stacktrace:",
      " [1] systemerror(p::String, errno::Int32; extrainfo::Nothing)",
      "   @ Base .\\error.jl:176",
      " [2] #systemerror#80",
      "   @ .\\error.jl:175 [inlined]",
      " [3] systemerror",
      "   @ .\\error.jl:175 [inlined]",
      " [4] open(fname::String; lock::Bool, read::Nothing, write::Nothing, create::Nothing, truncate::Nothing, append::Nothing)",
      "   @ Base .\\iostream.jl:293",
      " [5] open(fname::String)",
      "   @ Base .\\iostream.jl:275",
      " [6] top-level scope",
      "   @ In[50]:1",
      " [7] eval",
      "   @ .\\boot.jl:368 [inlined]",
      " [8] include_string(mapexpr::typeof(REPL.softscope), mod::Module, code::String, filename::String)",
      "   @ Base .\\loading.jl:1428"
     ]
    }
   ],
   "source": [
    "fin = open(\"bad_file\")"
   ]
  },
  {
   "cell_type": "markdown",
   "id": "6ef48cd9-ae34-4e3f-983f-ece2a104dd5d",
   "metadata": {},
   "source": [
    "**try catch 문**\n",
    "\n",
    "* 원천적인 오류를 피할 수 없거나 모든 가능성을 확인하기 어려울 경우,\n",
    "\n",
    "* 그냥 진행하고 시도(try)해본후, 문제가 발생하는 것을 확인 => try catch 구문(if 구문과 비슷)\n",
    "\n",
    "    - 만일 예외가 발생하면, try 절을 즉시 빠져나와 catch 절을 실행함\n",
    "    \n",
    "    - try문으로 예외를 처리하는 것을 예외를 잡는다(catch)라고 표현\n",
    "    \n",
    "    - 일반적으로 예외를 잡으면 문제를 해결하거나 다시 시도하거나, 최소한 프로그램을 깔끔하게 종료함\n",
    "    \n",
    "    - try catch 사용 시 코드 블로을 빠져나온 후에도 특정 코드가 실행되도로 하는 방법 제공 -> finally 함수 \n",
    "    \n",
    "        + close 함수 등에 적용"
   ]
  },
  {
   "cell_type": "code",
   "execution_count": 51,
   "id": "6815a454-93a7-4a39-b3e8-e9d7b3117e1b",
   "metadata": {},
   "outputs": [
    {
     "name": "stdout",
     "output_type": "stream",
     "text": [
      "Something went wrong: SystemError(\"opening file \\\"bad_file.txt\\\"\", 2, nothing)\n"
     ]
    }
   ],
   "source": [
    "try\n",
    "    fin = open(\"bad_file.txt\")\n",
    "catch exc\n",
    "    println(\"Something went wrong: $exc\")\n",
    "end"
   ]
  },
  {
   "cell_type": "code",
   "execution_count": 52,
   "id": "91f5b01e-5a6d-4192-a78f-5b7f5ff433d0",
   "metadata": {},
   "outputs": [
    {
     "name": "stdout",
     "output_type": "stream",
     "text": [
      "This here'sthe wattle, \n"
     ]
    }
   ],
   "source": [
    "f = open(\"./data/output.txt\")\n",
    "try \n",
    "    line = readline(f)\n",
    "    println(line)\n",
    "finally \n",
    "    close(f)\n",
    "end"
   ]
  },
  {
   "cell_type": "markdown",
   "id": "494e5a7a-874a-4d47-9220-2b4f33e541ca",
   "metadata": {},
   "source": [
    "### 14.6 데이터베이스"
   ]
  },
  {
   "cell_type": "markdown",
   "id": "551c7456-d37e-4ee7-8519-ad887e9b8d79",
   "metadata": {},
   "source": [
    "* **데이터베이스(database)**: 자료를 저장하도록 조직화된 파일을 가리킴\n",
    "\n",
    "    - 키에서 값으로 대응시킨다는 점에서 많은 데이터베이스는 사전처럼 조직화되어 있다고 할 수 있음\n",
    "    \n",
    "    - 데이터베이스와 사전의 가장 큰 차이점은 데이터 베이스는 프로그램이 종료한 이후에도 자료가 지워지지 않도록 디스크 또는 다른 영구 저장소를 이용\n"
   ]
  },
  {
   "cell_type": "code",
   "execution_count": 55,
   "id": "31458c09-e6e7-4fe9-8595-c49dfaea2c2c",
   "metadata": {},
   "outputs": [
    {
     "name": "stderr",
     "output_type": "stream",
     "text": [
      "┌ Info: Precompiling ThinkJulia [a7f2b756-c18b-4c7f-87da-faca9ac81b29]\n",
      "└ @ Base loading.jl:1662\n",
      "┌ Info: Skipping precompilation since __precompile__(false). Importing ThinkJulia [a7f2b756-c18b-4c7f-87da-faca9ac81b29].\n",
      "└ @ Base loading.jl:1341\n"
     ]
    },
    {
     "ename": "LoadError",
     "evalue": "LoadError: ThinkJulia not installed properly, run Pkg.build(\"ThinkJulia\"), restart Julia and try again\nin expression starting at C:\\Users\\jeffr\\.julia\\packages\\ThinkJulia\\REhsz\\src\\ThinkJulia.jl:1",
     "output_type": "error",
     "traceback": [
      "LoadError: ThinkJulia not installed properly, run Pkg.build(\"ThinkJulia\"), restart Julia and try again\nin expression starting at C:\\Users\\jeffr\\.julia\\packages\\ThinkJulia\\REhsz\\src\\ThinkJulia.jl:1",
      "",
      "Stacktrace:",
      "  [1] error(s::String)",
      "    @ Base .\\error.jl:35",
      "  [2] top-level scope",
      "    @ C:\\Users\\jeffr\\.julia\\packages\\ThinkJulia\\REhsz\\src\\ThinkJulia.jl:15",
      "  [3] include",
      "    @ .\\Base.jl:419 [inlined]",
      "  [4] _require(pkg::Base.PkgId)",
      "    @ Base .\\loading.jl:1367",
      "  [5] _require_prelocked(uuidkey::Base.PkgId)",
      "    @ Base .\\loading.jl:1200",
      "  [6] macro expansion",
      "    @ .\\loading.jl:1180 [inlined]",
      "  [7] macro expansion",
      "    @ .\\lock.jl:223 [inlined]",
      "  [8] require(into::Module, mod::Symbol)",
      "    @ Base .\\loading.jl:1144",
      "  [9] eval",
      "    @ .\\boot.jl:368 [inlined]",
      " [10] include_string(mapexpr::typeof(REPL.softscope), mod::Module, code::String, filename::String)",
      "    @ Base .\\loading.jl:1428"
     ]
    }
   ],
   "source": [
    "using ThinkJulia"
   ]
  },
  {
   "cell_type": "code",
   "execution_count": 56,
   "id": "64cd8106-1283-43e3-9820-597bb3310bee",
   "metadata": {},
   "outputs": [
    {
     "name": "stderr",
     "output_type": "stream",
     "text": [
      "\u001b[32m\u001b[1m    Building\u001b[22m\u001b[39m GR ─────────→ `C:\\Users\\jeffr\\.julia\\scratchspaces\\44cfe95a-1eb2-52ea-b672-e2afdf69b78f\\7ea6f715b7caa10d7ee16f1cfcd12f3ccc74116a\\build.log`\n",
      "\u001b[32m\u001b[1m    Building\u001b[22m\u001b[39m Plots ──────→ `C:\\Users\\jeffr\\.julia\\scratchspaces\\44cfe95a-1eb2-52ea-b672-e2afdf69b78f\\484ade6d734feb43c06721c689155eb4aa3259f5\\build.log`\n",
      "\u001b[32m\u001b[1m    Building\u001b[22m\u001b[39m ImageMagick → `C:\\Users\\jeffr\\.julia\\scratchspaces\\44cfe95a-1eb2-52ea-b672-e2afdf69b78f\\54dfa264804aefc44630c96619474e683a522d78\\build.log`\n"
     ]
    },
    {
     "ename": "LoadError",
     "evalue": "Error building `ImageMagick`: \nERROR: LoadError: Unable to open libLLVM!\nStacktrace:\n  [1] error(s::String)\n    @ Base .\\error.jl:35\n  [2] (::BinaryProvider.var\"#open_libllvm#124\")()\n    @ BinaryProvider C:\\Users\\jeffr\\.julia\\packages\\BinaryProvider\\U2dKK\\src\\PlatformNames.jl:652\n  [3] detect_cxx11_string_abi()\n    @ BinaryProvider C:\\Users\\jeffr\\.julia\\packages\\BinaryProvider\\U2dKK\\src\\PlatformNames.jl:655\n  [4] detect_compiler_abi()\n    @ BinaryProvider C:\\Users\\jeffr\\.julia\\packages\\BinaryProvider\\U2dKK\\src\\PlatformNames.jl:668\n  [5] top-level scope\n    @ C:\\Users\\jeffr\\.julia\\packages\\BinaryProvider\\U2dKK\\src\\PlatformNames.jl:685\n  [6] include(mod::Module, _path::String)\n    @ Base .\\Base.jl:419\n  [7] include(x::String)\n    @ BinaryProvider C:\\Users\\jeffr\\.julia\\packages\\BinaryProvider\\U2dKK\\src\\BinaryProvider.jl:1\n  [8] top-level scope\n    @ C:\\Users\\jeffr\\.julia\\packages\\BinaryProvider\\U2dKK\\src\\BinaryProvider.jl:12\n  [9] include\n    @ .\\Base.jl:419 [inlined]\n [10] include_package_for_output(pkg::Base.PkgId, input::String, depot_path::Vector{String}, dl_load_path::Vector{String}, load_path::Vector{String}, concrete_deps::Vector{Pair{Base.PkgId, UInt64}}, source::String)\n    @ Base .\\loading.jl:1554\n [11] top-level scope\n    @ stdin:1\nin expression starting at C:\\Users\\jeffr\\.julia\\packages\\BinaryProvider\\U2dKK\\src\\PlatformNames.jl:685\nin expression starting at C:\\Users\\jeffr\\.julia\\packages\\BinaryProvider\\U2dKK\\src\\BinaryProvider.jl:1\nin expression starting at stdin:1\nERROR: LoadError: Failed to precompile BinaryProvider [b99e7846-7c00-51b0-8f62-c81ae34c0232] to C:\\Users\\jeffr\\.julia\\compiled\\v1.8\\BinaryProvider\\jl_3B95.tmp.\nStacktrace:\n  [1] error(s::String)\n    @ Base .\\error.jl:35\n  [2] compilecache(pkg::Base.PkgId, path::String, internal_stderr::IO, internal_stdout::IO, keep_loaded_modules::Bool)\n    @ Base .\\loading.jl:1705\n  [3] compilecache\n    @ .\\loading.jl:1649 [inlined]\n  [4] _require(pkg::Base.PkgId)\n    @ Base .\\loading.jl:1337\n  [5] _require_prelocked(uuidkey::Base.PkgId)\n    @ Base .\\loading.jl:1200\n  [6] macro expansion\n    @ .\\loading.jl:1180 [inlined]\n  [7] macro expansion\n    @ .\\lock.jl:223 [inlined]\n  [8] require(into::Module, mod::Symbol)\n    @ Base .\\loading.jl:1144\n  [9] include(fname::String)\n    @ Base.MainInclude .\\client.jl:476\n [10] top-level scope\n    @ none:5\nin expression starting at C:\\Users\\jeffr\\.julia\\packages\\ImageMagick\\adWD8\\deps\\build.jl:1",
     "output_type": "error",
     "traceback": [
      "Error building `ImageMagick`: \nERROR: LoadError: Unable to open libLLVM!\nStacktrace:\n  [1] error(s::String)\n    @ Base .\\error.jl:35\n  [2] (::BinaryProvider.var\"#open_libllvm#124\")()\n    @ BinaryProvider C:\\Users\\jeffr\\.julia\\packages\\BinaryProvider\\U2dKK\\src\\PlatformNames.jl:652\n  [3] detect_cxx11_string_abi()\n    @ BinaryProvider C:\\Users\\jeffr\\.julia\\packages\\BinaryProvider\\U2dKK\\src\\PlatformNames.jl:655\n  [4] detect_compiler_abi()\n    @ BinaryProvider C:\\Users\\jeffr\\.julia\\packages\\BinaryProvider\\U2dKK\\src\\PlatformNames.jl:668\n  [5] top-level scope\n    @ C:\\Users\\jeffr\\.julia\\packages\\BinaryProvider\\U2dKK\\src\\PlatformNames.jl:685\n  [6] include(mod::Module, _path::String)\n    @ Base .\\Base.jl:419\n  [7] include(x::String)\n    @ BinaryProvider C:\\Users\\jeffr\\.julia\\packages\\BinaryProvider\\U2dKK\\src\\BinaryProvider.jl:1\n  [8] top-level scope\n    @ C:\\Users\\jeffr\\.julia\\packages\\BinaryProvider\\U2dKK\\src\\BinaryProvider.jl:12\n  [9] include\n    @ .\\Base.jl:419 [inlined]\n [10] include_package_for_output(pkg::Base.PkgId, input::String, depot_path::Vector{String}, dl_load_path::Vector{String}, load_path::Vector{String}, concrete_deps::Vector{Pair{Base.PkgId, UInt64}}, source::String)\n    @ Base .\\loading.jl:1554\n [11] top-level scope\n    @ stdin:1\nin expression starting at C:\\Users\\jeffr\\.julia\\packages\\BinaryProvider\\U2dKK\\src\\PlatformNames.jl:685\nin expression starting at C:\\Users\\jeffr\\.julia\\packages\\BinaryProvider\\U2dKK\\src\\BinaryProvider.jl:1\nin expression starting at stdin:1\nERROR: LoadError: Failed to precompile BinaryProvider [b99e7846-7c00-51b0-8f62-c81ae34c0232] to C:\\Users\\jeffr\\.julia\\compiled\\v1.8\\BinaryProvider\\jl_3B95.tmp.\nStacktrace:\n  [1] error(s::String)\n    @ Base .\\error.jl:35\n  [2] compilecache(pkg::Base.PkgId, path::String, internal_stderr::IO, internal_stdout::IO, keep_loaded_modules::Bool)\n    @ Base .\\loading.jl:1705\n  [3] compilecache\n    @ .\\loading.jl:1649 [inlined]\n  [4] _require(pkg::Base.PkgId)\n    @ Base .\\loading.jl:1337\n  [5] _require_prelocked(uuidkey::Base.PkgId)\n    @ Base .\\loading.jl:1200\n  [6] macro expansion\n    @ .\\loading.jl:1180 [inlined]\n  [7] macro expansion\n    @ .\\lock.jl:223 [inlined]\n  [8] require(into::Module, mod::Symbol)\n    @ Base .\\loading.jl:1144\n  [9] include(fname::String)\n    @ Base.MainInclude .\\client.jl:476\n [10] top-level scope\n    @ none:5\nin expression starting at C:\\Users\\jeffr\\.julia\\packages\\ImageMagick\\adWD8\\deps\\build.jl:1",
      "",
      "Stacktrace:",
      "  [1] pkgerror(msg::String)",
      "    @ Pkg.Types C:\\Users\\jeffr\\AppData\\Local\\Programs\\Julia-1.8.0\\share\\julia\\stdlib\\v1.8\\Pkg\\src\\Types.jl:67",
      "  [2] (::Pkg.Operations.var\"#66#73\"{Bool, Pkg.Types.Context, String, Pkg.Types.PackageSpec, String})()",
      "    @ Pkg.Operations C:\\Users\\jeffr\\AppData\\Local\\Programs\\Julia-1.8.0\\share\\julia\\stdlib\\v1.8\\Pkg\\src\\Operations.jl:1060",
      "  [3] withenv(::Pkg.Operations.var\"#66#73\"{Bool, Pkg.Types.Context, String, Pkg.Types.PackageSpec, String}, ::Pair{String, String}, ::Vararg{Pair{String}})",
      "    @ Base .\\env.jl:172",
      "  [4] (::Pkg.Operations.var\"#107#112\"{String, Bool, Bool, Bool, Pkg.Operations.var\"#66#73\"{Bool, Pkg.Types.Context, String, Pkg.Types.PackageSpec, String}, Pkg.Types.PackageSpec})()",
      "    @ Pkg.Operations C:\\Users\\jeffr\\AppData\\Local\\Programs\\Julia-1.8.0\\share\\julia\\stdlib\\v1.8\\Pkg\\src\\Operations.jl:1619",
      "  [5] with_temp_env(fn::Pkg.Operations.var\"#107#112\"{String, Bool, Bool, Bool, Pkg.Operations.var\"#66#73\"{Bool, Pkg.Types.Context, String, Pkg.Types.PackageSpec, String}, Pkg.Types.PackageSpec}, temp_env::String)",
      "    @ Pkg.Operations C:\\Users\\jeffr\\AppData\\Local\\Programs\\Julia-1.8.0\\share\\julia\\stdlib\\v1.8\\Pkg\\src\\Operations.jl:1493",
      "  [6] (::Pkg.Operations.var\"#105#110\"{Dict{String, Any}, Bool, Bool, Bool, Pkg.Operations.var\"#66#73\"{Bool, Pkg.Types.Context, String, Pkg.Types.PackageSpec, String}, Pkg.Types.Context, Pkg.Types.PackageSpec, String, Pkg.Types.Project, String})(tmp::String)",
      "    @ Pkg.Operations C:\\Users\\jeffr\\AppData\\Local\\Programs\\Julia-1.8.0\\share\\julia\\stdlib\\v1.8\\Pkg\\src\\Operations.jl:1582",
      "  [7] mktempdir(fn::Pkg.Operations.var\"#105#110\"{Dict{String, Any}, Bool, Bool, Bool, Pkg.Operations.var\"#66#73\"{Bool, Pkg.Types.Context, String, Pkg.Types.PackageSpec, String}, Pkg.Types.Context, Pkg.Types.PackageSpec, String, Pkg.Types.Project, String}, parent::String; prefix::String)",
      "    @ Base.Filesystem .\\file.jl:764",
      "  [8] mktempdir(fn::Function, parent::String) (repeats 2 times)",
      "    @ Base.Filesystem .\\file.jl:760",
      "  [9] sandbox(fn::Function, ctx::Pkg.Types.Context, target::Pkg.Types.PackageSpec, target_path::String, sandbox_path::String, sandbox_project_override::Pkg.Types.Project; preferences::Dict{String, Any}, force_latest_compatible_version::Bool, allow_earlier_backwards_compatible_versions::Bool, allow_reresolve::Bool)",
      "    @ Pkg.Operations C:\\Users\\jeffr\\AppData\\Local\\Programs\\Julia-1.8.0\\share\\julia\\stdlib\\v1.8\\Pkg\\src\\Operations.jl:1540",
      " [10] build_versions(ctx::Pkg.Types.Context, uuids::Set{Base.UUID}; verbose::Bool)",
      "    @ Pkg.Operations C:\\Users\\jeffr\\AppData\\Local\\Programs\\Julia-1.8.0\\share\\julia\\stdlib\\v1.8\\Pkg\\src\\Operations.jl:1041",
      " [11] build(ctx::Pkg.Types.Context, uuids::Set{Base.UUID}, verbose::Bool)",
      "    @ Pkg.Operations C:\\Users\\jeffr\\AppData\\Local\\Programs\\Julia-1.8.0\\share\\julia\\stdlib\\v1.8\\Pkg\\src\\Operations.jl:898",
      " [12] build(ctx::Pkg.Types.Context, pkgs::Vector{Pkg.Types.PackageSpec}; verbose::Bool, kwargs::Base.Pairs{Symbol, IJulia.IJuliaStdio{Base.PipeEndpoint}, Tuple{Symbol}, NamedTuple{(:io,), Tuple{IJulia.IJuliaStdio{Base.PipeEndpoint}}}})",
      "    @ Pkg.API C:\\Users\\jeffr\\AppData\\Local\\Programs\\Julia-1.8.0\\share\\julia\\stdlib\\v1.8\\Pkg\\src\\API.jl:1024",
      " [13] build(pkgs::Vector{Pkg.Types.PackageSpec}; io::IJulia.IJuliaStdio{Base.PipeEndpoint}, kwargs::Base.Pairs{Symbol, Union{}, Tuple{}, NamedTuple{(), Tuple{}}})",
      "    @ Pkg.API C:\\Users\\jeffr\\AppData\\Local\\Programs\\Julia-1.8.0\\share\\julia\\stdlib\\v1.8\\Pkg\\src\\API.jl:156",
      " [14] build(pkgs::Vector{Pkg.Types.PackageSpec})",
      "    @ Pkg.API C:\\Users\\jeffr\\AppData\\Local\\Programs\\Julia-1.8.0\\share\\julia\\stdlib\\v1.8\\Pkg\\src\\API.jl:145",
      " [15] #build#99",
      "    @ C:\\Users\\jeffr\\AppData\\Local\\Programs\\Julia-1.8.0\\share\\julia\\stdlib\\v1.8\\Pkg\\src\\API.jl:144 [inlined]",
      " [16] build",
      "    @ C:\\Users\\jeffr\\AppData\\Local\\Programs\\Julia-1.8.0\\share\\julia\\stdlib\\v1.8\\Pkg\\src\\API.jl:144 [inlined]",
      " [17] #build#98",
      "    @ C:\\Users\\jeffr\\AppData\\Local\\Programs\\Julia-1.8.0\\share\\julia\\stdlib\\v1.8\\Pkg\\src\\API.jl:143 [inlined]",
      " [18] build(pkg::String)",
      "    @ Pkg.API C:\\Users\\jeffr\\AppData\\Local\\Programs\\Julia-1.8.0\\share\\julia\\stdlib\\v1.8\\Pkg\\src\\API.jl:143",
      " [19] top-level scope",
      "    @ In[56]:2",
      " [20] eval",
      "    @ .\\boot.jl:368 [inlined]",
      " [21] include_string(mapexpr::typeof(REPL.softscope), mod::Module, code::String, filename::String)",
      "    @ Base .\\loading.jl:1428"
     ]
    }
   ],
   "source": [
    "using Pkg\n",
    "Pkg.build(\"ThinkJulia\")"
   ]
  },
  {
   "cell_type": "code",
   "execution_count": 57,
   "id": "b9a0542f-5bad-490a-89a3-af2052ac67e1",
   "metadata": {},
   "outputs": [
    {
     "name": "stderr",
     "output_type": "stream",
     "text": [
      "\u001b[32m\u001b[1mPrecompiling\u001b[22m\u001b[39m project...\n",
      "\u001b[91m  ✗ \u001b[39mBinaryProvider\n",
      "\u001b[91m  ✗ \u001b[39mGDBM\n",
      "\u001b[91m  ✗ \u001b[39m\u001b[90mImageMagick\u001b[39m\n",
      "\u001b[33m  ✓ \u001b[39m\u001b[90mPlots\u001b[39m\n",
      "  1 dependency successfully precompiled in 23 seconds. 184 already precompiled.\n",
      "  \u001b[33m1\u001b[39m dependency precompiled but a different version is currently loaded. Restart julia to access the new version\n",
      "\n"
     ]
    },
    {
     "ename": "LoadError",
     "evalue": "The following 2 direct dependencies failed to precompile:\n\nBinaryProvider [b99e7846-7c00-51b0-8f62-c81ae34c0232]\n\nFailed to precompile BinaryProvider [b99e7846-7c00-51b0-8f62-c81ae34c0232] to C:\\Users\\jeffr\\.julia\\compiled\\v1.8\\BinaryProvider\\jl_80AE.tmp.\n\u001b[91m\u001b[1mERROR: \u001b[22m\u001b[39mLoadError: Unable to open libLLVM!\nStacktrace:\n  [1] \u001b[0m\u001b[1merror\u001b[22m\u001b[0m\u001b[1m(\u001b[22m\u001b[90ms\u001b[39m::\u001b[0mString\u001b[0m\u001b[1m)\u001b[22m\n\u001b[90m    @ \u001b[39m\u001b[90mBase\u001b[39m \u001b[90m.\\\u001b[39m\u001b[90m\u001b[4merror.jl:35\u001b[24m\u001b[39m\n  [2] \u001b[0m\u001b[1m(::BinaryProvider.var\"#open_libllvm#124\")\u001b[22m\u001b[0m\u001b[1m(\u001b[22m\u001b[0m\u001b[1m)\u001b[22m\n\u001b[90m    @ \u001b[39m\u001b[35mBinaryProvider\u001b[39m \u001b[90mC:\\Users\\jeffr\\.julia\\packages\\BinaryProvider\\U2dKK\\src\\\u001b[39m\u001b[90m\u001b[4mPlatformNames.jl:652\u001b[24m\u001b[39m\n  [3] \u001b[0m\u001b[1mdetect_cxx11_string_abi\u001b[22m\u001b[0m\u001b[1m(\u001b[22m\u001b[0m\u001b[1m)\u001b[22m\n\u001b[90m    @ \u001b[39m\u001b[35mBinaryProvider\u001b[39m \u001b[90mC:\\Users\\jeffr\\.julia\\packages\\BinaryProvider\\U2dKK\\src\\\u001b[39m\u001b[90m\u001b[4mPlatformNames.jl:655\u001b[24m\u001b[39m\n  [4] \u001b[0m\u001b[1mdetect_compiler_abi\u001b[22m\u001b[0m\u001b[1m(\u001b[22m\u001b[0m\u001b[1m)\u001b[22m\n\u001b[90m    @ \u001b[39m\u001b[35mBinaryProvider\u001b[39m \u001b[90mC:\\Users\\jeffr\\.julia\\packages\\BinaryProvider\\U2dKK\\src\\\u001b[39m\u001b[90m\u001b[4mPlatformNames.jl:668\u001b[24m\u001b[39m\n  [5] top-level scope\n\u001b[90m    @ \u001b[39m\u001b[90mC:\\Users\\jeffr\\.julia\\packages\\BinaryProvider\\U2dKK\\src\\\u001b[39m\u001b[90m\u001b[4mPlatformNames.jl:685\u001b[24m\u001b[39m\n  [6] \u001b[0m\u001b[1minclude\u001b[22m\u001b[0m\u001b[1m(\u001b[22m\u001b[90mmod\u001b[39m::\u001b[0mModule, \u001b[90m_path\u001b[39m::\u001b[0mString\u001b[0m\u001b[1m)\u001b[22m\n\u001b[90m    @ \u001b[39m\u001b[90mBase\u001b[39m \u001b[90m.\\\u001b[39m\u001b[90m\u001b[4mBase.jl:419\u001b[24m\u001b[39m\n  [7] \u001b[0m\u001b[1minclude\u001b[22m\u001b[0m\u001b[1m(\u001b[22m\u001b[90mx\u001b[39m::\u001b[0mString\u001b[0m\u001b[1m)\u001b[22m\n\u001b[90m    @ \u001b[39m\u001b[35mBinaryProvider\u001b[39m \u001b[90mC:\\Users\\jeffr\\.julia\\packages\\BinaryProvider\\U2dKK\\src\\\u001b[39m\u001b[90m\u001b[4mBinaryProvider.jl:1\u001b[24m\u001b[39m\n  [8] top-level scope\n\u001b[90m    @ \u001b[39m\u001b[90mC:\\Users\\jeffr\\.julia\\packages\\BinaryProvider\\U2dKK\\src\\\u001b[39m\u001b[90m\u001b[4mBinaryProvider.jl:12\u001b[24m\u001b[39m\n  [9] \u001b[0m\u001b[1minclude\u001b[22m\n\u001b[90m    @ \u001b[39m\u001b[90m.\\\u001b[39m\u001b[90m\u001b[4mBase.jl:419\u001b[24m\u001b[39m\u001b[90m [inlined]\u001b[39m\n [10] \u001b[0m\u001b[1minclude_package_for_output\u001b[22m\u001b[0m\u001b[1m(\u001b[22m\u001b[90mpkg\u001b[39m::\u001b[0mBase.PkgId, \u001b[90minput\u001b[39m::\u001b[0mString, \u001b[90mdepot_path\u001b[39m::\u001b[0mVector\u001b[90m{String}\u001b[39m, \u001b[90mdl_load_path\u001b[39m::\u001b[0mVector\u001b[90m{String}\u001b[39m, \u001b[90mload_path\u001b[39m::\u001b[0mVector\u001b[90m{String}\u001b[39m, \u001b[90mconcrete_deps\u001b[39m::\u001b[0mVector\u001b[90m{Pair{Base.PkgId, UInt64}}\u001b[39m, \u001b[90msource\u001b[39m::\u001b[0mNothing\u001b[0m\u001b[1m)\u001b[22m\n\u001b[90m    @ \u001b[39m\u001b[90mBase\u001b[39m \u001b[90m.\\\u001b[39m\u001b[90m\u001b[4mloading.jl:1554\u001b[24m\u001b[39m\n [11] top-level scope\n\u001b[90m    @ \u001b[39m\u001b[90m\u001b[4mstdin:1\u001b[24m\u001b[39m\nin expression starting at C:\\Users\\jeffr\\.julia\\packages\\BinaryProvider\\U2dKK\\src\\PlatformNames.jl:685\nin expression starting at C:\\Users\\jeffr\\.julia\\packages\\BinaryProvider\\U2dKK\\src\\BinaryProvider.jl:1\nin expression starting at stdin:1\n\nGDBM [341c0681-5542-4423-8fbd-ac5c38fa816b]\n\nFailed to precompile GDBM [341c0681-5542-4423-8fbd-ac5c38fa816b] to C:\\Users\\jeffr\\.julia\\compiled\\v1.8\\GDBM\\jl_8553.tmp.\n\u001b[91m\u001b[1mERROR: \u001b[22m\u001b[39mLoadError: SystemError: opening file \"C:\\\\Users\\\\jeffr\\\\.julia\\\\packages\\\\GDBM\\\\KqycU\\\\deps\\\\deps.jl\": No such file or directory\nStacktrace:\n  [1] \u001b[0m\u001b[1msystemerror\u001b[22m\u001b[0m\u001b[1m(\u001b[22m\u001b[90mp\u001b[39m::\u001b[0mString, \u001b[90merrno\u001b[39m::\u001b[0mInt32; \u001b[90mextrainfo\u001b[39m::\u001b[0mNothing\u001b[0m\u001b[1m)\u001b[22m\n\u001b[90m    @ \u001b[39m\u001b[90mBase\u001b[39m \u001b[90m.\\\u001b[39m\u001b[90m\u001b[4merror.jl:176\u001b[24m\u001b[39m\n  [2] \u001b[0m\u001b[1m#systemerror#80\u001b[22m\n\u001b[90m    @ \u001b[39m\u001b[90m.\\\u001b[39m\u001b[90m\u001b[4merror.jl:175\u001b[24m\u001b[39m\u001b[90m [inlined]\u001b[39m\n  [3] \u001b[0m\u001b[1msystemerror\u001b[22m\n\u001b[90m    @ \u001b[39m\u001b[90m.\\\u001b[39m\u001b[90m\u001b[4merror.jl:175\u001b[24m\u001b[39m\u001b[90m [inlined]\u001b[39m\n  [4] \u001b[0m\u001b[1mopen\u001b[22m\u001b[0m\u001b[1m(\u001b[22m\u001b[90mfname\u001b[39m::\u001b[0mString; \u001b[90mlock\u001b[39m::\u001b[0mBool, \u001b[90mread\u001b[39m::\u001b[0mNothing, \u001b[90mwrite\u001b[39m::\u001b[0mNothing, \u001b[90mcreate\u001b[39m::\u001b[0mNothing, \u001b[90mtruncate\u001b[39m::\u001b[0mNothing, \u001b[90mappend\u001b[39m::\u001b[0mNothing\u001b[0m\u001b[1m)\u001b[22m\n\u001b[90m    @ \u001b[39m\u001b[90mBase\u001b[39m \u001b[90m.\\\u001b[39m\u001b[90m\u001b[4miostream.jl:293\u001b[24m\u001b[39m\n  [5] \u001b[0m\u001b[1mopen\u001b[22m\n\u001b[90m    @ \u001b[39m\u001b[90m.\\\u001b[39m\u001b[90m\u001b[4miostream.jl:275\u001b[24m\u001b[39m\u001b[90m [inlined]\u001b[39m\n  [6] \u001b[0m\u001b[1mopen\u001b[22m\u001b[0m\u001b[1m(\u001b[22m\u001b[90mf\u001b[39m::\u001b[0mBase.var\"#386#387\"\u001b[90m{String}\u001b[39m, \u001b[90margs\u001b[39m::\u001b[0mString; \u001b[90mkwargs\u001b[39m::\u001b[0mBase.Pairs\u001b[90m{Symbol, Union{}, Tuple{}, NamedTuple{(), Tuple{}}}\u001b[39m\u001b[0m\u001b[1m)\u001b[22m\n\u001b[90m    @ \u001b[39m\u001b[90mBase\u001b[39m \u001b[90m.\\\u001b[39m\u001b[90m\u001b[4mio.jl:382\u001b[24m\u001b[39m\n  [7] \u001b[0m\u001b[1mopen\u001b[22m\n\u001b[90m    @ \u001b[39m\u001b[90m.\\\u001b[39m\u001b[90m\u001b[4mio.jl:381\u001b[24m\u001b[39m\u001b[90m [inlined]\u001b[39m\n  [8] \u001b[0m\u001b[1mread\u001b[22m\n\u001b[90m    @ \u001b[39m\u001b[90m.\\\u001b[39m\u001b[90m\u001b[4mio.jl:462\u001b[24m\u001b[39m\u001b[90m [inlined]\u001b[39m\n  [9] \u001b[0m\u001b[1m_include\u001b[22m\u001b[0m\u001b[1m(\u001b[22m\u001b[90mmapexpr\u001b[39m::\u001b[0mFunction, \u001b[90mmod\u001b[39m::\u001b[0mModule, \u001b[90m_path\u001b[39m::\u001b[0mString\u001b[0m\u001b[1m)\u001b[22m\n\u001b[90m    @ \u001b[39m\u001b[90mBase\u001b[39m \u001b[90m.\\\u001b[39m\u001b[90m\u001b[4mloading.jl:1484\u001b[24m\u001b[39m\n [10] \u001b[0m\u001b[1minclude\u001b[22m\u001b[0m\u001b[1m(\u001b[22m\u001b[90mmod\u001b[39m::\u001b[0mModule, \u001b[90m_path\u001b[39m::\u001b[0mString\u001b[0m\u001b[1m)\u001b[22m\n\u001b[90m    @ \u001b[39m\u001b[90mBase\u001b[39m \u001b[90m.\\\u001b[39m\u001b[90m\u001b[4mBase.jl:419\u001b[24m\u001b[39m\n [11] \u001b[0m\u001b[1minclude\u001b[22m\u001b[0m\u001b[1m(\u001b[22m\u001b[90mx\u001b[39m::\u001b[0mString\u001b[0m\u001b[1m)\u001b[22m\n\u001b[90m    @ \u001b[39m\u001b[35mGDBM\u001b[39m \u001b[90mC:\\Users\\jeffr\\.julia\\packages\\GDBM\\KqycU\\src\\\u001b[39m\u001b[90m\u001b[4mGDBM.jl:1\u001b[24m\u001b[39m\n [12] top-level scope\n\u001b[90m    @ \u001b[39m\u001b[90mC:\\Users\\jeffr\\.julia\\packages\\GDBM\\KqycU\\src\\\u001b[39m\u001b[90m\u001b[4mGDBM.jl:5\u001b[24m\u001b[39m\n [13] \u001b[0m\u001b[1minclude\u001b[22m\n\u001b[90m    @ \u001b[39m\u001b[90m.\\\u001b[39m\u001b[90m\u001b[4mBase.jl:419\u001b[24m\u001b[39m\u001b[90m [inlined]\u001b[39m\n [14] \u001b[0m\u001b[1minclude_package_for_output\u001b[22m\u001b[0m\u001b[1m(\u001b[22m\u001b[90mpkg\u001b[39m::\u001b[0mBase.PkgId, \u001b[90minput\u001b[39m::\u001b[0mString, \u001b[90mdepot_path\u001b[39m::\u001b[0mVector\u001b[90m{String}\u001b[39m, \u001b[90mdl_load_path\u001b[39m::\u001b[0mVector\u001b[90m{String}\u001b[39m, \u001b[90mload_path\u001b[39m::\u001b[0mVector\u001b[90m{String}\u001b[39m, \u001b[90mconcrete_deps\u001b[39m::\u001b[0mVector\u001b[90m{Pair{Base.PkgId, UInt64}}\u001b[39m, \u001b[90msource\u001b[39m::\u001b[0mNothing\u001b[0m\u001b[1m)\u001b[22m\n\u001b[90m    @ \u001b[39m\u001b[90mBase\u001b[39m \u001b[90m.\\\u001b[39m\u001b[90m\u001b[4mloading.jl:1554\u001b[24m\u001b[39m\n [15] top-level scope\n\u001b[90m    @ \u001b[39m\u001b[90m\u001b[4mstdin:1\u001b[24m\u001b[39m\nin expression starting at C:\\Users\\jeffr\\.julia\\packages\\GDBM\\KqycU\\src\\GDBM.jl:1\nin expression starting at stdin:1\n",
     "output_type": "error",
     "traceback": [
      "The following 2 direct dependencies failed to precompile:\n\nBinaryProvider [b99e7846-7c00-51b0-8f62-c81ae34c0232]\n\nFailed to precompile BinaryProvider [b99e7846-7c00-51b0-8f62-c81ae34c0232] to C:\\Users\\jeffr\\.julia\\compiled\\v1.8\\BinaryProvider\\jl_80AE.tmp.\n\u001b[91m\u001b[1mERROR: \u001b[22m\u001b[39mLoadError: Unable to open libLLVM!\nStacktrace:\n  [1] \u001b[0m\u001b[1merror\u001b[22m\u001b[0m\u001b[1m(\u001b[22m\u001b[90ms\u001b[39m::\u001b[0mString\u001b[0m\u001b[1m)\u001b[22m\n\u001b[90m    @ \u001b[39m\u001b[90mBase\u001b[39m \u001b[90m.\\\u001b[39m\u001b[90m\u001b[4merror.jl:35\u001b[24m\u001b[39m\n  [2] \u001b[0m\u001b[1m(::BinaryProvider.var\"#open_libllvm#124\")\u001b[22m\u001b[0m\u001b[1m(\u001b[22m\u001b[0m\u001b[1m)\u001b[22m\n\u001b[90m    @ \u001b[39m\u001b[35mBinaryProvider\u001b[39m \u001b[90mC:\\Users\\jeffr\\.julia\\packages\\BinaryProvider\\U2dKK\\src\\\u001b[39m\u001b[90m\u001b[4mPlatformNames.jl:652\u001b[24m\u001b[39m\n  [3] \u001b[0m\u001b[1mdetect_cxx11_string_abi\u001b[22m\u001b[0m\u001b[1m(\u001b[22m\u001b[0m\u001b[1m)\u001b[22m\n\u001b[90m    @ \u001b[39m\u001b[35mBinaryProvider\u001b[39m \u001b[90mC:\\Users\\jeffr\\.julia\\packages\\BinaryProvider\\U2dKK\\src\\\u001b[39m\u001b[90m\u001b[4mPlatformNames.jl:655\u001b[24m\u001b[39m\n  [4] \u001b[0m\u001b[1mdetect_compiler_abi\u001b[22m\u001b[0m\u001b[1m(\u001b[22m\u001b[0m\u001b[1m)\u001b[22m\n\u001b[90m    @ \u001b[39m\u001b[35mBinaryProvider\u001b[39m \u001b[90mC:\\Users\\jeffr\\.julia\\packages\\BinaryProvider\\U2dKK\\src\\\u001b[39m\u001b[90m\u001b[4mPlatformNames.jl:668\u001b[24m\u001b[39m\n  [5] top-level scope\n\u001b[90m    @ \u001b[39m\u001b[90mC:\\Users\\jeffr\\.julia\\packages\\BinaryProvider\\U2dKK\\src\\\u001b[39m\u001b[90m\u001b[4mPlatformNames.jl:685\u001b[24m\u001b[39m\n  [6] \u001b[0m\u001b[1minclude\u001b[22m\u001b[0m\u001b[1m(\u001b[22m\u001b[90mmod\u001b[39m::\u001b[0mModule, \u001b[90m_path\u001b[39m::\u001b[0mString\u001b[0m\u001b[1m)\u001b[22m\n\u001b[90m    @ \u001b[39m\u001b[90mBase\u001b[39m \u001b[90m.\\\u001b[39m\u001b[90m\u001b[4mBase.jl:419\u001b[24m\u001b[39m\n  [7] \u001b[0m\u001b[1minclude\u001b[22m\u001b[0m\u001b[1m(\u001b[22m\u001b[90mx\u001b[39m::\u001b[0mString\u001b[0m\u001b[1m)\u001b[22m\n\u001b[90m    @ \u001b[39m\u001b[35mBinaryProvider\u001b[39m \u001b[90mC:\\Users\\jeffr\\.julia\\packages\\BinaryProvider\\U2dKK\\src\\\u001b[39m\u001b[90m\u001b[4mBinaryProvider.jl:1\u001b[24m\u001b[39m\n  [8] top-level scope\n\u001b[90m    @ \u001b[39m\u001b[90mC:\\Users\\jeffr\\.julia\\packages\\BinaryProvider\\U2dKK\\src\\\u001b[39m\u001b[90m\u001b[4mBinaryProvider.jl:12\u001b[24m\u001b[39m\n  [9] \u001b[0m\u001b[1minclude\u001b[22m\n\u001b[90m    @ \u001b[39m\u001b[90m.\\\u001b[39m\u001b[90m\u001b[4mBase.jl:419\u001b[24m\u001b[39m\u001b[90m [inlined]\u001b[39m\n [10] \u001b[0m\u001b[1minclude_package_for_output\u001b[22m\u001b[0m\u001b[1m(\u001b[22m\u001b[90mpkg\u001b[39m::\u001b[0mBase.PkgId, \u001b[90minput\u001b[39m::\u001b[0mString, \u001b[90mdepot_path\u001b[39m::\u001b[0mVector\u001b[90m{String}\u001b[39m, \u001b[90mdl_load_path\u001b[39m::\u001b[0mVector\u001b[90m{String}\u001b[39m, \u001b[90mload_path\u001b[39m::\u001b[0mVector\u001b[90m{String}\u001b[39m, \u001b[90mconcrete_deps\u001b[39m::\u001b[0mVector\u001b[90m{Pair{Base.PkgId, UInt64}}\u001b[39m, \u001b[90msource\u001b[39m::\u001b[0mNothing\u001b[0m\u001b[1m)\u001b[22m\n\u001b[90m    @ \u001b[39m\u001b[90mBase\u001b[39m \u001b[90m.\\\u001b[39m\u001b[90m\u001b[4mloading.jl:1554\u001b[24m\u001b[39m\n [11] top-level scope\n\u001b[90m    @ \u001b[39m\u001b[90m\u001b[4mstdin:1\u001b[24m\u001b[39m\nin expression starting at C:\\Users\\jeffr\\.julia\\packages\\BinaryProvider\\U2dKK\\src\\PlatformNames.jl:685\nin expression starting at C:\\Users\\jeffr\\.julia\\packages\\BinaryProvider\\U2dKK\\src\\BinaryProvider.jl:1\nin expression starting at stdin:1\n\nGDBM [341c0681-5542-4423-8fbd-ac5c38fa816b]\n\nFailed to precompile GDBM [341c0681-5542-4423-8fbd-ac5c38fa816b] to C:\\Users\\jeffr\\.julia\\compiled\\v1.8\\GDBM\\jl_8553.tmp.\n\u001b[91m\u001b[1mERROR: \u001b[22m\u001b[39mLoadError: SystemError: opening file \"C:\\\\Users\\\\jeffr\\\\.julia\\\\packages\\\\GDBM\\\\KqycU\\\\deps\\\\deps.jl\": No such file or directory\nStacktrace:\n  [1] \u001b[0m\u001b[1msystemerror\u001b[22m\u001b[0m\u001b[1m(\u001b[22m\u001b[90mp\u001b[39m::\u001b[0mString, \u001b[90merrno\u001b[39m::\u001b[0mInt32; \u001b[90mextrainfo\u001b[39m::\u001b[0mNothing\u001b[0m\u001b[1m)\u001b[22m\n\u001b[90m    @ \u001b[39m\u001b[90mBase\u001b[39m \u001b[90m.\\\u001b[39m\u001b[90m\u001b[4merror.jl:176\u001b[24m\u001b[39m\n  [2] \u001b[0m\u001b[1m#systemerror#80\u001b[22m\n\u001b[90m    @ \u001b[39m\u001b[90m.\\\u001b[39m\u001b[90m\u001b[4merror.jl:175\u001b[24m\u001b[39m\u001b[90m [inlined]\u001b[39m\n  [3] \u001b[0m\u001b[1msystemerror\u001b[22m\n\u001b[90m    @ \u001b[39m\u001b[90m.\\\u001b[39m\u001b[90m\u001b[4merror.jl:175\u001b[24m\u001b[39m\u001b[90m [inlined]\u001b[39m\n  [4] \u001b[0m\u001b[1mopen\u001b[22m\u001b[0m\u001b[1m(\u001b[22m\u001b[90mfname\u001b[39m::\u001b[0mString; \u001b[90mlock\u001b[39m::\u001b[0mBool, \u001b[90mread\u001b[39m::\u001b[0mNothing, \u001b[90mwrite\u001b[39m::\u001b[0mNothing, \u001b[90mcreate\u001b[39m::\u001b[0mNothing, \u001b[90mtruncate\u001b[39m::\u001b[0mNothing, \u001b[90mappend\u001b[39m::\u001b[0mNothing\u001b[0m\u001b[1m)\u001b[22m\n\u001b[90m    @ \u001b[39m\u001b[90mBase\u001b[39m \u001b[90m.\\\u001b[39m\u001b[90m\u001b[4miostream.jl:293\u001b[24m\u001b[39m\n  [5] \u001b[0m\u001b[1mopen\u001b[22m\n\u001b[90m    @ \u001b[39m\u001b[90m.\\\u001b[39m\u001b[90m\u001b[4miostream.jl:275\u001b[24m\u001b[39m\u001b[90m [inlined]\u001b[39m\n  [6] \u001b[0m\u001b[1mopen\u001b[22m\u001b[0m\u001b[1m(\u001b[22m\u001b[90mf\u001b[39m::\u001b[0mBase.var\"#386#387\"\u001b[90m{String}\u001b[39m, \u001b[90margs\u001b[39m::\u001b[0mString; \u001b[90mkwargs\u001b[39m::\u001b[0mBase.Pairs\u001b[90m{Symbol, Union{}, Tuple{}, NamedTuple{(), Tuple{}}}\u001b[39m\u001b[0m\u001b[1m)\u001b[22m\n\u001b[90m    @ \u001b[39m\u001b[90mBase\u001b[39m \u001b[90m.\\\u001b[39m\u001b[90m\u001b[4mio.jl:382\u001b[24m\u001b[39m\n  [7] \u001b[0m\u001b[1mopen\u001b[22m\n\u001b[90m    @ \u001b[39m\u001b[90m.\\\u001b[39m\u001b[90m\u001b[4mio.jl:381\u001b[24m\u001b[39m\u001b[90m [inlined]\u001b[39m\n  [8] \u001b[0m\u001b[1mread\u001b[22m\n\u001b[90m    @ \u001b[39m\u001b[90m.\\\u001b[39m\u001b[90m\u001b[4mio.jl:462\u001b[24m\u001b[39m\u001b[90m [inlined]\u001b[39m\n  [9] \u001b[0m\u001b[1m_include\u001b[22m\u001b[0m\u001b[1m(\u001b[22m\u001b[90mmapexpr\u001b[39m::\u001b[0mFunction, \u001b[90mmod\u001b[39m::\u001b[0mModule, \u001b[90m_path\u001b[39m::\u001b[0mString\u001b[0m\u001b[1m)\u001b[22m\n\u001b[90m    @ \u001b[39m\u001b[90mBase\u001b[39m \u001b[90m.\\\u001b[39m\u001b[90m\u001b[4mloading.jl:1484\u001b[24m\u001b[39m\n [10] \u001b[0m\u001b[1minclude\u001b[22m\u001b[0m\u001b[1m(\u001b[22m\u001b[90mmod\u001b[39m::\u001b[0mModule, \u001b[90m_path\u001b[39m::\u001b[0mString\u001b[0m\u001b[1m)\u001b[22m\n\u001b[90m    @ \u001b[39m\u001b[90mBase\u001b[39m \u001b[90m.\\\u001b[39m\u001b[90m\u001b[4mBase.jl:419\u001b[24m\u001b[39m\n [11] \u001b[0m\u001b[1minclude\u001b[22m\u001b[0m\u001b[1m(\u001b[22m\u001b[90mx\u001b[39m::\u001b[0mString\u001b[0m\u001b[1m)\u001b[22m\n\u001b[90m    @ \u001b[39m\u001b[35mGDBM\u001b[39m \u001b[90mC:\\Users\\jeffr\\.julia\\packages\\GDBM\\KqycU\\src\\\u001b[39m\u001b[90m\u001b[4mGDBM.jl:1\u001b[24m\u001b[39m\n [12] top-level scope\n\u001b[90m    @ \u001b[39m\u001b[90mC:\\Users\\jeffr\\.julia\\packages\\GDBM\\KqycU\\src\\\u001b[39m\u001b[90m\u001b[4mGDBM.jl:5\u001b[24m\u001b[39m\n [13] \u001b[0m\u001b[1minclude\u001b[22m\n\u001b[90m    @ \u001b[39m\u001b[90m.\\\u001b[39m\u001b[90m\u001b[4mBase.jl:419\u001b[24m\u001b[39m\u001b[90m [inlined]\u001b[39m\n [14] \u001b[0m\u001b[1minclude_package_for_output\u001b[22m\u001b[0m\u001b[1m(\u001b[22m\u001b[90mpkg\u001b[39m::\u001b[0mBase.PkgId, \u001b[90minput\u001b[39m::\u001b[0mString, \u001b[90mdepot_path\u001b[39m::\u001b[0mVector\u001b[90m{String}\u001b[39m, \u001b[90mdl_load_path\u001b[39m::\u001b[0mVector\u001b[90m{String}\u001b[39m, \u001b[90mload_path\u001b[39m::\u001b[0mVector\u001b[90m{String}\u001b[39m, \u001b[90mconcrete_deps\u001b[39m::\u001b[0mVector\u001b[90m{Pair{Base.PkgId, UInt64}}\u001b[39m, \u001b[90msource\u001b[39m::\u001b[0mNothing\u001b[0m\u001b[1m)\u001b[22m\n\u001b[90m    @ \u001b[39m\u001b[90mBase\u001b[39m \u001b[90m.\\\u001b[39m\u001b[90m\u001b[4mloading.jl:1554\u001b[24m\u001b[39m\n [15] top-level scope\n\u001b[90m    @ \u001b[39m\u001b[90m\u001b[4mstdin:1\u001b[24m\u001b[39m\nin expression starting at C:\\Users\\jeffr\\.julia\\packages\\GDBM\\KqycU\\src\\GDBM.jl:1\nin expression starting at stdin:1\n",
      "",
      "Stacktrace:",
      " [1] pkgerror(msg::String)",
      "   @ Pkg.Types C:\\Users\\jeffr\\AppData\\Local\\Programs\\Julia-1.8.0\\share\\julia\\stdlib\\v1.8\\Pkg\\src\\Types.jl:67",
      " [2] precompile(ctx::Pkg.Types.Context, pkgs::Vector{String}; internal_call::Bool, strict::Bool, warn_loaded::Bool, already_instantiated::Bool, kwargs::Base.Pairs{Symbol, Union{}, Tuple{}, NamedTuple{(), Tuple{}}})",
      "   @ Pkg.API C:\\Users\\jeffr\\AppData\\Local\\Programs\\Julia-1.8.0\\share\\julia\\stdlib\\v1.8\\Pkg\\src\\API.jl:1427",
      " [3] precompile",
      "   @ C:\\Users\\jeffr\\AppData\\Local\\Programs\\Julia-1.8.0\\share\\julia\\stdlib\\v1.8\\Pkg\\src\\API.jl:1058 [inlined]",
      " [4] #precompile#225",
      "   @ C:\\Users\\jeffr\\AppData\\Local\\Programs\\Julia-1.8.0\\share\\julia\\stdlib\\v1.8\\Pkg\\src\\API.jl:1057 [inlined]",
      " [5] precompile (repeats 2 times)",
      "   @ C:\\Users\\jeffr\\AppData\\Local\\Programs\\Julia-1.8.0\\share\\julia\\stdlib\\v1.8\\Pkg\\src\\API.jl:1057 [inlined]",
      " [6] top-level scope",
      "   @ In[57]:1",
      " [7] eval",
      "   @ .\\boot.jl:368 [inlined]",
      " [8] include_string(mapexpr::typeof(REPL.softscope), mod::Module, code::String, filename::String)",
      "   @ Base .\\loading.jl:1428"
     ]
    }
   ],
   "source": [
    "Pkg.precompile()"
   ]
  },
  {
   "cell_type": "markdown",
   "id": "049bd01a-f695-4e16-9c98-1f1d3f32ee84",
   "metadata": {},
   "source": [
    "* 이번 절 역시 ThinkJulia 패키지를 사용해야 하나 현실적으로 설치 및 프리 컴파일이 되지 않는 문제가 있어 코드만 남기고자 함\n",
    "\n",
    "```\n",
    "  ✗ BinaryProvider\n",
    "  ✗ GDBM\n",
    "  ✗ ImageMagick\n",
    "```\n",
    "\n",
    "\n",
    "\n",
    "```julia\n",
    "using ThinkJulia\n",
    "\n",
    "# 열어야 할 데이터 베이스가 존재하지 않는 다면 새로 생성하라는 인수 c 입력\n",
    "db = DBM(\"captions\", \"c\")\n",
    "\n",
    "# 새로운 항목을 만들면 GDBM은 데이터베이스 파일을 갱신함\n",
    "db[\"cleese.png\"] = \"Photo of John Cleese.\"\n",
    "\n",
    "# 어떤 항목에 접근하면 GDBM 파일에서 해당 값을 읽음\n",
    "db[\"cleese.png\"]\n",
    "\n",
    "# 이미 존재하는 키에 새로운 할당을 하면, 기존값을 대체함\n",
    "db[\"cleese.png\"] = \"Photo of John Cleese doing a silly walk.\"\n",
    "db[\"cleese.png\"]\n",
    "\n",
    "# keys와 values 함수는 db 객체에 작동하지 않음\n",
    "# for 문에서 db 객체는 keys와 values 함수 적용 결과와 유사하게 동작함\n",
    "for (key, value) in db\n",
    "    println(key, \": \", value)\n",
    "end\n",
    "\n",
    "# 다른 파일과 마찬가지로 작업이 끝나면 데이터 베이스를 닫아주어야 함\n",
    "close(db)\n",
    "```"
   ]
  },
  {
   "cell_type": "code",
   "execution_count": 98,
   "id": "bbb6da7f-ea76-4e1f-890f-0836dca14552",
   "metadata": {},
   "outputs": [
    {
     "name": "stderr",
     "output_type": "stream",
     "text": [
      "WARNING: redefinition of constant OPENFLAGS. This may fail, cause incorrect answers, or produce other errors.\n",
      "WARNING: redefinition of constant STOREFLAGS. This may fail, cause incorrect answers, or produce other errors.\n"
     ]
    }
   ],
   "source": [
    "# src 파일을 include해서 사용하려고 해보았으나 libgdbm \n",
    "include(\"./GDBM/src/types.jl\")\n",
    "include(\"./GDBM/src/low_level.jl\")\n",
    "include(\"./GDBM/src/dict.jl\")"
   ]
  },
  {
   "cell_type": "code",
   "execution_count": 97,
   "id": "38af9935-770d-422e-a920-743bc4aeccec",
   "metadata": {},
   "outputs": [
    {
     "ename": "LoadError",
     "evalue": "UndefVarError: libgdbm not defined",
     "output_type": "error",
     "traceback": [
      "UndefVarError: libgdbm not defined",
      "",
      "Stacktrace:",
      " [1] gdbm_open(name::String, flag::String)",
      "   @ Main D:\\JULIA\\Think_julia\\GDBM\\src\\low_level.jl:4",
      " [2] DBM(filename::String, flag::String)",
      "   @ Main D:\\JULIA\\Think_julia\\GDBM\\src\\types.jl:6",
      " [3] top-level scope",
      "   @ In[97]:1",
      " [4] eval",
      "   @ .\\boot.jl:368 [inlined]",
      " [5] include_string(mapexpr::typeof(REPL.softscope), mod::Module, code::String, filename::String)",
      "   @ Base .\\loading.jl:1428"
     ]
    }
   ],
   "source": [
    "db = DBM(\"captions\", \"c\")"
   ]
  },
  {
   "cell_type": "markdown",
   "id": "a6ab8dbe-55e0-4e88-8561-994d58c47ab5",
   "metadata": {},
   "source": [
    "### 14.7  직렬화(Serialization)"
   ]
  },
  {
   "cell_type": "markdown",
   "id": "43574b04-5153-4f26-b454-663a5340231b",
   "metadata": {},
   "source": [
    "* GBDM은 키와 값이 문자열이거나 바이트 배열이어야 하는 제한점이 있음(-> 다른 자료형을 사용하려고 하면 오류가 발생)\n",
    "\n",
    "* 거의 모든 자료형을 데이터베이스에 넣을 수 있는 바이트 배열(IOBuffer)로 변환하는 **serialize(직렬화)** 및 변환된 바이트 배열을 객체로 재구성하는 **deserialize(역직렬화)** 가 도움이 됨 "
   ]
  },
  {
   "cell_type": "code",
   "execution_count": 79,
   "id": "a6d2ba12-52be-4fab-a515-9ce6563cc23e",
   "metadata": {},
   "outputs": [],
   "source": [
    "using Serialization"
   ]
  },
  {
   "cell_type": "code",
   "execution_count": 80,
   "id": "704ffcf1-1496-4bae-8749-4ab0da900af4",
   "metadata": {},
   "outputs": [],
   "source": [
    "io = IOBuffer();"
   ]
  },
  {
   "cell_type": "code",
   "execution_count": 81,
   "id": "692d320d-48f6-4cc7-aa3a-a90647653e0c",
   "metadata": {},
   "outputs": [],
   "source": [
    "t = [1, 2, 3];"
   ]
  },
  {
   "cell_type": "code",
   "execution_count": 82,
   "id": "8c4c246b-7700-43db-aaf3-117c91f28dc8",
   "metadata": {},
   "outputs": [
    {
     "data": {
      "text/plain": [
       "24"
      ]
     },
     "execution_count": 82,
     "metadata": {},
     "output_type": "execute_result"
    }
   ],
   "source": [
    "serialize(io, t)"
   ]
  },
  {
   "cell_type": "code",
   "execution_count": 83,
   "id": "7c17a654-ef22-4b94-891a-d112e0eef17f",
   "metadata": {},
   "outputs": [
    {
     "name": "stdout",
     "output_type": "stream",
     "text": [
      "UInt8[0x37, 0x4a, 0x4c, 0x11, 0x04, 0x00, 0x00, 0x00, 0x15, 0x00, 0x08, 0xe2, 0x01, 0x00, 0x00, 0x00, 0x00, 0x00, 0x00, 0x00, 0x02, 0x00, 0x00, 0x00, 0x00, 0x00, 0x00, 0x00, 0x03, 0x00, 0x00, 0x00, 0x00, 0x00, 0x00, 0x00]"
     ]
    }
   ],
   "source": [
    "s = take!(io)\n",
    "\n",
    "print(s)"
   ]
  },
  {
   "cell_type": "code",
   "execution_count": 84,
   "id": "bb76c92b-cbb2-4244-a82b-135df71a7794",
   "metadata": {},
   "outputs": [
    {
     "data": {
      "text/plain": [
       "3-element Vector{Int64}:\n",
       " 1\n",
       " 2\n",
       " 3"
      ]
     },
     "execution_count": 84,
     "metadata": {},
     "output_type": "execute_result"
    }
   ],
   "source": [
    "deserialize(IOBuffer(s))"
   ]
  },
  {
   "cell_type": "code",
   "execution_count": 85,
   "id": "8c161d7b-7658-46f4-ad55-674cfbba0d64",
   "metadata": {},
   "outputs": [
    {
     "name": "stdout",
     "output_type": "stream",
     "text": [
      "[1, 2, 3]"
     ]
    }
   ],
   "source": [
    "t2 = deserialize(IOBuffer(s));\n",
    "\n",
    "print(t2)"
   ]
  },
  {
   "cell_type": "markdown",
   "id": "cd921232-1f66-4e2a-a06b-1cd88a3b8f02",
   "metadata": {},
   "source": [
    "* serialize와 deserialize 함수는 메모리에 대한 입출력 흐름을 표상(present)하는 IOBuffer 객체를 읽거나 쓰는 함수\n",
    "\n",
    "* take! 함수는 IOBuffer의 내용을 바이트 배열로 뽑아낸 후, IOBuffer를 초기화 함\n",
    "\n",
    "*  deserialize 함수를 통해 재구성된 객체는 원래 객체와 값이 같더라도 동일한 객체가 아닌 새로운 객체로 생성됨(not identical)\n",
    "\n",
    "    - 직렬화한 후 역직렬화하는 것은 객체를 복사하는 것과 동이한 효과를 나타냄"
   ]
  },
  {
   "cell_type": "code",
   "execution_count": 86,
   "id": "dcbe619d-e98a-4d09-bda7-ae7bae2413f9",
   "metadata": {},
   "outputs": [
    {
     "data": {
      "text/plain": [
       "false"
      ]
     },
     "execution_count": 86,
     "metadata": {},
     "output_type": "execute_result"
    }
   ],
   "source": [
    "t ≡ t2"
   ]
  },
  {
   "cell_type": "markdown",
   "id": "5e9665f1-bc5a-4f34-98c7-4aac7c5a3297",
   "metadata": {},
   "source": [
    "_비문자열 객체는 직렬화를 이용해 데이터 베이스에 저장함. 이는 매우 빈번히 일어나며 이러한 기능은 JLD2 패키지 형태로 제공됨_"
   ]
  },
  {
   "cell_type": "markdown",
   "id": "8d657fd9-cf8d-4891-a7be-85b254300782",
   "metadata": {},
   "source": [
    "### 14.8 명령 객체"
   ]
  },
  {
   "cell_type": "markdown",
   "id": "6493b3be-20f8-4f4d-8a92-3b6e1f97ee56",
   "metadata": {},
   "source": [
    "shell 명령문 또는 shell 실행 프로그램(command object)은 ``` ` ``` **역따옴표(backtick notation)** 를 이용해 생성함 \n",
    "\n",
    "하지만 윈도우에서는 실행되지 않고 Linux와 mac os 에서 실행됨(참고)\n",
    "\n",
    "**(참고)**\n",
    "\n",
    "The following assumes a Posix environment as on Linux or MacOS. On Windows, many similar commands, such as echo and dir, are not external programs and instead are built into the shell cmd.exe itself. One option to run these commands is to invoke cmd.exe, for example cmd /C echo hello. Alternatively Julia can be run inside a Posix environment such as Cygwin.\n",
    "\n",
    "https://docs.julialang.org/en/v1/manual/running-external-programs/#Running-External-Programs"
   ]
  },
  {
   "cell_type": "code",
   "execution_count": 87,
   "id": "a6d596ca-f791-435a-92cc-e6bf678c77ee",
   "metadata": {},
   "outputs": [
    {
     "data": {
      "text/plain": [
       "`\u001b[4mecho\u001b[24m \u001b[4mhello\u001b[24m`"
      ]
     },
     "execution_count": 87,
     "metadata": {},
     "output_type": "execute_result"
    }
   ],
   "source": [
    "cmd = `echo hello`"
   ]
  },
  {
   "cell_type": "code",
   "execution_count": 90,
   "id": "a3a16f3b-8280-418b-8e90-bb8e577fa688",
   "metadata": {},
   "outputs": [
    {
     "ename": "LoadError",
     "evalue": "IOError: could not spawn `echo hello`: no such file or directory (ENOENT)",
     "output_type": "error",
     "traceback": [
      "IOError: could not spawn `echo hello`: no such file or directory (ENOENT)",
      "",
      "Stacktrace:",
      " [1] _spawn_primitive(file::String, cmd::Cmd, stdio::Vector{Union{RawFD, Base.Libc.WindowsRawSocket, IO}})",
      "   @ Base .\\process.jl:128",
      " [2] #724",
      "   @ .\\process.jl:139 [inlined]",
      " [3] setup_stdios(f::Base.var\"#724#725\"{Cmd}, stdios::Vector{Union{RawFD, Base.Libc.WindowsRawSocket, IO}})",
      "   @ Base .\\process.jl:223",
      " [4] _spawn",
      "   @ .\\process.jl:138 [inlined]",
      " [5] run(::Cmd; wait::Bool)",
      "   @ Base .\\process.jl:479",
      " [6] run(::Cmd)",
      "   @ Base .\\process.jl:477",
      " [7] top-level scope",
      "   @ In[90]:3",
      " [8] eval",
      "   @ .\\boot.jl:368 [inlined]",
      " [9] include_string(mapexpr::typeof(REPL.softscope), mod::Module, code::String, filename::String)",
      "   @ Base .\\loading.jl:1428"
     ]
    }
   ],
   "source": [
    "# 윈도우 환경이라 에러가 발생함\n",
    "\n",
    "run(cmd);"
   ]
  },
  {
   "cell_type": "markdown",
   "id": "6a85f5de-6fef-403d-80a2-a29ec1e165f1",
   "metadata": {},
   "source": [
    "### 14.9 모듈"
   ]
  },
  {
   "cell_type": "markdown",
   "id": "307308ac-4737-43b1-a028-671d250c11c4",
   "metadata": {},
   "source": [
    "**(소스 불러오기)**\n",
    "\n",
    "* 파일의 라인을 카운트하는 함수 linecount의 소스코드인 wc.jl 파일 생성\n",
    "\n",
    "```julia\n",
    "# wc.jl 소스\n",
    "function linecount(filename)\n",
    "    count = 0\n",
    "    for line in eachline(filename)\n",
    "        count += 1\n",
    "    end\n",
    "    count\n",
    "end\n",
    "\n",
    "```\n",
    "\n",
    "\n",
    "* include 함수를 이용, Main에서 linecount 함수 활용\n",
    "\n",
    "* Main이 아닌 분리된 변수 작업 공간을 생성하고자 한다면 module 생성"
   ]
  },
  {
   "cell_type": "code",
   "execution_count": 102,
   "id": "b60f6f99-c69e-4392-af95-bccb7fc5b8a8",
   "metadata": {},
   "outputs": [
    {
     "data": {
      "text/plain": [
       "linecount (generic function with 1 method)"
      ]
     },
     "execution_count": 102,
     "metadata": {},
     "output_type": "execute_result"
    }
   ],
   "source": [
    "include(\"wc.jl\")"
   ]
  },
  {
   "cell_type": "code",
   "execution_count": 103,
   "id": "b381ca75-8b0b-4275-866a-7f3e0fe0df15",
   "metadata": {},
   "outputs": [
    {
     "name": "stdout",
     "output_type": "stream",
     "text": [
      "7"
     ]
    }
   ],
   "source": [
    "print(linecount(\"wc.jl\"))"
   ]
  },
  {
   "cell_type": "markdown",
   "id": "df883afa-8c01-4e0c-be02-1ba115a6c8c7",
   "metadata": {},
   "source": [
    "**(모듈 생성)**\n",
    "\n",
    "* 모듈은 예약어 module로 시작해서 end로 끝남\n",
    "\n",
    "* 모듈을 사용하면 파일 최상위에서 정의된 이름이 중복되는 충돌 문제를 회피할 수 있음(masking conflict problem)\n",
    "\n",
    "    * import 문으로 다른 모듈에서 가시화할 이름을 정할 수 있음\n",
    "\n",
    "    * export 문은 모듈에서 특정 이름을 공개(public)로 지정\n",
    "    \n",
    "        - 공개로 지정한 이름은 모듈 외부에서 접근할 때, 해당 모듈명을 접두어에 붙일 필요가 없음\n",
    "        \n",
    "        \n",
    "```julia\n",
    "# wc_module.jl 소스 코드\n",
    "\n",
    "module LineCount\n",
    "\texport linecount\n",
    "\n",
    "\tfunction linecount(filename)\n",
    "\t\tcount = 0\n",
    "\t\tfor line in eachline(filename)\n",
    "\t\t\tcount += 1\n",
    "\t\tend\n",
    "\t\tcount\n",
    "\tend\n",
    "end\n",
    "```\n",
    "\n",
    "* include(\"wc_module.jl\")을 읽어들이면, Main 모듈 아래에 로드되므로 using Main.LineCount로 해당 모듈을 사용할 수 있음\n",
    "\n",
    "* using 문을 사용하면 모듈이 공개로 지정한 이름을 다른곳에서 사용할 수 있으므로 아래와 같이 linecount 함수를 사용할 수 있음"
   ]
  },
  {
   "cell_type": "code",
   "execution_count": 104,
   "id": "4e3a78f3-c351-4640-b507-0350df9d0cae",
   "metadata": {},
   "outputs": [
    {
     "name": "stderr",
     "output_type": "stream",
     "text": [
      "WARNING: using LineCount.linecount in module Main conflicts with an existing identifier.\n"
     ]
    },
    {
     "data": {
      "text/plain": [
       "7"
      ]
     },
     "execution_count": 104,
     "metadata": {},
     "output_type": "execute_result"
    }
   ],
   "source": [
    "include(\"wc_module.jl\")\n",
    "\n",
    "using Main.LineCount\n",
    "\n",
    "linecount(\"wc.jl\")"
   ]
  },
  {
   "cell_type": "markdown",
   "id": "cb49017a-adf0-4fdd-8228-542b51cf1247",
   "metadata": {},
   "source": [
    "앞에서 이미 include(\"wc.jl\")을 통해 Main 환경에 linecount라는 함수명(변수명)을 설정해 놓았기 때문에 **WARNING** 이 발생함"
   ]
  },
  {
   "cell_type": "markdown",
   "id": "a34aa627-8ea5-4193-8023-0d1f4dcafdd1",
   "metadata": {},
   "source": [
    "**역자주)** 모듈명을 따라 파일명을 LineCount.jl로 지정하면 push!(LOAD_PATH, pwd()) 같은 명령으로 패키지 로더가 LineCount 모듈이 있는 LineCount.jl 파일을 찾을 수 있음\n",
    "\n",
    "이렇게 하면 include 대신 바로 using LineCount로 모듈을 읽어들일 수 있음"
   ]
  },
  {
   "cell_type": "markdown",
   "id": "1f171344-16eb-4362-b479-2581127a0fe1",
   "metadata": {},
   "source": [
    "### 14.10 디버깅"
   ]
  },
  {
   "cell_type": "markdown",
   "id": "5bdfd519-5c9e-4bb2-9d66-2796f4b9b923",
   "metadata": {},
   "source": [
    "공백문자, 탭, 개행문자 등 화면에 보이지 않는 화이트스페이스로 인한 문제를 겪을 수 있음 \n",
    "\n",
    "내장 함수 ```repr``` 과 ```dump```를 이용하면 전체 문자열을 반환해주므로 디버깅에 유용히 사용할 수 있음\n",
    "\n",
    "* _운영체제에 따른 개행문자는 아래 url을 참고_\n",
    "\n",
    "    - _https://ko.wikipedia.org/wiki/%EC%83%88%EC%A4%84_%EB%AC%B8%EC%9E%90_"
   ]
  },
  {
   "cell_type": "code",
   "execution_count": 106,
   "id": "206638ce-c707-4af0-a576-3d0e5d17b75f",
   "metadata": {},
   "outputs": [
    {
     "name": "stdout",
     "output_type": "stream",
     "text": [
      "1 2 \t 3\n",
      " 4"
     ]
    }
   ],
   "source": [
    "s = \"1 2 \\t 3\\n 4\";\n",
    "\n",
    "print(s)"
   ]
  },
  {
   "cell_type": "code",
   "execution_count": 107,
   "id": "6a243ec2-77fe-4362-a0f8-e7dfd77cafe6",
   "metadata": {},
   "outputs": [
    {
     "data": {
      "text/plain": [
       "\"\\\"1 2 \\\\t 3\\\\n 4\\\"\""
      ]
     },
     "execution_count": 107,
     "metadata": {},
     "output_type": "execute_result"
    }
   ],
   "source": [
    "repr(s)"
   ]
  },
  {
   "cell_type": "code",
   "execution_count": 108,
   "id": "978388c7-3c61-4d28-986a-b57494c4ef96",
   "metadata": {},
   "outputs": [
    {
     "name": "stdout",
     "output_type": "stream",
     "text": [
      "String \"1 2 \\t 3\\n 4\"\n"
     ]
    }
   ],
   "source": [
    "dump(s)"
   ]
  },
  {
   "cell_type": "markdown",
   "id": "9f09a71c-6d38-4444-9eec-9286709b2f43",
   "metadata": {},
   "source": [
    "### 14.11 용어집"
   ]
  },
  {
   "cell_type": "markdown",
   "id": "8410e9d8-095b-46c0-868c-006fa289972c",
   "metadata": {},
   "source": [
    "* **지속적(persistent)**\n",
    "\n",
    "    - 어떤 프로그램이 무기한으로 실행되면서 일부 데이터를 영구 저장소에 보관하는 특성\n",
    "```\n",
    "```\n",
    "* **텍스트 파일(text file)**\n",
    "\n",
    "    - 하드디스크와 같은 영구 저장소에 저장되어 있는 문자의 순열\n",
    "```\n",
    "```\n",
    "* **디렉터리(directory)**\n",
    "\n",
    "    - 이름이 붙은 파일의 모음. 폴더라고 함\n",
    "```\n",
    "```\n",
    "* **경로(path)**\n",
    "\n",
    "    - 파일을 식별하는 문자열\n",
    "```\n",
    "```\n",
    "* **상대 경로(relative path)**\n",
    "\n",
    "    - 현재 디렉터리에서 출발하는 경로\n",
    "```\n",
    "```\n",
    "* **절대 경로(absolute path)**\n",
    "\n",
    "    - 파일 시스템의 최상위 디렉터리에서 출발하는 경로\n",
    "```\n",
    "```\n",
    "* **절대 경로(absolute path)**\n",
    "\n",
    "    - 파일 시스템의 최상위 디렉터리에서 출발하는 경로\n",
    "```\n",
    "```\n",
    "* **예외 잡기(catch)**\n",
    "\n",
    "    - 예외로 인해 프로그램이 종료되는 것을 try ... catch ... finally 구문으로 막는 것\n",
    "```\n",
    "```\n",
    "* **데이터 베이스(database)**\n",
    "\n",
    "    - 키와 값을 가진 딕셔너리처럼 조직화된 자료를 내용으로 하는 파일\n",
    "```\n",
    "```\n",
    "* **셸(shell)**\n",
    "\n",
    "    - 사용자가 명령어를 입력하고 다른 프로그램을 시작함으로써 명령어를 실행하도록 하는 프로그램\n",
    "```\n",
    "```\n",
    "* **명령 객체(command object)**\n",
    "\n",
    "    - 셸 명령어를 표현하는 객체. 줄리아 프로그램이 명령을 실행하고 그 결과를 읽을 수 있게 해 줌\n",
    "```\n",
    "```\n",
    "* **모듈(module)**\n",
    "\n",
    "    - 이름 충돌 문제를 피하기 위해 사용하는 분리된 전역 변수 작업 공간"
   ]
  }
 ],
 "metadata": {
  "kernelspec": {
   "display_name": "Julia 1.8.0",
   "language": "julia",
   "name": "julia-1.8"
  },
  "language_info": {
   "file_extension": ".jl",
   "mimetype": "application/julia",
   "name": "julia",
   "version": "1.8.0"
  }
 },
 "nbformat": 4,
 "nbformat_minor": 5
}
