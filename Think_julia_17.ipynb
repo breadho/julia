{
 "cells": [
  {
   "cell_type": "markdown",
   "id": "872eb089-3554-42c7-a790-65ca58cca352",
   "metadata": {},
   "source": [
    "# 줄리아를 생각하다(Think julia)"
   ]
  },
  {
   "cell_type": "markdown",
   "id": "c378e52a-d0b2-492b-8a19-c9a27d367ce0",
   "metadata": {},
   "source": [
    "## Chapter 17. 다중 디스패치"
   ]
  },
  {
   "cell_type": "markdown",
   "id": "a2619dca-d8ba-48c9-8664-00bda35a6022",
   "metadata": {},
   "source": [
    "* **제너릭 프로그래밍** (generic programming): 여러 가지 자료형에 대응하도록 코드를 작성하는 것을 의미하는 프로그래밍 방법\n",
    "\n",
    "* **다중 디스패치** (multiple dispatch): 인수의 자료형에 따라 다르게 동작하도록 하는 방법"
   ]
  },
  {
   "cell_type": "markdown",
   "id": "44f24e3c-f935-4324-ac35-4ba802aa2fe7",
   "metadata": {},
   "source": [
    "### 17.1 자료형 선언 (Type Declarations)"
   ]
  },
  {
   "cell_type": "markdown",
   "id": "7f1b9c4f-f359-4cb2-9039-000b631409f2",
   "metadata": {},
   "source": [
    "* ```::``` **자료형 주석(type annotation)** : 표현식이나 값이 어떤 자료형이어야 하는지를 명시적으로 알려주는 연산자\n",
    "\n",
    "* ```::``` 연산자는 **할당문의 왼쪽**에 붙을 수 있음(선언의 일부로서 역할)\n",
    "\n",
    "* ```::``` 연산자는 **함수 정의 헤더**에 붙을 수 있음\n",
    "\n",
    "* 줄리아에서 자료형이 생략되었을때는 Any 자료형으로 지정 -> 모든 자료형 포괄"
   ]
  },
  {
   "cell_type": "code",
   "execution_count": 1,
   "id": "b28d61c1-d51b-47dd-8c8e-71c27b811597",
   "metadata": {},
   "outputs": [
    {
     "ename": "LoadError",
     "evalue": "TypeError: in typeassert, expected Float64, got a value of type Int64",
     "output_type": "error",
     "traceback": [
      "TypeError: in typeassert, expected Float64, got a value of type Int64",
      "",
      "Stacktrace:",
      " [1] top-level scope",
      "   @ In[1]:1",
      " [2] eval",
      "   @ .\\boot.jl:368 [inlined]",
      " [3] include_string(mapexpr::typeof(REPL.softscope), mod::Module, code::String, filename::String)",
      "   @ Base .\\loading.jl:1428"
     ]
    }
   ],
   "source": [
    "(1 + 2)::Float64"
   ]
  },
  {
   "cell_type": "code",
   "execution_count": 2,
   "id": "4bc46c82-21b8-45fb-b3f8-9401c802ae86",
   "metadata": {},
   "outputs": [
    {
     "data": {
      "text/plain": [
       "3"
      ]
     },
     "execution_count": 2,
     "metadata": {},
     "output_type": "execute_result"
    }
   ],
   "source": [
    "(1 + 2)::Int64"
   ]
  },
  {
   "cell_type": "code",
   "execution_count": 3,
   "id": "3af54515-a786-498d-9228-3fe3fae5c093",
   "metadata": {},
   "outputs": [
    {
     "name": "stdout",
     "output_type": "stream",
     "text": [
      "100.0\n",
      "Float64\n"
     ]
    }
   ],
   "source": [
    "function returnfloat()\n",
    "    x::Float64 = 100\n",
    "    x\n",
    "end\n",
    "\n",
    "x = returnfloat()\n",
    "\n",
    "println(x)\n",
    "println(typeof(x))"
   ]
  },
  {
   "cell_type": "code",
   "execution_count": 4,
   "id": "ee8bb54a-9a75-4571-aeb4-f639f7238981",
   "metadata": {},
   "outputs": [
    {
     "name": "stdout",
     "output_type": "stream",
     "text": [
      "-0.05440211108893698\n",
      "Float64\n"
     ]
    }
   ],
   "source": [
    "function sinc(x)::Float64\n",
    "    if x == 0\n",
    "        return 1\n",
    "    end\n",
    "    sin(x)/(x)\n",
    "end\n",
    "\n",
    "y = sinc(10)\n",
    "\n",
    "println(y)\n",
    "println(typeof(y))"
   ]
  },
  {
   "cell_type": "markdown",
   "id": "79d6b551-da12-4043-8bc7-653f6d179d6f",
   "metadata": {},
   "source": [
    "### 17.2 메서드(method)"
   ]
  },
  {
   "cell_type": "markdown",
   "id": "05590c59-5e4d-456e-ad7f-9ccbfddc83e3",
   "metadata": {},
   "source": [
    "* 자료형 선언(```::```)은 구조체 정의에 있는 필드에 붙을 수 있음\n",
    "\n",
    "* printtime 함수에 MyTime 객체만 받아들이는 동작, 즉 메서드(method)를 추가하려면 함수 정의에 있는 매개변수 time에 ```::``` 사용\n",
    "\n",
    "* 메서드는 특정한 시그니처(signature)를 가진 함수 정의 (printtime의 시그니처는 MyTime형인 매개변수가 하나 있다는 것)"
   ]
  },
  {
   "cell_type": "code",
   "execution_count": 5,
   "id": "275e4422-3ca6-4bc7-bdf3-9a919641b576",
   "metadata": {},
   "outputs": [
    {
     "data": {
      "text/plain": [
       "printtime (generic function with 1 method)"
      ]
     },
     "execution_count": 5,
     "metadata": {},
     "output_type": "execute_result"
    }
   ],
   "source": [
    "using Printf\n",
    "\n",
    "struct MyTime\n",
    "    hour::Int64\n",
    "    minute::Int64\n",
    "    second::Int64\n",
    "end\n",
    "\n",
    "function printtime(time::MyTime)\n",
    "    @printf(\"%02d:%02d:%02d\", time.hour, time.minute, time.second)\n",
    "end"
   ]
  },
  {
   "cell_type": "code",
   "execution_count": 6,
   "id": "e590ee67-7457-4ff3-8fe4-0ce4aeaa8d5d",
   "metadata": {},
   "outputs": [
    {
     "name": "stdout",
     "output_type": "stream",
     "text": [
      "09:45:00"
     ]
    }
   ],
   "source": [
    "start = MyTime(9, 45, 0)\n",
    "\n",
    "printtime(start)"
   ]
  },
  {
   "cell_type": "code",
   "execution_count": 7,
   "id": "a67a4138-3860-4dce-b38c-cc714a9ab515",
   "metadata": {},
   "outputs": [
    {
     "ename": "LoadError",
     "evalue": "InexactError: Int64(9.23)",
     "output_type": "error",
     "traceback": [
      "InexactError: Int64(9.23)",
      "",
      "Stacktrace:",
      " [1] Int64",
      "   @ .\\float.jl:788 [inlined]",
      " [2] convert",
      "   @ .\\number.jl:7 [inlined]",
      " [3] MyTime(hour::Float64, minute::Float64, second::Int64)",
      "   @ Main .\\In[5]:4",
      " [4] top-level scope",
      "   @ In[7]:3",
      " [5] eval",
      "   @ .\\boot.jl:368 [inlined]",
      " [6] include_string(mapexpr::typeof(REPL.softscope), mod::Module, code::String, filename::String)",
      "   @ Base .\\loading.jl:1428"
     ]
    }
   ],
   "source": [
    "# 만약 인수의 자료형이 올바르지 않을 경우 에러 발생\n",
    "\n",
    "start2 = MyTime(9.23, 45.4, 0)\n",
    "\n",
    "printtime(start2)"
   ]
  },
  {
   "cell_type": "markdown",
   "id": "36658db9-4e5d-4fc6-ba81-c74921294fd0",
   "metadata": {},
   "source": [
    "* ```::``` 자료형 주석이 없는 첫 번째 메서드 재정의 후 printtime 함수와 비교"
   ]
  },
  {
   "cell_type": "code",
   "execution_count": 8,
   "id": "feee786b-2c93-4e70-8b79-43777c62e9d8",
   "metadata": {},
   "outputs": [
    {
     "data": {
      "text/plain": [
       "printtime2 (generic function with 1 method)"
      ]
     },
     "execution_count": 8,
     "metadata": {},
     "output_type": "execute_result"
    }
   ],
   "source": [
    "function printtime2(time)\n",
    "    println(\"I don't know how to print the argument time.\")\n",
    "end"
   ]
  },
  {
   "cell_type": "code",
   "execution_count": 9,
   "id": "4c7c7f90-6e8a-489e-b1f8-b9f4e74d7ecd",
   "metadata": {},
   "outputs": [
    {
     "ename": "LoadError",
     "evalue": "MethodError: no method matching printtime(::Int64)\n\u001b[0mClosest candidates are:\n\u001b[0m  printtime(\u001b[91m::MyTime\u001b[39m) at In[5]:9",
     "output_type": "error",
     "traceback": [
      "MethodError: no method matching printtime(::Int64)\n\u001b[0mClosest candidates are:\n\u001b[0m  printtime(\u001b[91m::MyTime\u001b[39m) at In[5]:9",
      "",
      "Stacktrace:",
      " [1] top-level scope",
      "   @ In[9]:1",
      " [2] eval",
      "   @ .\\boot.jl:368 [inlined]",
      " [3] include_string(mapexpr::typeof(REPL.softscope), mod::Module, code::String, filename::String)",
      "   @ Base .\\loading.jl:1428"
     ]
    }
   ],
   "source": [
    "printtime(150)"
   ]
  },
  {
   "cell_type": "code",
   "execution_count": 10,
   "id": "e79d0f90-c179-4f76-b79b-39fb808998bd",
   "metadata": {},
   "outputs": [
    {
     "name": "stdout",
     "output_type": "stream",
     "text": [
      "I don't know how to print the argument time.\n"
     ]
    }
   ],
   "source": [
    "printtime2(150)"
   ]
  },
  {
   "cell_type": "markdown",
   "id": "669b4c39-f246-415a-bc53-f5616a8a0c24",
   "metadata": {},
   "source": [
    "**자료형이 명시된 printtime에서는 에러가 발생하지만, 자료형이 명시되지 않은(Any) printtime2 함수에서는 에러가 발생하지 않음**"
   ]
  },
  {
   "cell_type": "markdown",
   "id": "e1e38413-e8d8-40b3-aa62-529c44d1f412",
   "metadata": {},
   "source": [
    "### 17.3 추가 예시"
   ]
  },
  {
   "cell_type": "markdown",
   "id": "2cc8d18e-dd52-4a5c-aec5-379c02533a75",
   "metadata": {},
   "source": [
    "* increment 함수에 자료형 명시해 재작성\n",
    "\n",
    "* 인수의 순서가 바뀔 경우, 자료형이 알맞지 않으므로 자료형에 대한 no method matching 에러가 발생함"
   ]
  },
  {
   "cell_type": "code",
   "execution_count": 11,
   "id": "eb364021-338a-4296-bf6a-19b4f0ba6c6e",
   "metadata": {},
   "outputs": [
    {
     "data": {
      "text/plain": [
       "inttotime (generic function with 1 method)"
      ]
     },
     "execution_count": 11,
     "metadata": {},
     "output_type": "execute_result"
    }
   ],
   "source": [
    "function timetoint(time)\n",
    "    minutes = time.hour * 60 + time.minute\n",
    "    seconds = minutes *60 + time.second\n",
    "end\n",
    "\n",
    "function inttotime(seconds)\n",
    "    (minutes, second) = (seconds ÷ 60 , seconds %60)\n",
    "    hour, minute = (minutes ÷ 60 , minutes %60)\n",
    "    MyTime(hour, minute, second)\n",
    "end"
   ]
  },
  {
   "cell_type": "code",
   "execution_count": 12,
   "id": "f33db990-3b75-460b-b713-efac57d42f6d",
   "metadata": {},
   "outputs": [
    {
     "data": {
      "text/plain": [
       "increment (generic function with 1 method)"
      ]
     },
     "execution_count": 12,
     "metadata": {},
     "output_type": "execute_result"
    }
   ],
   "source": [
    "function increment(time::MyTime, seconds::Int64)\n",
    "    seconds += timetoint(time)\n",
    "    inttotime(seconds)\n",
    "end"
   ]
  },
  {
   "cell_type": "code",
   "execution_count": 13,
   "id": "e45b3bd6-ba45-4145-b74e-427a5fd14c5c",
   "metadata": {},
   "outputs": [
    {
     "data": {
      "text/plain": [
       "MyTime(10, 7, 17)"
      ]
     },
     "execution_count": 13,
     "metadata": {},
     "output_type": "execute_result"
    }
   ],
   "source": [
    "start = MyTime(9, 45, 0)\n",
    "increment(start, 1337)"
   ]
  },
  {
   "cell_type": "code",
   "execution_count": 14,
   "id": "0e251de2-6249-4682-bbe3-5af39ee8da57",
   "metadata": {},
   "outputs": [
    {
     "ename": "LoadError",
     "evalue": "MethodError: no method matching increment(::Int64, ::MyTime)",
     "output_type": "error",
     "traceback": [
      "MethodError: no method matching increment(::Int64, ::MyTime)",
      "",
      "Stacktrace:",
      " [1] top-level scope",
      "   @ In[14]:1",
      " [2] eval",
      "   @ .\\boot.jl:368 [inlined]",
      " [3] include_string(mapexpr::typeof(REPL.softscope), mod::Module, code::String, filename::String)",
      "   @ Base .\\loading.jl:1428"
     ]
    }
   ],
   "source": [
    "increment(1337, start)"
   ]
  },
  {
   "cell_type": "code",
   "execution_count": 15,
   "id": "df7b4182-10f5-431b-88a1-4574f2ad6770",
   "metadata": {},
   "outputs": [
    {
     "data": {
      "text/plain": [
       "isafter (generic function with 1 method)"
      ]
     },
     "execution_count": 15,
     "metadata": {},
     "output_type": "execute_result"
    }
   ],
   "source": [
    "function isafter(t1::MyTime, t2::MyTime)\n",
    "    (t1.hour, t1.minute, t1.second) > (t2.hour, t2.minute, t2.second)\n",
    "end"
   ]
  },
  {
   "cell_type": "code",
   "execution_count": 16,
   "id": "15b0b506-1bc0-4cbd-8b91-c7b223dc2380",
   "metadata": {},
   "outputs": [
    {
     "data": {
      "text/plain": [
       "true"
      ]
     },
     "execution_count": 16,
     "metadata": {},
     "output_type": "execute_result"
    }
   ],
   "source": [
    "isafter(MyTime(10, 45, 0), MyTime(9, 45, 0)) # t1이 t2 이후이냐를 비교함"
   ]
  },
  {
   "cell_type": "markdown",
   "id": "335209ba-0924-4655-9fe2-f355ec99a936",
   "metadata": {},
   "source": [
    "### 17.4 생성자"
   ]
  },
  {
   "cell_type": "markdown",
   "id": "11b750bb-ddb0-4880-8994-b99d13258eab",
   "metadata": {},
   "source": [
    "* 생성자(constructor)는 객체를 생성하기 위해 호출하는 특별한 함수\n",
    "\n",
    "* 외부 생성자(outer constructor)\n",
    "\n",
    "* 사본 생성자(copy constructor)\n",
    "\n",
    "* 내부 생성자(inner constructor)"
   ]
  },
  {
   "cell_type": "code",
   "execution_count": 17,
   "id": "b6c30c34-5478-4081-8ff8-4db5be91c38d",
   "metadata": {},
   "outputs": [],
   "source": [
    "# 생성자 \n",
    "# MyTime(hour, minute, second)\n",
    "# MyTime(hour::Int64, minute::Int64, second::Int64)\n",
    "\n",
    "\n",
    "# 외부 생성사(사본 생성자)\n",
    "function MyTime(time::MyTime)\n",
    "    MyTime(time.hour, time.minute, time.second)\n",
    "end\n",
    "\n",
    "\n",
    "# 내부 생성자 : 불변식 강제\n",
    "struct MyTime \n",
    "    hour :: Int64\n",
    "    minute :: Int64\n",
    "    second :: Int64\n",
    "    function MyTime(hour::Int64 = 0, minute::Int64 = 0, second::Int64 = 0)\n",
    "        @assert(0 ≤ minute < 60, \"Minute is not between 0 and 60.\")\n",
    "        @assert(0 ≤ second < 60, \"Second is not between 0 and 60.\")\n",
    "        new(hour, minute, second)\n",
    "    end\n",
    "end"
   ]
  },
  {
   "cell_type": "markdown",
   "id": "d08cea83-e13a-40df-8842-de78e3fe6c7a",
   "metadata": {},
   "source": [
    "* 내부 생성자는 항상 자료형이 선언되고 있는 블록 안에서 정의\n",
    "\n",
    "* 그 자료형의 객체를 만드는 특별한 함수 new에 접근\n",
    "\n",
    "* 만일내부 생성자가 하나라도 정의되면, 기본 생성자를 사용할 수 없게 되므로, 필요한 내부 생성자를 명시적으로 모두 작성"
   ]
  },
  {
   "cell_type": "code",
   "execution_count": 18,
   "id": "052f8b20-efe9-4e7b-99a9-f5131c94aac9",
   "metadata": {},
   "outputs": [],
   "source": [
    "# 내부 생성자 : 불변식 강제\n",
    "# case2) new 함수를 인수 없이 호출하는 메소드 \n",
    "struct MyTime2\n",
    "    hour :: Int\n",
    "    minute :: Int\n",
    "    second :: Int\n",
    "    function MyTime(hour::Int64 = 0, minute::Int64 = 0, second::Int64 = 0)\n",
    "        @assert(0 ≤ minute < 60, \"Minute is not between 0 and 60.\")\n",
    "        @assert(0 ≤ second < 60, \"Second is not between 0 and 60.\")\n",
    "        time = new()\n",
    "        time.hour = hour\n",
    "        time.minute = minute\n",
    "        time.second = second\n",
    "        time\n",
    "    end\n",
    "end"
   ]
  },
  {
   "cell_type": "markdown",
   "id": "a264b1f2-81c0-4fbe-a551-4d603e1d132d",
   "metadata": {},
   "source": [
    "* 이렇게 하면 재귀적 자료구조 생성 가능\n",
    "\n",
    "    - 여기서 재귀적이라 함은 필드 중 어떤 것이 구조체 자신인 것을 의미\n",
    "\n",
    "\n",
    "\n",
    "* 이런 방식으로 생성자를 구현한다면, 구조체는 반드시 가변이어야 함 \n",
    "\n",
    "    - new 함수로 객체를 생성한 후, 객체의 필드를 수정하기 때문임"
   ]
  },
  {
   "cell_type": "markdown",
   "id": "4ea2b452-3695-4f66-afd0-da326dcdb361",
   "metadata": {},
   "source": [
    "### 17.5 show 함수"
   ]
  },
  {
   "cell_type": "markdown",
   "id": "20e3eb5b-170c-43c1-8aca-03322605ae2b",
   "metadata": {},
   "source": [
    "* show 함수는 객체의 문자열 표현을 돌려주는 특별한 함수\n",
    "\n",
    "* 아래 예시에선 Base.show 함수에 메서드를 추가함"
   ]
  },
  {
   "cell_type": "code",
   "execution_count": 19,
   "id": "4f1e8d5d-18f5-4f6a-bbc7-093452a18461",
   "metadata": {},
   "outputs": [],
   "source": [
    "using Printf\n",
    "\n",
    "function Base.show(io::IO, time::MyTime)\n",
    "    @printf(io, \"%02d:%02d:%02d\", time.hour, time.minute, time.second)\n",
    "end"
   ]
  },
  {
   "cell_type": "code",
   "execution_count": 20,
   "id": "a6793c11-8589-4f52-873e-abcb686ff5fb",
   "metadata": {},
   "outputs": [
    {
     "data": {
      "text/plain": [
       "09:45:00"
      ]
     },
     "execution_count": 20,
     "metadata": {},
     "output_type": "execute_result"
    }
   ],
   "source": [
    "time = MyTime(9, 45)"
   ]
  },
  {
   "cell_type": "markdown",
   "id": "f5161644-c804-41bd-a7f3-1f7c1fd3c0bc",
   "metadata": {},
   "source": [
    "* 객체를 그대로 출력하면 줄리아는 자동적으로 show 함수를 불러줌\n",
    "\n",
    "* 저자는 새로운 복합 자료형을 작성할 때면, 객체 생성을 편하게 할 수 있기 때문에 항상 외부 생성자를 작성하는 것부터 시작함\n",
    "\n",
    "* 디버깅에 유용한 **show 메서드를 작성함**"
   ]
  },
  {
   "cell_type": "markdown",
   "id": "65496a66-844c-4e88-aae2-139161fc963c",
   "metadata": {},
   "source": [
    "### 17.6 연산자 로버로딩 (Operator Overloading)"
   ]
  },
  {
   "cell_type": "markdown",
   "id": "d3809ba3-5b38-4515-a678-78b0bcdeab54",
   "metadata": {},
   "source": [
    "* 연산자에 메서드 추가\n",
    "\n",
    "* 연산자 메서드를 정의하면 사용자 정의 자료형에 대한 연산자의 동작을 지정할 수 있음\n",
    "\n",
    "    * 예를 들어 두 개의 MyTime 인수를 받는 +라는 이름의 메서드를 정의하면, MyTime 객체에 대해 + 연산자를 쓸 수 있음"
   ]
  },
  {
   "cell_type": "code",
   "execution_count": 21,
   "id": "82595a8d-1eff-4fa2-9b53-aa3c8f297814",
   "metadata": {},
   "outputs": [
    {
     "data": {
      "text/plain": [
       "+ (generic function with 207 methods)"
      ]
     },
     "execution_count": 21,
     "metadata": {},
     "output_type": "execute_result"
    }
   ],
   "source": [
    "import Base.+\n",
    "\n",
    "function +(t1::MyTime, t2::MyTime)\n",
    "    seconds = timetoint(t1) + timetoint(t2)\n",
    "    inttotime(seconds)\n",
    "end"
   ]
  },
  {
   "cell_type": "code",
   "execution_count": 22,
   "id": "52232d8a-3790-4403-9a7c-27262f8ee986",
   "metadata": {},
   "outputs": [
    {
     "data": {
      "text/plain": [
       "11:20:00"
      ]
     },
     "execution_count": 22,
     "metadata": {},
     "output_type": "execute_result"
    }
   ],
   "source": [
    "start = MyTime(9, 45)\n",
    "\n",
    "duration = MyTime(1, 35, 0)\n",
    "\n",
    "start + duration"
   ]
  },
  {
   "cell_type": "markdown",
   "id": "ec96e58b-c335-4c29-8317-1c6a0c3ae891",
   "metadata": {},
   "source": [
    "* import 문은 연산자에 대한 메서드를 추가할 수 있게 + 연산자를 지역 범위에 추가하는 기능 수행\n",
    "\n",
    "* MyTime 객체에 + 연산자를 적용하면 줄리아는 추가된 메서드를 호출\n",
    "\n",
    "* REPL에서 그 결과를 출력하기 위해 show 함수를 이용\n",
    "\n",
    "* 어떤 연산자가 사용자 정의 자료형에 대해 동작하도록 메서드를 추가하는 것 -> 연산자 오버로딩(operator overloading)"
   ]
  },
  {
   "cell_type": "markdown",
   "id": "a44e67b6-a1d8-4789-80fe-aec3baf1a3ef",
   "metadata": {},
   "source": [
    "### 17.7 다중 디스패치"
   ]
  },
  {
   "cell_type": "markdown",
   "id": "cc98dce6-131f-45b1-8a7a-a2b407d1eb38",
   "metadata": {},
   "source": [
    "* **디스패치(dispatch)** 는 함수가 호출될 때 어떤 메서드를 사용해야 하는지를 정하는 메커니즘\n",
    "\n",
    "* 줄리아는 주어진 인수의 개수와 자료형에 따라 함수의 메서드가 선택되도록 함\n",
    "\n",
    "* **다중 디스패치(multiple dispatch)** : 함수의 모든 인수를 이용해, 호출된 메서드를 정하는 방법"
   ]
  },
  {
   "cell_type": "code",
   "execution_count": 23,
   "id": "f116ea5d-3a69-4603-8965-9caef44cb6ac",
   "metadata": {},
   "outputs": [
    {
     "data": {
      "text/plain": [
       "+ (generic function with 208 methods)"
      ]
     },
     "execution_count": 23,
     "metadata": {},
     "output_type": "execute_result"
    }
   ],
   "source": [
    "function +(time::MyTime, seconds::Int64)\n",
    "    increment(time, seconds)\n",
    "end"
   ]
  },
  {
   "cell_type": "code",
   "execution_count": 24,
   "id": "1f00d1c7-1175-4635-ad04-dc016807acfb",
   "metadata": {},
   "outputs": [
    {
     "data": {
      "text/plain": [
       "10:07:17"
      ]
     },
     "execution_count": 24,
     "metadata": {},
     "output_type": "execute_result"
    }
   ],
   "source": [
    "start = MyTime(9, 45)\n",
    "\n",
    "start + 1337"
   ]
  },
  {
   "cell_type": "code",
   "execution_count": 25,
   "id": "1e5432ca-d6a2-4fd0-be5b-98d402a5bfb1",
   "metadata": {},
   "outputs": [
    {
     "data": {
      "text/plain": [
       "+ (generic function with 209 methods)"
      ]
     },
     "execution_count": 25,
     "metadata": {},
     "output_type": "execute_result"
    }
   ],
   "source": [
    "# 덧셈은 교환 법칙이 성립하므로 메서드를 하나 더 생성\n",
    "\n",
    "function +(seconds::Int64, time::MyTime)\n",
    "    time + seconds # 위에서 + 연산자에 대한 오버로딩을 해줬기 때문에 사용 가능 \n",
    "end"
   ]
  },
  {
   "cell_type": "code",
   "execution_count": 26,
   "id": "f7736cad-504f-4f50-8f78-076088f79171",
   "metadata": {},
   "outputs": [
    {
     "data": {
      "text/plain": [
       "10:07:17"
      ]
     },
     "execution_count": 26,
     "metadata": {},
     "output_type": "execute_result"
    }
   ],
   "source": [
    "1337 + start"
   ]
  },
  {
   "cell_type": "markdown",
   "id": "19200aaf-06e8-4559-9e7d-3b4e519d5168",
   "metadata": {},
   "source": [
    "### 17.8 제너릭 프로그래밍(generic programming)"
   ]
  },
  {
   "cell_type": "markdown",
   "id": "36796eda-3447-4eb2-be08-cbf355174f59",
   "metadata": {},
   "source": [
    "* 꼭 필요한 경우 다중 디스패치는 매우 유용한 수단이지만, 쓸일이 많지는 않음\n",
    "\n",
    "* 여러 자료형의 인수에 대해서도 잘 동작하는 함수를 작성하는 것으로 이런 상황을 피할 수 있음\n",
    "\n",
    "* 여러가지 자료형에 대해서 동작하는 함수를 **다형(polymorphic)** 함수라고 함\n",
    "\n",
    "* **다형성(polymorphism)** 은 코드 재사용을 용이하게 함"
   ]
  },
  {
   "cell_type": "code",
   "execution_count": 27,
   "id": "d2d728ae-3fc6-441d-aa9b-0a6d90300c3d",
   "metadata": {},
   "outputs": [
    {
     "data": {
      "text/plain": [
       "03:17:10"
      ]
     },
     "execution_count": 27,
     "metadata": {},
     "output_type": "execute_result"
    }
   ],
   "source": [
    "# MyTime 객체에 대해 + 메서드를 만들었으므로 sum 함수를 사용할 수 있음\n",
    "\n",
    "t1 = MyTime(1, 7, 2)\n",
    "t2 = MyTime(1, 5, 8)\n",
    "t3 = MyTime(1, 5, 0)\n",
    "\n",
    "sum((t1, t2, t3))"
   ]
  },
  {
   "cell_type": "markdown",
   "id": "d50a1fba-828c-499a-9d54-2b87fdda2ac5",
   "metadata": {},
   "source": [
    "* 일반적으로 함수 내부에 있는 모든 연산이 주어진 자료형에 대해 잘 동작한다면, 그 함수는 그 자료형에 대해 잘 동작한다고 말함\n",
    "\n",
    "* 다형성 중에서 가장 좋은 종류는 의도하지 않은 다형성(의외의 자료형에 대해 함수가 잘 동작하는 상황 등)"
   ]
  },
  {
   "cell_type": "markdown",
   "id": "e62038fe-e523-4f57-a7dd-5c06b139c476",
   "metadata": {},
   "source": [
    "### 17.9 인터페이스와 구현"
   ]
  },
  {
   "cell_type": "markdown",
   "id": "53fe5bda-e267-498e-8cf7-d438fa72b3cc",
   "metadata": {},
   "source": [
    "* 다중 디스패치의 목표는 소프트웨어에 대한 쉬운 유지 보수\n",
    "\n",
    "* 이를 위해서는 인터페이스와 구현 분리 필요 -> (자료형이 주어진 인수를 가진 메서드는 그 자료형의 필드가 어떻게 표현되는지에 의존하지 않아야 함)\n",
    "\n",
    "* 인터페이스를 디자인할 때 주의를 기울인다면, 인터페이스의 변경 없이 구현만 바꿀 수 있음"
   ]
  },
  {
   "cell_type": "markdown",
   "id": "a9e4e6ce-41a8-4851-a08b-fb01ec7935e8",
   "metadata": {},
   "source": [
    "### 17.10 디버깅"
   ]
  },
  {
   "cell_type": "markdown",
   "id": "60312ded-aefe-48bc-8542-ab77f5b482fb",
   "metadata": {},
   "source": [
    "* 함수의 메서드를 확인하는 함수 **method**"
   ]
  },
  {
   "cell_type": "code",
   "execution_count": 29,
   "id": "329bc30b-00ab-498a-b1e4-f5578e6307e9",
   "metadata": {},
   "outputs": [
    {
     "data": {
      "text/html": [
       "# 2 methods for generic function <b>printtime</b>:<ul><li> printtime(time::<b>MyTime</b>) in Main at In[5]:9</li> <li> printtime(time) in Main at In[29]:1</li> </ul>"
      ],
      "text/plain": [
       "# 2 methods for generic function \"printtime\":\n",
       "[1] printtime(time::MyTime) in Main at In[5]:9\n",
       "[2] printtime(time) in Main at In[29]:1"
      ]
     },
     "execution_count": 29,
     "metadata": {},
     "output_type": "execute_result"
    }
   ],
   "source": [
    "function printtime(time)\n",
    "    h = time.hour\n",
    "    m = time.minute\n",
    "    s = time.second\n",
    "    \n",
    "    println(\"$h:$m:$s\")\n",
    "end\n",
    "\n",
    "\n",
    "methods(printtime)"
   ]
  },
  {
   "cell_type": "markdown",
   "id": "b1f434ce-1424-4cc3-889a-8741ac2dcf03",
   "metadata": {},
   "source": [
    "```\n",
    "```\n",
    "**->** 함수 printtime의 메서드는 두 개로 나타남 \n",
    "\n",
    "* 하나는 MyTime을 인수로 갖는 것\n",
    "\n",
    "* 다른 하나는 Any 타입을 인수로 갖는 것"
   ]
  },
  {
   "cell_type": "markdown",
   "id": "a31caa02-bb5c-404e-9b18-4934684b83b6",
   "metadata": {},
   "source": [
    "### 17.11 용어집"
   ]
  },
  {
   "cell_type": "markdown",
   "id": "bee15ca7-dcb4-4fe8-b7e4-3ce642ecc495",
   "metadata": {},
   "source": [
    "* **자료형 주석** (type annotation)\n",
    "\n",
    "    - 자료형이 뒤에 붙는 ```::``` 연산자는 어떤 표현식이나 변수가 그 자료형임을 나타냄\n",
    "```\n",
    "```\n",
    "* **메서드** (method)\n",
    "\n",
    "    - 어떤 함수에 대해 가능한 동작을 정의한 것.\n",
    "```\n",
    "```\n",
    "* **시그니처** (signature)\n",
    "\n",
    "    - 메서드의 인수 개수와 그것들의 자료형. 디스패치는 이 시그니처를 이용해 호출된 함수에 대해 선택 가능한 메서드들 중에서 인수가 가장 구체적인 것을 선택함\n",
    "```\n",
    "```\n",
    "* **생성자** (constructor)\n",
    "\n",
    "    - 객체를 생성하기 위해 호출하는 특별 함수\n",
    "```\n",
    "```\n",
    "* **기본 생성자** (default constructor)\n",
    "\n",
    "    - 개발자가 정의한 내부 생성자가 없을 경우에 사용 가능한 내부 생성자\n",
    "```\n",
    "```\n",
    "* **외부 생성자** (outer constructor)\n",
    "\n",
    "    - 자료형의 정의 바깥에서 정의되는 생성자로 객체 생성을 편하게 하기 위한 메서드\n",
    "```\n",
    "```\n",
    "* **사본 생성자** (copy constructor)\n",
    "\n",
    "    - 어떤 자료형의 외부 생성자로서 그 자료형의 객체가 유일한 인수인 것.인수의 복사본을 생성함\n",
    "```\n",
    "```\n",
    "* **내부 생성자** (inner constructor)\n",
    "\n",
    "    - 자료형의 정의 내부에서 정의되는 생성자로 불변식을 강제하거나 자가 참조 객체를 만들기 위해 사용\n",
    "```\n",
    "```\n",
    "* **연산자 오버로딩** (operator overloading)\n",
    "\n",
    "    - ```+``` 같은 연산자가 사용자 정의 자료형에 대해서도 잘 동작하도록 메서드를 추가하는 것\n",
    "```\n",
    "```\n",
    "* **디스패치** (dispatch)\n",
    "\n",
    "    - 함수가 호출되었을 때, 어떤 메서드를 실행해야 할지 선택하는 것\n",
    "```\n",
    "```\n",
    "* **다중 디스패치** (multiple dispatch)\n",
    "\n",
    "    - 함수의 모든 인수에 기반해 디스패치하는 것\n",
    "```\n",
    "```\n",
    "* **제너릭 프로그래밍** (generic programming)\n",
    "\n",
    "    - 두 종류 이상의 자료형에 대해 잘 동작하는 코드를 작성하는 것\n",
    "```\n",
    "```\n",
    "* **다형 함수** (polymorphic function)\n",
    "\n",
    "    - 인수가 여러 자료형일 수 있는 함수\n"
   ]
  }
 ],
 "metadata": {
  "kernelspec": {
   "display_name": "Julia 1.8.0",
   "language": "julia",
   "name": "julia-1.8"
  },
  "language_info": {
   "file_extension": ".jl",
   "mimetype": "application/julia",
   "name": "julia",
   "version": "1.8.0"
  }
 },
 "nbformat": 4,
 "nbformat_minor": 5
}
