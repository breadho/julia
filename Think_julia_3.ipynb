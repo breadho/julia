{
 "cells": [
  {
   "cell_type": "markdown",
   "id": "85a76159-94d4-4938-8b89-5d3dd2d72abe",
   "metadata": {},
   "source": [
    "# 줄리아를 생각하다(Think Julia)"
   ]
  },
  {
   "cell_type": "markdown",
   "id": "7bd8911c-4dfc-403b-a026-5b2e19b06bec",
   "metadata": {},
   "source": [
    "## Chapter 3. 함수"
   ]
  },
  {
   "cell_type": "markdown",
   "id": "67ab6639-e9ba-4302-bc46-e1aac7fc690d",
   "metadata": {},
   "source": [
    "* 수학과 다르게, 프로그래밍에서 함수(function)란 어떤 계산을 수행하는 문장의 나열을 의미함\n",
    "\n",
    "* 함수를 정의할 때, 이름을 지정하고 구문을 나열함 --> 함수를 호출(call)할 때 함수의 이름을 사용함"
   ]
  },
  {
   "cell_type": "markdown",
   "id": "0ba50d5e-5f3d-42a1-aa83-5f2915f81fc5",
   "metadata": {},
   "source": [
    "### 3.1 함수 호출"
   ]
  },
  {
   "cell_type": "markdown",
   "id": "7113ba38-f645-4773-9f94-58448a0b830c",
   "metadata": {},
   "source": [
    "* 괄호 안의 표현식은 함수의 인수(argument)\n",
    "\n",
    "* 보통 함수는 인수를 받아서 결과를 돌려준다(return)\n",
    "\n",
    "* 반환되는 결과를 결과값(return value)이라 한다."
   ]
  },
  {
   "cell_type": "markdown",
   "id": "ac78a1a9-05bc-4583-b91e-6d206ec84035",
   "metadata": {},
   "source": [
    "**예제 1) parse 함수**\n",
    "\n",
    "* 어떤 자료형의 값을 다른 자료형으로 변환하는 함수\n",
    "\n",
    "* 문자열을 받아서 가능한 경우 지정된 숫자형으로 변환하고, 그렇지 않으면 오류 반환"
   ]
  },
  {
   "cell_type": "code",
   "execution_count": 1,
   "id": "d49cf801-637a-4019-8f30-09ef8c1787cd",
   "metadata": {},
   "outputs": [
    {
     "data": {
      "text/plain": [
       "32"
      ]
     },
     "execution_count": 1,
     "metadata": {},
     "output_type": "execute_result"
    }
   ],
   "source": [
    "parse(Int64, \"32\")"
   ]
  },
  {
   "cell_type": "code",
   "execution_count": 2,
   "id": "437bf89b-de0a-4840-b811-71a3f43ae136",
   "metadata": {},
   "outputs": [
    {
     "data": {
      "text/plain": [
       "3.141592"
      ]
     },
     "execution_count": 2,
     "metadata": {},
     "output_type": "execute_result"
    }
   ],
   "source": [
    "parse(Float64, \"3.141592\")"
   ]
  },
  {
   "cell_type": "code",
   "execution_count": 3,
   "id": "f038ef64-4a37-45c5-bc02-a5e2c6770d16",
   "metadata": {},
   "outputs": [
    {
     "ename": "LoadError",
     "evalue": "ArgumentError: invalid base 10 digit 'H' in \"Hello\"",
     "output_type": "error",
     "traceback": [
      "ArgumentError: invalid base 10 digit 'H' in \"Hello\"",
      "",
      "Stacktrace:",
      " [1] tryparse_internal(#unused#::Type{Int64}, s::String, startpos::Int64, endpos::Int64, base_::Int64, raise::Bool)",
      "   @ Base .\\parse.jl:137",
      " [2] parse(::Type{Int64}, s::String; base::Nothing)",
      "   @ Base .\\parse.jl:241",
      " [3] parse(::Type{Int64}, s::String)",
      "   @ Base .\\parse.jl:240",
      " [4] top-level scope",
      "   @ In[3]:1",
      " [5] eval",
      "   @ .\\boot.jl:368 [inlined]",
      " [6] include_string(mapexpr::typeof(REPL.softscope), mod::Module, code::String, filename::String)",
      "   @ Base .\\loading.jl:1428"
     ]
    }
   ],
   "source": [
    "parse(Int64, \"Hello\")"
   ]
  },
  {
   "cell_type": "markdown",
   "id": "3856d39d-55e1-47f1-bbde-b69f4ce061dd",
   "metadata": {},
   "source": [
    "```\n",
    "```\n",
    "**예제 2) trunc 함수** \n",
    "\n",
    "* 부동소수점 수를 정수로 반환하는데, 반올림을 하지 않고 소수점 아래를 잘라냄"
   ]
  },
  {
   "cell_type": "code",
   "execution_count": 4,
   "id": "7c20634c-1c0e-44f4-b59c-3cfa2944e2fc",
   "metadata": {},
   "outputs": [
    {
     "data": {
      "text/plain": [
       "3"
      ]
     },
     "execution_count": 4,
     "metadata": {},
     "output_type": "execute_result"
    }
   ],
   "source": [
    "trunc(Int64, 3.9999)"
   ]
  },
  {
   "cell_type": "code",
   "execution_count": 5,
   "id": "72abb061-8dad-4d28-96ab-35c1fd14d30b",
   "metadata": {},
   "outputs": [
    {
     "data": {
      "text/plain": [
       "-2"
      ]
     },
     "execution_count": 5,
     "metadata": {},
     "output_type": "execute_result"
    }
   ],
   "source": [
    "trunc(Int64, -2.3)"
   ]
  },
  {
   "cell_type": "markdown",
   "id": "902b8211-9ce8-42c2-a235-c7811a183714",
   "metadata": {},
   "source": [
    "```\n",
    "```\n",
    "**예제 3) float 함수**\n",
    "\n",
    "* 정수를 부동소수점 수로 반환"
   ]
  },
  {
   "cell_type": "code",
   "execution_count": 6,
   "id": "db7d2f31-8fb8-4600-9360-6337e13f049b",
   "metadata": {},
   "outputs": [
    {
     "data": {
      "text/plain": [
       "32.0"
      ]
     },
     "execution_count": 6,
     "metadata": {},
     "output_type": "execute_result"
    }
   ],
   "source": [
    "float(32)"
   ]
  },
  {
   "cell_type": "markdown",
   "id": "b05f3648-a4f5-45db-bc93-12725d193ff8",
   "metadata": {},
   "source": [
    "```\n",
    "```\n",
    "**예제 4) string 함수**\n",
    "\n",
    "* 인수를 문자열로 변환"
   ]
  },
  {
   "cell_type": "code",
   "execution_count": 7,
   "id": "91805861-9b3d-467b-8fa7-9c21fb6064c1",
   "metadata": {},
   "outputs": [
    {
     "data": {
      "text/plain": [
       "\"32\""
      ]
     },
     "execution_count": 7,
     "metadata": {},
     "output_type": "execute_result"
    }
   ],
   "source": [
    "string(32)"
   ]
  },
  {
   "cell_type": "code",
   "execution_count": 8,
   "id": "ce79dde8-42a7-4548-9b7c-8770776cf389",
   "metadata": {},
   "outputs": [
    {
     "data": {
      "text/plain": [
       "\"3.14159\""
      ]
     },
     "execution_count": 8,
     "metadata": {},
     "output_type": "execute_result"
    }
   ],
   "source": [
    "string(3.14159)"
   ]
  },
  {
   "cell_type": "markdown",
   "id": "ece99312-9042-403e-a51b-b37a29f50dcf",
   "metadata": {},
   "source": [
    "### 3.2 수학 함수"
   ]
  },
  {
   "cell_type": "markdown",
   "id": "fdcaf477-c3eb-42a5-b878-693efc0f27f7",
   "metadata": {},
   "source": [
    "줄리아에서는 대부분의 친숙한 수학함수들을 바로 사용할 수 있음"
   ]
  },
  {
   "cell_type": "markdown",
   "id": "08610bf3-64e6-43ac-bcf5-23ce72547bd4",
   "metadata": {},
   "source": [
    "**예제1) 상용로그 log10**\n",
    "\n",
    "- 신호 대 노이즈 비율을 데시벨로 계산함 (물론 자연로그를 계산하는 함수 log도 있음)"
   ]
  },
  {
   "cell_type": "code",
   "execution_count": 10,
   "id": "095a0794-cd4e-482b-873a-29853a6fb1ac",
   "metadata": {},
   "outputs": [
    {
     "name": "stdout",
     "output_type": "stream",
     "text": [
      "9.719712763997565\n"
     ]
    }
   ],
   "source": [
    "signal_power = 300\n",
    "noise_power = 32\n",
    "ratio = signal_power/noise_power\n",
    "decibels = 10 * log10(ratio)\n",
    "\n",
    "println(decibels)"
   ]
  },
  {
   "cell_type": "markdown",
   "id": "d3974fe9-78cb-45be-ad85-153cb5dfd655",
   "metadata": {},
   "source": [
    "**예제 2) 삼각함수**\n",
    "\n",
    "- 인수의 단위는 라디안(radians) : l/r (radian = degree * pi /180)"
   ]
  },
  {
   "cell_type": "code",
   "execution_count": 11,
   "id": "521d00b9-44d3-4ecb-b525-bac77ca46125",
   "metadata": {},
   "outputs": [
    {
     "data": {
      "text/plain": [
       "0.644217687237691"
      ]
     },
     "execution_count": 11,
     "metadata": {},
     "output_type": "execute_result"
    }
   ],
   "source": [
    "radians = 0.7\n",
    "height = sin(radians)"
   ]
  },
  {
   "cell_type": "markdown",
   "id": "d1ed9675-bdca-4b0e-8f80-65d02499bd81",
   "metadata": {},
   "source": [
    "* 도(degree) -> radian 변환"
   ]
  },
  {
   "cell_type": "code",
   "execution_count": 13,
   "id": "bb3b6ce7-f62f-45b8-a49d-a084b45cdee3",
   "metadata": {},
   "outputs": [
    {
     "name": "stdout",
     "output_type": "stream",
     "text": [
      "45\n",
      "0.7853981633974483\n",
      "0.7071067811865475"
     ]
    }
   ],
   "source": [
    "degrees = 45\n",
    "radians = degrees/180*π\n",
    "print(degrees, \"\\n\",\n",
    "      radians, \"\\n\",\n",
    "      sin(radians))"
   ]
  },
  {
   "cell_type": "code",
   "execution_count": 14,
   "id": "2c8382dd-0dd5-4773-a991-1ed9474e69eb",
   "metadata": {},
   "outputs": [
    {
     "data": {
      "text/plain": [
       "0.7071067811865476"
      ]
     },
     "execution_count": 14,
     "metadata": {},
     "output_type": "execute_result"
    }
   ],
   "source": [
    "sqrt(2)/2 # sin(45도) 값과 비교"
   ]
  },
  {
   "cell_type": "markdown",
   "id": "bef1b7eb-fe1d-4b98-bac7-54d281b2880d",
   "metadata": {},
   "source": [
    "### 3.3 합성"
   ]
  },
  {
   "cell_type": "markdown",
   "id": "4eb7950a-28e1-4d8e-98bf-480fbbd55972",
   "metadata": {},
   "source": [
    "* 함수의 구성 요소인 변수, 표현식, 문장 등을 결합하는 방법: 합성(compose)"
   ]
  },
  {
   "cell_type": "code",
   "execution_count": 15,
   "id": "6b124a47-6fc6-4187-9f11-8651adf024e5",
   "metadata": {},
   "outputs": [
    {
     "data": {
      "text/plain": [
       "0.7071067811865475"
      ]
     },
     "execution_count": 15,
     "metadata": {},
     "output_type": "execute_result"
    }
   ],
   "source": [
    "# 인수로 전달되는 표현식\n",
    "\n",
    "x = sin(degrees /360 * 2 * π)"
   ]
  },
  {
   "cell_type": "code",
   "execution_count": 16,
   "id": "fcd98b0e-f78d-476a-95a4-a1c077e47854",
   "metadata": {},
   "outputs": [
    {
     "data": {
      "text/plain": [
       "1.7071067811865475"
      ]
     },
     "execution_count": 16,
     "metadata": {},
     "output_type": "execute_result"
    }
   ],
   "source": [
    "# 인수의 변수에 대입하는 방식\n",
    "\n",
    "x = exp(log(x + 1))"
   ]
  },
  {
   "cell_type": "markdown",
   "id": "2953bab3-3880-4f14-a140-0239a73d4e8f",
   "metadata": {},
   "source": [
    "* 할당문의 왼편에는 변수명이 아닌 다른 표현식이 들어가면 안됨(제약사항)"
   ]
  },
  {
   "cell_type": "code",
   "execution_count": 18,
   "id": "4326c711-e4ab-4198-bb5a-2588c45e3c49",
   "metadata": {},
   "outputs": [
    {
     "data": {
      "text/plain": [
       "60"
      ]
     },
     "execution_count": 18,
     "metadata": {},
     "output_type": "execute_result"
    }
   ],
   "source": [
    "hours = 1\n",
    "minutes = hours*60 # 올바른 문법"
   ]
  },
  {
   "cell_type": "code",
   "execution_count": 19,
   "id": "5f6bc59c-37eb-4f03-8ccb-4c9d885871ab",
   "metadata": {},
   "outputs": [
    {
     "ename": "LoadError",
     "evalue": "syntax: \"60\" is not a valid function argument name around In[19]:1",
     "output_type": "error",
     "traceback": [
      "syntax: \"60\" is not a valid function argument name around In[19]:1",
      "",
      "Stacktrace:",
      " [1] top-level scope",
      "   @ In[19]:1",
      " [2] eval",
      "   @ .\\boot.jl:368 [inlined]",
      " [3] include_string(mapexpr::typeof(REPL.softscope), mod::Module, code::String, filename::String)",
      "   @ Base .\\loading.jl:1428"
     ]
    }
   ],
   "source": [
    "hours * 60 = minutes # 틀린 문법"
   ]
  },
  {
   "cell_type": "markdown",
   "id": "d4c815aa-559d-4d5f-8981-a5934c37dea8",
   "metadata": {},
   "source": [
    "### 3.4 새로운 함수 만들기"
   ]
  },
  {
   "cell_type": "markdown",
   "id": "43b181f0-7274-4107-8c52-7c3b27420465",
   "metadata": {},
   "source": [
    "* 함수 정의(function definition)\n",
    "\n",
    "**예시 1)**"
   ]
  },
  {
   "cell_type": "code",
   "execution_count": 20,
   "id": "afe1ec38-33d1-4762-ab1a-e6112355012a",
   "metadata": {},
   "outputs": [
    {
     "data": {
      "text/plain": [
       "printlyrics (generic function with 1 method)"
      ]
     },
     "execution_count": 20,
     "metadata": {},
     "output_type": "execute_result"
    }
   ],
   "source": [
    "function printlyrics()\n",
    "    println(\"I'm lumberjack, and I'm okay.\")\n",
    "    println(\"I sleep all night and I work all day.\")\n",
    "end"
   ]
  },
  {
   "cell_type": "markdown",
   "id": "c7bc8bc1-cc64-4bfa-99d0-1f52eeb0cf44",
   "metadata": {},
   "source": [
    "**(함수 선언 문법)**\n",
    "\n",
    "* function은 함수 정의가 시작됨을 알려주는 예약어\n",
    "\n",
    "* 함수 정의를 마치려면 예약어인 ```end```를 사용\n",
    "\n",
    "**(함수구조)**\n",
    "\n",
    "* 함수 정의의 첫 줄을 헤더(header)라 하고, 나머지는 본문(body)라고 부름\n",
    "\n",
    "* 본문은 end 예약어로 끝나고, 문장은 몇 개든지 포함 가능\n",
    "\n",
    "* 가독성을 위해 함수의 본문은 들여쓰기(indent)\n",
    "\n",
    "**(함수명 유의 사항)**\n",
    "\n",
    "* 함수명을 정하는 규칙은 변수명과 동일(거의 모든 유니코드를 사용할 수 있으며 첫 번째 문자가 숫자일 수 없고 예약어를 함수명으로 사용해서도 안됨)\n",
    "\n",
    "* 함수명 뒤에 괄호 안에 아무것도 없으면, 이 함수는 아무런 인수도 받지 않는다는 의미\n",
    "\n",
    "**(유의할 점)**\n",
    "\n",
    "* 따옴표는 반드시 \"곧은 따옴표\"를 사용. 둥근 따옴표는 문자열 안에 포함시키는 것을 제외하면 줄리아에서 쓸 수 없음"
   ]
  },
  {
   "cell_type": "markdown",
   "id": "ef89ddc0-9acc-4130-9957-fc7238e392b4",
   "metadata": {},
   "source": [
    "```\n",
    "```\n",
    "**예시 2)** 함수 호출 "
   ]
  },
  {
   "cell_type": "code",
   "execution_count": 22,
   "id": "c21ed7e8-c814-442e-8a29-608dbcd45fc8",
   "metadata": {},
   "outputs": [
    {
     "name": "stdout",
     "output_type": "stream",
     "text": [
      "I'm lumberjack, and I'm okay.\n",
      "I sleep all night and I work all day.\n"
     ]
    }
   ],
   "source": [
    "printlyrics()"
   ]
  },
  {
   "cell_type": "markdown",
   "id": "fea20340-5dea-4c91-b802-1eefcb79bdb1",
   "metadata": {},
   "source": [
    "```\n",
    "```\n",
    "**예시 3)** 함수 내 함수 사용 "
   ]
  },
  {
   "cell_type": "code",
   "execution_count": 23,
   "id": "5e236480-f412-4e14-a568-77e593e403cb",
   "metadata": {},
   "outputs": [
    {
     "data": {
      "text/plain": [
       "repeatlyrucs (generic function with 1 method)"
      ]
     },
     "execution_count": 23,
     "metadata": {},
     "output_type": "execute_result"
    }
   ],
   "source": [
    "function repeatlyrucs()\n",
    "    printlyrics()\n",
    "    printlyrics()\n",
    "end"
   ]
  },
  {
   "cell_type": "code",
   "execution_count": 25,
   "id": "79eee2da-a16f-4bde-8f3a-c238e5b2004f",
   "metadata": {},
   "outputs": [
    {
     "name": "stdout",
     "output_type": "stream",
     "text": [
      "I'm lumberjack, and I'm okay.\n",
      "I sleep all night and I work all day.\n",
      "I'm lumberjack, and I'm okay.\n",
      "I sleep all night and I work all day.\n"
     ]
    }
   ],
   "source": [
    "repeatlyrucs()"
   ]
  },
  {
   "cell_type": "markdown",
   "id": "fe9d16c0-ada8-4ea0-858a-35296e28e668",
   "metadata": {},
   "source": [
    "```\n",
    "```\n",
    "### 3.5 정의와 사용"
   ]
  },
  {
   "cell_type": "markdown",
   "id": "d6e18e17-526a-49aa-96e5-e906ab1d9740",
   "metadata": {},
   "source": [
    "앞 절에 나온 코드 조작을 모은 전체 프로그램"
   ]
  },
  {
   "cell_type": "code",
   "execution_count": 26,
   "id": "46ab6cbc-3a7e-4168-8f6e-cfd92b03511b",
   "metadata": {},
   "outputs": [
    {
     "name": "stdout",
     "output_type": "stream",
     "text": [
      "I'm a lumberjack, and I'm okay.\n",
      "I sleep all night and I work all day\n",
      "I'm a lumberjack, and I'm okay.\n",
      "I sleep all night and I work all day\n"
     ]
    }
   ],
   "source": [
    "function printlyrics()\n",
    "    println(\"I'm a lumberjack, and I'm okay.\")\n",
    "    println(\"I sleep all night and I work all day\")\n",
    "end \n",
    "\n",
    "function repeatlyrics()\n",
    "    printlyrics()\n",
    "    printlyrics()\n",
    "end\n",
    "\n",
    "repeatlyrics()"
   ]
  },
  {
   "cell_type": "markdown",
   "id": "a151bcad-e959-493f-b765-18299deb91f9",
   "metadata": {},
   "source": [
    "* 함수를 정의하는 명령을 실행하면 함수 정의의 내용은 함수 객체(function object)로 만들어짐\n",
    "* 함수 내부의 내용은 함수가 호출되기 전까지 실행되지 않음 -> 함수를 실행하면 함수의 내용이 실행됨\n",
    "* 따라서 함수를 사용하기 전에 함수가 정의되어 있어야 함"
   ]
  },
  {
   "cell_type": "markdown",
   "id": "c3ecb358-af92-46e3-8be3-1880b1e564b3",
   "metadata": {},
   "source": [
    "### 3.8 실행 흐름"
   ]
  },
  {
   "cell_type": "markdown",
   "id": "cf6d8c0e-10d2-4954-ab53-bde8f87da697",
   "metadata": {
    "tags": []
   },
   "source": [
    "함수가 처음 사용되지 전에 함수 정의가 나오도록 보장하려면, 문장이 실행되는 순서를 알아야 함\n",
    "* **실행 흐름(flow of execution)**"
   ]
  },
  {
   "cell_type": "markdown",
   "id": "001a12e0-8abf-49dd-ba01-87b2717538b0",
   "metadata": {},
   "source": [
    "주) 프로그램을 읽을 때 위에서 아래로 읽는 것이 항상 최선인 것은 아님. 종종 실행 흐름을 따라가면서 읽는 것이 합리적일 때가 있음"
   ]
  },
  {
   "cell_type": "markdown",
   "id": "42372edd-523f-4bc3-9608-3d1ccc0cac7c",
   "metadata": {},
   "source": [
    "### 3.7 매개변수와 인수"
   ]
  },
  {
   "cell_type": "markdown",
   "id": "5e55fa1b-9a5e-4ff7-a70e-6d65f183e4c4",
   "metadata": {},
   "source": [
    "* 함수 내부에서 인수는 **매개변수**(parameter)라고 부르는 변수에 할당됨 \n",
    "\n",
    "**예시 1)** 인수가 한 개인 함수 정의"
   ]
  },
  {
   "cell_type": "code",
   "execution_count": 28,
   "id": "e633d220-eb06-44df-99b8-dda1a42c763f",
   "metadata": {},
   "outputs": [
    {
     "data": {
      "text/plain": [
       "printtwice (generic function with 1 method)"
      ]
     },
     "execution_count": 28,
     "metadata": {},
     "output_type": "execute_result"
    }
   ],
   "source": [
    "function printtwice(bruce)\n",
    "    println(bruce)\n",
    "    println(bruce)\n",
    "end"
   ]
  },
  {
   "cell_type": "code",
   "execution_count": 29,
   "id": "e5ae43a6-3b57-4b9e-ade3-79ca24482fb2",
   "metadata": {},
   "outputs": [
    {
     "name": "stdout",
     "output_type": "stream",
     "text": [
      "Spam\n",
      "Spam\n"
     ]
    }
   ],
   "source": [
    "printtwice(\"Spam\")"
   ]
  },
  {
   "cell_type": "code",
   "execution_count": 30,
   "id": "e4d9dd4a-90a7-4fce-9260-bac065b07c57",
   "metadata": {},
   "outputs": [
    {
     "name": "stdout",
     "output_type": "stream",
     "text": [
      "SpamSpamSpamSpam\n",
      "SpamSpamSpamSpam\n"
     ]
    }
   ],
   "source": [
    "printtwice(\"Spam\"^4)"
   ]
  },
  {
   "cell_type": "code",
   "execution_count": 31,
   "id": "bc9fc9f4-46dc-4b3b-affc-03e175db7662",
   "metadata": {},
   "outputs": [
    {
     "name": "stdout",
     "output_type": "stream",
     "text": [
      "-1.0\n",
      "-1.0\n"
     ]
    }
   ],
   "source": [
    "printtwice(cos(π))"
   ]
  },
  {
   "cell_type": "markdown",
   "id": "150533bc-968a-4570-bc56-b1068beb3c78",
   "metadata": {},
   "source": [
    "* 인수는 함수가 호출되기 전에 먼저 평가됨\n",
    "* 변수도 표현식이므로 인수로 쓸 수 있음"
   ]
  },
  {
   "cell_type": "code",
   "execution_count": 32,
   "id": "f8edc355-dd61-48d3-ba44-1f01e52da7e5",
   "metadata": {},
   "outputs": [
    {
     "name": "stdout",
     "output_type": "stream",
     "text": [
      "Eric, the half a bee.\n",
      "Eric, the half a bee.\n"
     ]
    }
   ],
   "source": [
    "michael = \"Eric, the half a bee.\"\n",
    "printtwice(michael)"
   ]
  },
  {
   "cell_type": "markdown",
   "id": "6fbdcbf8-92fd-4e53-9798-9a9701886a5e",
   "metadata": {},
   "source": [
    "### 3.8 변수와 매개변수의 지역성"
   ]
  },
  {
   "cell_type": "markdown",
   "id": "c28cd642-a50e-463a-8c64-3ded381395cd",
   "metadata": {},
   "source": [
    "* 지역성(locality) : 함수 내부에서 생성되어 함수 내부에서만 유효하게 존재하는 성질\n",
    "* 지역 변수(local variable) : 지역성이 있는 변수"
   ]
  },
  {
   "cell_type": "markdown",
   "id": "6f77bb09-c99d-4f38-a1c7-f1d540c72619",
   "metadata": {},
   "source": [
    "**예시 1)** 두 개의 인수를 받아서 결합한 다음 결과를 두 번 출력하는 함수"
   ]
  },
  {
   "cell_type": "code",
   "execution_count": 33,
   "id": "fd29f633-6e72-4c1d-a0ae-3e41023d3e84",
   "metadata": {},
   "outputs": [
    {
     "data": {
      "text/plain": [
       "cattwice (generic function with 1 method)"
      ]
     },
     "execution_count": 33,
     "metadata": {},
     "output_type": "execute_result"
    }
   ],
   "source": [
    "function cattwice(part1, part2)\n",
    "    concat = part1 * part2\n",
    "    printtwice(concat)\n",
    "end"
   ]
  },
  {
   "cell_type": "code",
   "execution_count": 34,
   "id": "eafd8ed7-fc97-4e05-bd84-600ccffca388",
   "metadata": {},
   "outputs": [
    {
     "name": "stdout",
     "output_type": "stream",
     "text": [
      "Bing tiddletiddle bang.\n",
      "Bing tiddletiddle bang.\n"
     ]
    }
   ],
   "source": [
    "line1 = \"Bing tiddle\"\n",
    "line2 = \"tiddle bang.\"\n",
    "cattwice(line1, line2)"
   ]
  },
  {
   "cell_type": "markdown",
   "id": "cbbf17ed-83d3-4f0f-b692-b78785d3ab1b",
   "metadata": {},
   "source": [
    "concat 변수는 출력하려고 해도 찾을 수 없다 -> 지역변수이니까! "
   ]
  },
  {
   "cell_type": "code",
   "execution_count": 36,
   "id": "6b7e7291-88a8-42e4-9ee6-7ab8e8de88ac",
   "metadata": {},
   "outputs": [
    {
     "ename": "LoadError",
     "evalue": "UndefVarError: concat not defined",
     "output_type": "error",
     "traceback": [
      "UndefVarError: concat not defined",
      "",
      "Stacktrace:",
      " [1] top-level scope",
      "   @ In[36]:3",
      " [2] eval",
      "   @ .\\boot.jl:368 [inlined]",
      " [3] include_string(mapexpr::typeof(REPL.softscope), mod::Module, code::String, filename::String)",
      "   @ Base .\\loading.jl:1428"
     ]
    }
   ],
   "source": [
    "# local 변수 출력에 따른 오류 발생\n",
    "\n",
    "print(concat) "
   ]
  },
  {
   "cell_type": "markdown",
   "id": "3b6c61f6-5c9f-4229-84b5-958be4c668ed",
   "metadata": {},
   "source": [
    "### 3.9 스택 도식"
   ]
  },
  {
   "cell_type": "markdown",
   "id": "8a261ce5-21cd-463f-a617-b98f3d7c41d4",
   "metadata": {},
   "source": [
    "* 스택 도식(stack diagram): 어떤 변수를 어디에 쓸 수 있는지를 추적하기 위해 그리는 도식\n",
    "    - 스택다이어그램 구성\n",
    "        - 각 함수는 틀(frame)으로 표시 \n",
    "        - 하나의 틀은 함수의 이름과 붙어 있는 상자로 구성\n",
    "        - 상자 안에는 매개변수와 변수가 들어 있음\n",
    "        \n",
    "* 스택트레이스(stack trace) : 오류가 발생한 프로그램 파일, 줄 번호, 그 시점에서 실행 중이었던 함수들을 표시 "
   ]
  },
  {
   "cell_type": "markdown",
   "id": "63d6fafb-6a12-40f1-a37a-123bbb02c0fd",
   "metadata": {},
   "source": [
    "### 3.10 유익 함수와 void 함수"
   ]
  },
  {
   "cell_type": "markdown",
   "id": "f62b49d8-5be3-48f8-b952-4c4a86402266",
   "metadata": {},
   "source": [
    "* 유익 함수(fruitful function) : 결과값을 반환하는 함수\n",
    "* void 함수(void function) : 결과값을 반환하지 않는 함수"
   ]
  },
  {
   "cell_type": "markdown",
   "id": "93e16e0b-57ea-4129-8569-7d59d8211a6e",
   "metadata": {},
   "source": [
    "**예시 1) 유익 함수** (결과값 활용)"
   ]
  },
  {
   "cell_type": "code",
   "execution_count": 37,
   "id": "6c67826d-ed8c-4a33-88bc-d76b428b0485",
   "metadata": {},
   "outputs": [
    {
     "data": {
      "text/plain": [
       "1.618033988749895"
      ]
     },
     "execution_count": 37,
     "metadata": {},
     "output_type": "execute_result"
    }
   ],
   "source": [
    "x = cos(radians)\n",
    "golden = (sqrt(5) + 1)/2"
   ]
  },
  {
   "cell_type": "markdown",
   "id": "ddc0e6f6-607a-451a-ae6e-1c0ee1ef5ae3",
   "metadata": {},
   "source": [
    "* 단, 스크립트 모드에서는 유익 함수를 다른 조치 없이 단독으로 호출하면, 결과값은 알 수 없음"
   ]
  },
  {
   "cell_type": "code",
   "execution_count": 39,
   "id": "de9cb360-274b-4db2-8a0d-f4f02d1e8529",
   "metadata": {},
   "outputs": [],
   "source": [
    "# 스크립트 모드를 표현하기 위해서 명령어 뒤에 ;를 붙임으로써 ipynb상에서 출력되지 않도록 함\n",
    "\n",
    "sqrt(5);"
   ]
  },
  {
   "cell_type": "markdown",
   "id": "318ea97f-ff05-4eda-8633-a45350d41d39",
   "metadata": {},
   "source": [
    "* void 함수는 화면에 무언가를 출력하거나, 다른 효과를 갖고 있을 수 있지만 결과값을 반환하지 않음\n",
    "* 만약 void 함수의 결과값을변수에 할당한다면, 특별한 의미를 값인 nothing이 할당됨"
   ]
  },
  {
   "cell_type": "code",
   "execution_count": 40,
   "id": "165bdcc0-4943-4f78-a899-6d4c59865593",
   "metadata": {},
   "outputs": [
    {
     "name": "stdout",
     "output_type": "stream",
     "text": [
      "Bing\n",
      "Bing\n"
     ]
    }
   ],
   "source": [
    "result = printtwice(\"Bing\")"
   ]
  },
  {
   "cell_type": "code",
   "execution_count": 41,
   "id": "b67723aa-c368-4d17-b349-77df9884d2dd",
   "metadata": {},
   "outputs": [
    {
     "name": "stdout",
     "output_type": "stream",
     "text": [
      "nothing"
     ]
    }
   ],
   "source": [
    "show(result)"
   ]
  },
  {
   "cell_type": "code",
   "execution_count": 42,
   "id": "b971f568-a67a-4b59-b014-62fa982908f1",
   "metadata": {},
   "outputs": [
    {
     "data": {
      "text/plain": [
       "Nothing"
      ]
     },
     "execution_count": 42,
     "metadata": {},
     "output_type": "execute_result"
    }
   ],
   "source": [
    "typeof(nothing)"
   ]
  },
  {
   "cell_type": "markdown",
   "id": "76fe1fbe-4242-4129-b58d-d523c22e1905",
   "metadata": {},
   "source": [
    "* nothing 값을 출력하려면 show 함수를 사용\n",
    "* nothing은 문자열 \"nothing\"이 아니라 고유의 자료형인 nothing을 의미"
   ]
  },
  {
   "cell_type": "markdown",
   "id": "70e8f7b1-0473-428a-ad94-3db2d7caabfa",
   "metadata": {},
   "source": [
    "### 3.11 함수 사용 이유"
   ]
  },
  {
   "cell_type": "markdown",
   "id": "9e4110e5-d38a-4a7d-924b-c4d6e1e00303",
   "metadata": {},
   "source": [
    "* **(가독성 확보)** 새로운 함수를 만드는 것은 어떤 문장들의 모음에 이름을 붙일 수 있는 기회가 됨. 프로그램이 읽기 쉽고 디버그하기 쉽게 됨\n",
    "\n",
    "* **(수정 편리성 확보)** 함수는 중복되는 코드를 없앰으로써 프로그램을 더 작게 만들어 줌. 나중에 수정하고 싶은 부분만 수정할 수 있음\n",
    "\n",
    "* **(제작 용이성 확보)** 긴 프로그램을 함수를 이용해 분리하면, 분리된 부분만 디버깅할 수 있고 디버깅한 부분들을 조립(통합)하여 전체가 잘 동작할 수 있게 만들 수 있음\n",
    "\n",
    "* **(사용 범용성 확보)** 잘 설계된 함수는 다수의 프로그램에 유용하게 사용\n",
    "\n",
    "* **(성능 향상)** 줄리아에서는 함수를 사용함으로써 프로그램 성능을 매우 향상시킬 수 있음"
   ]
  },
  {
   "cell_type": "markdown",
   "id": "d403be40-d9a3-4818-ac2f-8d9d46d1e054",
   "metadata": {},
   "source": [
    "### 3.12 디버깅"
   ]
  },
  {
   "cell_type": "markdown",
   "id": "a8b9cff4-277b-4ba3-9311-1606896ae2da",
   "metadata": {},
   "source": [
    "* 프로그래밍이란 원하는 결과를 얻을 때까지 점진적으로 디버깅하는 과정\n",
    "\n",
    "* 위와 같은 관점에서 보면 일단 돌아가는 프로그램에서 시작해서 작은 변경을 가하고 이것을 디버깅하는 식으로 프로그래밍이 이루어져야 함"
   ]
  },
  {
   "cell_type": "markdown",
   "id": "650c2d4e-f5cb-476c-ade0-462090f2582c",
   "metadata": {},
   "source": [
    "### 3.13 용어집"
   ]
  },
  {
   "cell_type": "markdown",
   "id": "c2cec9ce-b292-4daf-8054-98f564ba90d0",
   "metadata": {},
   "source": [
    "* **함수(function)**\n",
    "\n",
    "    - 이름이 붙어 있고, 무언가 유용한 일을 수행하는 문장의 나열.\n",
    "    \n",
    "    - 함수는 인수를 받거나 받지 않을 수 있고, 결과를 내거나 내지 않을 수 있음\n",
    "```\n",
    "```\n",
    "* **함수 호출(function call)**\n",
    "\n",
    "    - 어떤 함수를 실행하는 문장.\n",
    "    \n",
    "    - 함수명과 그 뒤에 붙어 있는 괄호로 싸여진 인수의 목록으로 구성됨\n",
    "```\n",
    "```\n",
    "* **인수(argument)**\n",
    "\n",
    "    - 함수가 호출될 때, 그 함수에 전달해주는 값.\n",
    "    \n",
    "    - 함수 내부에서는 대응하는 매개변수에 그 값이 할당됨\n",
    "```\n",
    "```\n",
    "* **결과값(return value)**\n",
    "\n",
    "    - 함수 호출의 결과.\n",
    "    \n",
    "    - 함수 호출이 표현식으로 쓰이면, 함수의 결과값이 그 표현식의 값이 됨\n",
    "```\n",
    "```\n",
    "* **합성(composition)**\n",
    "\n",
    "    - 어떤 표현식을 더 큰 표현식의 일부분으로 사용하는 방법\n",
    "    \n",
    "    - 또는 어떤 문장을 더 큰 문장의 일부분으로 사용하는 방법\n",
    "```\n",
    "```\n",
    "* **함수 정의(function definition)**\n",
    "\n",
    "    - 새로운 함수를 만들어내는 문장.\n",
    "    \n",
    "    - 함수명, 매개변수, 실행할 문장들을 명기함\n",
    "```\n",
    "```\n",
    "* **헤더(Header)**\n",
    "\n",
    "    - 함수 정의의 첫 줄\n",
    "```\n",
    "```\n",
    "* **본문(Body)**\n",
    "\n",
    "    - 함수 정의 안에 있는 문장의 나열\n",
    "```\n",
    "```\n",
    "* **함수 객체(function object)**\n",
    "\n",
    "    - 함수 정의가 만들어내는 값. \n",
    "    \n",
    "    - 함수명을 이름으로 하는 변수가 생성되어 그 함수 객체를 값으로 가짐\n",
    "```\n",
    "```\n",
    "* **실행 흐름(flow of execution)**\n",
    "\n",
    "    - 문장들의 실행 순서\n",
    "```\n",
    "```\n",
    "* **매개변수(parameter)**\n",
    "\n",
    "    - 함수 내부에서 사용되는 인수를 값으로 갖는 변수\n",
    "```\n",
    "``` \n",
    "* **지역 변수(Local variable)**\n",
    "\n",
    "    - 함수 내부에서 정의된 변수\n",
    "    \n",
    "    - 지역 변수는 그것을 정의한 함수 내부에서만 사용할 수 있음 \n",
    "```\n",
    "```\n",
    "* **스택 도식(stack diagram)**\n",
    "\n",
    "    - 함수, 함수 내부 변수 및 그 값을 차곡차곡 쌓은 그림으로 표현한 것.\n",
    "```\n",
    "```\n",
    "* **틀(frame)**\n",
    "\n",
    "    - 스택 도식에서 함수 호출을 표시하는 상자\n",
    "    \n",
    "    - 그 함수의 지역 변수와 매개변수를 표시함\n",
    "```\n",
    "```\n",
    "* **스택 트레이스(stack trace)**\n",
    "\n",
    "    - 오류가 발생했을 때 출력되는 실행 중인 함수의 목록\n",
    "```\n",
    "```\n",
    "* **유익 함수(fruitful function)**\n",
    "\n",
    "    - 결과값을 반환하는 함수\n",
    "```\n",
    "```\n",
    "* **void 함수(fruitful function)**\n",
    "\n",
    "    - 항상 nothing을 결과값으로 반환하는 함수\n",
    "```\n",
    "```\n",
    "* **nothing**\n",
    "\n",
    "    - void 함수가 반환하는 특별한 값\n"
   ]
  }
 ],
 "metadata": {
  "kernelspec": {
   "display_name": "Julia 1.8.0",
   "language": "julia",
   "name": "julia-1.8"
  },
  "language_info": {
   "file_extension": ".jl",
   "mimetype": "application/julia",
   "name": "julia",
   "version": "1.8.0"
  }
 },
 "nbformat": 4,
 "nbformat_minor": 5
}
