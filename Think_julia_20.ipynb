{
 "cells": [
  {
   "cell_type": "markdown",
   "id": "297847d4-9df5-4ab2-b192-501f1851b273",
   "metadata": {},
   "source": [
    "# 줄리아를 생각하다(Think julia)"
   ]
  },
  {
   "cell_type": "markdown",
   "id": "40d7fe4f-2223-415b-b0bc-90f6e2e1a0c5",
   "metadata": {},
   "source": [
    "## Chapter 20. 알아두면 좋은 것들: Base 및 표준 라이브러리"
   ]
  },
  {
   "cell_type": "markdown",
   "id": "fc463bba-9a8e-42e9-b392-948a0d595eab",
   "metadata": {},
   "source": [
    "* 줄리아에는 기능 세트가 기본으로 포함되어 있음\n",
    "\n",
    "* Base 모듈에는 가장 유용한 함수, 자료형, 매크로가 있음\n",
    "\n",
    "* 줄리아의 표준 라이브러리에는 많은 종류의 전문적 모듈이 포함되어 있음\n",
    "\n",
    "    - 날짜 처리, 분산 컴퓨팅, 선형대수, 성능 측정, 랜덤 숫자 등에 관한 모듈이 있음\n",
    "```\n",
    "```\n",
    "    - 표준 라이브러리에 있는 함수, 자료형, 매크로는 사용하기 전에 코드로 반입(import)되어야 함\n",
    "```\n",
    "```\n",
    "        - **import Module** 문은 모듈을 반입. Module.fn(x)로 함수 fn을 호출할 수 있음\n",
    "```\n",
    "```\n",
    "        - **using Module** 문은 그 모듈의 모든 함수, 자료형, 매크로를 반입"
   ]
  },
  {
   "cell_type": "markdown",
   "id": "48a3240f-3f82-43c8-8e78-d06b8bff71d0",
   "metadata": {},
   "source": [
    "* ```import``` 와 ```using```의 차이점\n",
    "\n",
    "    * **import**는 모듈을 메모리 상에 적재하는 역할을 하고, **using**은 적재 뿐만 아니라 모듈에서 export하는 객체명들을 직접적으로 사용할 수 있음 \n",
    "\n",
    "    * 각 모듈의 객체를 global namespace에 적재해서 객체명 그대로 사용하고자 한다면 ```using```을 이용하는 것이 효율적임\n",
    "    \n",
    "    * _Names referring to functions, types, global variables, and constants_\n"
   ]
  },
  {
   "cell_type": "markdown",
   "id": "d31cf2cc-0ef3-40ed-ad45-829e027baa1e",
   "metadata": {},
   "source": [
    "**(참고)** https://docs.julialang.org/en/v1/manual/modules/#modules\n",
    "\n",
    "    * Importantly, using ModuleName is the only form for which export lists matter at all.\n",
    "\n",
    "    * Usually, import ModuleName is used in contexts when the user wants to keep the namespace clean.\n",
    "\n",
    "\n",
    "\n",
    "\n",
    "_```import Foo``` will load the module or package Foo. Names from the imported Foo module can be accessed with dot syntax (e.g. Foo.foo to access the name foo). See the manual section about modules for details._\n",
    "        \n",
    "_```using Foo``` will load the module or package Foo and make its exported names available for direct use. Names can also be used via dot syntax (e.g. Foo.foo to access the name foo), whether they are exported or not. See the manual section about modules for details._\n",
    "\n",
    "\n",
    "![image](capture_and_drawing/Think_julia_drawing3.png)"
   ]
  },
  {
   "cell_type": "markdown",
   "id": "9d81738a-e885-4fbc-84d6-d5ac0a60d949",
   "metadata": {},
   "source": [
    "### 20.1 성능 측정"
   ]
  },
  {
   "cell_type": "markdown",
   "id": "4790a0e0-b541-4e69-811a-d2748abda99c",
   "metadata": {},
   "source": [
    "* **BenchmarkTools** 패키지에서 제공하는 ```@time``` 매크로를 활용하면 수행 시간, 할당 횟수, 할당된 메모리를 출력함\n",
    "\n",
    "    * python의 %timeit 또는 %time과 유사"
   ]
  },
  {
   "cell_type": "code",
   "execution_count": 1,
   "id": "c4502d77-5ab6-4cd2-924c-2e5018e233e0",
   "metadata": {},
   "outputs": [
    {
     "data": {
      "text/plain": [
       "fibonacci (generic function with 1 method)"
      ]
     },
     "execution_count": 1,
     "metadata": {},
     "output_type": "execute_result"
    }
   ],
   "source": [
    "function fib(n)\n",
    "    if n == 0\n",
    "        return 0\n",
    "    elseif n == 1\n",
    "        return 1\n",
    "    else\n",
    "        return fib(n-1) + fib(n-2)\n",
    "    end\n",
    "end\n",
    "\n",
    "known = Dict(0 => 0, 1 => 1) # 메모장 역할을 하는 변수 known 생성\n",
    "\n",
    "function fibonacci(n)\n",
    "    if n ∈keys(known)\n",
    "        return known[n]\n",
    "    end\n",
    "    res = fibonacci(n-1) + fibonacci(n-2)\n",
    "    known[n] = res # 새로운 값은 메모장에 기록\n",
    "    res\n",
    "end"
   ]
  },
  {
   "cell_type": "code",
   "execution_count": 2,
   "id": "a35bf056-4f38-4b42-b137-cd9cf44298ad",
   "metadata": {},
   "outputs": [
    {
     "data": {
      "text/plain": [
       "1"
      ]
     },
     "execution_count": 2,
     "metadata": {},
     "output_type": "execute_result"
    }
   ],
   "source": [
    "fib(1)"
   ]
  },
  {
   "cell_type": "code",
   "execution_count": 3,
   "id": "698f463f-3f1a-4edd-b2d9-efadf9a320e7",
   "metadata": {},
   "outputs": [
    {
     "data": {
      "text/plain": [
       "1"
      ]
     },
     "execution_count": 3,
     "metadata": {},
     "output_type": "execute_result"
    }
   ],
   "source": [
    "fibonacci(1)"
   ]
  },
  {
   "cell_type": "code",
   "execution_count": 4,
   "id": "cae5e3ce-b74b-45fc-a784-55994b43f470",
   "metadata": {},
   "outputs": [],
   "source": [
    "using BenchmarkTools"
   ]
  },
  {
   "cell_type": "code",
   "execution_count": 9,
   "id": "a6c0a401-80e2-4368-b092-07338849af6a",
   "metadata": {},
   "outputs": [
    {
     "name": "stdout",
     "output_type": "stream",
     "text": [
      "  0.497073 seconds\n"
     ]
    },
    {
     "data": {
      "text/plain": [
       "102334155"
      ]
     },
     "execution_count": 9,
     "metadata": {},
     "output_type": "execute_result"
    }
   ],
   "source": [
    "@time fib(40) # 2번째 실행 시간을 체크해야 함"
   ]
  },
  {
   "cell_type": "code",
   "execution_count": 10,
   "id": "bfb31f7a-fcb9-4b3d-9626-77c9e64661fd",
   "metadata": {},
   "outputs": [
    {
     "name": "stdout",
     "output_type": "stream",
     "text": [
      "  0.000008 seconds (2 allocations: 32 bytes)\n"
     ]
    },
    {
     "data": {
      "text/plain": [
       "102334155"
      ]
     },
     "execution_count": 10,
     "metadata": {},
     "output_type": "execute_result"
    }
   ],
   "source": [
    "@time fibonacci(40) # 2번째 실행 시간을 체크해야 함"
   ]
  },
  {
   "cell_type": "code",
   "execution_count": 11,
   "id": "79caac83-bec0-4b11-b72e-af35753ea0d5",
   "metadata": {},
   "outputs": [
    {
     "data": {
      "text/plain": [
       "62134.125"
      ]
     },
     "execution_count": 11,
     "metadata": {},
     "output_type": "execute_result"
    }
   ],
   "source": [
    "0.497073/0.000008  # 약 6만배 빨라짐"
   ]
  },
  {
   "cell_type": "markdown",
   "id": "51639ae2-24c7-450e-acd4-9fff7e4ad683",
   "metadata": {},
   "source": [
    "메모이제이션을 사용한 fibonacci() 함수의 메모리 사용량이 많은 것을 확인할 수 있음"
   ]
  },
  {
   "cell_type": "markdown",
   "id": "f19742de-3b3e-4c8d-9edc-f66634973dfc",
   "metadata": {},
   "source": [
    "**(주의)** 줄리아의 함수는 처음 실행 시 컴파일 됨. 따라서 두 개의 알고리즘을 비교하려면, 알고리즘을 함수로 구현해서 컴파일될 수 있도록 첫 번째 실행의 성능 수치는 제외해야 함. 그렇지 않으면 컴파일 시간이 측정 수치에 포함됨 \n",
    "\n",
    "-> 이런 요소까지 고려해 성능 측정을 해주는 ```@btime``` 매크로 사용 가능"
   ]
  },
  {
   "cell_type": "code",
   "execution_count": 12,
   "id": "60d24976-0606-47a9-b547-900d35c72aec",
   "metadata": {},
   "outputs": [
    {
     "name": "stdout",
     "output_type": "stream",
     "text": [
      "  512.336 ms (0 allocations: 0 bytes)\n"
     ]
    },
    {
     "data": {
      "text/plain": [
       "102334155"
      ]
     },
     "execution_count": 12,
     "metadata": {},
     "output_type": "execute_result"
    }
   ],
   "source": [
    "@btime fib(40)"
   ]
  },
  {
   "cell_type": "code",
   "execution_count": 13,
   "id": "1d907539-df39-4e28-9305-49bc62c2fbc8",
   "metadata": {},
   "outputs": [
    {
     "name": "stdout",
     "output_type": "stream",
     "text": [
      "  51.111 ns (2 allocations: 32 bytes)\n"
     ]
    },
    {
     "data": {
      "text/plain": [
       "102334155"
      ]
     },
     "execution_count": 13,
     "metadata": {},
     "output_type": "execute_result"
    }
   ],
   "source": [
    "@btime fibonacci(40)"
   ]
  },
  {
   "cell_type": "code",
   "execution_count": 15,
   "id": "dc3956af-64fc-44ed-bc7c-833c9f90320a",
   "metadata": {},
   "outputs": [
    {
     "data": {
      "text/plain": [
       "1.0023987008667411e7"
      ]
     },
     "execution_count": 15,
     "metadata": {},
     "output_type": "execute_result"
    }
   ],
   "source": [
    "512.336 * 10^6 / 51.111 # 약 천만배 (10^7) 빨라짐"
   ]
  },
  {
   "cell_type": "markdown",
   "id": "fbcd2600-3343-45dc-ad6f-5352a85299de",
   "metadata": {},
   "source": [
    "### 20.2 컬렉션과 자료구조"
   ]
  },
  {
   "cell_type": "markdown",
   "id": "7c6399c3-d0bc-4b2e-a51d-94a5614374ef",
   "metadata": {},
   "source": [
    "* **집합(set)** : 값 없이 사전의 키만 모아놓은 것처럼 동작하는 자료형태\n",
    "\n",
    "    - 집합에 원소를 추가하거나 원소가 있는지 확인하는 것은 빠르게 동작함 \n",
    "    \n",
    "    - 일반적인 집합 연산에 사용하는 연산자와 함수도 제공\n",
    "```\n",
    "```\n",
    "* **예시)** ```setdiff```를 이용하여 차집합 계산"
   ]
  },
  {
   "cell_type": "code",
   "execution_count": 16,
   "id": "109219f5-0e34-44af-9cfe-9d049141161c",
   "metadata": {},
   "outputs": [
    {
     "data": {
      "text/plain": [
       "subtract (generic function with 1 method)"
      ]
     },
     "execution_count": 16,
     "metadata": {},
     "output_type": "execute_result"
    }
   ],
   "source": [
    "function subtract(d1, d2)\n",
    "    res = Dict()\n",
    "    for key in keys(d1)\n",
    "        if key ∉ keys(d2)\n",
    "            res[key] = nothing \n",
    "        end\n",
    "    end\n",
    "    res\n",
    "end"
   ]
  },
  {
   "cell_type": "code",
   "execution_count": 17,
   "id": "f4e6ee2a-dbd3-40b0-95ea-2bf0a2651dcc",
   "metadata": {},
   "outputs": [
    {
     "data": {
      "text/plain": [
       "subtract2 (generic function with 1 method)"
      ]
     },
     "execution_count": 17,
     "metadata": {},
     "output_type": "execute_result"
    }
   ],
   "source": [
    "function subtract2(d1, d2)\n",
    "    setdiff(d1, d2)\n",
    "end"
   ]
  },
  {
   "cell_type": "markdown",
   "id": "57ce5f48-f172-4377-9522-2dc8532ca49b",
   "metadata": {},
   "source": [
    "* **예시2)** 집합을 이용하여 간결하고 효율적으로 함수 구현"
   ]
  },
  {
   "cell_type": "code",
   "execution_count": 19,
   "id": "2ca6936b-82cd-4cf4-b9bb-e00ebcd50bab",
   "metadata": {},
   "outputs": [
    {
     "data": {
      "text/plain": [
       "hasduplicates (generic function with 1 method)"
      ]
     },
     "execution_count": 19,
     "metadata": {},
     "output_type": "execute_result"
    }
   ],
   "source": [
    "# 원소가 처음으로 나타나면 딕셔너리에 추가하고 같은 원소가 또 나타나면 true를 반환하는 함수\n",
    "\n",
    "function hasduplicates(t)\n",
    "    d = Dict()\n",
    "    for x in t\n",
    "        if x ∈ d\n",
    "            return true\n",
    "        end\n",
    "        d[x] = nothing\n",
    "    end\n",
    "    false\n",
    "end"
   ]
  },
  {
   "cell_type": "code",
   "execution_count": 20,
   "id": "b0f352f0-1241-455c-96ad-8554407710e6",
   "metadata": {},
   "outputs": [
    {
     "data": {
      "text/plain": [
       "hasduplicates2 (generic function with 1 method)"
      ]
     },
     "execution_count": 20,
     "metadata": {},
     "output_type": "execute_result"
    }
   ],
   "source": [
    "# 집합에서 원소는 딱 한 번 나오므로, t에 두 번 이상 나오는 원소가 있다면 집합은 t보다 작을 것임\n",
    "\n",
    "# 중복이 없다면 집합의 크기는 t와 같을 것임\n",
    "\n",
    "function hasduplicates2(t)\n",
    "    length(Set(t)) < length(t)\n",
    "end"
   ]
  },
  {
   "cell_type": "code",
   "execution_count": 21,
   "id": "f7223db3-1c0b-4c35-ab18-9a707a951a94",
   "metadata": {},
   "outputs": [
    {
     "data": {
      "text/plain": [
       "useonly (generic function with 1 method)"
      ]
     },
     "execution_count": 21,
     "metadata": {},
     "output_type": "execute_result"
    }
   ],
   "source": [
    "# word의 글자가 available에 있는지 확인하는 useonly 함수 \n",
    "\n",
    "function useonly(word, available)\n",
    "    for letter in word\n",
    "        if letter ∉ available\n",
    "            return false\n",
    "        end\n",
    "    end\n",
    "    true\n",
    "end"
   ]
  },
  {
   "cell_type": "code",
   "execution_count": 22,
   "id": "0b64db5c-c311-463e-b448-c2a08599ffbd",
   "metadata": {},
   "outputs": [
    {
     "data": {
      "text/plain": [
       "useonly2 (generic function with 1 method)"
      ]
     },
     "execution_count": 22,
     "metadata": {},
     "output_type": "execute_result"
    }
   ],
   "source": [
    "# 집합을 사용하여 수정한 useonly 함수\n",
    "\n",
    "function useonly2(word, available)\n",
    "    Set(word) ⊆ Set(available)\n",
    "end"
   ]
  },
  {
   "cell_type": "markdown",
   "id": "4e3b788d-3bea-48de-bc75-5e04cf36c58d",
   "metadata": {},
   "source": [
    "* _⊆(\\subseteq + tab)은 한 집합이 다른 집합의 부분집합인지를 확인하는 연산자_"
   ]
  },
  {
   "cell_type": "markdown",
   "id": "8e8a9bf5-651b-43b0-8156-9177d5b62bca",
   "metadata": {},
   "source": [
    "### 20.3 수학"
   ]
  },
  {
   "cell_type": "markdown",
   "id": "0a9aee67-da18-4f51-ae27-560491edc900",
   "metadata": {},
   "source": [
    "* 줄리아는 복소수도 지원함"
   ]
  },
  {
   "cell_type": "code",
   "execution_count": 23,
   "id": "ce1b482f-7c95-41c6-a475-d3f9a7e74d20",
   "metadata": {},
   "outputs": [
    {
     "data": {
      "text/plain": [
       "0.0 + 1.2246467991473532e-16im"
      ]
     },
     "execution_count": 23,
     "metadata": {},
     "output_type": "execute_result"
    }
   ],
   "source": [
    "ℯ^(im*π)+1"
   ]
  },
  {
   "cell_type": "code",
   "execution_count": 24,
   "id": "e1197802-44bb-43e1-8fc5-657573c2bda8",
   "metadata": {},
   "outputs": [
    {
     "data": {
      "text/plain": [
       "true"
      ]
     },
     "execution_count": 24,
     "metadata": {},
     "output_type": "execute_result"
    }
   ],
   "source": [
    "x = 0:0.1:2π\n",
    "\n",
    "cos.(x) == 0.5*(ℯ.^(im*x) + ℯ.^(-im * x))"
   ]
  },
  {
   "cell_type": "markdown",
   "id": "8a1e934d-41f5-4406-a13a-1a996a617f6c",
   "metadata": {},
   "source": [
    "### 20.4 문자열"
   ]
  },
  {
   "cell_type": "markdown",
   "id": "30ac752d-cef7-4ad8-b476-bf9c18770c76",
   "metadata": {},
   "source": [
    "* 줄리아는 perl과 호환되는 정규표현식(regular expression)도 사용 가능\n",
    "\n",
    "* 정규표현식은 보통 regex라고 하는데 문자열에서 복잡한 패턴을 쉽게 찾을 수 있게 해줌\n",
    "\n",
    "* (참조) https://docs.julialang.org/en/v1/manual/strings/#man-regex-literals"
   ]
  },
  {
   "cell_type": "code",
   "execution_count": 29,
   "id": "35e1ac4e-072d-4f66-8483-e8d0110b969d",
   "metadata": {},
   "outputs": [
    {
     "data": {
      "text/plain": [
       "useonly3 (generic function with 1 method)"
      ]
     },
     "execution_count": 29,
     "metadata": {},
     "output_type": "execute_result"
    }
   ],
   "source": [
    "function useonly3(word, available)\n",
    "    r = Regex(\"[^$(available)]\") # available 문자열에 나오지 않는 글자를 찾는 패턴\n",
    "    !occursin(r, word) # 그 패턴을 word에서 찾으면 true 반환, ! 붙었으니까 문자열에 나오지 않는 패턴이 없으면 true (모두 존재한다는 의미)\n",
    "end"
   ]
  },
  {
   "cell_type": "code",
   "execution_count": 26,
   "id": "24b7ad6c-12e3-455a-b478-388dd29b10b0",
   "metadata": {},
   "outputs": [
    {
     "data": {
      "text/plain": [
       "true"
      ]
     },
     "execution_count": 26,
     "metadata": {},
     "output_type": "execute_result"
    }
   ],
   "source": [
    "useonly3(\"bananan\", \"abn\")"
   ]
  },
  {
   "cell_type": "code",
   "execution_count": 27,
   "id": "b4a500da-f2a5-45ca-ac71-7b87a784f937",
   "metadata": {},
   "outputs": [
    {
     "data": {
      "text/plain": [
       "false"
      ]
     },
     "execution_count": 27,
     "metadata": {},
     "output_type": "execute_result"
    }
   ],
   "source": [
    "useonly3(\"bananas\", \"abn\")"
   ]
  },
  {
   "cell_type": "code",
   "execution_count": 30,
   "id": "6b31f6be-468d-40be-955e-168fdb069da0",
   "metadata": {},
   "outputs": [
    {
     "data": {
      "text/plain": [
       "RegexMatch(\"s\")"
      ]
     },
     "execution_count": 30,
     "metadata": {},
     "output_type": "execute_result"
    }
   ],
   "source": [
    "# 정규표현식은 r을 접두어로 붙인 비표준 문자열을 사용해 만들 수 있음\n",
    "\n",
    "match(r\"[^abn]\", \"banana\")\n",
    "m = match(r\"[^abn]\", \"bananas\")"
   ]
  },
  {
   "cell_type": "code",
   "execution_count": 32,
   "id": "38c3a366-c262-4a6c-b3ff-110d88216951",
   "metadata": {},
   "outputs": [
    {
     "name": "stdout",
     "output_type": "stream",
     "text": [
      "m.match: s\n",
      "m.offset: 7\n"
     ]
    }
   ],
   "source": [
    "println(\"m.match: \", m.match, \"\\n\",\n",
    "        \"m.offset: \", m.offset)"
   ]
  },
  {
   "cell_type": "markdown",
   "id": "e8cf865e-73e8-4ea7-a5c9-1638453e8ddd",
   "metadata": {},
   "source": [
    "* match 함수는 패턴이 발견되면 RegexMatch 개체를 반환하고, 그렇지 않으면 nothing을 반환함\n",
    "\n",
    "* 반환된 RegexMatch 객체에서 다음과 같은 정보를 알아낼 수 있음\n",
    "\n",
    "    - m.match : 패턴과 일치하는 부분 문자열 전체\n",
    "    \n",
    "    - m.capture : 캡처된 부분 문자열의 배열\n",
    "    \n",
    "    - m.offset : 패턴과 일치하는 부문 문자열 전체의 시작점\n",
    "    \n",
    "    - m.offsets : 캡처된 부분 문자열들의 위치 배열\n",
    "    "
   ]
  },
  {
   "cell_type": "markdown",
   "id": "78c87ad2-e2ed-430a-9a21-c2183eef3e21",
   "metadata": {},
   "source": [
    "### 20.5 배열"
   ]
  },
  {
   "cell_type": "markdown",
   "id": "f046c1fc-d3ed-4145-ab3f-7a76513609eb",
   "metadata": {},
   "source": [
    "* **행렬(matrix)** : 2차원 배열\n",
    "\n",
    "* 2 x 3 행렬 만들기"
   ]
  },
  {
   "cell_type": "code",
   "execution_count": 33,
   "id": "da1efe3d-8318-4d40-94a8-754adf4307b7",
   "metadata": {},
   "outputs": [
    {
     "data": {
      "text/plain": [
       "2×3 Matrix{Float64}:\n",
       " 0.0  0.0  0.0\n",
       " 0.0  0.0  0.0"
      ]
     },
     "execution_count": 33,
     "metadata": {},
     "output_type": "execute_result"
    }
   ],
   "source": [
    "z = zeros(Float64, 2, 3)"
   ]
  },
  {
   "cell_type": "code",
   "execution_count": 34,
   "id": "f7f7e4e9-01d1-4579-8f6f-f9bd480f5d18",
   "metadata": {},
   "outputs": [
    {
     "data": {
      "text/plain": [
       "(2, 3)"
      ]
     },
     "execution_count": 34,
     "metadata": {},
     "output_type": "execute_result"
    }
   ],
   "source": [
    "size(z)"
   ]
  },
  {
   "cell_type": "code",
   "execution_count": 35,
   "id": "5513b693-fea8-42cf-9d0d-758f117f09fd",
   "metadata": {},
   "outputs": [
    {
     "data": {
      "text/plain": [
       "1×3 Matrix{String}:\n",
       " \"\"  \"\"  \"\""
      ]
     },
     "execution_count": 35,
     "metadata": {},
     "output_type": "execute_result"
    }
   ],
   "source": [
    "s = ones(String, 1, 3)"
   ]
  },
  {
   "cell_type": "markdown",
   "id": "3baac0d8-41cf-46d9-ad41-ff252e005c01",
   "metadata": {},
   "source": [
    "* 배열은 빈칸으로 한 행의 원소를 구분하고, 세미콜론(;)으로 행을 구분하는 방식으로 직접 입력할 수 있음"
   ]
  },
  {
   "cell_type": "code",
   "execution_count": 36,
   "id": "b7a04d2e-aa83-43d4-8202-0078fee305e7",
   "metadata": {},
   "outputs": [
    {
     "data": {
      "text/plain": [
       "2×3 Matrix{Int64}:\n",
       " 1  2  3\n",
       " 4  5  6"
      ]
     },
     "execution_count": 36,
     "metadata": {},
     "output_type": "execute_result"
    }
   ],
   "source": [
    "a = [1 2 3 ; 4 5 6]"
   ]
  },
  {
   "cell_type": "markdown",
   "id": "079842e3-4941-4a7c-80ad-f1336f717e90",
   "metadata": {},
   "source": [
    "* 개별 원소에 접근하기 위해 대괄호를 사용할 수 있음"
   ]
  },
  {
   "cell_type": "code",
   "execution_count": 37,
   "id": "080e5652-d3d8-42b0-9ab5-49e46945283a",
   "metadata": {},
   "outputs": [
    {
     "data": {
      "text/plain": [
       "2×3 Matrix{Float64}:\n",
       " 0.0  1.0  0.0\n",
       " 0.0  0.0  1.0"
      ]
     },
     "execution_count": 37,
     "metadata": {},
     "output_type": "execute_result"
    }
   ],
   "source": [
    "z[1, 2] = 1; \n",
    "z[2, 3] = 1;\n",
    "z"
   ]
  },
  {
   "cell_type": "markdown",
   "id": "86c5acb3-e7ef-4de1-8bdd-0a2c048b7045",
   "metadata": {},
   "source": [
    "* 문자열처럼 조각(slice)를 이용해 부분 행렬을 가져올 수 있음"
   ]
  },
  {
   "cell_type": "code",
   "execution_count": 38,
   "id": "1da714af-9ec2-4fcf-854c-b7bb37810721",
   "metadata": {},
   "outputs": [
    {
     "data": {
      "text/plain": [
       "2×2 Matrix{Float64}:\n",
       " 1.0  0.0\n",
       " 0.0  1.0"
      ]
     },
     "execution_count": 38,
     "metadata": {},
     "output_type": "execute_result"
    }
   ],
   "source": [
    "u = z[:, 2:end]"
   ]
  },
  {
   "cell_type": "markdown",
   "id": "2f924993-7b26-402f-a9f2-6d517dc41faa",
   "metadata": {},
   "source": [
    " * 도트 연산자는 모든 차원의 원소에 다 적용됨"
   ]
  },
  {
   "cell_type": "code",
   "execution_count": 39,
   "id": "33201fdb-67c1-4f32-a731-180535fbeaff",
   "metadata": {},
   "outputs": [
    {
     "data": {
      "text/plain": [
       "2×2 Matrix{ComplexF64}:\n",
       " 0.540302+0.841471im       1.0+0.0im\n",
       "      1.0+0.0im       0.540302+0.841471im"
      ]
     },
     "execution_count": 39,
     "metadata": {},
     "output_type": "execute_result"
    }
   ],
   "source": [
    "ℯ.^(im * u)"
   ]
  },
  {
   "cell_type": "markdown",
   "id": "ca55ddfb-e3eb-4019-86cd-0e595e123f52",
   "metadata": {},
   "source": [
    "### 20.6 인터페이스"
   ]
  },
  {
   "cell_type": "markdown",
   "id": "54dc0f5c-dcf1-4419-93b4-c27772eb0f68",
   "metadata": {},
   "source": [
    "* 줄리아는 어떤 동작을 정의하기 위해 몇 가지 비격식 인터페이스, 즉 특정 목적의 메서드를 사용함\n",
    "\n",
    "* 그런 메서드를 확장해 어떤 자료형에 대응할 수 있게 하면, 그 자료형의 객체도 그 동작의 대상이 될 수 있음\n",
    "\n",
    "* 어떤 컬렉션의 값들, 혹은 반복에 대해 루프를 도는 것도 인터페이스에 해당\n",
    "\n",
    "* **예시1)** 피보나치 수열을 느긋하게 반환하는 반복자 만들기 "
   ]
  },
  {
   "cell_type": "code",
   "execution_count": 40,
   "id": "8dc2ea30-97de-49be-a55f-4e3c50dde539",
   "metadata": {},
   "outputs": [],
   "source": [
    "struct Fibonacci{T<:Real} end\n",
    "Fibonacci(d::DataType) = d<:Real ? Fibonacci{d}() : error(\"No Real type!\")\n",
    "\n",
    "Base.iterate(::Fibonacci{T}) where {T<:Real} = (zero(T), (one(T), one(T)))\n",
    "Base.iterate(::Fibonacci{T}, state::Tuple{T, T}) where {T<:Real} = (state[1], (state[2], state[1] + state[2]))"
   ]
  },
  {
   "cell_type": "code",
   "execution_count": 41,
   "id": "0f4ab0ee-b599-49e5-8a63-ba14f38dde1e",
   "metadata": {},
   "outputs": [
    {
     "name": "stdout",
     "output_type": "stream",
     "text": [
      "0 1 1 2 3 5 8 13 21 34 55 89 "
     ]
    }
   ],
   "source": [
    "for e in Fibonacci(Int64)\n",
    "    e > 100 && break\n",
    "    print(e, \" \")\n",
    "end"
   ]
  },
  {
   "cell_type": "markdown",
   "id": "c3739249-7367-4055-87a7-e87fdf6c3b2f",
   "metadata": {},
   "source": [
    "내부적으로 for 루프는 아래와 같이 변환되어 실제 그 값이 꼭 필요해지기 전까지는 연산하지 않고는 lazy 연산을 수행함\n",
    "\n",
    "---\n",
    "```julia\n",
    "for i in iter\n",
    "    # body\n",
    "end\n",
    "```\n",
    "---\n",
    "\n",
    "```julia\n",
    "\n",
    "next = iterate(iter)\n",
    "while next !== nothing\n",
    "    (i, state) = next\n",
    "    # body\n",
    "    next = iterate(iter, state)\n",
    "end\n",
    "\n",
    "```"
   ]
  },
  {
   "cell_type": "markdown",
   "id": "8ed757d6-3711-4960-8a63-87d16e5d160d",
   "metadata": {},
   "source": [
    "### 20.7 대화형 도구"
   ]
  },
  {
   "cell_type": "markdown",
   "id": "a765b59e-102e-4d38-91f3-a1c26f85fb6c",
   "metadata": {},
   "source": [
    "* LLVM 라이브러리는 줄리아 코드를 CPU가 실행할 수 있는 기계(machine code)로 번역하는 과정을 여러 단계를 거쳐 수행함\n",
    "\n",
    "* ```using InteractiveUtilities``` (모듈)을 이용하여 각 단계의 출력을 직접적으로 시각화해서 볼 수 있음\n",
    "```\n",
    "```\n",
    "    * **@code_lowered** : 컴파일러가 최적화된 코드를 만들어내기 전 단계로 생성하는 중간 표현(intermediate representation)을 배열로 반환하며 중간 표현을 확인할 수 있는 매크로(저수준화 lowered 표현 확인 매크로)\n",
    "```\n",
    "```\n",
    "    * **@code_typed** : 각 단계의 결과와 반환값의 자료형이 잘 맞게 추론되었음을 확인하는 매크로\n",
    "```\n",
    "```\n",
    "    * **@code_llvm** : 중간 변환된 코드는 llvm 코드로 변환, 이때 변환된 llvm 코드를 확인하는 매크로 \n",
    "```\n",
    "```\n",
    "    * **@code_native** : 최종적으로 생성된 기계어를 확인하는 매크로"
   ]
  },
  {
   "cell_type": "code",
   "execution_count": 42,
   "id": "271e230c-1480-4452-b8cf-bf79a7c8f3d6",
   "metadata": {},
   "outputs": [
    {
     "data": {
      "text/plain": [
       "squaresum (generic function with 1 method)"
      ]
     },
     "execution_count": 42,
     "metadata": {},
     "output_type": "execute_result"
    }
   ],
   "source": [
    "function squaresum(a::Float64, b::Float64)\n",
    "    a^2 + b^2\n",
    "end"
   ]
  },
  {
   "cell_type": "code",
   "execution_count": 43,
   "id": "6cb111ba-8765-4942-90ca-4319730a6b63",
   "metadata": {},
   "outputs": [],
   "source": [
    "using InteractiveUtils"
   ]
  },
  {
   "cell_type": "code",
   "execution_count": 44,
   "id": "80f479c3-919b-4cd9-83d7-3c9d9076222b",
   "metadata": {},
   "outputs": [
    {
     "data": {
      "text/plain": [
       "CodeInfo(\n",
       "\u001b[90m1 ─\u001b[39m %1 = Core.apply_type(Base.Val, 2)\n",
       "\u001b[90m│  \u001b[39m %2 = (%1)()\n",
       "\u001b[90m│  \u001b[39m %3 = Base.literal_pow(Main.:^, a, %2)\n",
       "\u001b[90m│  \u001b[39m %4 = Core.apply_type(Base.Val, 2)\n",
       "\u001b[90m│  \u001b[39m %5 = (%4)()\n",
       "\u001b[90m│  \u001b[39m %6 = Base.literal_pow(Main.:^, b, %5)\n",
       "\u001b[90m│  \u001b[39m %7 = %3 + %6\n",
       "\u001b[90m└──\u001b[39m      return %7\n",
       ")"
      ]
     },
     "execution_count": 44,
     "metadata": {},
     "output_type": "execute_result"
    }
   ],
   "source": [
    "@code_lowered squaresum(3.0, 4.0)"
   ]
  },
  {
   "cell_type": "code",
   "execution_count": 45,
   "id": "e955f56f-acf1-4b3e-895e-e075d998dcc0",
   "metadata": {},
   "outputs": [
    {
     "data": {
      "text/plain": [
       "CodeInfo(\n",
       "\u001b[90m1 ─\u001b[39m %1 = Base.mul_float(a, a)\u001b[36m::Float64\u001b[39m\n",
       "\u001b[90m│  \u001b[39m %2 = Base.mul_float(b, b)\u001b[36m::Float64\u001b[39m\n",
       "\u001b[90m│  \u001b[39m %3 = Base.add_float(%1, %2)\u001b[36m::Float64\u001b[39m\n",
       "\u001b[90m└──\u001b[39m      return %3\n",
       ") => Float64"
      ]
     },
     "execution_count": 45,
     "metadata": {},
     "output_type": "execute_result"
    }
   ],
   "source": [
    "@code_typed squaresum(3.0, 4.0)"
   ]
  },
  {
   "cell_type": "code",
   "execution_count": 46,
   "id": "6df85830-bd4b-4f7a-be3b-92b44bc86d9f",
   "metadata": {},
   "outputs": [
    {
     "name": "stdout",
     "output_type": "stream",
     "text": [
      "\u001b[90m;  @ In[42]:1 within `squaresum`\u001b[39m\n",
      "\u001b[90m; Function Attrs: uwtable\u001b[39m\n",
      "\u001b[95mdefine\u001b[39m \u001b[36mdouble\u001b[39m \u001b[93m@julia_squaresum_3477\u001b[39m\u001b[33m(\u001b[39m\u001b[36mdouble\u001b[39m \u001b[0m%0\u001b[0m, \u001b[36mdouble\u001b[39m \u001b[0m%1\u001b[33m)\u001b[39m \u001b[0m#0 \u001b[33m{\u001b[39m\n",
      "\u001b[91mtop:\u001b[39m\n",
      "\u001b[90m;  @ In[42]:2 within `squaresum`\u001b[39m\n",
      "\u001b[90m; ┌ @ intfuncs.jl:321 within `literal_pow`\u001b[39m\n",
      "\u001b[90m; │┌ @ float.jl:385 within `*`\u001b[39m\n",
      "    \u001b[0m%2 \u001b[0m= \u001b[96m\u001b[1mfmul\u001b[22m\u001b[39m \u001b[36mdouble\u001b[39m \u001b[0m%0\u001b[0m, \u001b[0m%0\n",
      "    \u001b[0m%3 \u001b[0m= \u001b[96m\u001b[1mfmul\u001b[22m\u001b[39m \u001b[36mdouble\u001b[39m \u001b[0m%1\u001b[0m, \u001b[0m%1\n",
      "\u001b[90m; └└\u001b[39m\n",
      "\u001b[90m; ┌ @ float.jl:383 within `+`\u001b[39m\n",
      "   \u001b[0m%4 \u001b[0m= \u001b[96m\u001b[1mfadd\u001b[22m\u001b[39m \u001b[36mdouble\u001b[39m \u001b[0m%2\u001b[0m, \u001b[0m%3\n",
      "\u001b[90m; └\u001b[39m\n",
      "  \u001b[96m\u001b[1mret\u001b[22m\u001b[39m \u001b[36mdouble\u001b[39m \u001b[0m%4\n",
      "\u001b[33m}\u001b[39m\n"
     ]
    }
   ],
   "source": [
    "@code_llvm squaresum(3.0, 4.0)"
   ]
  },
  {
   "cell_type": "code",
   "execution_count": 47,
   "id": "da1c0ce1-74ef-49c6-948a-e1c3317a0e72",
   "metadata": {},
   "outputs": [
    {
     "name": "stdout",
     "output_type": "stream",
     "text": [
      "\t\u001b[0m.text\n",
      "\t\u001b[0m.file\t\u001b[0m\"squaresum\"\n",
      "\t\u001b[0m.globl\t\u001b[0mjulia_squaresum_3514            \u001b[90m# -- Begin function julia_squaresum_3514\u001b[39m\n",
      "\t\u001b[0m.p2align\t\u001b[33m4\u001b[39m\u001b[0m, \u001b[33m0x90\u001b[39m\n",
      "\t\u001b[0m.type\t\u001b[0mjulia_squaresum_3514\u001b[0m,\u001b[0m@function\n",
      "\u001b[91mjulia_squaresum_3514:\u001b[39m                   \u001b[90m# @julia_squaresum_3514\u001b[39m\n",
      "\u001b[90m; ┌ @ In[42]:1 within `squaresum`\u001b[39m\n",
      "\t\u001b[0m.cfi_startproc\n",
      "\u001b[90m# %bb.0:                                # %top\u001b[39m\n",
      "\t\u001b[96m\u001b[1mpushq\u001b[22m\u001b[39m\t\u001b[0m%rbp\n",
      "\t\u001b[0m.cfi_def_cfa_offset \u001b[33m16\u001b[39m\n",
      "\t\u001b[0m.cfi_offset \u001b[0m%rbp\u001b[0m, \u001b[33m-16\u001b[39m\n",
      "\t\u001b[96m\u001b[1mmovq\u001b[22m\u001b[39m\t\u001b[0m%rsp\u001b[0m, \u001b[0m%rbp\n",
      "\t\u001b[0m.cfi_def_cfa_register \u001b[0m%rbp\n",
      "\u001b[90m; │ @ In[42]:2 within `squaresum`\u001b[39m\n",
      "\u001b[90m; │┌ @ intfuncs.jl:321 within `literal_pow`\u001b[39m\n",
      "\u001b[90m; ││┌ @ float.jl:385 within `*`\u001b[39m\n",
      "\t\u001b[96m\u001b[1mvmulsd\u001b[22m\u001b[39m\t\u001b[0m%xmm0\u001b[0m, \u001b[0m%xmm0\u001b[0m, \u001b[0m%xmm0\n",
      "\t\u001b[96m\u001b[1mvmulsd\u001b[22m\u001b[39m\t\u001b[0m%xmm1\u001b[0m, \u001b[0m%xmm1\u001b[0m, \u001b[0m%xmm1\n",
      "\u001b[90m; │└└\u001b[39m\n",
      "\u001b[90m; │┌ @ float.jl:383 within `+`\u001b[39m\n",
      "\t\u001b[96m\u001b[1mvaddsd\u001b[22m\u001b[39m\t\u001b[0m%xmm1\u001b[0m, \u001b[0m%xmm0\u001b[0m, \u001b[0m%xmm0\n",
      "\u001b[90m; │└\u001b[39m\n",
      "\t\u001b[96m\u001b[1mpopq\u001b[22m\u001b[39m\t\u001b[0m%rbp\n",
      "\t\u001b[96m\u001b[1mretq\u001b[22m\u001b[39m\n",
      "\u001b[91m.Lfunc_end0:\u001b[39m\n",
      "\t\u001b[0m.size\t\u001b[0mjulia_squaresum_3514\u001b[0m, \u001b[0m.Lfunc_end0-julia_squaresum_3514\n",
      "\t\u001b[0m.cfi_endproc\n",
      "\u001b[90m; └\u001b[39m\n",
      "                                        \u001b[90m# -- End function\u001b[39m\n",
      "\t\u001b[0m.section\t\u001b[0m\".note.GNU-stack\"\u001b[0m,\u001b[0m\"\"\u001b[0m,\u001b[0m@progbits\n"
     ]
    }
   ],
   "source": [
    "@code_native squaresum(3.0, 4.0)"
   ]
  },
  {
   "cell_type": "markdown",
   "id": "4c8211ab-7022-479c-9026-ec0e7a284b47",
   "metadata": {},
   "source": [
    "### 20.8 디버깅"
   ]
  },
  {
   "cell_type": "markdown",
   "id": "d718279b-5d19-482e-a5f9-46c84ab36c67",
   "metadata": {},
   "source": [
    "* Logging 매크로는 print문을 이용한 스캐폴딩에 대한 대안을 제공함\n",
    "\n",
    "* **@debug** 매크로를 사용했다면, 이를 소스코드에서 제거할 필요는 없음\n",
    "\n",
    "* **@warn**과 다르게 **@debug**는 기본적으로 아무런 출력을 하지 않음"
   ]
  },
  {
   "cell_type": "code",
   "execution_count": 48,
   "id": "a24acfe6-c6f0-4609-b229-4ac8807bc994",
   "metadata": {},
   "outputs": [
    {
     "name": "stderr",
     "output_type": "stream",
     "text": [
      "┌ Warning: Abandon printf debugging, all ye who enter here!\n",
      "└ @ Main In[48]:1\n"
     ]
    }
   ],
   "source": [
    "@warn \"Abandon printf debugging, all ye who enter here!\""
   ]
  },
  {
   "cell_type": "code",
   "execution_count": 49,
   "id": "7c93ce2d-7023-423a-b31d-49905c61a2f8",
   "metadata": {},
   "outputs": [],
   "source": [
    "@debug \"The sum of some values $(sum(rand(100)))\""
   ]
  },
  {
   "cell_type": "markdown",
   "id": "62d62caa-1898-42f2-8d98-5c4e7b12cd51",
   "metadata": {},
   "source": [
    "* 디버그 메시지를 로그  파일에 저장하기 위해 **디버그 로킹** (debug logging)을 활성화한 경우가 아니라면 sum(rand(100))은 전혀 평가되지 않음\n",
    "\n",
    "* 쉘 스크립트에서 로깅의 수준은 환경 변수 JULIA_DEBUG 값으로 조정 가능\n",
    "\n",
    "* 예시) 환경 변수 JULIA_DEBUG 수정 쉘 스크립트\n",
    "```sh\n",
    "$JULIA_DEBUG=all julia -e '@debug \"The sum of some values $(sum(rand(100)))\"'\n",
    "```"
   ]
  },
  {
   "cell_type": "markdown",
   "id": "38a84a7c-05b9-4609-b6de-dbc603ccfde7",
   "metadata": {},
   "source": [
    "### 20.9 용어집"
   ]
  },
  {
   "cell_type": "markdown",
   "id": "4f8ae838-7c68-4fbe-a95b-35ac0c6ccb8b",
   "metadata": {},
   "source": [
    "* **집합** (set)\n",
    "\n",
    "    - 구별되는 객체들의 모음\n",
    "```\n",
    "```\n",
    "* **정규표현식** (regular expression)\n",
    "\n",
    "    - regex라고도 하며 탐색 패턴을 정의한 문자열\n",
    "    \n",
    "    - (참고) https://docs.julialang.org/en/v1/manual/strings/#man-regex-literals\n",
    "```\n",
    "```\n",
    "* **행렬** (matrix)\n",
    "\n",
    "    - 2차원 배열\n",
    "```\n",
    "```\n",
    "* **기계어** (machine code)\n",
    "\n",
    "    - 컴퓨터의 CPU에서 바로 실행될 수 있는 명령어들\n",
    "```\n",
    "```\n",
    "* **중간 표현** (intermediate representation)\n",
    "\n",
    "    - 컴파일러가 소스 코드를 다루기 위해 내부적으로 사용하는 자료구조\n",
    "```\n",
    "```\n",
    "* **디버그 로깅** (debug logging)\n",
    "\n",
    "    - 디버그 메시지를 로그 파일에 저장하는 일"
   ]
  }
 ],
 "metadata": {
  "kernelspec": {
   "display_name": "Julia 1.8.0",
   "language": "julia",
   "name": "julia-1.8"
  },
  "language_info": {
   "file_extension": ".jl",
   "mimetype": "application/julia",
   "name": "julia",
   "version": "1.8.0"
  }
 },
 "nbformat": 4,
 "nbformat_minor": 5
}
