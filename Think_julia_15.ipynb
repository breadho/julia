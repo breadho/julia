{
 "cells": [
  {
   "cell_type": "markdown",
   "id": "f634b37b-10c7-4cb4-88a0-2ffec1eb7bc8",
   "metadata": {},
   "source": [
    "# 줄리아를 생각하다(Think julia)"
   ]
  },
  {
   "cell_type": "markdown",
   "id": "274dd259-fe48-4ac0-9d91-ddc0aa04afec",
   "metadata": {},
   "source": [
    "## Chapter 15. 구조체와 객체"
   ]
  },
  {
   "cell_type": "markdown",
   "id": "8ea0a354-0ac6-484c-990e-cacb7e7891fa",
   "metadata": {},
   "source": [
    "**구조체(struct)** : 사용자가 정의하는 **복합 자료형(composite type)**"
   ]
  },
  {
   "cell_type": "markdown",
   "id": "b0b775d3-41e1-4eec-8cd8-d61c9ff537f4",
   "metadata": {},
   "source": [
    "**예제1)** 카르테시안 좌표평면 상 점을 나타내는 자료형 Point 생성"
   ]
  },
  {
   "cell_type": "code",
   "execution_count": 1,
   "id": "0167a8f2-d7cc-4968-a875-fcc8a01f121b",
   "metadata": {},
   "outputs": [],
   "source": [
    "struct Point\n",
    "    x\n",
    "    y\n",
    "end"
   ]
  },
  {
   "cell_type": "markdown",
   "id": "789fc9a9-6b86-4638-9cc1-d49c26652288",
   "metadata": {},
   "source": [
    "* **헤더:** 구조체 이름 Point 명시\n",
    "\n",
    "* **본문:** 구조체의 속성(attribute), 다른 말로 필드(field) 정의\n",
    "\n",
    "* **호출:** 구조체 Point를 마치 필드 값을 인수로 받는 함수로 취급하여 호출\n",
    "\n",
    "* **생성자(constructor):** 구조체가 함수로 사용될 경우 구조체를 이르는 말\n",
    "\n",
    "\n",
    "구조체는 객체를 생성하기 위한 공장과도 같음\n",
    "\n",
    "* 새로운 객체를 만드는 것을 **인스턴스 생성** (instantiation)\n",
    "\n",
    "* **인스턴스** (instance) : 자료형을 따라 생성된 객체\n",
    "\n",
    "* 어떤 인스턴스를 출력하면, 줄리아는 인스턴스의 자료형과 속성값이 무엇인지를 보여 줌"
   ]
  },
  {
   "cell_type": "code",
   "execution_count": 2,
   "id": "7420cb7f-d75a-4a62-8ee0-e2e89245340e",
   "metadata": {},
   "outputs": [
    {
     "data": {
      "text/plain": [
       "Point(3.0, 4.0)"
      ]
     },
     "execution_count": 2,
     "metadata": {},
     "output_type": "execute_result"
    }
   ],
   "source": [
    "p = Point(3.0, 4.0)"
   ]
  },
  {
   "cell_type": "markdown",
   "id": "05b6c60a-1fc6-40ba-9294-1d866829b943",
   "metadata": {},
   "source": [
    "### 15.2 구조체는 불변"
   ]
  },
  {
   "cell_type": "markdown",
   "id": "0b3d9c8a-5b90-4c2e-bb83-03419396934b",
   "metadata": {},
   "source": [
    "* 필드 값을 얻으려면 도트(.) 표기법을 사용\n",
    "\n",
    "* 표현식 p.x의 의미: 'p가 가리키는 객체로 가서 x의 값을 가져오시오'라는 뜻\n",
    "\n",
    "* 구조체는 기본적으로 불변이라 생성한 이후에는 필드 값을 바꿀 수 없음\n",
    "\n",
    "    - immutable struct of type Point cannot be changed\n",
    "\n",
    "        + 장점 1) 실행효율이 좋음\n",
    "        + 장점 2) 생성자에서 제공하는 불변식을 절대 위반할 수 없음\n",
    "        + 장점 3) 불변 객체를 사용하는 코드가 가독성이 더 좋음"
   ]
  },
  {
   "cell_type": "code",
   "execution_count": 3,
   "id": "f84b0422-720e-4576-b9a6-d350f4aa38e8",
   "metadata": {},
   "outputs": [
    {
     "data": {
      "text/plain": [
       "4.0"
      ]
     },
     "execution_count": 3,
     "metadata": {},
     "output_type": "execute_result"
    }
   ],
   "source": [
    "x = p.x\n",
    "y = p.y"
   ]
  },
  {
   "cell_type": "code",
   "execution_count": 4,
   "id": "6c1910cb-3bbe-45ff-aab2-823e91700762",
   "metadata": {},
   "outputs": [
    {
     "data": {
      "text/plain": [
       "5.0"
      ]
     },
     "execution_count": 4,
     "metadata": {},
     "output_type": "execute_result"
    }
   ],
   "source": [
    "distance = sqrt(p.x^2 + p.y^2)"
   ]
  },
  {
   "cell_type": "code",
   "execution_count": 5,
   "id": "e6ce675b-960c-4fd2-b16a-555eb0d61e83",
   "metadata": {},
   "outputs": [
    {
     "ename": "LoadError",
     "evalue": "setfield!: immutable struct of type Point cannot be changed",
     "output_type": "error",
     "traceback": [
      "setfield!: immutable struct of type Point cannot be changed",
      "",
      "Stacktrace:",
      " [1] setproperty!(x::Point, f::Symbol, v::Float64)",
      "   @ Base .\\Base.jl:39",
      " [2] top-level scope",
      "   @ In[5]:1",
      " [3] eval",
      "   @ .\\boot.jl:368 [inlined]",
      " [4] include_string(mapexpr::typeof(REPL.softscope), mod::Module, code::String, filename::String)",
      "   @ Base .\\loading.jl:1428"
     ]
    }
   ],
   "source": [
    "p.y = 1.0"
   ]
  },
  {
   "cell_type": "markdown",
   "id": "d439885d-5dff-4b45-b5bd-1ee20c3d2bb9",
   "metadata": {},
   "source": [
    "### 15.3 가변 구조체"
   ]
  },
  {
   "cell_type": "markdown",
   "id": "e757acf3-36b8-4447-9df6-da7ba6dfb7d9",
   "metadata": {},
   "source": [
    "* 필요 시 ```mutable struct``` 이용 가변 복합 자료형 생성 가능\n",
    "\n",
    "* 도트 표기법을 이용하면 가변 구조체 인스턴스의 값을 변경할 수 있음"
   ]
  },
  {
   "cell_type": "code",
   "execution_count": 6,
   "id": "b704f81e-a4d4-406b-8e30-ccadad22180b",
   "metadata": {},
   "outputs": [
    {
     "data": {
      "text/plain": [
       "MPoint(0.0, 0.0)"
      ]
     },
     "execution_count": 6,
     "metadata": {},
     "output_type": "execute_result"
    }
   ],
   "source": [
    "mutable struct MPoint\n",
    "    x\n",
    "    y\n",
    "end\n",
    "\n",
    "blank = MPoint(0.0, 0.0)"
   ]
  },
  {
   "cell_type": "code",
   "execution_count": 7,
   "id": "b508d1c4-b11c-47cd-b13f-57e47c6b484b",
   "metadata": {},
   "outputs": [
    {
     "name": "stdout",
     "output_type": "stream",
     "text": [
      "MPoint(3.0, 4.0)\n"
     ]
    }
   ],
   "source": [
    "blank.x = 3.0 ; blank.y = 4.0 ;\n",
    "\n",
    "println(blank)"
   ]
  },
  {
   "cell_type": "markdown",
   "id": "7431d2b6-51a9-4590-af5e-d78fe5d52c7b",
   "metadata": {},
   "source": [
    "### 15.4 직사각형 예시"
   ]
  },
  {
   "cell_type": "markdown",
   "id": "b486f581-8715-449c-bce3-242703545d32",
   "metadata": {},
   "source": [
    "사각형의 한 꼭짓점과 폭, 높이를 지정하는 직사각형 자료형 생성"
   ]
  },
  {
   "cell_type": "code",
   "execution_count": 8,
   "id": "4e58ec60-6c84-4ba8-babd-8166f2e2abbb",
   "metadata": {},
   "outputs": [
    {
     "data": {
      "text/plain": [
       "Rectangle"
      ]
     },
     "execution_count": 8,
     "metadata": {},
     "output_type": "execute_result"
    }
   ],
   "source": [
    "\"\"\"\n",
    "Represents a rectangle.\n",
    "\n",
    "fields: width, height, corner\n",
    "\"\"\"\n",
    "struct Rectangle\n",
    "    width\n",
    "    height\n",
    "    corner\n",
    "end"
   ]
  },
  {
   "cell_type": "code",
   "execution_count": 10,
   "id": "d36e5a2c-6364-4878-bc84-8b3b0380d7cb",
   "metadata": {},
   "outputs": [
    {
     "data": {
      "text/plain": [
       "MPoint(0.0, 0.0)"
      ]
     },
     "execution_count": 10,
     "metadata": {},
     "output_type": "execute_result"
    }
   ],
   "source": [
    "origin = MPoint(0.0, 0.0)"
   ]
  },
  {
   "cell_type": "code",
   "execution_count": 11,
   "id": "9f3fcbbf-bd56-4507-ab08-5663ac484020",
   "metadata": {},
   "outputs": [
    {
     "data": {
      "text/plain": [
       "Rectangle(100.0, 200.0, MPoint(0.0, 0.0))"
      ]
     },
     "execution_count": 11,
     "metadata": {},
     "output_type": "execute_result"
    }
   ],
   "source": [
    "box = Rectangle(100.0, 200.0, origin)"
   ]
  },
  {
   "cell_type": "markdown",
   "id": "85ff783b-9624-4048-b235-7dd8938acd7a",
   "metadata": {},
   "source": [
    "MPoint 객체가 Rectangle 객체 내에 내포(embedded)됨"
   ]
  },
  {
   "cell_type": "markdown",
   "id": "ae028eee-24ef-480e-932f-4844bb0c1495",
   "metadata": {},
   "source": [
    "### 15.5 인수로 쓰이는 인스턴스"
   ]
  },
  {
   "cell_type": "markdown",
   "id": "f3619914-f6af-481f-a648-987bc6443cd1",
   "metadata": {},
   "source": [
    "* 인스턴스는 변수와 마찬가지 방식으로 함수의 인수로 전달할 수 있음\n",
    "\n",
    "**예시1)** Point 객체를 인수로 받아서 수학에서 표기하는 방식으로 출력"
   ]
  },
  {
   "cell_type": "code",
   "execution_count": 12,
   "id": "bd5126ef-7700-4a72-9caa-c7c7b83af809",
   "metadata": {},
   "outputs": [
    {
     "data": {
      "text/plain": [
       "printpoint (generic function with 1 method)"
      ]
     },
     "execution_count": 12,
     "metadata": {},
     "output_type": "execute_result"
    }
   ],
   "source": [
    "function printpoint(p)\n",
    "    println(\"($(p.x), $(p.y))\")\n",
    "end"
   ]
  },
  {
   "cell_type": "code",
   "execution_count": 13,
   "id": "daf6bdae-7c23-4eba-88ce-da0148a43aad",
   "metadata": {},
   "outputs": [
    {
     "name": "stdout",
     "output_type": "stream",
     "text": [
      "(3.0, 4.0)\n"
     ]
    }
   ],
   "source": [
    "printpoint(blank)"
   ]
  },
  {
   "cell_type": "markdown",
   "id": "bad60c98-37b2-4337-ab59-c9e3fc4a02dd",
   "metadata": {},
   "source": [
    "**예시2)** 인수로 전달된 가변 구조체 객체의 필드 수정"
   ]
  },
  {
   "cell_type": "code",
   "execution_count": 14,
   "id": "83199388-1c9c-4cc7-af84-73d97fa2d609",
   "metadata": {},
   "outputs": [
    {
     "data": {
      "text/plain": [
       "movepoint! (generic function with 1 method)"
      ]
     },
     "execution_count": 14,
     "metadata": {},
     "output_type": "execute_result"
    }
   ],
   "source": [
    "function movepoint!(p, dx, dy)\n",
    "    p.x += dx\n",
    "    p.y += dy\n",
    "    nothing\n",
    "end"
   ]
  },
  {
   "cell_type": "code",
   "execution_count": 15,
   "id": "0c39c98d-ae57-4e77-92ce-71f22b10146f",
   "metadata": {},
   "outputs": [
    {
     "data": {
      "text/plain": [
       "MPoint(0.0, 0.0)"
      ]
     },
     "execution_count": 15,
     "metadata": {},
     "output_type": "execute_result"
    }
   ],
   "source": [
    "origin = MPoint(0.0, 0.0)"
   ]
  },
  {
   "cell_type": "code",
   "execution_count": 16,
   "id": "ad940cee-d556-45c8-87dc-8d663212750d",
   "metadata": {},
   "outputs": [],
   "source": [
    "movepoint!(origin, 1.0, 2.0)"
   ]
  },
  {
   "cell_type": "code",
   "execution_count": 17,
   "id": "5868e7e0-568d-4397-82d3-9b5fbdace3d6",
   "metadata": {},
   "outputs": [
    {
     "name": "stdout",
     "output_type": "stream",
     "text": [
      "MPoint(1.0, 2.0)"
     ]
    }
   ],
   "source": [
    "print(origin)"
   ]
  },
  {
   "cell_type": "code",
   "execution_count": 19,
   "id": "712cfac4-91bb-4db3-934b-08c58b157263",
   "metadata": {},
   "outputs": [
    {
     "ename": "LoadError",
     "evalue": "setfield!: immutable struct of type Point cannot be changed",
     "output_type": "error",
     "traceback": [
      "setfield!: immutable struct of type Point cannot be changed",
      "",
      "Stacktrace:",
      " [1] setproperty!(x::Point, f::Symbol, v::Float64)",
      "   @ Base .\\Base.jl:39",
      " [2] movepoint!(p::Point, dx::Float64, dy::Float64)",
      "   @ Main .\\In[14]:2",
      " [3] top-level scope",
      "   @ In[19]:3",
      " [4] eval",
      "   @ .\\boot.jl:368 [inlined]",
      " [5] include_string(mapexpr::typeof(REPL.softscope), mod::Module, code::String, filename::String)",
      "   @ Base .\\loading.jl:1428"
     ]
    }
   ],
   "source": [
    "# 불변 구조체인 Point의 객체를 넘기면 오류가 발생\n",
    "\n",
    "movepoint!(p, 1.0, 2.0)"
   ]
  },
  {
   "cell_type": "markdown",
   "id": "c8433394-8823-4f73-a4dd-b54e4109f3bd",
   "metadata": {},
   "source": [
    "**예시3)** 불변 객체의 가변 특성값(필드) 수정"
   ]
  },
  {
   "cell_type": "code",
   "execution_count": 25,
   "id": "cca83f66-b5bb-47fe-a211-13e97edfde0a",
   "metadata": {},
   "outputs": [
    {
     "data": {
      "text/plain": [
       "moverectangle! (generic function with 1 method)"
      ]
     },
     "execution_count": 25,
     "metadata": {},
     "output_type": "execute_result"
    }
   ],
   "source": [
    "function moverectangle!(rect, dx, dy)\n",
    "    movepoint!(rect.corner, dx, dy)\n",
    "end"
   ]
  },
  {
   "cell_type": "code",
   "execution_count": 21,
   "id": "3a197971-b0b6-4003-abd4-8a6b6d8513d5",
   "metadata": {},
   "outputs": [
    {
     "data": {
      "text/plain": [
       "Rectangle(100.0, 200.0, MPoint(0.0, 0.0))"
      ]
     },
     "execution_count": 21,
     "metadata": {},
     "output_type": "execute_result"
    }
   ],
   "source": [
    "box"
   ]
  },
  {
   "cell_type": "code",
   "execution_count": 26,
   "id": "46ff9872-4066-4fcb-a186-01691336b5df",
   "metadata": {},
   "outputs": [],
   "source": [
    "moverectangle!(box, 1.0, 2.0)"
   ]
  },
  {
   "cell_type": "code",
   "execution_count": 27,
   "id": "1c7cc857-efe3-43e4-ad14-26bbf03ff918",
   "metadata": {},
   "outputs": [
    {
     "data": {
      "text/plain": [
       "Rectangle(100.0, 200.0, MPoint(1.0, 2.0))"
      ]
     },
     "execution_count": 27,
     "metadata": {},
     "output_type": "execute_result"
    }
   ],
   "source": [
    "box"
   ]
  },
  {
   "cell_type": "markdown",
   "id": "dbea3d8c-32f1-4762-85da-5cdba154a133",
   "metadata": {},
   "source": [
    "Rectangle 구조체은 불변 객체이나,  Rectangle 구조체 origin 필드는 가변 구조체이므로 변경 가능 \n",
    "\n",
    "_단! 불변 객체의 가변 속성에 재할당을 할 수는 없음!_"
   ]
  },
  {
   "cell_type": "code",
   "execution_count": 28,
   "id": "4b9e0c67-406e-4a8b-9e28-bd415250fe16",
   "metadata": {},
   "outputs": [
    {
     "ename": "LoadError",
     "evalue": "setfield!: immutable struct of type Rectangle cannot be changed",
     "output_type": "error",
     "traceback": [
      "setfield!: immutable struct of type Rectangle cannot be changed",
      "",
      "Stacktrace:",
      " [1] setproperty!(x::Rectangle, f::Symbol, v::MPoint)",
      "   @ Base .\\Base.jl:39",
      " [2] top-level scope",
      "   @ In[28]:1",
      " [3] eval",
      "   @ .\\boot.jl:368 [inlined]",
      " [4] include_string(mapexpr::typeof(REPL.softscope), mod::Module, code::String, filename::String)",
      "   @ Base .\\loading.jl:1428"
     ]
    }
   ],
   "source": [
    "box.corner = MPoint(2.0, 3.0)"
   ]
  },
  {
   "cell_type": "markdown",
   "id": "0430d4f8-6afa-4535-9a3f-690734a5d584",
   "metadata": {},
   "source": [
    "### 15.6 반환값으로서의 인스턴스"
   ]
  },
  {
   "cell_type": "markdown",
   "id": "46a97fe6-5cad-4418-8db7-495df54ebaf6",
   "metadata": {},
   "source": [
    "함수는 인스턴스를 반환할 수 있음\n",
    "\n",
    "**예시1)** Rectangle 객체를 인수로 받아 직사각형의 중심 좌표(Point 객체) 반환 함수 작성"
   ]
  },
  {
   "cell_type": "code",
   "execution_count": 29,
   "id": "d3463ba0-f7fe-4064-9fa9-3df667a08311",
   "metadata": {},
   "outputs": [
    {
     "data": {
      "text/plain": [
       "findcenter (generic function with 1 method)"
      ]
     },
     "execution_count": 29,
     "metadata": {},
     "output_type": "execute_result"
    }
   ],
   "source": [
    "function findcenter(rect)\n",
    "    Point(rect.corner.x + rect.width/2, rect.corner.y + rect.height/2)\n",
    "end"
   ]
  },
  {
   "cell_type": "code",
   "execution_count": 30,
   "id": "b373947a-9bae-40ea-b4b7-1712e1514482",
   "metadata": {},
   "outputs": [
    {
     "data": {
      "text/plain": [
       "Point(51.0, 102.0)"
      ]
     },
     "execution_count": 30,
     "metadata": {},
     "output_type": "execute_result"
    }
   ],
   "source": [
    "center = findcenter(box)"
   ]
  },
  {
   "cell_type": "markdown",
   "id": "50babea7-bfd6-4aa0-ac25-d0815c704491",
   "metadata": {},
   "source": [
    "### 15.7 복사"
   ]
  },
  {
   "cell_type": "markdown",
   "id": "00166767-68de-4f16-a0fc-29897c020c0d",
   "metadata": {},
   "source": [
    "* **깊은 복사(deepcopy)** : 객체에 내포된 내용까지 복사하는 방식. 별칭 생성을 shallow copy로 대비해서 사용하기도 함"
   ]
  },
  {
   "cell_type": "code",
   "execution_count": 31,
   "id": "a18400a1-7b83-42b2-9c69-36a897524534",
   "metadata": {},
   "outputs": [
    {
     "data": {
      "text/plain": [
       "MPoint(3.0, 4.0)"
      ]
     },
     "execution_count": 31,
     "metadata": {},
     "output_type": "execute_result"
    }
   ],
   "source": [
    "p1 = MPoint(3.0, 4.0)\n",
    "p2 = deepcopy(p1)"
   ]
  },
  {
   "cell_type": "code",
   "execution_count": 32,
   "id": "2ac807a5-3111-4988-8120-94ce0984489a",
   "metadata": {},
   "outputs": [
    {
     "data": {
      "text/plain": [
       "false"
      ]
     },
     "execution_count": 32,
     "metadata": {},
     "output_type": "execute_result"
    }
   ],
   "source": [
    "p1 ≡ p2"
   ]
  },
  {
   "cell_type": "code",
   "execution_count": 33,
   "id": "d3d60023-6682-4fb2-89b8-4dabf4616cbf",
   "metadata": {},
   "outputs": [
    {
     "data": {
      "text/plain": [
       "false"
      ]
     },
     "execution_count": 33,
     "metadata": {},
     "output_type": "execute_result"
    }
   ],
   "source": [
    "p1 == p2"
   ]
  },
  {
   "cell_type": "markdown",
   "id": "53da2afe-82a6-43a4-99ab-28b456710d0b",
   "metadata": {},
   "source": [
    "* 가변 객체의 경우 == 연산자의 동작은 === 연산자의 동작과 동일함\n",
    "\n",
    "* 객체의 동일성(identical)만 확인하고 동등성(equivalent)는 확인하지 않음 -> 가변 복합 자료형의 경우 동등성을 판단할 수 있는 기준이 적어도 아직은 없으므로"
   ]
  },
  {
   "cell_type": "markdown",
   "id": "3d83410e-3741-4100-9cc8-006fc080b7d1",
   "metadata": {},
   "source": [
    "### 15.8 디버깅"
   ]
  },
  {
   "cell_type": "markdown",
   "id": "698117aa-63b8-47e8-b1d3-e35d43bf1cd3",
   "metadata": {},
   "source": [
    "**예시1)** 존재하지 않는 필드에 접근할 때 발생하는 오류"
   ]
  },
  {
   "cell_type": "code",
   "execution_count": 34,
   "id": "f743e62c-4d89-4da5-986d-4a27bd172ed6",
   "metadata": {},
   "outputs": [
    {
     "ename": "LoadError",
     "evalue": "type Point has no field z",
     "output_type": "error",
     "traceback": [
      "type Point has no field z",
      "",
      "Stacktrace:",
      " [1] setproperty!(x::Point, f::Symbol, v::Float64)",
      "   @ Base .\\Base.jl:39",
      " [2] top-level scope",
      "   @ In[34]:3",
      " [3] eval",
      "   @ .\\boot.jl:368 [inlined]",
      " [4] include_string(mapexpr::typeof(REPL.softscope), mod::Module, code::String, filename::String)",
      "   @ Base .\\loading.jl:1428"
     ]
    }
   ],
   "source": [
    "p = Point(3.0, 4.0)\n",
    "\n",
    "p.z = 1.0 \n"
   ]
  },
  {
   "cell_type": "markdown",
   "id": "87495601-a6ab-4199-9ab0-9de2583759c4",
   "metadata": {},
   "source": [
    "* 오류 발생 시 typeof 함수 이용 객체의 타입 확인\n",
    "\n",
    "* isa 이용 타입 여부 확인\n",
    "\n",
    "* fieldnames 함수 이용 객체의 속성 확인\n",
    "\n",
    "* isdefined 함수 이용 특정 속성이 있는지 여부 확인"
   ]
  },
  {
   "cell_type": "code",
   "execution_count": 35,
   "id": "aeadf9b3-e96f-4dd3-b917-3f65dbee899a",
   "metadata": {},
   "outputs": [
    {
     "data": {
      "text/plain": [
       "Point"
      ]
     },
     "execution_count": 35,
     "metadata": {},
     "output_type": "execute_result"
    }
   ],
   "source": [
    "# 오류 발생 시 typeof 함수 이용 객체의 타입 확인\n",
    "typeof(p)"
   ]
  },
  {
   "cell_type": "code",
   "execution_count": 36,
   "id": "20022247-60f5-41ab-9592-087c29869a3e",
   "metadata": {},
   "outputs": [
    {
     "data": {
      "text/plain": [
       "true"
      ]
     },
     "execution_count": 36,
     "metadata": {},
     "output_type": "execute_result"
    }
   ],
   "source": [
    "# isa 이용 타입 여부 확인\n",
    "p isa Point"
   ]
  },
  {
   "cell_type": "code",
   "execution_count": 37,
   "id": "e23181be-ffae-4617-a49f-e05b2887395e",
   "metadata": {},
   "outputs": [
    {
     "data": {
      "text/plain": [
       "(:x, :y)"
      ]
     },
     "execution_count": 37,
     "metadata": {},
     "output_type": "execute_result"
    }
   ],
   "source": [
    "# fieldnames 함수 이용 객체의 속성 확인\n",
    "fieldnames(Point)"
   ]
  },
  {
   "cell_type": "code",
   "execution_count": 38,
   "id": "be55c362-3bfe-4726-a91b-67b2ae4caec6",
   "metadata": {},
   "outputs": [
    {
     "data": {
      "text/plain": [
       "true"
      ]
     },
     "execution_count": 38,
     "metadata": {},
     "output_type": "execute_result"
    }
   ],
   "source": [
    "# isdefined 함수 이용 특정 속성이 있는지 여부 확인\n",
    "isdefined(p, :x)"
   ]
  },
  {
   "cell_type": "markdown",
   "id": "b0c839c9-e4df-4b69-88a1-799b6a4176d8",
   "metadata": {},
   "source": [
    "* ```:```는 심벌을 나타냄. **객체의 속성**, 즉 **필드** 임을 나타내며 타 언어와 다르게 필드명을 심볼 타입으로 처리\n",
    "\n",
    "* 타 언어의 방식과 같이 문자열로 객체의 속성(필드명)을 확인하려고 하면 에러가 발생함"
   ]
  },
  {
   "cell_type": "code",
   "execution_count": 39,
   "id": "d9a3424d-e8c3-4961-bbb4-a5588afe6d2a",
   "metadata": {},
   "outputs": [
    {
     "data": {
      "text/plain": [
       "true"
      ]
     },
     "execution_count": 39,
     "metadata": {},
     "output_type": "execute_result"
    }
   ],
   "source": [
    "isdefined(p, :y)"
   ]
  },
  {
   "cell_type": "code",
   "execution_count": 40,
   "id": "16a6bef8-b13a-48ba-b50b-3ae39931e191",
   "metadata": {},
   "outputs": [
    {
     "data": {
      "text/plain": [
       "(:x, :y)"
      ]
     },
     "execution_count": 40,
     "metadata": {},
     "output_type": "execute_result"
    }
   ],
   "source": [
    "fieldnames(MPoint)"
   ]
  },
  {
   "cell_type": "code",
   "execution_count": 41,
   "id": "559fa9d0-749c-487f-9584-23ad68cab5b6",
   "metadata": {},
   "outputs": [
    {
     "data": {
      "text/plain": [
       "(:width, :height, :corner)"
      ]
     },
     "execution_count": 41,
     "metadata": {},
     "output_type": "execute_result"
    }
   ],
   "source": [
    "fieldnames(Rectangle)"
   ]
  },
  {
   "cell_type": "code",
   "execution_count": 43,
   "id": "e8ebd849-3a91-4273-9304-aa9312736de3",
   "metadata": {},
   "outputs": [
    {
     "ename": "LoadError",
     "evalue": "TypeError: in isdefined, expected Symbol, got a value of type String",
     "output_type": "error",
     "traceback": [
      "TypeError: in isdefined, expected Symbol, got a value of type String",
      "",
      "Stacktrace:",
      " [1] top-level scope",
      "   @ In[43]:1",
      " [2] eval",
      "   @ .\\boot.jl:368 [inlined]",
      " [3] include_string(mapexpr::typeof(REPL.softscope), mod::Module, code::String, filename::String)",
      "   @ Base .\\loading.jl:1428"
     ]
    }
   ],
   "source": [
    "isdefined(p, \"y\")"
   ]
  },
  {
   "cell_type": "markdown",
   "id": "a9f355fb-efc1-47f7-af16-93b83b8b1d72",
   "metadata": {},
   "source": [
    "### 15.9 용어집"
   ]
  },
  {
   "cell_type": "markdown",
   "id": "8af0b722-45f9-43b1-8e1c-f014c5158be9",
   "metadata": {},
   "source": [
    "* **구조체** (struct)\n",
    "\n",
    "    - 이름 있는 필드의 모음을 갖고 있는 사용자 정의 자료형. 복합 자료형이라고도 함\n",
    "```\n",
    "```\n",
    "* **속성** (attribute)\n",
    "\n",
    "    - 객체와 관련된 이름 있는 값. 필드라고도 함\n",
    "```\n",
    "```\n",
    "* **생성자** (constructor)\n",
    "\n",
    "    - 어떤 자료형과 이름이 같고, 그 자료형의 인스턴스를 생성하는 기능을 하는 함수\n",
    "```\n",
    "```\n",
    "* **인스턴스** (instunce)\n",
    "\n",
    "    - 특정 자료형에 속하는 객체\n",
    "```\n",
    "```\n",
    "* **인스턴스 생성** (instantiate)\n",
    "\n",
    "    - 새로운 객체(인스턴스)를 만드는 행위\n",
    "```\n",
    "```\n",
    "* **객체 도식** (object diagram)\n",
    "\n",
    "    - 객체와 필드, 필드의 값을 표시한 도식\n",
    "```\n",
    "```\n",
    "* **내포된 객체** (embedded object)\n",
    "\n",
    "    - 다른 객체의 필드로 저장되어 있는 객체\n",
    "```\n",
    "```\n",
    "* **깊은 복사** (deep copy)\n",
    "\n",
    "    - 어떤 객체를 내포된 객체 모두를 포함해 복사하는 것. deepcopy 함수로 구현되어 있음"
   ]
  }
 ],
 "metadata": {
  "kernelspec": {
   "display_name": "Julia 1.8.0",
   "language": "julia",
   "name": "julia-1.8"
  },
  "language_info": {
   "file_extension": ".jl",
   "mimetype": "application/julia",
   "name": "julia",
   "version": "1.8.0"
  }
 },
 "nbformat": 4,
 "nbformat_minor": 5
}
