{
 "cells": [
  {
   "cell_type": "markdown",
   "id": "eee45bee-a733-44a6-9e49-65ba89f53d72",
   "metadata": {},
   "source": [
    "# 줄리아를 생각하다(Think julia)"
   ]
  },
  {
   "cell_type": "markdown",
   "id": "a5b710b4-fde6-4a7e-82a4-b9627a16f6fb",
   "metadata": {},
   "source": [
    "## Chapter 2. 변수, 표현식, 문장"
   ]
  },
  {
   "cell_type": "markdown",
   "id": "8e3f17f2-8220-40e1-a1ba-a79910a7eb18",
   "metadata": {},
   "source": [
    "* 변수(variable)란 값을 가리키는 이름"
   ]
  },
  {
   "cell_type": "markdown",
   "id": "bd2120ba-c342-4293-8779-d0c85b6c0719",
   "metadata": {},
   "source": [
    "### 2.1 할당문\n",
    "\n",
    "* 할당문(assignment statement)은 새로운 변수를 만들고, 그 변수에 값을 할당함"
   ]
  },
  {
   "cell_type": "code",
   "execution_count": 4,
   "id": "5ae4da3a-8445-4ea0-81b3-a7b3ba98dd9a",
   "metadata": {},
   "outputs": [
    {
     "data": {
      "text/plain": [
       "3.141592"
      ]
     },
     "execution_count": 4,
     "metadata": {},
     "output_type": "execute_result"
    }
   ],
   "source": [
    "message = \"And now for something completely different\"\n",
    "n = 17\n",
    "π_val = 3.141592 # \\pi 라고 치고 Tab을 누르면 유니코드 문자로 변환됨"
   ]
  },
  {
   "cell_type": "code",
   "execution_count": 3,
   "id": "a4fef2a4-ae45-4bb4-a287-a4f1e0fab615",
   "metadata": {},
   "outputs": [
    {
     "name": "stdout",
     "output_type": "stream",
     "text": [
      "And now for something completely different\n",
      "17\n",
      "3.141592\n"
     ]
    }
   ],
   "source": [
    "println(message, \"\\n\",  \n",
    "        n, \"\\n\",\n",
    "        π_val)"
   ]
  },
  {
   "cell_type": "markdown",
   "id": "9fda8ee9-2503-41c9-8b5a-e7effc17c002",
   "metadata": {},
   "source": [
    "### 2.2 변수명"
   ]
  },
  {
   "cell_type": "markdown",
   "id": "fc832ce7-e88a-4d3b-95e7-bd6f73eacc1e",
   "metadata": {},
   "source": [
    "* 프로그래머는 일반적으로 변수명을 유의미하게 지음\n",
    "\n",
    "* 변수명은 원하는 대로 지을 수 있으며, 거의 모든 유니코드(Unicode) 문자를 사용할 수 있음\n",
    "\n",
    "* 단, 숫자로 시작하면 안되며, 보통 소문자를 사용하는 것이 관습이나 다양한 방식의 관습이 있음 \n",
    "\n",
    "    - https://juniortoexpert.com/en/naming-convention/ 참고\n",
    "\n",
    "        + 보통 언더바를 넣은 snake case를 많이 사용함"
   ]
  },
  {
   "cell_type": "markdown",
   "id": "9dc7a06d-58a7-4068-987a-da06c08c49ac",
   "metadata": {},
   "source": [
    "* 변수명을 잘못 지으면 구문 오류(Syntax error)가 발생함\n",
    "\n",
    "    1) 76trombones는 숫자로 시작해서 에러가 발생\n",
    "\n",
    "    2) 사용하면 안되는 문자 @ 사용\n",
    "\n",
    "    3) 예약어(keyword) 사용 에러 (struct는 줄리아의 예약어임) "
   ]
  },
  {
   "cell_type": "code",
   "execution_count": 5,
   "id": "af165e16-c93e-4233-9eaf-b67e6582b28c",
   "metadata": {},
   "outputs": [
    {
     "ename": "LoadError",
     "evalue": "syntax: \"76\" is not a valid function argument name around In[5]:1",
     "output_type": "error",
     "traceback": [
      "syntax: \"76\" is not a valid function argument name around In[5]:1",
      "",
      "Stacktrace:",
      " [1] top-level scope",
      "   @ In[5]:1",
      " [2] eval",
      "   @ .\\boot.jl:368 [inlined]",
      " [3] include_string(mapexpr::typeof(REPL.softscope), mod::Module, code::String, filename::String)",
      "   @ Base .\\loading.jl:1428"
     ]
    }
   ],
   "source": [
    "76trombones = \"big parade\""
   ]
  },
  {
   "cell_type": "code",
   "execution_count": 6,
   "id": "66cde321-daa2-425e-bdbb-8743c402c5ec",
   "metadata": {},
   "outputs": [
    {
     "ename": "LoadError",
     "evalue": "syntax: extra token \"@\" after end of expression",
     "output_type": "error",
     "traceback": [
      "syntax: extra token \"@\" after end of expression",
      "",
      "Stacktrace:",
      " [1] top-level scope",
      "   @ In[6]:1",
      " [2] eval",
      "   @ .\\boot.jl:368 [inlined]",
      " [3] include_string(mapexpr::typeof(REPL.softscope), mod::Module, code::String, filename::String)",
      "   @ Base .\\loading.jl:1428"
     ]
    }
   ],
   "source": [
    "more@ = 100000"
   ]
  },
  {
   "cell_type": "code",
   "execution_count": 7,
   "id": "0c1cada3-271e-456f-b765-d3205b840a91",
   "metadata": {},
   "outputs": [
    {
     "ename": "LoadError",
     "evalue": "syntax: unexpected \"=\"",
     "output_type": "error",
     "traceback": [
      "syntax: unexpected \"=\"",
      "",
      "Stacktrace:",
      " [1] top-level scope",
      "   @ In[7]:1",
      " [2] eval",
      "   @ .\\boot.jl:368 [inlined]",
      " [3] include_string(mapexpr::typeof(REPL.softscope), mod::Module, code::String, filename::String)",
      "   @ Base .\\loading.jl:1428"
     ]
    }
   ],
   "source": [
    "struct = \"Advanced Theory\""
   ]
  },
  {
   "cell_type": "markdown",
   "id": "c8b19456-78da-42e8-b2fc-705d201ef1a4",
   "metadata": {},
   "source": [
    "**(참고) 줄리아의 예약어**\n",
    "\n",
    "- - -\n",
    "```julia\n",
    "abstract type  baremodule  begin break catch  \n",
    "const continue do else  elseif \n",
    "end export finally for false \n",
    "function global if import in\n",
    "let local macro module mutable struct \n",
    "primitive type  quote  return  true  try \n",
    "using  struct  where  while \n",
    "```\n",
    "- - -"
   ]
  },
  {
   "cell_type": "markdown",
   "id": "31c12e0f-634f-4b0b-84e7-eb5bf170a190",
   "metadata": {},
   "source": [
    "### 2.3 표현식과 문장"
   ]
  },
  {
   "cell_type": "markdown",
   "id": "dfb9ddf1-2bbf-4316-90c1-6c035286963a",
   "metadata": {},
   "source": [
    "* 표현식(expression)은 값, 변수, 연산자의 조합"
   ]
  },
  {
   "cell_type": "code",
   "execution_count": 9,
   "id": "7d528f18-c157-4d38-8d7f-23747fd48e90",
   "metadata": {},
   "outputs": [
    {
     "data": {
      "text/plain": [
       "59"
      ]
     },
     "execution_count": 9,
     "metadata": {},
     "output_type": "execute_result"
    }
   ],
   "source": [
    "n + 42"
   ]
  },
  {
   "cell_type": "markdown",
   "id": "4e55d9cd-15aa-4260-8a45-cc6a3478aa0c",
   "metadata": {},
   "source": [
    "* 문장(statement)은 변수를 만들거나, 값을 출력하는 등 어떤 작용을 하는 코드의 단위\n",
    "\n",
    "    * 문장을 넣으면 REPL은 그것을 실행함(execute) --> 문장에 담긴 지시를 그대로 이행한다는 의미"
   ]
  },
  {
   "cell_type": "code",
   "execution_count": 10,
   "id": "0579213a-55b4-4407-9ee2-1372fb3aa9cb",
   "metadata": {},
   "outputs": [
    {
     "data": {
      "text/plain": [
       "17"
      ]
     },
     "execution_count": 10,
     "metadata": {},
     "output_type": "execute_result"
    }
   ],
   "source": [
    "n = 17"
   ]
  },
  {
   "cell_type": "code",
   "execution_count": 11,
   "id": "3ac0a954-99ab-4202-8615-78195ea32c26",
   "metadata": {},
   "outputs": [
    {
     "name": "stdout",
     "output_type": "stream",
     "text": [
      "17\n"
     ]
    }
   ],
   "source": [
    "println(n)"
   ]
  },
  {
   "cell_type": "markdown",
   "id": "b21e5885-099e-43b4-91bc-6c0ffc3f91c8",
   "metadata": {},
   "source": [
    "### 2.4 스크립트 모드"
   ]
  },
  {
   "cell_type": "markdown",
   "id": "c6804edc-66ca-416c-b495-c222d0b7dcbe",
   "metadata": {},
   "source": [
    "* 스크립트 모드에서는 명시적으로 출력하라는 명령을 주지 않으면 화면에 표시하지 않음"
   ]
  },
  {
   "cell_type": "code",
   "execution_count": 15,
   "id": "54c8024d-70ec-4a44-9af9-e4732033433c",
   "metadata": {},
   "outputs": [
    {
     "data": {
      "text/plain": [
       "26.2"
      ]
     },
     "execution_count": 15,
     "metadata": {},
     "output_type": "execute_result"
    }
   ],
   "source": [
    "# REPL 모드 예시 1) \n",
    "miles = 26.2"
   ]
  },
  {
   "cell_type": "code",
   "execution_count": 16,
   "id": "76fae14c-99a3-435a-b13d-0b317e551a6e",
   "metadata": {},
   "outputs": [
    {
     "data": {
      "text/plain": [
       "42.182"
      ]
     },
     "execution_count": 16,
     "metadata": {},
     "output_type": "execute_result"
    }
   ],
   "source": [
    "# REPL 모드 예시 2) \n",
    "miles * 1.61"
   ]
  },
  {
   "cell_type": "code",
   "execution_count": 17,
   "id": "450a9a10-ca89-4dad-a3f2-d316204acf4c",
   "metadata": {},
   "outputs": [
    {
     "name": "stdout",
     "output_type": "stream",
     "text": [
      "42.182\n"
     ]
    }
   ],
   "source": [
    "# 스크립트 모드 예시 1)\n",
    "miles = 26.2 \n",
    "println(miles * 1.61)"
   ]
  },
  {
   "cell_type": "markdown",
   "id": "274f6b64-43cd-49c0-a2f9-4b303983695f",
   "metadata": {},
   "source": [
    "REPL 모드와 달리 ```miles = 26.2``` 은 출력되지 않음"
   ]
  },
  {
   "cell_type": "markdown",
   "id": "135eeefd-6192-4d09-b584-9c1e02a79244",
   "metadata": {},
   "source": [
    "### 2.5 연산자 우선순위\n",
    "\n",
    "* 표현식이 한 개 이상의 연산자를 가지고 있으면, 평가 순서는 **연산자 우선순위** (operator precendence)를 따름\n",
    "\n",
    "* **PEMDAS** : 괄호(parenthesis) - 거듭제곱(exponentiation) - 곱셈(multiplication) - 나눗셈(division) - 덧셈(addition) - 뺄셈(subtraction)"
   ]
  },
  {
   "cell_type": "markdown",
   "id": "ff05fa24-5f84-45b6-a7e0-f92a26b4c741",
   "metadata": {},
   "source": [
    "### 2.6 문자열 연산자"
   ]
  },
  {
   "cell_type": "markdown",
   "id": "ca942e19-5de0-416f-9215-dee4a22a9bee",
   "metadata": {},
   "source": [
    "일반적으로 문자열에 수학 연산자를 적용할 수는 없음"
   ]
  },
  {
   "cell_type": "code",
   "execution_count": 19,
   "id": "ccbc4eb4-2341-40fb-964c-805837d53599",
   "metadata": {},
   "outputs": [
    {
     "ename": "LoadError",
     "evalue": "MethodError: no method matching -(::String, ::String)",
     "output_type": "error",
     "traceback": [
      "MethodError: no method matching -(::String, ::String)",
      "",
      "Stacktrace:",
      " [1] top-level scope",
      "   @ In[19]:1",
      " [2] eval",
      "   @ .\\boot.jl:368 [inlined]",
      " [3] include_string(mapexpr::typeof(REPL.softscope), mod::Module, code::String, filename::String)",
      "   @ Base .\\loading.jl:1428"
     ]
    }
   ],
   "source": [
    "\"2\" - \"1\""
   ]
  },
  {
   "cell_type": "code",
   "execution_count": 20,
   "id": "683d3645-9934-416f-98c4-808cb0f35c7d",
   "metadata": {},
   "outputs": [
    {
     "ename": "LoadError",
     "evalue": "MethodError: no method matching /(::String, ::String)",
     "output_type": "error",
     "traceback": [
      "MethodError: no method matching /(::String, ::String)",
      "",
      "Stacktrace:",
      " [1] top-level scope",
      "   @ In[20]:1",
      " [2] eval",
      "   @ .\\boot.jl:368 [inlined]",
      " [3] include_string(mapexpr::typeof(REPL.softscope), mod::Module, code::String, filename::String)",
      "   @ Base .\\loading.jl:1428"
     ]
    }
   ],
   "source": [
    "\"eggs\" / \"easy\""
   ]
  },
  {
   "cell_type": "code",
   "execution_count": 21,
   "id": "78b6532d-244c-46ff-95bc-ef66972ff0ef",
   "metadata": {},
   "outputs": [
    {
     "ename": "LoadError",
     "evalue": "MethodError: no method matching +(::String, ::String)\n\u001b[0mClosest candidates are:\n\u001b[0m  +(::Any, ::Any, \u001b[91m::Any\u001b[39m, \u001b[91m::Any...\u001b[39m) at operators.jl:591",
     "output_type": "error",
     "traceback": [
      "MethodError: no method matching +(::String, ::String)\n\u001b[0mClosest candidates are:\n\u001b[0m  +(::Any, ::Any, \u001b[91m::Any\u001b[39m, \u001b[91m::Any...\u001b[39m) at operators.jl:591",
      "",
      "Stacktrace:",
      " [1] top-level scope",
      "   @ In[21]:1",
      " [2] eval",
      "   @ .\\boot.jl:368 [inlined]",
      " [3] include_string(mapexpr::typeof(REPL.softscope), mod::Module, code::String, filename::String)",
      "   @ Base .\\loading.jl:1428"
     ]
    }
   ],
   "source": [
    "\"third\" + \"a charm\""
   ]
  },
  {
   "cell_type": "markdown",
   "id": "2661c660-1506-4815-be80-0dc7f45acdba",
   "metadata": {},
   "source": [
    "* 다만 두 가지 예외가 있음 (```*``` 와 ```^```)\n",
    "\n",
    "    - ```*``` 연산자는 문자열 결합(string concatenation)으로 동작\n",
    "```\n",
    "```\n",
    "    - ```^``` 반복 문자열을 만드는 동작"
   ]
  },
  {
   "cell_type": "code",
   "execution_count": 23,
   "id": "4ee04649-72e8-4081-92b5-5d2a3fcfbc80",
   "metadata": {},
   "outputs": [
    {
     "data": {
      "text/plain": [
       "\"throatwarbler\""
      ]
     },
     "execution_count": 23,
     "metadata": {},
     "output_type": "execute_result"
    }
   ],
   "source": [
    "first_str = \"throat\"\n",
    "second_str = \"warbler\"\n",
    "first_str * second_str"
   ]
  },
  {
   "cell_type": "code",
   "execution_count": 24,
   "id": "bd172885-07ba-4419-9315-7c24689bb594",
   "metadata": {},
   "outputs": [
    {
     "data": {
      "text/plain": [
       "\"SpamSpamSpam\""
      ]
     },
     "execution_count": 24,
     "metadata": {},
     "output_type": "execute_result"
    }
   ],
   "source": [
    "\"Spam\"^3"
   ]
  },
  {
   "cell_type": "markdown",
   "id": "1129f359-929c-4534-a441-ce61c7b88fda",
   "metadata": {},
   "source": [
    "### 2.7 주석"
   ]
  },
  {
   "cell_type": "markdown",
   "id": "703896ef-bf18-4f5e-8dd3-a0bcfb97f690",
   "metadata": {},
   "source": [
    "* 주석(comment)은 프로그램의 동작에 대해, 자연어로 설명해 놓은 메모를 뜻하며, ```#``` 기호로 시작함\n",
    "\n",
    "* 주석은 해당 코드의 당연하지 않은 사항을 기록하는 데 유용함\n",
    "    - 코드를 읽는 사람이 그 코드가 무엇을 하는지는 알아낼 수 있다고 가정하고, 왜 그렇게 하는지를 설명하는 편이 좋음"
   ]
  },
  {
   "cell_type": "code",
   "execution_count": 26,
   "id": "e42e13b1-58fc-4929-a8d3-1559216ec713",
   "metadata": {},
   "outputs": [
    {
     "data": {
      "text/plain": [
       "100.0"
      ]
     },
     "execution_count": 26,
     "metadata": {},
     "output_type": "execute_result"
    }
   ],
   "source": [
    "# 분 단위의 시간(time)을 시간(hour)의 백분율로 계산함\n",
    "minute = 60\n",
    "percentage = (minute * 100) / 60"
   ]
  },
  {
   "cell_type": "code",
   "execution_count": 27,
   "id": "be2dc40e-6b84-49f6-ab73-736901fcd411",
   "metadata": {},
   "outputs": [
    {
     "data": {
      "text/plain": [
       "5"
      ]
     },
     "execution_count": 27,
     "metadata": {},
     "output_type": "execute_result"
    }
   ],
   "source": [
    "v = 5 # v에 5를 할당함\n",
    "v = 5 # 속도의 단위는 초당 미터(m/s)"
   ]
  },
  {
   "cell_type": "markdown",
   "id": "a6a405f3-c638-4d26-9231-f27e36f94884",
   "metadata": {},
   "source": [
    "### 2.8 디버깅"
   ]
  },
  {
   "cell_type": "markdown",
   "id": "2a7b9173-b912-4fea-b434-6b00686ed88f",
   "metadata": {},
   "source": [
    "* 오류의 세 종류 (상세 내용 21절 참조)\n",
    "\n",
    "    * **구문 오류(syntax error)** : 문법적 오류\n",
    "```\n",
    "```\n",
    "    * **실행 오류(runtime error)** : 프로그램이 실행된 뒤에야 나타나는 예외(exception)적 상황\n",
    "```\n",
    "```\n",
    "    * **의미 오류(semantic error)** : 작성자의 의도와 일치하지 않는 상황"
   ]
  }
 ],
 "metadata": {
  "kernelspec": {
   "display_name": "Julia 1.8.0",
   "language": "julia",
   "name": "julia-1.8"
  },
  "language_info": {
   "file_extension": ".jl",
   "mimetype": "application/julia",
   "name": "julia",
   "version": "1.8.0"
  }
 },
 "nbformat": 4,
 "nbformat_minor": 5
}
