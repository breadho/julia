{
 "cells": [
  {
   "cell_type": "markdown",
   "id": "6d4fc48f-f4e7-4732-b2a5-f5b682484d4b",
   "metadata": {},
   "source": [
    "# 줄리아를 생각하다 (Think Julia)"
   ]
  },
  {
   "cell_type": "markdown",
   "id": "22aac812-11d4-4396-8ff2-e035f84c008c",
   "metadata": {},
   "source": [
    "## Chapter 1. 프로그램의 길"
   ]
  },
  {
   "cell_type": "markdown",
   "id": "16e70732-7401-4f25-81a0-c0129b389681",
   "metadata": {},
   "source": [
    "### 1.1 프로그램이란 무엇인가"
   ]
  },
  {
   "cell_type": "markdown",
   "id": "c3bb1d19-f329-49a4-8738-bc01456bd83a",
   "metadata": {},
   "source": [
    "- 프로그램이란 연산을 수행하는 방식을 기술해 놓은 명령어의 나열\n",
    "\n",
    "- 프로그램 구성요소 \n",
    "    * 입력\n",
    "    * 출력\n",
    "    * 연산\n",
    "    * 조건부 실행\n",
    "    * 반복\n",
    "    "
   ]
  },
  {
   "cell_type": "markdown",
   "id": "f4e70992-be6b-4ba4-a0f2-1bc6be375531",
   "metadata": {},
   "source": [
    "### 1.2 줄리아 실행하기\n",
    "\n",
    "- REPL (Read, Evaluate, Print Loop)"
   ]
  },
  {
   "cell_type": "code",
   "execution_count": 1,
   "id": "18c71cd9-1fe7-4132-992f-414df8235f10",
   "metadata": {},
   "outputs": [
    {
     "data": {
      "text/plain": [
       "2"
      ]
     },
     "execution_count": 1,
     "metadata": {},
     "output_type": "execute_result"
    }
   ],
   "source": [
    "1+1"
   ]
  },
  {
   "cell_type": "markdown",
   "id": "b6aeb915-e83d-4fb2-b0c0-712800bd1791",
   "metadata": {},
   "source": [
    "### 1.3 첫 번째 프로그램"
   ]
  },
  {
   "cell_type": "markdown",
   "id": "0f724539-e2d7-4c88-94cb-7a60ea69f105",
   "metadata": {},
   "source": [
    "print by line"
   ]
  },
  {
   "cell_type": "code",
   "execution_count": 2,
   "id": "45e6506a-e3ca-4439-9266-22f55253d81b",
   "metadata": {},
   "outputs": [
    {
     "name": "stdout",
     "output_type": "stream",
     "text": [
      "Hello world\n"
     ]
    }
   ],
   "source": [
    "println(\"Hello world\")"
   ]
  },
  {
   "cell_type": "markdown",
   "id": "72512e14-ce17-452a-b528-5a3aafcad8b7",
   "metadata": {},
   "source": [
    "### 1.4 산술 연산자"
   ]
  },
  {
   "cell_type": "code",
   "execution_count": 4,
   "id": "0e2648a0-8a36-43c6-8381-8039b4d06406",
   "metadata": {},
   "outputs": [
    {
     "data": {
      "text/plain": [
       "42"
      ]
     },
     "execution_count": 4,
     "metadata": {},
     "output_type": "execute_result"
    }
   ],
   "source": [
    "40 + 2"
   ]
  },
  {
   "cell_type": "code",
   "execution_count": 5,
   "id": "0c0d40eb-3dce-49ef-b942-705bcc81ae29",
   "metadata": {},
   "outputs": [
    {
     "data": {
      "text/plain": [
       "42"
      ]
     },
     "execution_count": 5,
     "metadata": {},
     "output_type": "execute_result"
    }
   ],
   "source": [
    "43-1"
   ]
  },
  {
   "cell_type": "code",
   "execution_count": 6,
   "id": "6cd77c04-d191-4d0c-a15b-84fa1f2ff5a6",
   "metadata": {},
   "outputs": [
    {
     "data": {
      "text/plain": [
       "42"
      ]
     },
     "execution_count": 6,
     "metadata": {},
     "output_type": "execute_result"
    }
   ],
   "source": [
    "6*7"
   ]
  },
  {
   "cell_type": "markdown",
   "id": "d9fca376-7b2e-4735-a7fa-b134cfec15f4",
   "metadata": {},
   "source": [
    "### 1.5 값과 자료형"
   ]
  },
  {
   "cell_type": "markdown",
   "id": "6f0791c3-0bd4-4f23-b8ee-c59b39f17261",
   "metadata": {},
   "source": [
    "* 자료형\n",
    "    + 정수 integer\n",
    "    + 부동소수점수 floating point number\n",
    "    + 문자열 string (문자열이 string(끈)인 이유는 각 문자(character)가 끈으로 꿰어져 있는 것처럼 보여서 그렇다고 함)"
   ]
  },
  {
   "cell_type": "code",
   "execution_count": 7,
   "id": "99d194d3-a5c5-4726-9adb-08cba7bbbb65",
   "metadata": {},
   "outputs": [
    {
     "data": {
      "text/plain": [
       "Int64"
      ]
     },
     "execution_count": 7,
     "metadata": {},
     "output_type": "execute_result"
    }
   ],
   "source": [
    "typeof(2)"
   ]
  },
  {
   "cell_type": "code",
   "execution_count": 8,
   "id": "0ca94b7f-4519-44ea-99a2-9f2b29b04b3c",
   "metadata": {},
   "outputs": [
    {
     "data": {
      "text/plain": [
       "Float64"
      ]
     },
     "execution_count": 8,
     "metadata": {},
     "output_type": "execute_result"
    }
   ],
   "source": [
    "typeof(42.0)"
   ]
  },
  {
   "cell_type": "code",
   "execution_count": 9,
   "id": "d546854b-d575-4231-b5ea-eb9c35fce7ee",
   "metadata": {},
   "outputs": [
    {
     "data": {
      "text/plain": [
       "String"
      ]
     },
     "execution_count": 9,
     "metadata": {},
     "output_type": "execute_result"
    }
   ],
   "source": [
    "typeof(\"Hello, world\")"
   ]
  },
  {
   "cell_type": "markdown",
   "id": "12f2dad4-35de-49ec-a0a1-d8c767b71453",
   "metadata": {},
   "source": [
    "* 줄리아에서는 쉼표로 구분된 정수의 나열은 under bar를 이용함"
   ]
  },
  {
   "cell_type": "code",
   "execution_count": 10,
   "id": "1ce290d8-69c0-4395-8eb1-7f4849d5e4fd",
   "metadata": {},
   "outputs": [
    {
     "data": {
      "text/plain": [
       "(1, 0, 0)"
      ]
     },
     "execution_count": 10,
     "metadata": {},
     "output_type": "execute_result"
    }
   ],
   "source": [
    "1,000,000"
   ]
  },
  {
   "cell_type": "code",
   "execution_count": 11,
   "id": "aa884830-8b38-4fe0-9e28-bef42dae0d61",
   "metadata": {},
   "outputs": [
    {
     "data": {
      "text/plain": [
       "1000000"
      ]
     },
     "execution_count": 11,
     "metadata": {},
     "output_type": "execute_result"
    }
   ],
   "source": [
    "1_000_000"
   ]
  },
  {
   "cell_type": "markdown",
   "id": "8541b763-dba4-446a-8fe2-59709792dc0f",
   "metadata": {},
   "source": [
    "### 1.6 형식언어와 자연언어\n",
    "* 자연 언어의 문장과 형식 언어의 서술은 읽을 때 구조를 파악해야 함. -> 이때 구조를 파악하는 것을 구문 분석(Parsing)이라고 함"
   ]
  },
  {
   "cell_type": "markdown",
   "id": "a6adac5a-0587-4698-b671-fc76d16ba632",
   "metadata": {},
   "source": [
    "### 1.7 디버깅\n",
    "\n",
    "* 프로그램의 오류는 버그(bug)라고 부르고 오류를 찾아내서 없애는 과정은 디버깅(Debugging)이라고 부름"
   ]
  },
  {
   "cell_type": "markdown",
   "id": "50814f0f-9784-4443-b35f-93185fb5c5a2",
   "metadata": {},
   "source": [
    "### 1.8 용어집\n",
    "\n",
    "* **문제 해결: problem solving**\n",
    "\n",
    "    - 문제를 정의하고, 해결책을 찾고 표현하는 과정\n",
    "```\n",
    "```\n",
    "* **프로그램: Program**\n",
    "\n",
    "    - 어떤 연산을 하는 명령문의 나열\n",
    "```\n",
    "```\n",
    "* **REPL: Read, Evaluate, Print Loop** \n",
    "\n",
    "    - 반복적으로 입력을 읽고, 실행한 후, 결과를 출력하는 프로그램\n",
    "```\n",
    "```\n",
    "* **프롬프트: Prompt**\n",
    "\n",
    "    - REPL 프로그램이 사용자로부터 입력받을 준비가 되었음을 표시하는 문자열\n",
    "```\n",
    "```\n",
    "* **출력문 : print statement**\n",
    "\n",
    "    - 줄리아 REPL이 어떤 값을 화면에 출력하도록 하는 명령\n",
    "```\n",
    "```\n",
    "* **연산자 : operator**\n",
    "\n",
    "    - 덧셈, 곱셈, 문자열 결합과 같은 단순 연산을 표현하는 기호\n",
    "```\n",
    "```\n",
    "* **값 : value**\n",
    "\n",
    "    - 숫자나 문자열같이 프로그램이 다루는 자료의 기본 단위\n",
    "```\n",
    "```\n",
    "* **자료형 : type**\n",
    "\n",
    "    - 값의 범주\n",
    "```\n",
    "```\n",
    "* **정수 : integer**\n",
    "\n",
    "    - 정수를 표현하는 자료형\n",
    "```\n",
    "```\n",
    "* **부동소수점 : floating-point**\n",
    "\n",
    "    - 소수점이 있는 수를 표현하는 자료형\n",
    "```\n",
    "```\n",
    "* **문자열 : string**\n",
    "\n",
    "    - 문자의 나열을 표시하는 자료형\n",
    "```\n",
    "```\n",
    "* **자연언어 : natural language**\n",
    "\n",
    "    - 사람들이 사용하는 자연적으로 발생한 언어\n",
    "```\n",
    "```\n",
    "* **형식언어 : formal language**\n",
    "\n",
    "    - 수학적 아이디어나, 컴퓨터 프로그램처럼 특정한 목적을 가지고, 사람이 설계한 언어. 모든 프로그래밍 언어는 형식 언어임.\n",
    "```\n",
    "```\n",
    "* **구문 : syntax**\n",
    "\n",
    "    - 프로그램의 구조를 정하는 규칙\n",
    "```\n",
    "```\n",
    "* **구문 분석 : parse**\n",
    "\n",
    "    - 프로그램을 읽어서 구문 구조를 분석하는 행위\n",
    "```\n",
    "```\n",
    "* **버그 : bug**\n",
    "\n",
    "    - 프로그램의 오류\n",
    "```\n",
    "```\n",
    "* **디버깅 : debugging**\n",
    "\n",
    "    - 버그를 찾고, 고치는 행위\n",
    "    "
   ]
  }
 ],
 "metadata": {
  "kernelspec": {
   "display_name": "Julia 1.8.0",
   "language": "julia",
   "name": "julia-1.8"
  },
  "language_info": {
   "file_extension": ".jl",
   "mimetype": "application/julia",
   "name": "julia",
   "version": "1.8.0"
  }
 },
 "nbformat": 4,
 "nbformat_minor": 5
}
