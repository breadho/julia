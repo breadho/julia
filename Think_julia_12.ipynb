{
 "cells": [
  {
   "cell_type": "markdown",
   "id": "2e4d90c1-aa25-4e9c-b634-cd91fe5b2b02",
   "metadata": {},
   "source": [
    "# 줄리아를 생각하다(Think Julia)"
   ]
  },
  {
   "cell_type": "markdown",
   "id": "0a869d30-e376-4426-918d-2f940f2a8cd4",
   "metadata": {},
   "source": [
    "## Chapter 12. 튜플"
   ]
  },
  {
   "cell_type": "markdown",
   "id": "5f41ee20-8728-448c-ab3b-4f8a7bcbe218",
   "metadata": {},
   "source": [
    "### 12.1 튜플은 불변"
   ]
  },
  {
   "cell_type": "markdown",
   "id": "71836cd1-e398-4aa4-a60f-960b35b568a0",
   "metadata": {},
   "source": [
    "* **튜플(tuple)** 은 값의 순열\n",
    "\n",
    "* 값이란 어떤 자료형도될 수 있고, 정수로 참조됨\n",
    "\n",
    "* 튜플은 불변이고, 각 원소의 자료형이 제각각 일 수 있음"
   ]
  },
  {
   "cell_type": "code",
   "execution_count": 2,
   "id": "6bd62b47-8b19-4ac5-aba6-e36ca04237d6",
   "metadata": {},
   "outputs": [
    {
     "data": {
      "text/plain": [
       "('a', 'b', 'c', 'd', 'e')"
      ]
     },
     "execution_count": 2,
     "metadata": {},
     "output_type": "execute_result"
    }
   ],
   "source": [
    "t = 'a', 'b', 'c', 'd', 'e'\n",
    "\n",
    "# 보통 튜플은 괄호로 감싸게 됨\n",
    "\n",
    "t = ('a', 'b', 'c', 'd', 'e')"
   ]
  },
  {
   "cell_type": "markdown",
   "id": "3a00cc48-c065-4488-97c5-0830bae7f2e1",
   "metadata": {},
   "source": [
    "* 원소가 한 개짜리 튜플을 만들려면, 쉼표 하나를 뒤에 붙여야 함\n",
    "\n",
    "* 괄호 안에 있는 값에 쉼표가 붙지 않으면 Char 자료가 됨\n",
    "\n",
    "* 튜플을 만다는 또 다른 방법은 내장 함수 tuple을 사용하는 것\n",
    "\n",
    "    - tuple은 내장 함수 이므로 변수명으로 쓰는 것을 피해야 함"
   ]
  },
  {
   "cell_type": "code",
   "execution_count": 3,
   "id": "a5cc9463-f15c-4cbd-ad94-039cd02c3583",
   "metadata": {},
   "outputs": [
    {
     "name": "stdout",
     "output_type": "stream",
     "text": [
      "Tuple{Char}\n",
      "Char\n"
     ]
    }
   ],
   "source": [
    "t1 = ('a',)\n",
    "println(typeof(t1))\n",
    "\n",
    "t2 = ('a')\n",
    "println(typeof(t2))"
   ]
  },
  {
   "cell_type": "code",
   "execution_count": 4,
   "id": "e6c916cb-d59e-442f-8d35-12e48f803e10",
   "metadata": {},
   "outputs": [
    {
     "data": {
      "text/plain": [
       "()"
      ]
     },
     "execution_count": 4,
     "metadata": {},
     "output_type": "execute_result"
    }
   ],
   "source": [
    "tuple()"
   ]
  },
  {
   "cell_type": "code",
   "execution_count": 5,
   "id": "c90044ea-2398-4f9c-9ebd-5446ac3d0357",
   "metadata": {},
   "outputs": [
    {
     "data": {
      "text/plain": [
       "(1, 'a', π)"
      ]
     },
     "execution_count": 5,
     "metadata": {},
     "output_type": "execute_result"
    }
   ],
   "source": [
    "t3 = tuple(1, 'a', pi)"
   ]
  },
  {
   "cell_type": "markdown",
   "id": "3ca8d981-a485-427f-9c58-26501951beb3",
   "metadata": {},
   "source": [
    "* 대부분의 배열 연산자는 튜플에도 적용됨\n",
    "\n",
    "* 하지만 원소를 수정하려고 하면 오류가 발생함 -> 튜플은 불변(immutable) 하므로\n",
    "\n",
    "* 관계 연산자는 튜플과 다른 순열에도 적용됨"
   ]
  },
  {
   "cell_type": "code",
   "execution_count": 8,
   "id": "5b90989f-0950-404f-a1da-b9a404c93ccf",
   "metadata": {},
   "outputs": [
    {
     "name": "stdout",
     "output_type": "stream",
     "text": [
      "a\n",
      "('b', 'c')\n"
     ]
    }
   ],
   "source": [
    "t = ('a', 'b', 'c', 'd', 'e');\n",
    "\n",
    "println(t[1])\n",
    "println(t[2:3])"
   ]
  },
  {
   "cell_type": "code",
   "execution_count": 9,
   "id": "32920cd8-b6c2-4739-8e4b-a2bbba32936d",
   "metadata": {},
   "outputs": [
    {
     "ename": "LoadError",
     "evalue": "MethodError: no method matching setindex!(::NTuple{5, Char}, ::Char, ::Int64)",
     "output_type": "error",
     "traceback": [
      "MethodError: no method matching setindex!(::NTuple{5, Char}, ::Char, ::Int64)",
      "",
      "Stacktrace:",
      " [1] top-level scope",
      "   @ In[9]:1",
      " [2] eval",
      "   @ .\\boot.jl:368 [inlined]",
      " [3] include_string(mapexpr::typeof(REPL.softscope), mod::Module, code::String, filename::String)",
      "   @ Base .\\loading.jl:1428"
     ]
    }
   ],
   "source": [
    "t[1] = 'A'"
   ]
  },
  {
   "cell_type": "code",
   "execution_count": 10,
   "id": "6c203130-df2f-4cbc-afb7-3e22ccbbf779",
   "metadata": {},
   "outputs": [
    {
     "data": {
      "text/plain": [
       "true"
      ]
     },
     "execution_count": 10,
     "metadata": {},
     "output_type": "execute_result"
    }
   ],
   "source": [
    "(0, 1, 2) < (0, 3, 4)"
   ]
  },
  {
   "cell_type": "code",
   "execution_count": 11,
   "id": "14ee13a3-4746-4faf-b8e5-a3fdec20e141",
   "metadata": {},
   "outputs": [
    {
     "data": {
      "text/plain": [
       "false"
      ]
     },
     "execution_count": 11,
     "metadata": {},
     "output_type": "execute_result"
    }
   ],
   "source": [
    "(0, 1, 2) == (0, 3, 4)"
   ]
  },
  {
   "cell_type": "markdown",
   "id": "a7a230f3-0a32-49a3-a77b-bb81cd414df9",
   "metadata": {},
   "source": [
    "### 12.2 튜플 할당"
   ]
  },
  {
   "cell_type": "markdown",
   "id": "28208902-31e8-4eda-9b2e-79741d0f38a8",
   "metadata": {},
   "source": [
    "두 변수의 값을 서로 바꿀 일이 종종 발생할 때, **튜플 할당(tuple assignment)** 을 사용"
   ]
  },
  {
   "cell_type": "code",
   "execution_count": 13,
   "id": "f8f77ccd-025e-4914-9b80-3a6eaf40dd09",
   "metadata": {},
   "outputs": [
    {
     "name": "stdout",
     "output_type": "stream",
     "text": [
      "a , b : 2 , 1\n"
     ]
    }
   ],
   "source": [
    "# 일반적인 방법\n",
    "a = 1\n",
    "b = 2\n",
    "\n",
    "temp = a\n",
    "a = b\n",
    "b = temp\n",
    "\n",
    "println(\"a , b : \", a, \" , \" , b)"
   ]
  },
  {
   "cell_type": "code",
   "execution_count": 15,
   "id": "d4c9fe4c-21e2-4095-b5b5-cf4f5542ce83",
   "metadata": {},
   "outputs": [
    {
     "name": "stdout",
     "output_type": "stream",
     "text": [
      "a , b : 2 , 1\n"
     ]
    }
   ],
   "source": [
    "# 튜플 할당\n",
    "a = 1\n",
    "b = 2\n",
    "\n",
    "a,b = b, a\n",
    "\n",
    "println(\"a , b : \", a, \" , \" , b)"
   ]
  },
  {
   "cell_type": "markdown",
   "id": "66f6bffe-9e03-442e-9157-abb3997c2fed",
   "metadata": {},
   "source": [
    "* 왼쪽은 변수의 튜플이고, 오른쪽은 표현식의 튜플임\n",
    "\n",
    "* 각각의 값이 그에 맞는 변수에 할당\n",
    "\n",
    "* 이때, 오른쪽의 표현식은 할당이 일어나기 전에 먼저 모두 평가됨\n",
    "\n",
    "* 왼쪽의 변수 개수는 오른쪽에 있는 값들의 개수보다 작아야 함"
   ]
  },
  {
   "cell_type": "code",
   "execution_count": 16,
   "id": "49ce6216-72ab-4c1a-bc7f-847bb1d3b2f5",
   "metadata": {},
   "outputs": [
    {
     "data": {
      "text/plain": [
       "(1, 2, 3)"
      ]
     },
     "execution_count": 16,
     "metadata": {},
     "output_type": "execute_result"
    }
   ],
   "source": [
    "(a, b) = (1, 2, 3)"
   ]
  },
  {
   "cell_type": "code",
   "execution_count": 20,
   "id": "ae6c2c76-cbbe-4a08-a53c-43aa44acadee",
   "metadata": {},
   "outputs": [
    {
     "ename": "LoadError",
     "evalue": "BoundsError: attempt to access Tuple{Int64, Int64} at index [3]",
     "output_type": "error",
     "traceback": [
      "BoundsError: attempt to access Tuple{Int64, Int64} at index [3]",
      "",
      "Stacktrace:",
      " [1] indexed_iterate(t::Tuple{Int64, Int64}, i::Int64, state::Int64)",
      "   @ Base .\\tuple.jl:88",
      " [2] top-level scope",
      "   @ In[20]:3",
      " [3] eval",
      "   @ .\\boot.jl:368 [inlined]",
      " [4] include_string(mapexpr::typeof(REPL.softscope), mod::Module, code::String, filename::String)",
      "   @ Base .\\loading.jl:1428"
     ]
    }
   ],
   "source": [
    "# 오류 예시\n",
    "\n",
    "a, b, c = 1, 2"
   ]
  },
  {
   "cell_type": "markdown",
   "id": "5b7be41f-cccf-442f-a3b2-42cc79256336",
   "metadata": {},
   "source": [
    "* 일반화하자면 오른쪽이 어떤 순열이든 튜플 할당이 가능(문자열, 배열, 튜플).\n",
    "\n",
    "* **예시)** 이메일 주소를 분리해서 유저명과 도메인으로 나눌 때 사용"
   ]
  },
  {
   "cell_type": "code",
   "execution_count": 21,
   "id": "0fa19785-f57f-44fb-aea3-9b5d713575ef",
   "metadata": {},
   "outputs": [
    {
     "data": {
      "text/plain": [
       "\"julius.caesar@rome\""
      ]
     },
     "execution_count": 21,
     "metadata": {},
     "output_type": "execute_result"
    }
   ],
   "source": [
    "addr = \"julius.caesar@rome\""
   ]
  },
  {
   "cell_type": "code",
   "execution_count": 22,
   "id": "c5c520f8-10b9-422a-b4c5-48b09c3147fc",
   "metadata": {},
   "outputs": [],
   "source": [
    "uname, domain = split(addr, '@');"
   ]
  },
  {
   "cell_type": "code",
   "execution_count": 23,
   "id": "78941f34-ffd9-4724-8dd1-14b78b69f163",
   "metadata": {},
   "outputs": [
    {
     "name": "stdout",
     "output_type": "stream",
     "text": [
      "julius.caesar\n",
      "rome"
     ]
    }
   ],
   "source": [
    "print(uname, \"\\n\", domain)"
   ]
  },
  {
   "cell_type": "markdown",
   "id": "96617de8-7907-43f3-89cd-7ad7f23a07ec",
   "metadata": {},
   "source": [
    "### 12.3 반환값으로서의 튜플"
   ]
  },
  {
   "cell_type": "markdown",
   "id": "80a270fa-440c-4143-9b8a-5b8a8c59a063",
   "metadata": {},
   "source": [
    "* 함수가 반환하는 값이 튜플이라면 여러 변수를 반환하는 것으로 볼 수 있음\n",
    "\n",
    "* 내장 함수인 divrem은 두 개의 인수를 받아서 두 개의 값(몫, 나머지)을 가진 튜플을 반환함\n",
    "\n",
    "* 튜플 할당을 통해 두 변수에 분리해서 집어 넣을 수 있음"
   ]
  },
  {
   "cell_type": "code",
   "execution_count": 24,
   "id": "151cfa70-bb3f-498f-8ce9-58b5fc84af37",
   "metadata": {},
   "outputs": [
    {
     "data": {
      "text/plain": [
       "(2, 1)"
      ]
     },
     "execution_count": 24,
     "metadata": {},
     "output_type": "execute_result"
    }
   ],
   "source": [
    "t = divrem(7, 3)"
   ]
  },
  {
   "cell_type": "code",
   "execution_count": 27,
   "id": "aa1330c0-d692-40fc-9383-a73e16ccf652",
   "metadata": {},
   "outputs": [
    {
     "name": "stdout",
     "output_type": "stream",
     "text": [
      "q = 2\n",
      "r = 1\n"
     ]
    }
   ],
   "source": [
    "q, r = divrem(7, 3)\n",
    "\n",
    "@show q r;"
   ]
  },
  {
   "cell_type": "code",
   "execution_count": 28,
   "id": "00556611-9155-4b4b-8888-c3e3e4bf3e69",
   "metadata": {},
   "outputs": [
    {
     "data": {
      "text/plain": [
       "minmax (generic function with 1 method)"
      ]
     },
     "execution_count": 28,
     "metadata": {},
     "output_type": "execute_result"
    }
   ],
   "source": [
    "function minmax(t)\n",
    "    minimum(t), maximum(t)\n",
    "end"
   ]
  },
  {
   "cell_type": "code",
   "execution_count": 29,
   "id": "5134dfd3-4fef-4398-beae-3a6bc69706fb",
   "metadata": {},
   "outputs": [
    {
     "data": {
      "text/plain": [
       "1:100"
      ]
     },
     "execution_count": 29,
     "metadata": {},
     "output_type": "execute_result"
    }
   ],
   "source": [
    "t = 1:100"
   ]
  },
  {
   "cell_type": "code",
   "execution_count": 30,
   "id": "f3013a3f-152e-434c-bd91-3acc8401e237",
   "metadata": {},
   "outputs": [
    {
     "data": {
      "text/plain": [
       "(1, 100)"
      ]
     },
     "execution_count": 30,
     "metadata": {},
     "output_type": "execute_result"
    }
   ],
   "source": [
    "minmax(t)"
   ]
  },
  {
   "cell_type": "code",
   "execution_count": 32,
   "id": "33574bc3-6729-4fae-942c-4a3bdf6c10d0",
   "metadata": {},
   "outputs": [
    {
     "data": {
      "text/plain": [
       "(1, 100)"
      ]
     },
     "execution_count": 32,
     "metadata": {},
     "output_type": "execute_result"
    }
   ],
   "source": [
    "extrema(t) # 동일한 기능을 하는 내장함수"
   ]
  },
  {
   "cell_type": "markdown",
   "id": "2611c9d9-dc94-41b8-9205-ec4c30a77d20",
   "metadata": {},
   "source": [
    "### 12.4 가변 길이 인수 튜플"
   ]
  },
  {
   "cell_type": "markdown",
   "id": "81c16fa5-94bc-4411-af4f-1f4f1cb07ee1",
   "metadata": {},
   "source": [
    "* 함수는 다양한 개수의 인수를 받을 수 있으며, ... 으로 끝나는 이름을 가지는 매개변수는 여러 인수들을 **튜플로 수집(gather)함**"
   ]
  },
  {
   "cell_type": "code",
   "execution_count": 33,
   "id": "ba0785e2-34e2-4ee1-b1f5-d0cf1934e822",
   "metadata": {},
   "outputs": [
    {
     "data": {
      "text/plain": [
       "printall (generic function with 1 method)"
      ]
     },
     "execution_count": 33,
     "metadata": {},
     "output_type": "execute_result"
    }
   ],
   "source": [
    "function printall(args...)\n",
    "    println(args)\n",
    "end"
   ]
  },
  {
   "cell_type": "code",
   "execution_count": 34,
   "id": "ef2a8e43-9658-4810-b73a-fd360d945936",
   "metadata": {},
   "outputs": [
    {
     "name": "stdout",
     "output_type": "stream",
     "text": [
      "(1, 2.0, '3')\n"
     ]
    }
   ],
   "source": [
    "printall(1, 2.0, '3')"
   ]
  },
  {
   "cell_type": "markdown",
   "id": "19d910ac-9623-409c-80fb-7a8b512094ff",
   "metadata": {},
   "source": [
    "* 모으기의 반대는 **흩뿌리기(scatter)**\n",
    "\n",
    "* 어떤 순열이 있는데, 이것을 어떤 함수의 여러 인수로 넘기로 싶을때 ... 연산자를 사용할 수 있음"
   ]
  },
  {
   "cell_type": "code",
   "execution_count": 36,
   "id": "a6984c85-bbbd-4dcc-aaf7-6e92ed1e84b6",
   "metadata": {},
   "outputs": [
    {
     "ename": "LoadError",
     "evalue": "MethodError: no method matching divrem(::Tuple{Int64, Int64})\n\u001b[0mClosest candidates are:\n\u001b[0m  divrem(::T, \u001b[91m::Base.MultiplicativeInverses.MultiplicativeInverse{T}\u001b[39m) where T at multinverses.jl:152\n\u001b[0m  divrem(::Any, \u001b[91m::Any\u001b[39m) at div.jl:161\n\u001b[0m  divrem(::Any, \u001b[91m::Any\u001b[39m, \u001b[91m::RoundingMode\u001b[39m) at div.jl:164\n\u001b[0m  ...",
     "output_type": "error",
     "traceback": [
      "MethodError: no method matching divrem(::Tuple{Int64, Int64})\n\u001b[0mClosest candidates are:\n\u001b[0m  divrem(::T, \u001b[91m::Base.MultiplicativeInverses.MultiplicativeInverse{T}\u001b[39m) where T at multinverses.jl:152\n\u001b[0m  divrem(::Any, \u001b[91m::Any\u001b[39m) at div.jl:161\n\u001b[0m  divrem(::Any, \u001b[91m::Any\u001b[39m, \u001b[91m::RoundingMode\u001b[39m) at div.jl:164\n\u001b[0m  ...",
      "",
      "Stacktrace:",
      " [1] top-level scope",
      "   @ In[36]:3",
      " [2] eval",
      "   @ .\\boot.jl:368 [inlined]",
      " [3] include_string(mapexpr::typeof(REPL.softscope), mod::Module, code::String, filename::String)",
      "   @ Base .\\loading.jl:1428"
     ]
    }
   ],
   "source": [
    "# divrem 함수는 정확히 두 개의 인수를 받기 때문에 튜플은 인수로 받지 못함\n",
    "t = (7, 3);\n",
    "divrem(t)"
   ]
  },
  {
   "cell_type": "code",
   "execution_count": 37,
   "id": "73449a36-f323-4ddd-88af-9a581eef10b1",
   "metadata": {},
   "outputs": [
    {
     "data": {
      "text/plain": [
       "(2, 1)"
      ]
     },
     "execution_count": 37,
     "metadata": {},
     "output_type": "execute_result"
    }
   ],
   "source": [
    "# ... 흩뿌리기(scatter) 기능 사용 시 가능\n",
    "\n",
    "divrem(t...)"
   ]
  },
  {
   "cell_type": "markdown",
   "id": "9259ab92-fd88-41ef-8fb6-2bc996a1d4e3",
   "metadata": {},
   "source": [
    "* 많은 내장 함수는 가변 길이 인수 튜플을 사용함\n",
    "\n",
    "* 예를 들어 max 함수와 min 함수는 아무 개수의 인수를 받을 수 있음"
   ]
  },
  {
   "cell_type": "code",
   "execution_count": 38,
   "id": "9cf6bfdb-3dcd-40e4-8323-06d095f1dd6c",
   "metadata": {},
   "outputs": [
    {
     "data": {
      "text/plain": [
       "3"
      ]
     },
     "execution_count": 38,
     "metadata": {},
     "output_type": "execute_result"
    }
   ],
   "source": [
    "max(1, 2, 3)"
   ]
  },
  {
   "cell_type": "markdown",
   "id": "f26b66a3-7a03-4218-b45e-eb3e1e6202f3",
   "metadata": {},
   "source": [
    "### 12.5 배열과 튜플"
   ]
  },
  {
   "cell_type": "markdown",
   "id": "ec561882-4ab3-4708-ba55-4eb5e1138434",
   "metadata": {},
   "source": [
    "* 내장 함수 zip은 둘 이상의 순열을 받아서, 각 순열로부터 원소를 하나씩 뽑아서 만든 튜플의 모음을 반환함\n",
    "\n",
    "* zip 이라는 함수의 이름은 지퍼(zipper)에서 유래됨(두 줄의 이가 서로 맞물리게 해서 결함하는 지퍼와 같다는 의미)\n",
    "\n",
    "**예시)** 문자열과 배열을 zip 하는 예"
   ]
  },
  {
   "cell_type": "code",
   "execution_count": 42,
   "id": "c938458d-7b44-4f64-92ab-fe8cfaf73217",
   "metadata": {},
   "outputs": [
    {
     "data": {
      "text/plain": [
       "zip(\"abc\", [1, 2, 3])"
      ]
     },
     "execution_count": 42,
     "metadata": {},
     "output_type": "execute_result"
    }
   ],
   "source": [
    "s = \"abc\";\n",
    "t = [1, 2, 3];\n",
    "zip(s, t)"
   ]
  },
  {
   "cell_type": "code",
   "execution_count": 43,
   "id": "786f378f-f425-4a8a-9a0f-162dddb96f9c",
   "metadata": {},
   "outputs": [
    {
     "name": "stdout",
     "output_type": "stream",
     "text": [
      "('a', 1)\n",
      "('b', 2)\n",
      "('c', 3)\n"
     ]
    }
   ],
   "source": [
    "for pair in zip(s, t)\n",
    "    println(pair)\n",
    "end"
   ]
  },
  {
   "cell_type": "markdown",
   "id": "1dc4c914-5f96-4963-9ea4-48a11734a828",
   "metadata": {},
   "source": [
    "* **zip** 객체는 일종의 **반복자**(iterator)\n",
    "\n",
    "* 반복자는 어떤 순열을 가로지르며 구성 원소에 하나씩 접근할 수 있는 객체\n",
    "\n",
    "* 반복자는 배열과 비슷한 점이 있지만, 인덱스를 이용해 특정 원소에 접근하는 것이 불가능함\n",
    "\n",
    "* 반복자에 배열 연산자나 함수를 쓰고 싶다면 zip 객체를 배열로 변환 (collect 함수 이용)"
   ]
  },
  {
   "cell_type": "code",
   "execution_count": 44,
   "id": "6d3bc5f3-923f-4c71-a0fa-6d1bc04a4640",
   "metadata": {},
   "outputs": [
    {
     "data": {
      "text/plain": [
       "3-element Vector{Tuple{Char, Int64}}:\n",
       " ('a', 1)\n",
       " ('b', 2)\n",
       " ('c', 3)"
      ]
     },
     "execution_count": 44,
     "metadata": {},
     "output_type": "execute_result"
    }
   ],
   "source": [
    "collect(zip(s, t))"
   ]
  },
  {
   "cell_type": "code",
   "execution_count": 45,
   "id": "75c370e5-791f-405b-b69b-dbc6a2b97c34",
   "metadata": {},
   "outputs": [
    {
     "data": {
      "text/plain": [
       "3-element Vector{Tuple{Char, Char}}:\n",
       " ('A', 'e')\n",
       " ('n', 'l')\n",
       " ('n', 'k')"
      ]
     },
     "execution_count": 45,
     "metadata": {},
     "output_type": "execute_result"
    }
   ],
   "source": [
    "collect(zip(\"Anne\", \"elk\"))"
   ]
  },
  {
   "cell_type": "markdown",
   "id": "41cf22d6-66e9-4816-98cf-542da605c6a2",
   "metadata": {},
   "source": [
    "* 실행 결과는 튜플의 배열\n",
    "\n",
    "* 각 튜플이 문자열에서 한 글자, 배열에서 원소 하나를 순서에 맞게 가져옴\n",
    "\n",
    "* zip 함수에 전달되는 순열의 길이가 다르면, 짧은 쪽에 맞춰짐\n",
    "\n",
    "* for loop에서 튜플의 배열을 순회할 때 튜플 할당을 사용할 수 있음"
   ]
  },
  {
   "cell_type": "code",
   "execution_count": 47,
   "id": "a87c87fe-6110-48c8-98b3-4c8415f89158",
   "metadata": {},
   "outputs": [
    {
     "name": "stdout",
     "output_type": "stream",
     "text": [
      "1 a\n",
      "2 b\n",
      "3 c\n"
     ]
    }
   ],
   "source": [
    "t = [('a', 1), ('b', 2), ('c', 3)];\n",
    "\n",
    "# 주의: for (letter, number) 에서 괄호를 생략할 수 없음!\n",
    "\n",
    "for (letter, number) in t\n",
    "    println(number, \" \", letter)\n",
    "end"
   ]
  },
  {
   "cell_type": "markdown",
   "id": "51cb57a2-2861-4373-94b2-d81f76228a4a",
   "metadata": {},
   "source": [
    "* zip, for, tuple 할당을 조합하면, 둘 이상의 순열을 동시에 순회하는 유용한 패턴 가능 -> hasmatch 함수 예시\n",
    "\n",
    "* 어떤 순열에서 원소와 해당 인덱스를 순회하고 싶으며, 내장 함수 enumerate를 쓸 수 있음\n",
    "\n",
    "* enumerate 함수의 반환값은 열거 객체(enumerate object)인데, 열거 객체는 주어진 순열에 대해 (1부터 시작하는) 인덱스와 원소의 순서쌍을 순회하는 반복자임"
   ]
  },
  {
   "cell_type": "code",
   "execution_count": 48,
   "id": "c5e056b9-93be-43a3-b419-424f8b0b2828",
   "metadata": {},
   "outputs": [
    {
     "data": {
      "text/plain": [
       "hasmatch (generic function with 1 method)"
      ]
     },
     "execution_count": 48,
     "metadata": {},
     "output_type": "execute_result"
    }
   ],
   "source": [
    "function hasmatch(t1, t2)\n",
    "    for (x, y) in zip(t1, t2)\n",
    "        if x == y\n",
    "            return true\n",
    "        end\n",
    "    end \n",
    "    false\n",
    "end"
   ]
  },
  {
   "cell_type": "code",
   "execution_count": 49,
   "id": "a32cf2c2-f2e6-4a33-bb0f-a4cded2ad874",
   "metadata": {},
   "outputs": [
    {
     "name": "stdout",
     "output_type": "stream",
     "text": [
      "1 a\n",
      "2 b\n",
      "3 c\n"
     ]
    }
   ],
   "source": [
    "for (ind, element) in enumerate(\"abc\")\n",
    "    println(ind, \" \", element)\n",
    "end"
   ]
  },
  {
   "cell_type": "markdown",
   "id": "d8642c87-5031-4eb6-8a77-40dace461579",
   "metadata": {},
   "source": [
    "### 12.6 딕셔너리와 튜플"
   ]
  },
  {
   "cell_type": "markdown",
   "id": "12b2c0c1-79d1-4f38-98a8-677345988b50",
   "metadata": {},
   "source": [
    "* 딕셔너리는 키-값 쌍을 순회로 하는 반복자로 사용될 수 있음"
   ]
  },
  {
   "cell_type": "code",
   "execution_count": 51,
   "id": "a780ac11-eb0c-4bf5-b09a-b50471f90edf",
   "metadata": {},
   "outputs": [
    {
     "name": "stdout",
     "output_type": "stream",
     "text": [
      "a 1\n",
      "c 3\n",
      "b 2\n"
     ]
    }
   ],
   "source": [
    "d = Dict('a'=> 1, 'b' => 2, 'c' => 3);\n",
    "\n",
    "for (key, value) in d\n",
    "    println(key, \" \", value)\n",
    "end"
   ]
  },
  {
   "cell_type": "markdown",
   "id": "8ed050d9-e9c2-41fe-897e-6f034d238cd1",
   "metadata": {},
   "source": [
    "* 튜플의 배열을 이용한 새로운 딕셔너리 생성"
   ]
  },
  {
   "cell_type": "code",
   "execution_count": 52,
   "id": "cd411743-8ccb-4d82-a36f-4dd69deb9a7e",
   "metadata": {},
   "outputs": [
    {
     "data": {
      "text/plain": [
       "Dict{Char, Int64} with 3 entries:\n",
       "  'a' => 1\n",
       "  'c' => 3\n",
       "  'b' => 2"
      ]
     },
     "execution_count": 52,
     "metadata": {},
     "output_type": "execute_result"
    }
   ],
   "source": [
    "t = [('a', 1), ('c', 3), ('b', 2)];\n",
    "\n",
    "d = Dict(t)"
   ]
  },
  {
   "cell_type": "markdown",
   "id": "5764a9f7-88e4-483a-98dd-1dbc4c6779af",
   "metadata": {},
   "source": [
    "* Dict와 zip 결합을 통해서 간결하게 딕셔너리 생성"
   ]
  },
  {
   "cell_type": "code",
   "execution_count": 53,
   "id": "20ced80f-2e33-4f79-ac44-0bdab32b43ad",
   "metadata": {},
   "outputs": [
    {
     "data": {
      "text/plain": [
       "Dict{Char, Int64} with 3 entries:\n",
       "  'a' => 1\n",
       "  'c' => 3\n",
       "  'b' => 2"
      ]
     },
     "execution_count": 53,
     "metadata": {},
     "output_type": "execute_result"
    }
   ],
   "source": [
    "d = Dict(zip(\"abc\", 1:3))"
   ]
  },
  {
   "cell_type": "markdown",
   "id": "39e50248-3123-4306-a0a7-6bbf80dad7b3",
   "metadata": {},
   "source": [
    "**튜플은 딕셔너리의 키로도 자주 사용됨**\n",
    "\n",
    "예) (\"cleese\", \"John\") ----> \"008000 100 222\" \n",
    "\n",
    "Dict(tuple, value)"
   ]
  },
  {
   "cell_type": "markdown",
   "id": "3de27ddc-2b79-4cf8-a7d1-2b6fc525f9a6",
   "metadata": {},
   "source": [
    "### 12.7 순열의 순열"
   ]
  },
  {
   "cell_type": "markdown",
   "id": "63be6a3d-2c71-4f78-a35f-b9841a7fc56b",
   "metadata": {},
   "source": [
    "**튜플을 사용하는 것이 좋은 경우**\n",
    "\n",
    "* return 문 같은 상황에서 튜플을 생성하는 것이 배열보다 구문이 훨씬 간단함\n",
    "\n",
    "* 어떤 순열을 함수의 인수로 전달할 때 튜플을 사용하면, 의도치 않게 별칭이 생성되어 발생하는 문제를 피할 수 있음\n",
    "\n",
    "* 실행 성능을 높이는 것을 고려할 때, 컴파일러는 튜플 자료형을 특수하게 다룰 수 있음"
   ]
  },
  {
   "cell_type": "markdown",
   "id": "18644ae2-7301-45fe-9135-a45c284d9471",
   "metadata": {},
   "source": [
    "### 12.8 디버깅"
   ]
  },
  {
   "cell_type": "markdown",
   "id": "8883f1ef-bd65-4288-bbaf-5bcc8e7fae21",
   "metadata": {},
   "source": [
    "* 배열, 딕셔너리, 튜플은 모두 **자료구조(data structure)**\n",
    "\n",
    "* 튜플의 배열이나, 튜플을 키나 값으로 쓰는 딕셔너리 같은 복합 자료구조는 유용하지만 **모양 오류(shape error)** 가 발생하기 쉬움\n",
    "\n",
    "* **모양 오류(shape error)** 는 자료구조가 잘못된 자료형이나 크기, 구조를 가질 때 발생하는 오류\n",
    "\n",
    "* 줄리아에서는 순열의 원소가 어떤 자료형이어야 하는지 지정할 수 있으며, 이처럼 자료형을 명시하면 많은 shape error를 제거할 수 있음"
   ]
  },
  {
   "cell_type": "markdown",
   "id": "e1c22c70-2dd7-464d-8546-52e3214a4735",
   "metadata": {},
   "source": [
    "### 12.9 용어집"
   ]
  },
  {
   "cell_type": "markdown",
   "id": "9f31132d-118f-49b0-ad16-55b28c3e94ad",
   "metadata": {},
   "source": [
    "* **튜플(tuple)**\n",
    "\n",
    "    - 자료형이 제각각인 원소들로 이루어진 불변 순열\n",
    "```\n",
    "```\n",
    "* **튜플 할당(tuple assignment)**\n",
    "\n",
    "    - 우변에는 순열이 있고 좌변에는 변수의 튜플이 있는 할당. 먼저 우변의 표현식이 모두 평가된 후 좌변의 변수에 각각 할당된다.\n",
    "```\n",
    "```\n",
    "* **모으기(gather)**\n",
    "\n",
    "    - 인수들의 나열을 가변 길이 인수 튜플로 조립하는 동작\n",
    "```\n",
    "```\n",
    "* **흩뿌리기(scatter)**\n",
    "\n",
    "    - 순열을 인수들의 나열로 취급하는 동작\n",
    "```\n",
    "```\n",
    "* **zip 객체(zip object)**\n",
    "\n",
    "    - 내장함수 zip을 호출한 결과로, 튜들의 순열을 순회할 수 있게 하는 객체\n",
    "```\n",
    "```\n",
    "* **반복자(iterator)**\n",
    "\n",
    "    - 순열을 순회할 수 있게 하는 객체. 배열에 대한 연산이나 함수를 반복자에 사용할 수 없다.\n",
    "```\n",
    "```\n",
    "* **자료구조(data structure)**\n",
    "\n",
    "    - 연관된 값의 모음으로 흔히 배열, 딕셔너리, 튜플 등으로 체계화됨\n",
    "```\n",
    "```\n",
    "* **모양 오류(shape error)**\n",
    "\n",
    "    - 값이 잘못된 모양을 가지고 있기 때문에 발생하는 오류. 잘못된 모양이란 잘못된 자료형이나 크기를 가졌다는 것을 의미"
   ]
  }
 ],
 "metadata": {
  "kernelspec": {
   "display_name": "Julia 1.8.0",
   "language": "julia",
   "name": "julia-1.8"
  },
  "language_info": {
   "file_extension": ".jl",
   "mimetype": "application/julia",
   "name": "julia",
   "version": "1.8.0"
  }
 },
 "nbformat": 4,
 "nbformat_minor": 5
}
