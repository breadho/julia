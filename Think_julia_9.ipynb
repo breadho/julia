{
 "cells": [
  {
   "cell_type": "markdown",
   "id": "e5176e2f-0fb2-423c-b743-da02445d0645",
   "metadata": {},
   "source": [
    "# 줄리아를 생각하다(Think Julia)"
   ]
  },
  {
   "cell_type": "markdown",
   "id": "9d214e22-2935-473c-b020-712302d7c0f8",
   "metadata": {},
   "source": [
    "## Chapter 9. 사례 연구: 단어로 놀기"
   ]
  },
  {
   "cell_type": "markdown",
   "id": "b9caccae-0397-43f0-8a16-ba5c6f3fa580",
   "metadata": {},
   "source": [
    "### 9.1 단어 목록 읽기"
   ]
  },
  {
   "cell_type": "markdown",
   "id": "d449ef7a-aafd-4f83-8dc8-188bdd6cb6c8",
   "metadata": {},
   "source": [
    "* 그레이디 워드(grady word): 모비 어휘 목록 프로젝트의 일환으로 퍼블릭 도메인으로 배포한 단어 목록 중 하나\n",
    "\n",
    "    * 113,809개 공식 십자말풀이 단어로서 십자말풀이 퍼즐이나 기타 다른 단어 게임의 유요한 답으로 사용할 수 있다고 인정되는 단어들\n",
    "    \n",
    "    * 원저자의 깃허브에서 간단한 txt 파일로 준비된 words.txt 파일을 다운로드 할 수 있음(https://github.com/BenLauwens/ThinkJulia.jl)"
   ]
  },
  {
   "cell_type": "markdown",
   "id": "b0475ce9-1d23-4ac8-a1a1-7ddb751e0ef2",
   "metadata": {},
   "source": [
    "**(open)** 줄리아의 내장 함수 ```open``` 함수를 이용하여 데이터 불러오기\n",
    "\n",
    "    (내장 항수 open은 파일명을 매개변수로 받아 파일 스트림(file stream)을 반환함)"
   ]
  },
  {
   "cell_type": "code",
   "execution_count": 1,
   "id": "a3414fea-04ce-4036-aee7-e521494c774d",
   "metadata": {},
   "outputs": [
    {
     "data": {
      "text/plain": [
       "IOStream(<file ./data/words.txt>)"
      ]
     },
     "execution_count": 1,
     "metadata": {},
     "output_type": "execute_result"
    }
   ],
   "source": [
    "fin = open(\"./data/words.txt\")"
   ]
  },
  {
   "cell_type": "markdown",
   "id": "20bf6de1-e850-4a12-a8b4-4289c23bd012",
   "metadata": {},
   "source": [
    "**fin** 은 입력을 받기 위해 사용하는 파일 스트림임. 더 이상 필요하지 않으며, **close(fin)** 을 호출해서 닫아주어야 함"
   ]
  },
  {
   "cell_type": "markdown",
   "id": "e7cf40f9-b1df-4531-bccb-e66604045ae3",
   "metadata": {},
   "source": [
    "**(readline)** 개행문자(newline)가 나올때까지 문자들을 읽어 문자열로 반환하는 readline 함수 이용"
   ]
  },
  {
   "cell_type": "code",
   "execution_count": 2,
   "id": "dc35c9f8-2715-4761-8402-fe3c86a393fb",
   "metadata": {},
   "outputs": [
    {
     "data": {
      "text/plain": [
       "\"aa\""
      ]
     },
     "execution_count": 2,
     "metadata": {},
     "output_type": "execute_result"
    }
   ],
   "source": [
    "readline(fin)"
   ]
  },
  {
   "cell_type": "code",
   "execution_count": 3,
   "id": "bc700649-63a9-4fb0-b6e6-bdf6a8b32112",
   "metadata": {},
   "outputs": [
    {
     "data": {
      "text/plain": [
       "\"aah\""
      ]
     },
     "execution_count": 3,
     "metadata": {},
     "output_type": "execute_result"
    }
   ],
   "source": [
    "readline(fin)"
   ]
  },
  {
   "cell_type": "markdown",
   "id": "f2586d72-e8b2-4f37-89fe-869b0a684fc7",
   "metadata": {},
   "source": [
    "words.txt 파일 내 단어를 확인하고자 한다면\n",
    "\n",
    "```julia\n",
    "for line in eachline(\"./data/words.txt\")\n",
    "    println(line)\n",
    "end\n",
    "```\n",
    "\n",
    "for문을 실행하여 113,809개의 단어를 확인할 수 있음 -> REPL 또는 VScode에서 실행하기를 권장함"
   ]
  },
  {
   "cell_type": "markdown",
   "id": "2ebf8bd2-869e-4eeb-883e-cda768f29751",
   "metadata": {},
   "source": [
    "![image.png](capture_and_drawing/test3.png)"
   ]
  },
  {
   "cell_type": "markdown",
   "id": "bb72e48b-bc18-45fb-a876-54381488d881",
   "metadata": {},
   "source": [
    "#### 연습 9-1\n",
    "**words.txt 파일을 읽어서 길이가 20글자 이상인 단어만 출력하는 프로그램을 작성하시오.**\n",
    "\n",
    "```julia\n",
    "\n",
    "    i = 1 # 초기화\n",
    "\n",
    "    for line in eachline(\"./data/words.txt\")\n",
    "        if length(line) >= 20\n",
    "            println(i,\": \", line)\n",
    "        end\n",
    "        i = i + 1\n",
    "    end\n",
    "    \n",
    "```\n",
    "\n"
   ]
  },
  {
   "cell_type": "code",
   "execution_count": 5,
   "id": "46cc34d7-157d-4c6b-bf56-9228f8238aaa",
   "metadata": {},
   "outputs": [
    {
     "name": "stdout",
     "output_type": "stream",
     "text": [
      "21685: counterdemonstration\n",
      "21686: counterdemonstrations\n",
      "21688: counterdemonstrators\n",
      "47409: hyperaggressivenesses\n",
      "47440: hypersensitivenesses\n",
      "60406: microminiaturization\n",
      "60407: microminiaturizations\n",
      "83488: representativenesses\n"
     ]
    }
   ],
   "source": [
    "i = 0 # 초기화\n",
    "\n",
    " for line in eachline(\"./data/words.txt\")\n",
    "    i = i + 1\n",
    "    if length(line) >= 20\n",
    "        println(i,\": \", line)\n",
    "    end\n",
    "end"
   ]
  },
  {
   "cell_type": "markdown",
   "id": "3372efca-8609-4af0-9393-75357ced0b22",
   "metadata": {},
   "source": [
    "#### 연습 9-2\n",
    "\n",
    "**주어진 단어에 글자 e가 없으면 true를 반환하는 hasno_e 함수를 작성하고 e가 없는 단어만 출력하시오.**\n",
    "             (e가 없는 단어의 비율도 함께 구하시오.)\n",
    "\n",
    "\n",
    " *_약 3만개 이상의 단어가 출력되므로 REPL 내지 VS 코드에서 실행하는 것을 권장함_\n",
    "\n",
    "```julia\n",
    "\n",
    "# 연습 9-2\n",
    "\n",
    "function hasno_e(word)\n",
    "    for letter in word\n",
    "        if letter == 'e'\n",
    "            return false\n",
    "        end\n",
    "    end\n",
    "    true\n",
    "end\n",
    "\n",
    "i = 0\n",
    "j = 0\n",
    "\n",
    "for line in eachline(\"./data/words.txt\")\n",
    "    i = i + 1\n",
    "    if hasno_e(line)\n",
    "        println(i,\": \", line)\n",
    "        j = j + 1\n",
    "    end\n",
    "end\n",
    "\n",
    "println(\"The ratio of hasno_e is \", round(j/i; digits = 3)*100, \"%\")\n",
    "    \n",
    "```\n",
    "\n",
    "![image.png](./capture_and_drawing/chapter9_2.png)"
   ]
  },
  {
   "cell_type": "markdown",
   "id": "9623f2c2-250d-4d6d-86bd-37cf463b1cb9",
   "metadata": {},
   "source": [
    "#### 연습 9-3\n",
    "\n",
    "**어떤 단어와 금지 문자로 구성된 문자열을 받아서, 그 단어가 금지 문자를 포함하지 않으면 true를 반환하는 avoids 함수 작성**\n",
    "         \n",
    "  (금지 문자로 구성된 문자열을 입력받고 금지 문자를 포함하지 않는 단어의 개수를 출력)\n",
    "              "
   ]
  },
  {
   "cell_type": "code",
   "execution_count": 7,
   "id": "363140e1-3455-42bb-958e-01e305847a92",
   "metadata": {},
   "outputs": [
    {
     "name": "stdout",
     "output_type": "stream",
     "text": [
      "13350: by\n",
      "13378: byrl\n",
      "13381: byrls\n",
      "13386: bys\n",
      "22927: crwth\n",
      "22928: crwths\n",
      "22929: cry\n",
      "22946: crypt\n",
      "22954: crypts\n",
      "23606: cwm\n",
      "23607: cwms\n",
      "23750: cyst\n",
      "23762: cysts\n",
      "29670: dry\n",
      "29682: dryly\n",
      "29687: drys\n",
      "37430: fly\n",
      "37443: flyby\n",
      "37444: flybys\n",
      "37459: flysch\n",
      "39066: fry\n",
      "40825: ghyll\n",
      "40826: ghylls\n",
      "41566: glycyl\n",
      "41567: glycyls\n",
      "41568: glyph\n",
      "41570: glyphs\n",
      "43392: gym\n",
      "43402: gyms\n",
      "43424: gyp\n",
      "43429: gyps\n",
      "43436: gypsy\n",
      "47377: hymn\n",
      "47392: hymns\n",
      "47399: hyp\n",
      "47535: hyps\n",
      "57627: lymph\n",
      "57635: lymphs\n",
      "57637: lynch\n",
      "57644: lynx\n",
      "63829: my\n",
      "63922: myrrh\n",
      "63924: myrrhs\n",
      "63950: myth\n",
      "63960: myths\n",
      "65918: nth\n",
      "66164: nymph\n",
      "66176: nymphs\n",
      "73159: phpht\n",
      "73178: pht\n",
      "74720: ply\n",
      "77981: pry\n",
      "78029: psst\n",
      "78030: psych\n",
      "78072: psychs\n",
      "78742: pygmy\n",
      "78840: pyx\n",
      "84994: rhythm\n",
      "84999: rhythms\n",
      "86553: rynd\n",
      "86554: rynds\n",
      "89774: sh\n",
      "90250: shh\n",
      "90865: shy\n",
      "90874: shyly\n",
      "91868: sky\n",
      "92463: sly\n",
      "92467: slyly\n",
      "94961: spry\n",
      "94964: spryly\n",
      "95039: spy\n",
      "96951: sty\n",
      "96997: stymy\n",
      "98920: sylph\n",
      "98925: sylphs\n",
      "98926: sylphy\n",
      "98989: syn\n",
      "99000: sync\n",
      "99006: synch\n",
      "99017: synchs\n",
      "99033: syncs\n",
      "99147: syzygy\n",
      "101574: thy\n",
      "101588: thymy\n",
      "104285: try\n",
      "104297: tryst\n",
      "104304: trysts\n",
      "104327: tsk\n",
      "104330: tsks\n",
      "104331: tsktsk\n",
      "104334: tsktsks\n",
      "105052: typp\n",
      "105053: typps\n",
      "105054: typy\n",
      "111633: why\n",
      "111636: whys\n",
      "112860: wry\n",
      "112864: wryly\n",
      "112874: wych\n",
      "112882: wynd\n",
      "112883: wynds\n",
      "112884: wynn\n",
      "112885: wynns\n",
      "112964: xylyl\n",
      "112965: xylyls\n",
      "112966: xyst\n",
      "112972: xysts\n",
      "The ratio of 'avoids' : 0.1%\n",
      "The counts of 'avoids' : 107\n"
     ]
    }
   ],
   "source": [
    "# 연습 9-3\n",
    "\n",
    "function avoids(word, forbidden)\n",
    "    for letter in word\n",
    "        if letter ∈ forbidden\n",
    "            return false\n",
    "        end\n",
    "    end\n",
    "    true\n",
    "end\n",
    "\n",
    "# 초기화\n",
    "i = 0\n",
    "j = 0\n",
    "str_forbid = \"aeiou\"\n",
    "\n",
    "for line in eachline(\"./data/words.txt\")\n",
    "    i = i + 1\n",
    "    if avoids(line, str_forbid )\n",
    "        println(i,\": \", line)\n",
    "        j = j + 1\n",
    "    end\n",
    "end\n",
    "\n",
    "println(\"The ratio of 'avoids' : \", round(j/i; digits = 3)*100, \"%\")\n",
    "println(\"The counts of 'avoids' : \", j, \"\")"
   ]
  },
  {
   "cell_type": "markdown",
   "id": "d0d1eb73-48f1-4e56-927f-6e5138156c45",
   "metadata": {},
   "source": [
    "#### 연습 9-4\n",
    "\n",
    "**어떤 단어와 금지 문자로 구성된 문자열을 입력 받아서, 단어가 문자열에 있는 글자로만 이루어져 있으면 true를 반환하는 useonly 함수 작성**\n",
    "\n",
    "**\n",
    "         \n",
    "  (허용된 글자 acefhlo, 단, \"Hoe alfalfa\"는 제외)\n"
   ]
  },
  {
   "cell_type": "code",
   "execution_count": 8,
   "id": "2f07cc16-8390-4201-9e7d-a9b702b5c7e0",
   "metadata": {},
   "outputs": [
    {
     "name": "stdout",
     "output_type": "stream",
     "text": [
      "The ratio of 'useonly' : 0.2%\n",
      "The counts of 'useonly' : 188\n"
     ]
    }
   ],
   "source": [
    "# 연습 9-4\n",
    "\n",
    "function useonly(word, available)\n",
    "    for letter in word\n",
    "        if letter ∉ available\n",
    "            return false\n",
    "        end\n",
    "    end\n",
    "    true\n",
    "end\n",
    "\n",
    "i = 0\n",
    "j = 0\n",
    "str_accept = \"acefhlo\"\n",
    "\n",
    "for line in eachline(\"./data/words.txt\")\n",
    "    i = i + 1\n",
    "    if useonly(line, str_accept )\n",
    "        if line != \"Hoe alfalfa\"\n",
    "            # println(i,\": \", line)\n",
    "            j = j + 1\n",
    "        end\n",
    "    end\n",
    "end\n",
    "\n",
    "println(\"The ratio of 'useonly' : \", round(j/i; digits = 3)*100, \"%\")\n",
    "println(\"The counts of 'useonly' : \", j, \"\")"
   ]
  },
  {
   "cell_type": "markdown",
   "id": "261038fe-1362-4304-a959-4b0d0115b0cf",
   "metadata": {},
   "source": [
    "#### 연습 9-5\n",
    "\n",
    "**어떤 단어와 금지 문자로 구성된 문자열을 입력 받아서, 단어가 문자열에 있는 모든 글자를 한 번 이상 사용하면 true를 반환하는 useall 함수 작성**\n",
    "         \n",
    "  (모든 모음 aeiou를 사용하는 단어는 몇 개 인가?)\n"
   ]
  },
  {
   "cell_type": "code",
   "execution_count": 9,
   "id": "40142f71-8b2d-4402-b4f3-fe6b711d007f",
   "metadata": {},
   "outputs": [
    {
     "name": "stdout",
     "output_type": "stream",
     "text": [
      "The ratio of 'useall' : 0.5%\n",
      "The counts of 'useall' : 598\n"
     ]
    }
   ],
   "source": [
    "# 연습 9-5 \n",
    "\n",
    "function useall(word, required)\n",
    "    for letter in required\n",
    "        if letter ∉ word\n",
    "            return false\n",
    "        end\n",
    "    end\n",
    "    true\n",
    "end\n",
    "\n",
    "i = 1\n",
    "j = 0\n",
    "str_required = \"aeiou\"\n",
    "\n",
    "for line in eachline(\"./data/words.txt\")\n",
    "    if useall(line, str_required )\n",
    "        # println(i,\": \", line)\n",
    "        j = j + 1\n",
    "    end\n",
    "    i = i + 1\n",
    "end\n",
    "\n",
    "println(\"The ratio of 'useall' : \", round(j/i; digits = 3)*100, \"%\")\n",
    "println(\"The counts of 'useall' : \", j, \"\")"
   ]
  },
  {
   "cell_type": "markdown",
   "id": "a0097511-61f8-4682-89a6-b52de845b2fa",
   "metadata": {},
   "source": [
    "---\n",
    "\n",
    "**기해결 문제로의 환원(reduction to a previously solved problem)**\n",
    "\n",
    "useall 함수가 직전에 풀었던 문제의 한 가지 경우라고 눈치챌 경우, 아래와 같이 useonly 함수를 이용할 수 있음 \n",
    "\n",
    "해결하고자 하는 문제가 이미 해결한 문제의 한 경우임을 인식하고, 존재하는 해법을 적용하는 것을 \n",
    "\n",
    "**'기해결 문제로의 환원'** 이라고 함\n",
    "\n",
    "```julia\n",
    "\n",
    "# 연습 9-4 useonly 함수를 이용해 연습 9-5를 해결할 경우\n",
    "\n",
    "function useall(word, required)\n",
    "    useonly(required, word)\n",
    "end\n",
    "```\n",
    "---\n"
   ]
  },
  {
   "cell_type": "markdown",
   "id": "8a0879cd-0eb0-49a9-8041-b9bbcb0f868e",
   "metadata": {},
   "source": [
    "#### 연습 9-6\n",
    "\n",
    "**단어의 글자들이 알파벳 순서로 되어 있으면 true를 반환하는 isabecedarian 함수의 작성**\n",
    "         \n",
    "  (같은 글자가 연달아 있는 것도 허용함. 글자가 알파벳 순서인 단어의 개수는?)\n"
   ]
  },
  {
   "cell_type": "code",
   "execution_count": 11,
   "id": "ee92d820-fd93-45dc-9280-0de8035a2da4",
   "metadata": {},
   "outputs": [
    {
     "name": "stdout",
     "output_type": "stream",
     "text": [
      "The ratio of 'abecedarian' : 0.5%\n",
      "The counts of 'abecedarian' : 596\n",
      "true\n"
     ]
    }
   ],
   "source": [
    "# 연습 9-6\n",
    "\n",
    "# for문을 이용할 경우\n",
    "function isabecedarian_for(word)\n",
    "    i = firstindex(word)\n",
    "    previous = word[i]\n",
    "    j = nextind(word,i)\n",
    "    for c in word[j:end]\n",
    "        if c < previous\n",
    "            return false\n",
    "        end\n",
    "        previous = c\n",
    "    end\n",
    "    true\n",
    "end\n",
    "\n",
    "# 재귀문을 이용할 경우\n",
    "function isabecedarian_recur(word)\n",
    "    if length(word) <= 1\n",
    "        return true\n",
    "    end\n",
    "    i = firstindex(word)\n",
    "    j = nextind(word, i)\n",
    "\n",
    "    if word[i] > word[j]\n",
    "        return false\n",
    "    end\n",
    "    isabecedarian_recur(word[j:end])\n",
    "end\n",
    "\n",
    "# while문을 이용할 경우\n",
    "function isabecedarian_while(word)\n",
    "    i = firstindex(word)\n",
    "    j = nextind(word, 1)\n",
    "\n",
    "    while j <= sizeof(word)\n",
    "        if word[i] > word[j]\n",
    "            return false\n",
    "        end\n",
    "\n",
    "        i = j\n",
    "        j = nextind(word, i)\n",
    "    end\n",
    "    true\n",
    "end\n",
    "\n",
    "# while문을 이용한 checking\n",
    "\n",
    "i = 0\n",
    "j = 0\n",
    "\n",
    "for line in eachline(\"./data/words.txt\")\n",
    "    \n",
    "    i = i + 1\n",
    "\n",
    "    if isabecedarian_while(line)\n",
    "        # println(i,\": \", line)\n",
    "        j = j + 1\n",
    "    end\n",
    "\n",
    "end\n",
    "\n",
    "println(\"The ratio of 'abecedarian' : \", round(j/i; digits = 3)*100, \"%\")\n",
    "println(\"The counts of 'abecedarian' : \", j, \"\")\n",
    "println(isabecedarian_while(\"flossy\"))"
   ]
  },
  {
   "cell_type": "markdown",
   "id": "f0c93cfa-0a65-4c29-8713-36144c9ada5a",
   "metadata": {},
   "source": [
    "### 9.6 용어집\n",
    "\n",
    "* **파일 스트림(file stream)**\n",
    "\n",
    "    * 열린 파일을 표시하는 값\n",
    "\n",
    "\n",
    "* **기해결 문제로의 환원(reduction to a previously solved problem)**\n",
    "\n",
    "    * 문제를 기존에 해결된 문제의 한 경우로 표현해서 해결하는 풀이 방법\n",
    "\n",
    "\n",
    "* **특이사례(special case)**\n",
    "\n",
    "    * 평범하지 않거나, 비자명한(그래서 제대로 처리되지 않기 쉬운) 시험 사례"
   ]
  }
 ],
 "metadata": {
  "kernelspec": {
   "display_name": "Julia 1.8.0",
   "language": "julia",
   "name": "julia-1.8"
  },
  "language_info": {
   "file_extension": ".jl",
   "mimetype": "application/julia",
   "name": "julia",
   "version": "1.8.0"
  }
 },
 "nbformat": 4,
 "nbformat_minor": 5
}
